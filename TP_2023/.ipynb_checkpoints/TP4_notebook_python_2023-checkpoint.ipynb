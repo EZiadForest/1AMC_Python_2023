{
 "cells": [
  {
   "cell_type": "markdown",
   "metadata": {},
   "source": [
    "![](fig/logoENSI.png)\n",
    " ![](fig/logoPython.png)\n",
    "***\n",
    "# TP4\n",
    "# Listes, fonctions, dictionnaires\n",
    "***\n",
    "**ENSICAEN  1A MC**\n",
    "\n",
    "**2023**\n",
    "\n",
    "## Eric Ziad-Forest\n",
    "***\n",
    "\n",
    "**Auteur :**\n",
    "\n",
    "- Eric Ziad-Forest [ziad@ensicaen.fr]\n",
    "***\n",
    "*Contenu sous licence [CC BY-SA 4.0](https://creativecommons.org/licenses/by-sa/4.0)*"
   ]
  },
  {
   "cell_type": "markdown",
   "metadata": {},
   "source": [
    "### Enseignants des groupes de TD/TP\n",
    "- Groupe 1: Oumaima Assou [oumaima.assou231@ensicaen.fr] Philippe Lefebvre [lefebvre@ensicaen.fr]\n",
    "- Groupe 2: Julien Rabin [julien.rabin@ensicaen.fr]\n",
    "- Groupe 3: Julien Rabin [julien.rabin@ensicaen.fr]\n",
    "- Groupe 4: Eric Ziad-Forest [ziad@ensicaen.fr] \n",
    "\n",
    "***"
   ]
  },
  {
   "cell_type": "markdown",
   "metadata": {},
   "source": [
    "# Objectif\n",
    "- Meilleur utilisation des listes\n",
    "- Ecrire vos premières fonctions\n",
    "- Utilisation de dictionnaires"
   ]
  },
  {
   "cell_type": "markdown",
   "metadata": {},
   "source": [
    "# Rendu\n",
    "\n",
    ">**Vous allez au cours de ce TP, compléter dans un premier temps ce document (qui servira de compte-rendu en fin de séance et sera déposé sur la plateforme Moodle) puis ensuite répondre aux questions.**  \n",
    "N'oubliez pas d'inscrire votre nom et prénom  à côté de compte-rendu, juste en dessous de TP4."
   ]
  },
  {
   "cell_type": "markdown",
   "metadata": {},
   "source": [
    "# Rappel de cours"
   ]
  },
  {
   "cell_type": "markdown",
   "metadata": {},
   "source": [
    "![](img2/fonction2.png)\n",
    "![](img2/fonction3.png)\n",
    "![](img2/Portee_variables.png)"
   ]
  },
  {
   "cell_type": "markdown",
   "metadata": {},
   "source": [
    "Si vous souhaitez \"voir\" votre code \"tourner\" n'oubliez pas d'utiliser le lien suivant...\n",
    "\n",
    "<a href=\"http://pythontutor.com/visualize.html#mode=edit\" target=\"_blank\">Python tutor</a>"
   ]
  },
  {
   "cell_type": "markdown",
   "metadata": {},
   "source": [
    "PARTIE I\n",
    "========"
   ]
  },
  {
   "cell_type": "markdown",
   "metadata": {},
   "source": [
    "## Les fonctions"
   ]
  },
  {
   "cell_type": "markdown",
   "metadata": {},
   "source": [
    "> **Exercice 1**  \n",
    "Écrire une fonction qui prend en entrée une liste de nombres ***L*** et qui teste si les nombres de ***L*** forment une suite arithmétique ($u_n−u_{n−1}=...$) .   \n",
    "Cette fonction renvoie un booléen.\n"
   ]
  },
  {
   "cell_type": "code",
   "execution_count": 3,
   "metadata": {},
   "outputs": [
    {
     "data": {
      "text/plain": [
       "[2, 5, 8, 11, 14]"
      ]
     },
     "execution_count": 3,
     "metadata": {},
     "output_type": "execute_result"
    }
   ],
   "source": [
    "ListeArith = [i for i in range(2,15,3)]\n",
    "ListeArith"
   ]
  },
  {
   "cell_type": "markdown",
   "metadata": {},
   "source": [
    "> **Exercice 2**  \n",
    "Écrire une fonction ***appartient(a,L2)*** qui renvoie ***True*** si et seulement si la liste ***L2*** contient l’élément ***a***."
   ]
  },
  {
   "cell_type": "markdown",
   "metadata": {},
   "source": [
    "> **Exercice 3**   \n",
    "Écrire une fonction ***unique(L3)*** qui renvoie ***True*** si et seulement si la liste ***L3*** ne contient aucun élément en double."
   ]
  },
  {
   "cell_type": "markdown",
   "metadata": {},
   "source": [
    "> **Exercice 4**   \n",
    "Ecrire un programme qui reçoit une phrase et qui retourne ***True*** si celle-ci contient au moins une fois chacune des 26 lettres de l’alphabet et ***False*** sinon.   \n",
    "Essayer les 2 phrases suivantes :   \n",
    "—  *Portez ce vieux whisky au juge blond qui fume*  \n",
    "—  *The quick brown fox jumps over the lazy dog*"
   ]
  },
  {
   "cell_type": "markdown",
   "metadata": {},
   "source": [
    "PARTIE II\n",
    "========"
   ]
  },
  {
   "cell_type": "markdown",
   "metadata": {},
   "source": [
    "## Méthodes pour dictionnaires \n",
    "#### (pour se faire un peu la main...)\n",
    "Voici,après celui du cours, de nouveau un petit \"aide memoire\" sur les méthodes liées aux dictionnaires.  \n",
    "Supposons que ***dico*** est un dictionnaire :\n",
    "\n",
    ">— **clé in dico**   *# renvoie **True** si le dictionnaire **dico** contient la clé, préférable avant d'appeler une clé qui n'existerait pas*  \n",
    "— **dico.get(clé)**  *# renvoie la valeur associée à la clé même valeur que **dico\\[clé\\]**, et **None** si la clé n'existe pas.*  \n",
    "— **dico\\[clé\\]=valeur** *# ajoute une valeur associée à une nouvelle clé à un dictionnaire ou modifie la valeur associée à cette clé.  \n",
    "— **dico.pop(clé)** *# renvoie et supprime la valeur définie par une clé (ainsi que la clé )*.   \n",
    "— **dico.popitem()** *# renvoie une paire (clé-valeur) et la supprime du dictionnaire.*  \n",
    "— **dico.clear()** *# supprime tous les éléments du dictionnaire **dico** *    \n",
    "— **dico=dic.copy()** *# copie un dictionnaire dans un autre,les modifications de l'un n'affectent pas l'autre.*  \n",
    "— **list(dico.keys())** *# crée une liste des clés du dictionnaire **dico** *  \n",
    "— **list(dico.values())** *# crée une liste des valeurs du dictionnaire **dico** *  \n",
    "— **list(dico.items())** # crée une liste de tuples (clé,valeur):\\[(1,'ek'),(2,'do'),(3,'tin')...\\]  \n",
    "— **dict(zip(list(range(2,-1,-1)),list(range(3))))**  # Création d'un dictionnaire à partir de 2 listes. Ce qui donne dans l'exemple ci-dessus: {0: 2, 1: 1, 2: 0} ."
   ]
  },
  {
   "cell_type": "markdown",
   "metadata": {},
   "source": [
    "> **Exercice 4**   \n",
    "Complétez votre connaissance des dictionnaires\n",
    "et entrainez-vous en entrant les commandes suivantes et en les commentant si nécéssaire :"
   ]
  },
  {
   "cell_type": "code",
   "execution_count": null,
   "metadata": {},
   "outputs": [],
   "source": [
    "tel = {'jack': 4098, 'joe': 4139}"
   ]
  },
  {
   "cell_type": "code",
   "execution_count": null,
   "metadata": {},
   "outputs": [],
   "source": [
    "tel['john'] = 4127"
   ]
  },
  {
   "cell_type": "code",
   "execution_count": null,
   "metadata": {},
   "outputs": [],
   "source": [
    "tel"
   ]
  },
  {
   "cell_type": "code",
   "execution_count": null,
   "metadata": {},
   "outputs": [],
   "source": [
    "tel['jack']"
   ]
  },
  {
   "cell_type": "code",
   "execution_count": null,
   "metadata": {},
   "outputs": [],
   "source": [
    "del tel['joe']"
   ]
  },
  {
   "cell_type": "code",
   "execution_count": null,
   "metadata": {},
   "outputs": [],
   "source": [
    "tel['jimmy'] = 4127"
   ]
  },
  {
   "cell_type": "code",
   "execution_count": null,
   "metadata": {},
   "outputs": [],
   "source": [
    "tel"
   ]
  },
  {
   "cell_type": "code",
   "execution_count": null,
   "metadata": {},
   "outputs": [],
   "source": [
    "list(tel.keys())"
   ]
  },
  {
   "cell_type": "code",
   "execution_count": null,
   "metadata": {},
   "outputs": [],
   "source": [
    "list(tel.values())"
   ]
  },
  {
   "cell_type": "code",
   "execution_count": null,
   "metadata": {},
   "outputs": [],
   "source": [
    "list(tel.items())"
   ]
  },
  {
   "cell_type": "code",
   "execution_count": null,
   "metadata": {},
   "outputs": [],
   "source": [
    "'john' in tel"
   ]
  },
  {
   "cell_type": "code",
   "execution_count": null,
   "metadata": {},
   "outputs": [],
   "source": [
    "tel.pop('john')"
   ]
  },
  {
   "cell_type": "code",
   "execution_count": null,
   "metadata": {},
   "outputs": [],
   "source": [
    "for nom,num in tel.items(): # Attention au 2 petits points en fin d'instruction!\n",
    "        print (nom, num)"
   ]
  },
  {
   "cell_type": "markdown",
   "metadata": {},
   "source": [
    "> **Exercice 5**   \n",
    "Soit le dictionnaire :    \n",
    "d= {’nom’ : ’Dupuis’, ’prenom’ : ’Jacque’, ’age’ : 301.}    \n",
    "1. Corriger l’erreur dans le prénom, la bonne valeur est ’Jacques’\n",
    "2.  Afficher la liste des clés du dictionnaire.\n",
    "3.  Afficher la liste des valeurs du dictionnaire.\n",
    "4.  Afficher la liste des paires clé/valeur du dictionnaire.\n",
    "5.  Ecrire la phrase \"Jacques Dupuis a 30 ans\" en utilisant le dictionnaire **d**."
   ]
  },
  {
   "cell_type": "markdown",
   "metadata": {
    "deletable": false,
    "dicho": {
     "celltype": "normal",
     "readonly": false
    }
   },
   "source": []
  }
 ],
 "metadata": {
  "dicho": {
   "author": "Denis Pinsard",
   "contact": "(prénom).(nom)@dichotomies.fr",
   "created": "2016-08-29",
   "description": "Les connaissances de base pour créer, modifier et manipuler les Notebooks Jupyter",
   "dockey": "ITV538",
   "license": true,
   "logo": true,
   "readonly": false,
   "subtitle": "",
   "title": "Débuter avec les notebooks",
   "updated": "2016-08-29",
   "uri": "http://dichotomies.fr/2016/informatique/info1/cours/debuter-avec-les-notebooks/"
  },
  "kernelspec": {
   "display_name": "Python 3",
   "language": "python",
   "name": "python3"
  },
  "language_info": {
   "codemirror_mode": {
    "name": "ipython",
    "version": 3
   },
   "file_extension": ".py",
   "mimetype": "text/x-python",
   "name": "python",
   "nbconvert_exporter": "python",
   "pygments_lexer": "ipython3",
   "version": "3.7.3"
  }
 },
 "nbformat": 4,
 "nbformat_minor": 1
}
