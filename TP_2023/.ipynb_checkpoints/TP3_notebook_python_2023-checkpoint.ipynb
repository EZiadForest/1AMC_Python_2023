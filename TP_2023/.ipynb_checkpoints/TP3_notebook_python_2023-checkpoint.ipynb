{
 "cells": [
  {
   "cell_type": "markdown",
   "metadata": {},
   "source": [
    "![](fig/logoENSI.png)\n",
    " ![](fig/logoPython.png)\n",
    "***"
   ]
  },
  {
   "cell_type": "markdown",
   "metadata": {},
   "source": [
    "# TP3  \n",
    "## Compte-rendu de       (*votre nom & votre groupe*)"
   ]
  },
  {
   "cell_type": "markdown",
   "metadata": {},
   "source": [
    "# Chaînes de caractères, listes, tuples\n",
    "\n",
    "# Structures conditionelles et de boucles\n",
    "***"
   ]
  },
  {
   "cell_type": "markdown",
   "metadata": {},
   "source": [
    "**ENSICAEN  1A MC** \n",
    "2023\n",
    "\n",
    "## Eric Ziad-Forest\n",
    "***"
   ]
  },
  {
   "cell_type": "markdown",
   "metadata": {},
   "source": [
    "### Enseignants des groupes de TD/TP\n",
    "- Groupe 1: Oumaima Assou [oumaima.assou231@ensicaen.fr] Philippe Lefebvre [lefebvre@ensicaen.fr]\n",
    "- Groupe 2: Julien Rabin [julien.rabin@ensicaen.fr]\n",
    "- Groupe 3: Julien Rabin [julien.rabin@ensicaen.fr]\n",
    "- Groupe 4: Eric Ziad-Forest [ziad@ensicaen.fr] \n",
    "\n",
    "***"
   ]
  },
  {
   "cell_type": "markdown",
   "metadata": {},
   "source": [
    "**Auteurs :**\n",
    "- Fabrice Dumont (*Institut Cardinal Mercier de Schaerbeek*) pour la partie I.\n",
    "- Eric Ziad-Forest (mailto: ziad@ensicaen.fr))\n",
    "***\n",
    "*Contenu sous licence [CC BY-SA 4.0](https://creativecommons.org/licenses/by-sa/4.0)*"
   ]
  },
  {
   "cell_type": "markdown",
   "metadata": {},
   "source": [
    "# Objectifs\n",
    " \n",
    "- Utilisation raisonnée de l'interpréteur *Python*\n",
    "- Conversions de types\n",
    "- Savoir utiliser les principales méthodes sur les listes, tuples et chaînes de caractères."
   ]
  },
  {
   "cell_type": "markdown",
   "metadata": {},
   "source": [
    "# Rendu\n",
    "\n",
    ">**Vous allez au cours de ce TP, compléter ce document qui servira de compte-rendu en fin de séance et sera déposé sur la plateforme Moodle.**  \n",
    "N'hesitez pas à commenter certaines cellules, pour renforcer votre apprentissage.  \n",
    "N'oubliez pas d'inscrire votre nom et prénom  à côté de compte-rendu, juste en dessous de TP3.\n",
    "\n",
    "# Liens pour toutes questions sur Python\n",
    "https://docs.python.org/fr/3.10/tutorial/index.html\n",
    "\n"
   ]
  },
  {
   "cell_type": "markdown",
   "metadata": {},
   "source": [
    "PARTIE I\n",
    "========="
   ]
  },
  {
   "cell_type": "markdown",
   "metadata": {},
   "source": [
    "# Mise en bouche..."
   ]
  },
  {
   "cell_type": "markdown",
   "metadata": {
    "collapsed": true
   },
   "source": [
    "### Rappel : Les méthodes de la classe str\n",
    "\n",
    "**Evaluer les cellules suivantes**"
   ]
  },
  {
   "cell_type": "markdown",
   "metadata": {},
   "source": [
    "#### Apprendre à demander de l'aide "
   ]
  },
  {
   "cell_type": "code",
   "execution_count": 4,
   "metadata": {},
   "outputs": [
    {
     "name": "stdout",
     "output_type": "stream",
     "text": [
      "Help on class str in module builtins:\n",
      "\n",
      "class str(object)\n",
      " |  str(object='') -> str\n",
      " |  str(bytes_or_buffer[, encoding[, errors]]) -> str\n",
      " |  \n",
      " |  Create a new string object from the given object. If encoding or\n",
      " |  errors is specified, then the object must expose a data buffer\n",
      " |  that will be decoded using the given encoding and error handler.\n",
      " |  Otherwise, returns the result of object.__str__() (if defined)\n",
      " |  or repr(object).\n",
      " |  encoding defaults to sys.getdefaultencoding().\n",
      " |  errors defaults to 'strict'.\n",
      " |  \n",
      " |  Methods defined here:\n",
      " |  \n",
      " |  __add__(self, value, /)\n",
      " |      Return self+value.\n",
      " |  \n",
      " |  __contains__(self, key, /)\n",
      " |      Return key in self.\n",
      " |  \n",
      " |  __eq__(self, value, /)\n",
      " |      Return self==value.\n",
      " |  \n",
      " |  __format__(self, format_spec, /)\n",
      " |      Return a formatted version of the string as described by format_spec.\n",
      " |  \n",
      " |  __ge__(self, value, /)\n",
      " |      Return self>=value.\n",
      " |  \n",
      " |  __getattribute__(self, name, /)\n",
      " |      Return getattr(self, name).\n",
      " |  \n",
      " |  __getitem__(self, key, /)\n",
      " |      Return self[key].\n",
      " |  \n",
      " |  __getnewargs__(...)\n",
      " |  \n",
      " |  __gt__(self, value, /)\n",
      " |      Return self>value.\n",
      " |  \n",
      " |  __hash__(self, /)\n",
      " |      Return hash(self).\n",
      " |  \n",
      " |  __iter__(self, /)\n",
      " |      Implement iter(self).\n",
      " |  \n",
      " |  __le__(self, value, /)\n",
      " |      Return self<=value.\n",
      " |  \n",
      " |  __len__(self, /)\n",
      " |      Return len(self).\n",
      " |  \n",
      " |  __lt__(self, value, /)\n",
      " |      Return self<value.\n",
      " |  \n",
      " |  __mod__(self, value, /)\n",
      " |      Return self%value.\n",
      " |  \n",
      " |  __mul__(self, value, /)\n",
      " |      Return self*value.\n",
      " |  \n",
      " |  __ne__(self, value, /)\n",
      " |      Return self!=value.\n",
      " |  \n",
      " |  __repr__(self, /)\n",
      " |      Return repr(self).\n",
      " |  \n",
      " |  __rmod__(self, value, /)\n",
      " |      Return value%self.\n",
      " |  \n",
      " |  __rmul__(self, value, /)\n",
      " |      Return value*self.\n",
      " |  \n",
      " |  __sizeof__(self, /)\n",
      " |      Return the size of the string in memory, in bytes.\n",
      " |  \n",
      " |  __str__(self, /)\n",
      " |      Return str(self).\n",
      " |  \n",
      " |  capitalize(self, /)\n",
      " |      Return a capitalized version of the string.\n",
      " |      \n",
      " |      More specifically, make the first character have upper case and the rest lower\n",
      " |      case.\n",
      " |  \n",
      " |  casefold(self, /)\n",
      " |      Return a version of the string suitable for caseless comparisons.\n",
      " |  \n",
      " |  center(self, width, fillchar=' ', /)\n",
      " |      Return a centered string of length width.\n",
      " |      \n",
      " |      Padding is done using the specified fill character (default is a space).\n",
      " |  \n",
      " |  count(...)\n",
      " |      S.count(sub[, start[, end]]) -> int\n",
      " |      \n",
      " |      Return the number of non-overlapping occurrences of substring sub in\n",
      " |      string S[start:end].  Optional arguments start and end are\n",
      " |      interpreted as in slice notation.\n",
      " |  \n",
      " |  encode(self, /, encoding='utf-8', errors='strict')\n",
      " |      Encode the string using the codec registered for encoding.\n",
      " |      \n",
      " |      encoding\n",
      " |        The encoding in which to encode the string.\n",
      " |      errors\n",
      " |        The error handling scheme to use for encoding errors.\n",
      " |        The default is 'strict' meaning that encoding errors raise a\n",
      " |        UnicodeEncodeError.  Other possible values are 'ignore', 'replace' and\n",
      " |        'xmlcharrefreplace' as well as any other name registered with\n",
      " |        codecs.register_error that can handle UnicodeEncodeErrors.\n",
      " |  \n",
      " |  endswith(...)\n",
      " |      S.endswith(suffix[, start[, end]]) -> bool\n",
      " |      \n",
      " |      Return True if S ends with the specified suffix, False otherwise.\n",
      " |      With optional start, test S beginning at that position.\n",
      " |      With optional end, stop comparing S at that position.\n",
      " |      suffix can also be a tuple of strings to try.\n",
      " |  \n",
      " |  expandtabs(self, /, tabsize=8)\n",
      " |      Return a copy where all tab characters are expanded using spaces.\n",
      " |      \n",
      " |      If tabsize is not given, a tab size of 8 characters is assumed.\n",
      " |  \n",
      " |  find(...)\n",
      " |      S.find(sub[, start[, end]]) -> int\n",
      " |      \n",
      " |      Return the lowest index in S where substring sub is found,\n",
      " |      such that sub is contained within S[start:end].  Optional\n",
      " |      arguments start and end are interpreted as in slice notation.\n",
      " |      \n",
      " |      Return -1 on failure.\n",
      " |  \n",
      " |  format(...)\n",
      " |      S.format(*args, **kwargs) -> str\n",
      " |      \n",
      " |      Return a formatted version of S, using substitutions from args and kwargs.\n",
      " |      The substitutions are identified by braces ('{' and '}').\n",
      " |  \n",
      " |  format_map(...)\n",
      " |      S.format_map(mapping) -> str\n",
      " |      \n",
      " |      Return a formatted version of S, using substitutions from mapping.\n",
      " |      The substitutions are identified by braces ('{' and '}').\n",
      " |  \n",
      " |  index(...)\n",
      " |      S.index(sub[, start[, end]]) -> int\n",
      " |      \n",
      " |      Return the lowest index in S where substring sub is found, \n",
      " |      such that sub is contained within S[start:end].  Optional\n",
      " |      arguments start and end are interpreted as in slice notation.\n",
      " |      \n",
      " |      Raises ValueError when the substring is not found.\n",
      " |  \n",
      " |  isalnum(self, /)\n",
      " |      Return True if the string is an alpha-numeric string, False otherwise.\n",
      " |      \n",
      " |      A string is alpha-numeric if all characters in the string are alpha-numeric and\n",
      " |      there is at least one character in the string.\n",
      " |  \n",
      " |  isalpha(self, /)\n",
      " |      Return True if the string is an alphabetic string, False otherwise.\n",
      " |      \n",
      " |      A string is alphabetic if all characters in the string are alphabetic and there\n",
      " |      is at least one character in the string.\n",
      " |  \n",
      " |  isascii(self, /)\n",
      " |      Return True if all characters in the string are ASCII, False otherwise.\n",
      " |      \n",
      " |      ASCII characters have code points in the range U+0000-U+007F.\n",
      " |      Empty string is ASCII too.\n",
      " |  \n",
      " |  isdecimal(self, /)\n",
      " |      Return True if the string is a decimal string, False otherwise.\n",
      " |      \n",
      " |      A string is a decimal string if all characters in the string are decimal and\n",
      " |      there is at least one character in the string.\n",
      " |  \n",
      " |  isdigit(self, /)\n",
      " |      Return True if the string is a digit string, False otherwise.\n",
      " |      \n",
      " |      A string is a digit string if all characters in the string are digits and there\n",
      " |      is at least one character in the string.\n",
      " |  \n",
      " |  isidentifier(self, /)\n",
      " |      Return True if the string is a valid Python identifier, False otherwise.\n",
      " |      \n",
      " |      Use keyword.iskeyword() to test for reserved identifiers such as \"def\" and\n",
      " |      \"class\".\n",
      " |  \n",
      " |  islower(self, /)\n",
      " |      Return True if the string is a lowercase string, False otherwise.\n",
      " |      \n",
      " |      A string is lowercase if all cased characters in the string are lowercase and\n",
      " |      there is at least one cased character in the string.\n",
      " |  \n",
      " |  isnumeric(self, /)\n",
      " |      Return True if the string is a numeric string, False otherwise.\n",
      " |      \n",
      " |      A string is numeric if all characters in the string are numeric and there is at\n",
      " |      least one character in the string.\n",
      " |  \n",
      " |  isprintable(self, /)\n",
      " |      Return True if the string is printable, False otherwise.\n",
      " |      \n",
      " |      A string is printable if all of its characters are considered printable in\n",
      " |      repr() or if it is empty.\n",
      " |  \n",
      " |  isspace(self, /)\n",
      " |      Return True if the string is a whitespace string, False otherwise.\n",
      " |      \n",
      " |      A string is whitespace if all characters in the string are whitespace and there\n",
      " |      is at least one character in the string.\n",
      " |  \n",
      " |  istitle(self, /)\n",
      " |      Return True if the string is a title-cased string, False otherwise.\n",
      " |      \n",
      " |      In a title-cased string, upper- and title-case characters may only\n",
      " |      follow uncased characters and lowercase characters only cased ones.\n",
      " |  \n",
      " |  isupper(self, /)\n",
      " |      Return True if the string is an uppercase string, False otherwise.\n",
      " |      \n",
      " |      A string is uppercase if all cased characters in the string are uppercase and\n",
      " |      there is at least one cased character in the string.\n",
      " |  \n",
      " |  join(self, iterable, /)\n",
      " |      Concatenate any number of strings.\n",
      " |      \n",
      " |      The string whose method is called is inserted in between each given string.\n",
      " |      The result is returned as a new string.\n",
      " |      \n",
      " |      Example: '.'.join(['ab', 'pq', 'rs']) -> 'ab.pq.rs'\n",
      " |  \n",
      " |  ljust(self, width, fillchar=' ', /)\n",
      " |      Return a left-justified string of length width.\n",
      " |      \n",
      " |      Padding is done using the specified fill character (default is a space).\n",
      " |  \n",
      " |  lower(self, /)\n",
      " |      Return a copy of the string converted to lowercase.\n",
      " |  \n",
      " |  lstrip(self, chars=None, /)\n",
      " |      Return a copy of the string with leading whitespace removed.\n",
      " |      \n",
      " |      If chars is given and not None, remove characters in chars instead.\n",
      " |  \n",
      " |  partition(self, sep, /)\n",
      " |      Partition the string into three parts using the given separator.\n",
      " |      \n",
      " |      This will search for the separator in the string.  If the separator is found,\n",
      " |      returns a 3-tuple containing the part before the separator, the separator\n",
      " |      itself, and the part after it.\n",
      " |      \n",
      " |      If the separator is not found, returns a 3-tuple containing the original string\n",
      " |      and two empty strings.\n",
      " |  \n",
      " |  replace(self, old, new, count=-1, /)\n",
      " |      Return a copy with all occurrences of substring old replaced by new.\n",
      " |      \n",
      " |        count\n",
      " |          Maximum number of occurrences to replace.\n",
      " |          -1 (the default value) means replace all occurrences.\n",
      " |      \n",
      " |      If the optional argument count is given, only the first count occurrences are\n",
      " |      replaced.\n",
      " |  \n",
      " |  rfind(...)\n",
      " |      S.rfind(sub[, start[, end]]) -> int\n",
      " |      \n",
      " |      Return the highest index in S where substring sub is found,\n",
      " |      such that sub is contained within S[start:end].  Optional\n",
      " |      arguments start and end are interpreted as in slice notation.\n",
      " |      \n",
      " |      Return -1 on failure.\n",
      " |  \n",
      " |  rindex(...)\n",
      " |      S.rindex(sub[, start[, end]]) -> int\n",
      " |      \n",
      " |      Return the highest index in S where substring sub is found,\n",
      " |      such that sub is contained within S[start:end].  Optional\n",
      " |      arguments start and end are interpreted as in slice notation.\n",
      " |      \n",
      " |      Raises ValueError when the substring is not found.\n",
      " |  \n",
      " |  rjust(self, width, fillchar=' ', /)\n",
      " |      Return a right-justified string of length width.\n",
      " |      \n",
      " |      Padding is done using the specified fill character (default is a space).\n",
      " |  \n",
      " |  rpartition(self, sep, /)\n",
      " |      Partition the string into three parts using the given separator.\n",
      " |      \n",
      " |      This will search for the separator in the string, starting at the end. If\n",
      " |      the separator is found, returns a 3-tuple containing the part before the\n",
      " |      separator, the separator itself, and the part after it.\n",
      " |      \n",
      " |      If the separator is not found, returns a 3-tuple containing two empty strings\n",
      " |      and the original string.\n",
      " |  \n",
      " |  rsplit(self, /, sep=None, maxsplit=-1)\n",
      " |      Return a list of the words in the string, using sep as the delimiter string.\n",
      " |      \n",
      " |        sep\n",
      " |          The delimiter according which to split the string.\n",
      " |          None (the default value) means split according to any whitespace,\n",
      " |          and discard empty strings from the result.\n",
      " |        maxsplit\n",
      " |          Maximum number of splits to do.\n",
      " |          -1 (the default value) means no limit.\n",
      " |      \n",
      " |      Splits are done starting at the end of the string and working to the front.\n",
      " |  \n",
      " |  rstrip(self, chars=None, /)\n",
      " |      Return a copy of the string with trailing whitespace removed.\n",
      " |      \n",
      " |      If chars is given and not None, remove characters in chars instead.\n",
      " |  \n",
      " |  split(self, /, sep=None, maxsplit=-1)\n",
      " |      Return a list of the words in the string, using sep as the delimiter string.\n",
      " |      \n",
      " |      sep\n",
      " |        The delimiter according which to split the string.\n",
      " |        None (the default value) means split according to any whitespace,\n",
      " |        and discard empty strings from the result.\n",
      " |      maxsplit\n",
      " |        Maximum number of splits to do.\n",
      " |        -1 (the default value) means no limit.\n",
      " |  \n",
      " |  splitlines(self, /, keepends=False)\n",
      " |      Return a list of the lines in the string, breaking at line boundaries.\n",
      " |      \n",
      " |      Line breaks are not included in the resulting list unless keepends is given and\n",
      " |      true.\n",
      " |  \n",
      " |  startswith(...)\n",
      " |      S.startswith(prefix[, start[, end]]) -> bool\n",
      " |      \n",
      " |      Return True if S starts with the specified prefix, False otherwise.\n",
      " |      With optional start, test S beginning at that position.\n",
      " |      With optional end, stop comparing S at that position.\n",
      " |      prefix can also be a tuple of strings to try.\n",
      " |  \n",
      " |  strip(self, chars=None, /)\n",
      " |      Return a copy of the string with leading and trailing whitespace remove.\n",
      " |      \n",
      " |      If chars is given and not None, remove characters in chars instead.\n",
      " |  \n",
      " |  swapcase(self, /)\n",
      " |      Convert uppercase characters to lowercase and lowercase characters to uppercase.\n",
      " |  \n",
      " |  title(self, /)\n",
      " |      Return a version of the string where each word is titlecased.\n",
      " |      \n",
      " |      More specifically, words start with uppercased characters and all remaining\n",
      " |      cased characters have lower case.\n",
      " |  \n",
      " |  translate(self, table, /)\n",
      " |      Replace each character in the string using the given translation table.\n",
      " |      \n",
      " |        table\n",
      " |          Translation table, which must be a mapping of Unicode ordinals to\n",
      " |          Unicode ordinals, strings, or None.\n",
      " |      \n",
      " |      The table must implement lookup/indexing via __getitem__, for instance a\n",
      " |      dictionary or list.  If this operation raises LookupError, the character is\n",
      " |      left untouched.  Characters mapped to None are deleted.\n",
      " |  \n",
      " |  upper(self, /)\n",
      " |      Return a copy of the string converted to uppercase.\n",
      " |  \n",
      " |  zfill(self, width, /)\n",
      " |      Pad a numeric string with zeros on the left, to fill a field of the given width.\n",
      " |      \n",
      " |      The string is never truncated.\n",
      " |  \n",
      " |  ----------------------------------------------------------------------\n",
      " |  Static methods defined here:\n",
      " |  \n",
      " |  __new__(*args, **kwargs) from builtins.type\n",
      " |      Create and return a new object.  See help(type) for accurate signature.\n",
      " |  \n",
      " |  maketrans(x, y=None, z=None, /)\n",
      " |      Return a translation table usable for str.translate().\n",
      " |      \n",
      " |      If there is only one argument, it must be a dictionary mapping Unicode\n",
      " |      ordinals (integers) or characters to Unicode ordinals, strings or None.\n",
      " |      Character keys will be then converted to ordinals.\n",
      " |      If there are two arguments, they must be strings of equal length, and\n",
      " |      in the resulting dictionary, each character in x will be mapped to the\n",
      " |      character at the same position in y. If there is a third argument, it\n",
      " |      must be a string, whose characters will be mapped to None in the result.\n",
      "\n"
     ]
    }
   ],
   "source": [
    "help (\"str\")"
   ]
  },
  {
   "cell_type": "code",
   "execution_count": 18,
   "metadata": {},
   "outputs": [],
   "source": [
    "str?"
   ]
  },
  {
   "cell_type": "code",
   "execution_count": 7,
   "metadata": {},
   "outputs": [
    {
     "name": "stdout",
     "output_type": "stream",
     "text": [
      "['__add__', '__class__', '__contains__', '__delattr__', '__dir__', '__doc__', '__eq__', '__format__', '__ge__', '__getattribute__', '__getitem__', '__getnewargs__', '__gt__', '__hash__', '__init__', '__init_subclass__', '__iter__', '__le__', '__len__', '__lt__', '__mod__', '__mul__', '__ne__', '__new__', '__reduce__', '__reduce_ex__', '__repr__', '__rmod__', '__rmul__', '__setattr__', '__sizeof__', '__str__', '__subclasshook__', 'capitalize', 'casefold', 'center', 'count', 'encode', 'endswith', 'expandtabs', 'find', 'format', 'format_map', 'index', 'isalnum', 'isalpha', 'isascii', 'isdecimal', 'isdigit', 'isidentifier', 'islower', 'isnumeric', 'isprintable', 'isspace', 'istitle', 'isupper', 'join', 'ljust', 'lower', 'lstrip', 'maketrans', 'partition', 'replace', 'rfind', 'rindex', 'rjust', 'rpartition', 'rsplit', 'rstrip', 'split', 'splitlines', 'startswith', 'strip', 'swapcase', 'title', 'translate', 'upper', 'zfill']\n"
     ]
    }
   ],
   "source": [
    "print(dir(str))"
   ]
  },
  {
   "cell_type": "code",
   "execution_count": 20,
   "metadata": {},
   "outputs": [],
   "source": [
    "str.join?"
   ]
  },
  {
   "cell_type": "code",
   "execution_count": 21,
   "metadata": {},
   "outputs": [],
   "source": [
    "str.isdigit?"
   ]
  },
  {
   "cell_type": "code",
   "execution_count": 14,
   "metadata": {},
   "outputs": [
    {
     "name": "stdout",
     "output_type": "stream",
     "text": [
      "BONJOUR\n"
     ]
    }
   ],
   "source": [
    "ma_chaine = \"BONJOUR\"\n",
    "print (ma_chaine)"
   ]
  },
  {
   "cell_type": "code",
   "execution_count": 22,
   "metadata": {},
   "outputs": [
    {
     "name": "stdout",
     "output_type": "stream",
     "text": [
      "Help on built-in function split:\n",
      "\n",
      "split(sep=None, maxsplit=-1) method of builtins.str instance\n",
      "    Return a list of the words in the string, using sep as the delimiter string.\n",
      "    \n",
      "    sep\n",
      "      The delimiter according which to split the string.\n",
      "      None (the default value) means split according to any whitespace,\n",
      "      and discard empty strings from the result.\n",
      "    maxsplit\n",
      "      Maximum number of splits to do.\n",
      "      -1 (the default value) means no limit.\n",
      "\n"
     ]
    }
   ],
   "source": [
    "help(ma_chaine.split)"
   ]
  },
  {
   "cell_type": "code",
   "execution_count": 25,
   "metadata": {},
   "outputs": [
    {
     "name": "stdout",
     "output_type": "stream",
     "text": [
      "Object `split` not found.\n"
     ]
    }
   ],
   "source": [
    "\"BONJOUR\".split?"
   ]
  },
  {
   "cell_type": "code",
   "execution_count": 26,
   "metadata": {},
   "outputs": [
    {
     "name": "stdout",
     "output_type": "stream",
     "text": [
      "Help on built-in function split:\n",
      "\n",
      "split(sep=None, maxsplit=-1) method of builtins.str instance\n",
      "    Return a list of the words in the string, using sep as the delimiter string.\n",
      "    \n",
      "    sep\n",
      "      The delimiter according which to split the string.\n",
      "      None (the default value) means split according to any whitespace,\n",
      "      and discard empty strings from the result.\n",
      "    maxsplit\n",
      "      Maximum number of splits to do.\n",
      "      -1 (the default value) means no limit.\n",
      "\n"
     ]
    }
   ],
   "source": [
    "help(\"BONJOUR\".split)"
   ]
  },
  {
   "cell_type": "markdown",
   "metadata": {},
   "source": [
    "#### Et si cela ne marche pas aller sur : https://docs.python.org/fr/3.10/tutorial/index.html"
   ]
  },
  {
   "cell_type": "code",
   "execution_count": 27,
   "metadata": {},
   "outputs": [
    {
     "data": {
      "text/html": [
       "<IFrame src=\"https://docs.python.org/fr/3.10/tutorial/index.html>"
      ],
      "text/plain": [
       "<IPython.core.display.HTML object>"
      ]
     },
     "execution_count": 27,
     "metadata": {},
     "output_type": "execute_result"
    }
   ],
   "source": [
    "from IPython.display import HTML\n",
    "HTML('<IFrame src=\"https://docs.python.org/fr/3.10/tutorial/index.html>')"
   ]
  },
  {
   "cell_type": "markdown",
   "metadata": {},
   "source": [
    "**En commentaire dans la cellule *(# commentaire)* écrire ce que font les méthodes suivantes:**"
   ]
  },
  {
   "cell_type": "code",
   "execution_count": null,
   "metadata": {},
   "outputs": [],
   "source": [
    "ma_chaine.lower ()"
   ]
  },
  {
   "cell_type": "code",
   "execution_count": null,
   "metadata": {},
   "outputs": [],
   "source": [
    "ma_chaine_2 = \"bonjour\"\n",
    "print (ma_chaine_2)"
   ]
  },
  {
   "cell_type": "code",
   "execution_count": null,
   "metadata": {},
   "outputs": [],
   "source": [
    "ma_chaine_2.upper ()"
   ]
  },
  {
   "cell_type": "code",
   "execution_count": null,
   "metadata": {},
   "outputs": [],
   "source": [
    "ma_chaine_2.capitalize ()"
   ]
  },
  {
   "cell_type": "code",
   "execution_count": null,
   "metadata": {},
   "outputs": [],
   "source": [
    "ma_chaine_3 = \"   Bonjour   \"\n",
    "print (ma_chaine_3)"
   ]
  },
  {
   "cell_type": "code",
   "execution_count": null,
   "metadata": {},
   "outputs": [],
   "source": [
    "ma_chaine_3.strip ()"
   ]
  },
  {
   "cell_type": "code",
   "execution_count": null,
   "metadata": {},
   "outputs": [],
   "source": [
    "ma_chaine_3.strip ().center (40)"
   ]
  },
  {
   "cell_type": "markdown",
   "metadata": {},
   "source": [
    "### Formater une chaîne"
   ]
  },
  {
   "cell_type": "code",
   "execution_count": null,
   "metadata": {},
   "outputs": [],
   "source": [
    "langage = \"Python\"\n",
    "prenom = \"Guido\"\n",
    "nom = \"Van Rossum\"\n",
    "print (\"{} est un langage de programmation {}\".format(langage,\"multi-paradigme\"))\n",
    "print (\"Dixit : {} {}\".format(prenom,nom))"
   ]
  },
  {
   "cell_type": "code",
   "execution_count": null,
   "metadata": {},
   "outputs": [],
   "source": [
    "print (\"{1} {2} {0}\".format(langage,prenom,nom))"
   ]
  },
  {
   "cell_type": "code",
   "execution_count": null,
   "metadata": {},
   "outputs": [],
   "source": [
    "print (\"{2} {1} {0}\".format(langage,prenom,nom.upper()))"
   ]
  },
  {
   "cell_type": "code",
   "execution_count": null,
   "metadata": {},
   "outputs": [],
   "source": [
    "cours = \"TP 1A MC\"\n",
    "prenom = \"Eric\"\n",
    "nom = \"Ziad-Forest\""
   ]
  },
  {
   "cell_type": "code",
   "execution_count": null,
   "metadata": {},
   "outputs": [],
   "source": [
    "print (\"{2} {3} {1} {0}\".format(langage,cours,prenom,nom.upper()))"
   ]
  },
  {
   "cell_type": "markdown",
   "metadata": {},
   "source": [
    "***\n",
    "**Après avoir évalué les instructions proposées, vous êtes armés(es) pour répondre aux exercices suivants.**"
   ]
  },
  {
   "cell_type": "markdown",
   "metadata": {},
   "source": [
    "## Les chaînes de caractères"
   ]
  },
  {
   "cell_type": "code",
   "execution_count": null,
   "metadata": {},
   "outputs": [],
   "source": [
    "# Notre chaine de caractères pour cette partie\n",
    "une_chaine = \"Joyeux Anniversaire\""
   ]
  },
  {
   "cell_type": "markdown",
   "metadata": {},
   "source": [
    "### Quel est le type de la variable  *une_chaine*?"
   ]
  },
  {
   "cell_type": "code",
   "execution_count": null,
   "metadata": {},
   "outputs": [],
   "source": [
    "# Votre instruction ici pour vérifier\n"
   ]
  },
  {
   "cell_type": "markdown",
   "metadata": {},
   "source": [
    "### Quelle est la longueur de cette chaîne de caractères ?"
   ]
  },
  {
   "cell_type": "code",
   "execution_count": null,
   "metadata": {},
   "outputs": [],
   "source": [
    "# Votre instruction Python ici\n"
   ]
  },
  {
   "cell_type": "markdown",
   "metadata": {},
   "source": [
    "J|o|y|e|u|x| |A|n|n|i|v|e|r|s|a|i|r|e \n",
    "-|-|-|-|-|-|-|-|-|-|-|-|-|-|-|-|-|-|-\n",
    "1|2|3|4|5|6|7|8|9|10|11|12|13|14|15|16|17|18|19"
   ]
  },
  {
   "cell_type": "markdown",
   "metadata": {},
   "source": [
    "### Rappels sur les indices dans une chaîne de caractères"
   ]
  },
  {
   "cell_type": "markdown",
   "metadata": {},
   "source": [
    "#### Evaluez rapidement les instructions suivantes:"
   ]
  },
  {
   "cell_type": "code",
   "execution_count": null,
   "metadata": {},
   "outputs": [],
   "source": [
    "une_chaine[0]"
   ]
  },
  {
   "cell_type": "code",
   "execution_count": null,
   "metadata": {},
   "outputs": [],
   "source": [
    "une_chaine[7]"
   ]
  },
  {
   "cell_type": "markdown",
   "metadata": {},
   "source": [
    "J|o|y|e|u|x| |A|n|n|i|v|e|r|s|a|i|r|e \n",
    "-|-|-|-|-|-|-|-|-|-|-|-|-|-|-|-|-|-|-\n",
    "0|1|2|3|4|5|6|7|8|9|10|11|12|13|14|15|16|17|18\n",
    "-19|-18|-17|-16|-15|-14|-13|-12|-11|-10|-9|-8|-7|-6|-5|-4|-3|-2|-1"
   ]
  },
  {
   "cell_type": "markdown",
   "metadata": {},
   "source": [
    "<p style=\"text-align:center\";><b>Très souvent en programamtion, on commence à compter à partir de ZERO !!!!!!!</b></p>"
   ]
  },
  {
   "cell_type": "code",
   "execution_count": null,
   "metadata": {},
   "outputs": [],
   "source": [
    "une_chaine.index(\"J\") # donne l'indice du premier J (majuscule) rencontré dans la chaîne"
   ]
  },
  {
   "cell_type": "code",
   "execution_count": null,
   "metadata": {},
   "outputs": [],
   "source": [
    "une_chaine.index(\"e\") # donne l'indice du premier e (minuscule) rencontré dans la chaîne"
   ]
  },
  {
   "cell_type": "code",
   "execution_count": null,
   "metadata": {},
   "outputs": [],
   "source": [
    "une_chaine[-1] # la première valeur en commençant par la fin"
   ]
  },
  {
   "cell_type": "code",
   "execution_count": null,
   "metadata": {},
   "outputs": [],
   "source": [
    "une_chaine[-19] # == une_chaine[1]"
   ]
  },
  {
   "cell_type": "code",
   "execution_count": null,
   "metadata": {},
   "outputs": [],
   "source": [
    "une_chaine [-len(une_chaine)] # Vous avez compris ?"
   ]
  },
  {
   "cell_type": "markdown",
   "metadata": {},
   "source": [
    "#### Slicing"
   ]
  },
  {
   "cell_type": "code",
   "execution_count": null,
   "metadata": {},
   "outputs": [],
   "source": [
    "une_chaine [1:5] # de l'indice 1 inclus à l'indice 5 exclus"
   ]
  },
  {
   "cell_type": "code",
   "execution_count": null,
   "metadata": {},
   "outputs": [],
   "source": [
    "une_chaine [2:] # de l'indice 2 inclus jusqu'à la fin"
   ]
  },
  {
   "cell_type": "code",
   "execution_count": null,
   "metadata": {},
   "outputs": [],
   "source": [
    "une_chaine [:-1] # du début à l'indice -1 exclus"
   ]
  },
  {
   "cell_type": "code",
   "execution_count": null,
   "metadata": {},
   "outputs": [],
   "source": [
    "une_chaine [::-1] # en partant de la fin et à l'envers vers le début"
   ]
  },
  {
   "cell_type": "code",
   "execution_count": null,
   "metadata": {},
   "outputs": [],
   "source": [
    "une_chaine [::2] # afficher tout par pas de 2"
   ]
  },
  {
   "cell_type": "markdown",
   "metadata": {},
   "source": [
    "### Les indices en pratique avec une boucle while"
   ]
  },
  {
   "cell_type": "markdown",
   "metadata": {},
   "source": [
    "> **Exercice**   \n",
    "Comment obtenir une impression à l'écran comme ci-dessous avec   \n",
    "*une_chaine = \"Joyeux Anniversaire\"*    \n",
    "en utilisant une boucle while:    \n",
    ">> A l'indice 0 se trouve la lettre  J  \n",
    ">> A l'indice 1 se trouve la lettre  o  \n",
    "A l'indice 2 se trouve la lettre  y  \n",
    "A l'indice 3 se trouve la lettre  e  \n",
    "A l'indice 4 se trouve la lettre  u  \n",
    "A l'indice 5 se trouve la lettre  x  \n",
    "A l'indice 6 se trouve la lettre   \n",
    "A l'indice 7 se trouve la lettre  A  \n",
    "A l'indice 8 se trouve la lettre  n  \n",
    "A l'indice 9 se trouve la lettre  n  \n",
    "A l'indice 10 se trouve la lettre  i  \n",
    "A l'indice 11 se trouve la lettre  v  \n",
    "A l'indice 12 se trouve la lettre  e  \n",
    "A l'indice 13 se trouve la lettre  r  \n",
    "A l'indice 14 se trouve la lettre  s  \n",
    "A l'indice 15 se trouve la lettre  a  \n",
    "A l'indice 16 se trouve la lettre  i   \n",
    "A l'indice 17 se trouve la lettre  r  \n",
    "A l'indice 18 se trouve la lettre  e  "
   ]
  },
  {
   "cell_type": "code",
   "execution_count": null,
   "metadata": {},
   "outputs": [],
   "source": [
    "# Vos instructions Python ici\n"
   ]
  },
  {
   "cell_type": "markdown",
   "metadata": {},
   "source": [
    "### Parcours de chaîne avec la boucle for  "
   ]
  },
  {
   "cell_type": "markdown",
   "metadata": {},
   "source": [
    "> **Exercice**   \n",
    "Même exercice que précédemment, mais en utilisant une boucle *for*.   \n",
    "*une_chaine = \"Joyeux Anniversaire\"*    "
   ]
  },
  {
   "cell_type": "code",
   "execution_count": null,
   "metadata": {},
   "outputs": [],
   "source": [
    "# Vos instructions Python ici\n"
   ]
  },
  {
   "cell_type": "markdown",
   "metadata": {},
   "source": [
    "### Script permettant de distinguer les voyelles, les consonnes et les espaces"
   ]
  },
  {
   "cell_type": "markdown",
   "metadata": {},
   "source": [
    "> **Exercice**   \n",
    "Comment obtenir l'impression à l'écran comme ci-dessous avec   \n",
    "*une_chaine = \"Joyeux Anniversaire\"* \n",
    "-    on pourra utiliser *Voyelles = \"aeiouyAEIOUY\"*\n",
    "-    les structures conditionnelles : *if elif else*:    \n",
    ">>    J est une consonne  \n",
    ">>    o est une voyelle  \n",
    "y est une voyelle  \n",
    "e est une voyelle  \n",
    "u est une voyelle  \n",
    "x est une consonne  \n",
    "  est un espace  \n",
    "A est une voyelle  \n",
    "n est une consonne  \n",
    "n est une consonne  \n",
    "i est une voyelle  \n",
    "v est une consonne  \n",
    "e est une voyelle  \n",
    "r est une consonne  \n",
    "s est une consonne  \n",
    "a est une voyelle  \n",
    "i est une voyelle  \n",
    "r est une consonne  \n",
    "e est une voyelle  "
   ]
  },
  {
   "cell_type": "code",
   "execution_count": null,
   "metadata": {},
   "outputs": [],
   "source": [
    "# Vos instructions Python ici\n"
   ]
  },
  {
   "cell_type": "markdown",
   "metadata": {},
   "source": [
    "### Script permettant de compter les voyelles, les consonnes et les espaces"
   ]
  },
  {
   "cell_type": "markdown",
   "metadata": {},
   "source": [
    "> **Exercice**  \n",
    "> De la même manière que dans les exercices précédents écrire les instructions qui permettront de compter les voyelles, les consonnes et les espaces.\n",
    ">> J est une consonne  \n",
    "o est une voyelle  \n",
    "y est une voyelle  \n",
    "e est une voyelle  \n",
    "u est une voyelle  \n",
    "x est une consonne  \n",
    "  est un espace  \n",
    "A est une voyelle  \n",
    "n est une consonne  \n",
    "n est une consonne  \n",
    "i est une voyelle   \n",
    "v est une consonne  \n",
    "e est une voyelle  \n",
    "r est une consonne  \n",
    "s est une consonne  \n",
    "a est une voyelle  \n",
    "i est une voyelle  \n",
    "r est une consonne  \n",
    "e est une voyelle  \n",
    "Il y a, dans cette phrase, 10 voyelle(s), 8 consonne(s), 1 espace(s)  "
   ]
  },
  {
   "cell_type": "markdown",
   "metadata": {
    "collapsed": true
   },
   "source": [
    "***\n",
    "\n",
    "## Une chaîne de caractères est immutable (non modifiable) !!!!"
   ]
  },
  {
   "cell_type": "markdown",
   "metadata": {},
   "source": [
    "Nous allons néanmoins changer \"chien\" en \"Chine\" par permutation de 2 lettres."
   ]
  },
  {
   "cell_type": "code",
   "execution_count": null,
   "metadata": {},
   "outputs": [],
   "source": [
    "une_chaine='chien' "
   ]
  },
  {
   "cell_type": "markdown",
   "metadata": {},
   "source": [
    "> **Exercice**   \n",
    "Permuter les lettres *e* et *n* de *chien* afin que *une_chaine* reste de type `str`et quelle prenne la valeur *Chine*."
   ]
  },
  {
   "cell_type": "code",
   "execution_count": null,
   "metadata": {},
   "outputs": [],
   "source": [
    "# Remarque\n",
    "une_chaine[0] = \"C\" \n",
    "# ne fonctionne évidemment pas, les chaînes de caractères et \n",
    "# les tuples sont des types immutables ! "
   ]
  },
  {
   "cell_type": "code",
   "execution_count": null,
   "metadata": {},
   "outputs": [],
   "source": [
    "# Vos instructions Python ici\n"
   ]
  },
  {
   "cell_type": "markdown",
   "metadata": {},
   "source": [
    "PARTIE II\n",
    "=========\n"
   ]
  },
  {
   "cell_type": "markdown",
   "metadata": {},
   "source": [
    "## Application de la partie I \n",
    "Nous allons utiliser les données du fichier *Atome.csv*.   \n",
    "Dans un prochain TP nous verrons comment l'importer pour effectuer les traitements que nous allons voir."
   ]
  },
  {
   "cell_type": "markdown",
   "metadata": {},
   "source": [
    "#### Voici la liste des noms des atomes.  (*L_  pour liste*)"
   ]
  },
  {
   "cell_type": "code",
   "execution_count": null,
   "metadata": {},
   "outputs": [],
   "source": [
    "L_nom_atom=['Hygrogene',\n",
    "'Helium',\n",
    "'Lithium',\n",
    "'Beryllium',\n",
    "'Bore',\n",
    "'Carbone',\n",
    "'Azote',\n",
    "'Oxygene',\n",
    "'Fluor',\n",
    "'Neon',\n",
    "'Sodium',\n",
    "'Magnesium',\n",
    "'Aluminium',\n",
    "'Silicium',\n",
    "'Phosphore',\n",
    "'Soufre',\n",
    "'Chlore',\n",
    "'Argon',\n",
    "'Potassium',\n",
    "'Calcium',\n",
    "'Scandium',\n",
    "'Titane',\n",
    "'Vanadium',\n",
    "'Chrome',\n",
    "'Manganese',\n",
    "'Fer',\n",
    "'Cobalt',\n",
    "'Nickel',\n",
    "'Cuivre',\n",
    "'Zinc',\n",
    "'Gallium',\n",
    "'Germanium',\n",
    "'Arsenic',\n",
    "'Selenium',\n",
    "'Brome',\n",
    "'Krypton',\n",
    "'Rubidium',\n",
    "'Strontium',\n",
    "'Yttrium',\n",
    "'Zirconium',\n",
    "'Niobium',\n",
    "'Molbydene',\n",
    "'Technetium',\n",
    "'Ruthenium',\n",
    "'Rhodium',\n",
    "'Palladium',\n",
    "'Argent',\n",
    "'Cadmium',\n",
    "'Indium',\n",
    "'Etain',\n",
    "'Antimoine',\n",
    "'Tellure',\n",
    "'Iode',\n",
    "'Xenon',\n",
    "'Cesium',\n",
    "'Baryum',\n",
    "'Lanthane',\n",
    "'Cerium',\n",
    "'Praseodyme',\n",
    "'Neodyme',\n",
    "'Promethium',\n",
    "'Samarium',\n",
    "'Europium',\n",
    "'Gadolinium',\n",
    "'Terbium',\n",
    "'Dysprosium',\n",
    "'Holmium',\n",
    "'Erbium',\n",
    "'Thulium',\n",
    "'Ytterbium',\n",
    "'Lutecium',\n",
    "'Hafnium',\n",
    "'Tantale',\n",
    "'Tungstene',\n",
    "'Rhenium',\n",
    "'Osmium',\n",
    "'Iridium',\n",
    "'Platine',\n",
    "'Or',\n",
    "'Mercure',\n",
    "'Thallium',\n",
    "'Plomb',\n",
    "'Biismuth',\n",
    "'Polonium',\n",
    "'Astate',\n",
    "'Radon',\n",
    "'Francium',\n",
    "'Radium',\n",
    "'Actinium',\n",
    "'Thorium',\n",
    "'Protactinium',\n",
    "'Uranium',\n",
    "'Neptunium',\n",
    "'Plutonium',\n",
    "'Americium',\n",
    "'Curium',\n",
    "'Berkelium',\n",
    "'Californium',\n",
    "'Einsteinium',\n",
    "'Fermium',\n",
    "'Mendelevium',\n",
    "'Nobelium',\n",
    "'Lawrencium',\n",
    "'Rutherfordium',\n",
    "'Dubnium',\n",
    "'Seaborgium',\n",
    "'Bohrium',\n",
    "'Hassium',\n",
    "'Meitnerium',\n",
    "'Darmstadtium',\n",
    "'Roentgenium',\n",
    "'Copernicium',\n",
    "'Nihonium',\n",
    "'Flerovium',\n",
    "'Moscovium',\n",
    "'Livermorium',\n",
    "'Tennessine',\n",
    "'Oganesson'\n",
    "]"
   ]
  },
  {
   "cell_type": "code",
   "execution_count": null,
   "metadata": {},
   "outputs": [],
   "source": [
    "# plus lisible comme ceci\n",
    "print(L_nom_atom)"
   ]
  },
  {
   "cell_type": "markdown",
   "metadata": {},
   "source": [
    "#### Ici le tuple de l'abréviation des atomes. (*T_   pour tuple*)"
   ]
  },
  {
   "cell_type": "code",
   "execution_count": null,
   "metadata": {},
   "outputs": [],
   "source": [
    "T_Abrv_Atom=('H',\n",
    "'He',\n",
    "'Li',\n",
    "'Be',\n",
    "'B',\n",
    "'C',\n",
    "'N',\n",
    "'O',\n",
    "'F',\n",
    "'Ne',\n",
    "'Na',\n",
    "'Mg',\n",
    "'Al',\n",
    "'Si',\n",
    "'P',\n",
    "'S',\n",
    "'Cl',\n",
    "'Ar',\n",
    "'K',\n",
    "'Ca',\n",
    "'Sc',\n",
    "'Ti',\n",
    "'V',\n",
    "'Cr',\n",
    "'Mn',\n",
    "'Fe',\n",
    "'Co',\n",
    "'Ni',\n",
    "'Cu',\n",
    "'Zn',\n",
    "'Ga',\n",
    "'Ge',\n",
    "'As',\n",
    "'Se',\n",
    "'Br',\n",
    "'Kr',\n",
    "'Rb',\n",
    "'Sr',\n",
    "'Y',\n",
    "'Zr',\n",
    "'Nb',\n",
    "'Mo',\n",
    "'Tc',\n",
    "'Ru',\n",
    "'Rh',\n",
    "'Pd',\n",
    "'Ag',\n",
    "'Cd',\n",
    "'In',\n",
    "'Sn',\n",
    "'Sb',\n",
    "'Te',\n",
    "'I',\n",
    "'Xe',\n",
    "'Cs',\n",
    "'Ba',\n",
    "'La',\n",
    "'Ce',\n",
    "'Pr',\n",
    "'Nd',\n",
    "'Pm',\n",
    "'Sm',\n",
    "'Eu',\n",
    "'Gd',\n",
    "'Tb',\n",
    "'Dy',\n",
    "'Ho',\n",
    "'Er',\n",
    "'Tm',\n",
    "'Yb',\n",
    "'Lu',\n",
    "'Hf',\n",
    "'Ta',\n",
    "'W',\n",
    "'Re',\n",
    "'Os',\n",
    "'Ir',\n",
    "'Pt',\n",
    "'Au',\n",
    "'Hg',\n",
    "'Tl',\n",
    "'Pb',\n",
    "'Bi',\n",
    "'Po',\n",
    "'At',\n",
    "'Rn',\n",
    "'Fr',\n",
    "'Ra',\n",
    "'Ac',\n",
    "'Th',\n",
    "'Pa',\n",
    "'U',\n",
    "'Np',\n",
    "'Pu',\n",
    "'Am',\n",
    "'Cm',\n",
    "'Bk',\n",
    "'Cf',\n",
    "'Es',\n",
    "'Fm',\n",
    "'Md',\n",
    "'No',\n",
    "'Lr',\n",
    "'Rf',\n",
    "'Db',\n",
    "'Sg',\n",
    "'Bh',\n",
    "'Hs',\n",
    "'Mt',\n",
    "'Ds',\n",
    "'Rg',\n",
    "'Cn',\n",
    "'Nh',\n",
    "'Fl',\n",
    "'Mc',\n",
    "'Lv',\n",
    "'Ts',\n",
    "'Og'\n",
    ")"
   ]
  },
  {
   "cell_type": "code",
   "execution_count": null,
   "metadata": {},
   "outputs": [],
   "source": [
    "print(T_Abrv_Atom)"
   ]
  },
  {
   "cell_type": "markdown",
   "metadata": {},
   "source": [
    "> **Exercice**  \n",
    "> Quelle(s) instruction(s) permettrait(ent) d'obtenir le résultat suivant:   \n",
    "*('Xe', 'Xenon')*"
   ]
  },
  {
   "cell_type": "code",
   "execution_count": null,
   "metadata": {},
   "outputs": [],
   "source": [
    "# vos instructions ici\n"
   ]
  },
  {
   "cell_type": "markdown",
   "metadata": {},
   "source": [
    "> **Exercice**  \n",
    "> Quelle boucle *for* permettrait d'obtenir le résultat ci-dessous: \n",
    ">> le 3 ème élément est le Beryllium dont l'abréviation est :  Be  \n",
    "le 4 ème élément est le Bore dont l'abréviation est :  B  \n",
    "le 5 ème élément est le Carbone dont l'abréviation est :  C  \n",
    "le 6 ème élément est le Azote dont l'abréviation est :  N  \n",
    "le 7 ème élément est le Oxygene dont l'abréviation est :  O  \n",
    "le 8 ème élément est le Fluor dont l'abréviation est :  F   \n",
    "le 9 ème élément est le Neon dont l'abréviation est :  Ne  \n",
    "le 10 ème élément est le Sodium dont l'abréviation est :  Na  \n",
    "le 11 ème élément est le Magnesium dont l'abréviation est :  Mg  \n",
    "le 12 ème élément est le Aluminium dont l'abréviation est :  Al  \n"
   ]
  },
  {
   "cell_type": "markdown",
   "metadata": {},
   "source": [
    "**Le tuple ci-dessous donne dans le même ordre que la liste des noms, ou que le tuple des abreviations, des atomes la famille à laquelle, ils appartiennent.**"
   ]
  },
  {
   "cell_type": "code",
   "execution_count": null,
   "metadata": {},
   "outputs": [],
   "source": [
    "T_Mat_Atom=('Non-metaux',\n",
    "'Gaz rares',\n",
    "'Metaux alcalins',\n",
    "'Metaux alcalino-terreux',\n",
    "'Metalloides',\n",
    "'Non-metaux',\n",
    "'Non-metaux',\n",
    "'Non-metaux',\n",
    "'Halogenes',\n",
    "'Gaz rares',\n",
    "'Metaux alcalins',\n",
    "'Metaux alcalino-terreux',\n",
    "'Metaux pauvres',\n",
    "'Metalloides',\n",
    "'Non-metaux',\n",
    "'Non-metaux',\n",
    "'Halogenes',\n",
    "'Gaz rares',\n",
    "'Metaux alcalins',\n",
    "'Metaux alcalino-terreux',\n",
    "'Metaux de transition',\n",
    "'Metaux de transition',\n",
    "'Metaux de transition',\n",
    "'Metaux de transition',\n",
    "'Metaux de transition',\n",
    "'Metaux de transition',\n",
    "'Metaux de transition',\n",
    "'Metaux de transition',\n",
    "'Metaux de transition',\n",
    "'Metaux de transition',\n",
    "'Metaux pauvres',\n",
    "'Metalloides',\n",
    "'Metalloides',\n",
    "'Non-metaux',\n",
    "'Halogenes',\n",
    "'Gaz rares',\n",
    "'Metaux alcalins',\n",
    "'Metaux alcalino-terreux',\n",
    "'Metaux de transition',\n",
    "'Metaux de transition',\n",
    "'Metaux de transition',\n",
    "'Metaux de transition',\n",
    "'Metaux de transition',\n",
    "'Metaux de transition',\n",
    "'Metaux de transition',\n",
    "'Metaux de transition',\n",
    "'Metaux de transition',\n",
    "'Metaux de transition',\n",
    "'Metaux pauvres',\n",
    "'Metaux pauvres',\n",
    "'Metalloides',\n",
    "'Metalloides',\n",
    "'Halogenes',\n",
    "'Gaz rares',\n",
    "'Metaux alcalins',\n",
    "'Metaux alcalino-terreux',\n",
    "'Lanthanides',\n",
    "'Lanthanides',\n",
    "'Lanthanides',\n",
    "'Lanthanides',\n",
    "'Lanthanides',\n",
    "'Lanthanides',\n",
    "'Lanthanides',\n",
    "'Lanthanides',\n",
    "'Lanthanides',\n",
    "'Lanthanides',\n",
    "'Lanthanides',\n",
    "'Lanthanides',\n",
    "'Lanthanides',\n",
    "'Lanthanides',\n",
    "'Lanthanides',\n",
    "'Metaux de transition',\n",
    "'Metaux de transition',\n",
    "'Metaux de transition',\n",
    "'Metaux de transition',\n",
    "'Metaux de transition',\n",
    "'Metaux de transition',\n",
    "'Metaux de transition',\n",
    "'Metaux de transition',\n",
    "'Metaux de transition',\n",
    "'Metaux pauvres',\n",
    "'Metaux pauvres',\n",
    "'Metaux pauvres',\n",
    "'Metalloides',\n",
    "'Halogenes',\n",
    "'Gaz rares',\n",
    "'Metaux alcalins',\n",
    "'Metaux alcalino-terreux',\n",
    "'Actinides',\n",
    "'Actinides',\n",
    "'Actinides',\n",
    "'Actinides',\n",
    "'Actinides',\n",
    "'Actinides',\n",
    "'Actinides',\n",
    "'Actinides',\n",
    "'Actinides',\n",
    "'Actinides',\n",
    "'Actinides',\n",
    "'Actinides',\n",
    "'Actinides',\n",
    "'Actinides',\n",
    "'Actinides',\n",
    "'Metaux de transition',\n",
    "'Metaux de transition',\n",
    "'Metaux de transition',\n",
    "'Metaux de transition',\n",
    "'Metaux de transition',\n",
    "'Metaux de transition',\n",
    "'Metaux de transition',\n",
    "'Metaux de transition',\n",
    "'Metaux de transition',\n",
    "'Indeterminee',\n",
    "'Indeterminee',\n",
    "'Indeterminee',\n",
    "'Indeterminee',\n",
    "'Indeterminee',\n",
    "'Indeterminee'\n",
    ")"
   ]
  },
  {
   "cell_type": "markdown",
   "metadata": {},
   "source": [
    "> **Exercice**  \n",
    "> Comme obtenir une liste (ou un tuple) *T_uniq_Mat_Atom* contenant les 11 familles distinctes d'atomes?\n",
    ">> Les voici ici triées:  \n",
    "'Actinides', 'Gaz rares', 'Halogenes', 'Indeterminee', 'Lanthanides', 'Metalloides', 'Metaux alcalino-terreux', 'Metaux alcalins', 'Metaux de transition', 'Metaux pauvres', 'Non-metaux'"
   ]
  },
  {
   "cell_type": "markdown",
   "metadata": {},
   "source": [
    "> Essayer de comprendre ce que fait le script suivant (ainsi que les autres).   \n",
    "Vous aurez au préalable répondu à l'exercice précédent et obtenue le tuple *T_uniq_Mat_Atom*.    \n",
    "Commentez ce code."
   ]
  },
  {
   "cell_type": "code",
   "execution_count": null,
   "metadata": {},
   "outputs": [],
   "source": [
    "L_Mat_l_elt=[]\n",
    "for mat in T_uniq_Mat_Atom:\n",
    "    Lmat=[]\n",
    "    i=0\n",
    "    for mat_elt in T_Mat_Atom:\n",
    "        if mat==mat_elt:\n",
    "            Lmat.append([L_nom_atom[i],i])\n",
    "        i=i+1\n",
    "    L_Mat_l_elt.append([mat,Lmat])"
   ]
  },
  {
   "cell_type": "code",
   "execution_count": null,
   "metadata": {},
   "outputs": [],
   "source": [
    "print(L_Mat_l_elt)"
   ]
  },
  {
   "cell_type": "code",
   "execution_count": null,
   "metadata": {},
   "outputs": [],
   "source": [
    "L_Mat_l_elt[0]"
   ]
  },
  {
   "cell_type": "code",
   "execution_count": null,
   "metadata": {},
   "outputs": [],
   "source": [
    "L_Mat_l_elt[0][0]"
   ]
  },
  {
   "cell_type": "code",
   "execution_count": null,
   "metadata": {},
   "outputs": [],
   "source": [
    "L_Mat_l_elt[0][1][0]"
   ]
  },
  {
   "cell_type": "code",
   "execution_count": null,
   "metadata": {},
   "outputs": [],
   "source": [
    "L_Mat_l_elt[0][1][2]"
   ]
  },
  {
   "cell_type": "code",
   "execution_count": null,
   "metadata": {},
   "outputs": [],
   "source": [
    "L_Mat_l_elt[0][1][2][0]"
   ]
  },
  {
   "cell_type": "code",
   "execution_count": null,
   "metadata": {},
   "outputs": [],
   "source": [
    "L_var_Actinides=[['Actinium', 88], ['Thorium', 89], ['Protactinium', 90], ['Uranium', 91], ['Neptunium', 92], ['Plutonium', 93], ['Americium', 94], ['Curium', 95], ['Berkelium', 96], ['Californium', 97], ['Einsteinium', 98], ['Fermium', 99], ['Mendelevium', 100], ['Nobelium', 101], ['Lawrencium', 102]]"
   ]
  },
  {
   "cell_type": "code",
   "execution_count": null,
   "metadata": {},
   "outputs": [],
   "source": [
    "print(L_var_Actinides)"
   ]
  },
  {
   "cell_type": "code",
   "execution_count": null,
   "metadata": {},
   "outputs": [],
   "source": [
    "T_nom_Actinides=[]\n",
    "for i,elt in enumerate(L_var_Actinides):\n",
    "    T_nom_Actinides.append(elt[0])\n",
    "print(T_nom_Actinides)   \n"
   ]
  },
  {
   "cell_type": "code",
   "execution_count": null,
   "metadata": {},
   "outputs": [],
   "source": [
    "T_nom_Actinides=[]\n",
    "for elt in L_var_Actinides:\n",
    "    T_nom_Actinides.append(elt[0])\n",
    "print(tuple(T_nom_Actinides))   "
   ]
  },
  {
   "cell_type": "markdown",
   "metadata": {},
   "source": [
    "> Comment pouriez-vous organiser la *L_Mat_l_elt* afin d'obtenir le résultat ci-dessous?\n",
    ">> Dans la famille des Actinides, on trouve les atomes: ('Actinium', 'Thorium', 'Protactinium', 'Uranium', 'Neptunium', 'Plutonium', 'Americium', 'Curium', 'Berkelium', 'Californium', 'Einsteinium', 'Fermium', 'Mendelevium', 'Nobelium', 'Lawrencium')  \n",
    ">> Dans la famille des Gaz rares, on trouve les atomes: ('Helium', 'Neon', 'Argon', 'Krypton', 'Xenon', 'Radon')  \n",
    ">>...   \n",
    "...  \n",
    "...  \n",
    "Dans la famille des Metaux pauvres, on trouve les atomes: ('Aluminium', 'Gallium', 'Indium', 'Etain', 'Thallium', 'Plomb', 'Biismuth')  \n",
    "Dans la famille des Non-metaux, on trouve les atomes: ('Hygrogene', 'Carbone', 'Azote', 'Oxygene', 'Phosphore', 'Soufre', 'Selenium')"
   ]
  },
  {
   "cell_type": "code",
   "execution_count": null,
   "metadata": {},
   "outputs": [],
   "source": []
  },
  {
   "cell_type": "markdown",
   "metadata": {},
   "source": [
    "PARTIE III\n",
    "========"
   ]
  },
  {
   "cell_type": "markdown",
   "metadata": {
    "dicho": {
     "celltype": "normal",
     "readonly": false
    }
   },
   "source": [
    "# Pour aller encore plus loin dans IPython...\n",
    "\n",
    "**Uniquement pour votre culture personnelle...**\n",
    "\n",
    "## Les commandes magiques\n",
    "\n"
   ]
  },
  {
   "cell_type": "markdown",
   "metadata": {
    "dicho": {
     "celltype": "normal",
     "readonly": false
    }
   },
   "source": [
    "### Exemple avec %pylab inline\n",
    "\n",
    "Cette commande magiques importe les modules `numpy` et `matplotlib`.   \n",
    "L'option `inline` indique que les figures *Matplotlib* seront insérées dans le notebook lui-même plutôt que dans une fenêtre graphique à part.  \n",
    "C'est la seule option possible car votre système ne dispose pas d'interface graphique.\n",
    "\n",
    "L'instruction `%pylab inline` exécute en particulier les deux instructions suivantes:  \n",
    "```python\n",
    "import numpy as np\n",
    "import matplotlib.pyplot as plt\n",
    "```"
   ]
  },
  {
   "cell_type": "code",
   "execution_count": null,
   "metadata": {
    "dicho": {
     "celltype": "normal",
     "readonly": false
    }
   },
   "outputs": [],
   "source": [
    "%pylab inline"
   ]
  },
  {
   "cell_type": "code",
   "execution_count": null,
   "metadata": {
    "dicho": {
     "celltype": "normal",
     "readonly": false
    }
   },
   "outputs": [],
   "source": [
    "X = np.linspace(-1, 1, 100)\n",
    "plt.plot(X, X ** 2)"
   ]
  },
  {
   "cell_type": "markdown",
   "metadata": {
    "dicho": {
     "celltype": "normal",
     "readonly": false
    }
   },
   "source": [
    "### %%writefile\n",
    "\n",
    "Crée un fichier de texte. L'exemple donné ci-dessous est un script *python* mais il peut s'agir de n'importe quel fichier de texte."
   ]
  },
  {
   "cell_type": "code",
   "execution_count": null,
   "metadata": {
    "dicho": {
     "celltype": "normal",
     "readonly": false
    }
   },
   "outputs": [],
   "source": [
    "%%writefile square.py\n",
    "\"\"\" Exemple de scripts\n",
    "\"\"\"\n",
    "\n",
    "k = 1\n",
    "s = 1\n",
    "while k <= 10:\n",
    "    print(k ** 2, s)\n",
    "    s = s + 2*k + 1\n",
    "    k = k + 1"
   ]
  },
  {
   "cell_type": "code",
   "execution_count": null,
   "metadata": {},
   "outputs": [],
   "source": [
    "ls"
   ]
  },
  {
   "cell_type": "markdown",
   "metadata": {
    "dicho": {
     "celltype": "normal",
     "readonly": false
    }
   },
   "source": [
    "### %less\n",
    "\n",
    "Cette commande permet de visualiser le contenu d'un fichier de texte. "
   ]
  },
  {
   "cell_type": "code",
   "execution_count": null,
   "metadata": {
    "dicho": {
     "celltype": "normal",
     "readonly": false
    }
   },
   "outputs": [],
   "source": [
    "%less square.py"
   ]
  },
  {
   "cell_type": "markdown",
   "metadata": {
    "dicho": {
     "celltype": "normal",
     "readonly": false
    }
   },
   "source": [
    "### %run\n",
    "\n",
    "La commande `%run foo` exécute le script *python* `foo.py` comme si vous l'aviez exécuté directement depuis le terminal :\n",
    "\n",
    "```\n",
    "psiet-turing@Chato~$ python3 foo.py\n",
    "```\n",
    "La différence est qu'à la fin de l'exécution du script tous les objets définis par le script sont insérés dans l'*espace de nom global* de l'interpréteur."
   ]
  },
  {
   "cell_type": "code",
   "execution_count": null,
   "metadata": {
    "dicho": {
     "celltype": "normal",
     "readonly": false
    }
   },
   "outputs": [],
   "source": [
    "%run square"
   ]
  },
  {
   "cell_type": "code",
   "execution_count": null,
   "metadata": {
    "dicho": {
     "celltype": "normal",
     "readonly": false
    }
   },
   "outputs": [],
   "source": [
    "k, s"
   ]
  },
  {
   "cell_type": "markdown",
   "metadata": {
    "dicho": {
     "celltype": "normal",
     "readonly": false
    }
   },
   "source": [
    "### %timeit\n",
    "\n",
    "Mesure le temps d'exécution d'une instruction ou d'une expression.\n",
    "Le code est exécuté plusieurs fois et le temps moyen d'exécution est affiché :"
   ]
  },
  {
   "cell_type": "code",
   "execution_count": null,
   "metadata": {
    "dicho": {
     "celltype": "normal",
     "readonly": false
    }
   },
   "outputs": [],
   "source": [
    "!cat arithmetique.py"
   ]
  },
  {
   "cell_type": "code",
   "execution_count": null,
   "metadata": {
    "dicho": {
     "celltype": "normal",
     "readonly": false
    }
   },
   "outputs": [],
   "source": [
    "%run arithmetique"
   ]
  },
  {
   "cell_type": "code",
   "execution_count": null,
   "metadata": {
    "dicho": {
     "celltype": "normal",
     "readonly": false
    }
   },
   "outputs": [],
   "source": [
    "euclide"
   ]
  },
  {
   "cell_type": "code",
   "execution_count": null,
   "metadata": {
    "dicho": {
     "celltype": "normal",
     "readonly": false
    }
   },
   "outputs": [],
   "source": [
    "euclide(123456789, 12345)"
   ]
  },
  {
   "cell_type": "code",
   "execution_count": null,
   "metadata": {
    "dicho": {
     "celltype": "normal",
     "readonly": false
    }
   },
   "outputs": [],
   "source": [
    "%timeit euclide(123456789, 12345)"
   ]
  },
  {
   "cell_type": "markdown",
   "metadata": {
    "dicho": {
     "celltype": "normal",
     "readonly": false
    }
   },
   "source": [
    "### %pastebin\n",
    "\n",
    "Envoie un texte vers le serveur *Github Gist*.\n",
    "Tout le monde peut alors lire le texte à partir de l'url retournée par la commande.\n",
    "\n",
    "On peut envoyer le contenu d'un fichier de texte :"
   ]
  },
  {
   "cell_type": "code",
   "execution_count": null,
   "metadata": {
    "dicho": {
     "celltype": "normal",
     "readonly": false
    }
   },
   "outputs": [],
   "source": [
    "%pastebin arithmetique.py"
   ]
  },
  {
   "cell_type": "markdown",
   "metadata": {
    "dicho": {
     "celltype": "normal",
     "readonly": false
    }
   },
   "source": [
    "On peut aussi envoyer le contenu d'une cellule, par exemple `In[9]` :"
   ]
  },
  {
   "cell_type": "code",
   "execution_count": null,
   "metadata": {
    "dicho": {
     "celltype": "normal",
     "readonly": false
    }
   },
   "outputs": [],
   "source": [
    "%pastebin 9"
   ]
  },
  {
   "cell_type": "markdown",
   "metadata": {
    "dicho": {
     "celltype": "normal",
     "readonly": false
    }
   },
   "source": [
    "### %who et %whos\n",
    "\n",
    "Affiche les objets qui sont actuellement définis dans l'interpréteur *Python* :"
   ]
  },
  {
   "cell_type": "code",
   "execution_count": null,
   "metadata": {
    "dicho": {
     "celltype": "normal",
     "readonly": false
    }
   },
   "outputs": [],
   "source": [
    "%who"
   ]
  },
  {
   "cell_type": "code",
   "execution_count": null,
   "metadata": {
    "dicho": {
     "celltype": "normal",
     "readonly": false
    }
   },
   "outputs": [],
   "source": [
    "%whos"
   ]
  },
  {
   "cell_type": "markdown",
   "metadata": {},
   "source": [
    "**Pour afficher toutes les commandes magiques utiliser:**  `%lsmagic`"
   ]
  },
  {
   "cell_type": "code",
   "execution_count": 1,
   "metadata": {},
   "outputs": [
    {
     "data": {
      "application/json": {
       "cell": {
        "!": "OSMagics",
        "HTML": "Other",
        "SVG": "Other",
        "bash": "Other",
        "capture": "ExecutionMagics",
        "debug": "ExecutionMagics",
        "file": "Other",
        "html": "DisplayMagics",
        "javascript": "DisplayMagics",
        "js": "DisplayMagics",
        "latex": "DisplayMagics",
        "markdown": "DisplayMagics",
        "perl": "Other",
        "prun": "ExecutionMagics",
        "pypy": "Other",
        "python": "Other",
        "python2": "Other",
        "python3": "Other",
        "ruby": "Other",
        "script": "ScriptMagics",
        "sh": "Other",
        "svg": "DisplayMagics",
        "sx": "OSMagics",
        "system": "OSMagics",
        "time": "ExecutionMagics",
        "timeit": "ExecutionMagics",
        "writefile": "OSMagics"
       },
       "line": {
        "alias": "OSMagics",
        "alias_magic": "BasicMagics",
        "autoawait": "AsyncMagics",
        "autocall": "AutoMagics",
        "automagic": "AutoMagics",
        "autosave": "KernelMagics",
        "bookmark": "OSMagics",
        "cat": "Other",
        "cd": "OSMagics",
        "clear": "KernelMagics",
        "colors": "BasicMagics",
        "conda": "PackagingMagics",
        "config": "ConfigMagics",
        "connect_info": "KernelMagics",
        "cp": "Other",
        "debug": "ExecutionMagics",
        "dhist": "OSMagics",
        "dirs": "OSMagics",
        "doctest_mode": "BasicMagics",
        "ed": "Other",
        "edit": "KernelMagics",
        "env": "OSMagics",
        "gui": "BasicMagics",
        "hist": "Other",
        "history": "HistoryMagics",
        "killbgscripts": "ScriptMagics",
        "ldir": "Other",
        "less": "KernelMagics",
        "lf": "Other",
        "lk": "Other",
        "ll": "Other",
        "load": "CodeMagics",
        "load_ext": "ExtensionMagics",
        "loadpy": "CodeMagics",
        "logoff": "LoggingMagics",
        "logon": "LoggingMagics",
        "logstart": "LoggingMagics",
        "logstate": "LoggingMagics",
        "logstop": "LoggingMagics",
        "ls": "Other",
        "lsmagic": "BasicMagics",
        "lx": "Other",
        "macro": "ExecutionMagics",
        "magic": "BasicMagics",
        "man": "KernelMagics",
        "matplotlib": "PylabMagics",
        "mkdir": "Other",
        "more": "KernelMagics",
        "mv": "Other",
        "notebook": "BasicMagics",
        "page": "BasicMagics",
        "pastebin": "CodeMagics",
        "pdb": "ExecutionMagics",
        "pdef": "NamespaceMagics",
        "pdoc": "NamespaceMagics",
        "pfile": "NamespaceMagics",
        "pinfo": "NamespaceMagics",
        "pinfo2": "NamespaceMagics",
        "pip": "PackagingMagics",
        "popd": "OSMagics",
        "pprint": "BasicMagics",
        "precision": "BasicMagics",
        "prun": "ExecutionMagics",
        "psearch": "NamespaceMagics",
        "psource": "NamespaceMagics",
        "pushd": "OSMagics",
        "pwd": "OSMagics",
        "pycat": "OSMagics",
        "pylab": "PylabMagics",
        "qtconsole": "KernelMagics",
        "quickref": "BasicMagics",
        "recall": "HistoryMagics",
        "rehashx": "OSMagics",
        "reload_ext": "ExtensionMagics",
        "rep": "Other",
        "rerun": "HistoryMagics",
        "reset": "NamespaceMagics",
        "reset_selective": "NamespaceMagics",
        "rm": "Other",
        "rmdir": "Other",
        "run": "ExecutionMagics",
        "save": "CodeMagics",
        "sc": "OSMagics",
        "set_env": "OSMagics",
        "store": "StoreMagics",
        "sx": "OSMagics",
        "system": "OSMagics",
        "tb": "ExecutionMagics",
        "time": "ExecutionMagics",
        "timeit": "ExecutionMagics",
        "unalias": "OSMagics",
        "unload_ext": "ExtensionMagics",
        "who": "NamespaceMagics",
        "who_ls": "NamespaceMagics",
        "whos": "NamespaceMagics",
        "xdel": "NamespaceMagics",
        "xmode": "BasicMagics"
       }
      },
      "text/plain": [
       "Available line magics:\n",
       "%alias  %alias_magic  %autoawait  %autocall  %automagic  %autosave  %bookmark  %cat  %cd  %clear  %colors  %conda  %config  %connect_info  %cp  %debug  %dhist  %dirs  %doctest_mode  %ed  %edit  %env  %gui  %hist  %history  %killbgscripts  %ldir  %less  %lf  %lk  %ll  %load  %load_ext  %loadpy  %logoff  %logon  %logstart  %logstate  %logstop  %ls  %lsmagic  %lx  %macro  %magic  %man  %matplotlib  %mkdir  %more  %mv  %notebook  %page  %pastebin  %pdb  %pdef  %pdoc  %pfile  %pinfo  %pinfo2  %pip  %popd  %pprint  %precision  %prun  %psearch  %psource  %pushd  %pwd  %pycat  %pylab  %qtconsole  %quickref  %recall  %rehashx  %reload_ext  %rep  %rerun  %reset  %reset_selective  %rm  %rmdir  %run  %save  %sc  %set_env  %store  %sx  %system  %tb  %time  %timeit  %unalias  %unload_ext  %who  %who_ls  %whos  %xdel  %xmode\n",
       "\n",
       "Available cell magics:\n",
       "%%!  %%HTML  %%SVG  %%bash  %%capture  %%debug  %%file  %%html  %%javascript  %%js  %%latex  %%markdown  %%perl  %%prun  %%pypy  %%python  %%python2  %%python3  %%ruby  %%script  %%sh  %%svg  %%sx  %%system  %%time  %%timeit  %%writefile\n",
       "\n",
       "Automagic is ON, % prefix IS NOT needed for line magics."
      ]
     },
     "execution_count": 1,
     "metadata": {},
     "output_type": "execute_result"
    }
   ],
   "source": [
    "%lsmagic"
   ]
  },
  {
   "cell_type": "code",
   "execution_count": 3,
   "metadata": {},
   "outputs": [],
   "source": [
    "# Pour obtenir de l'aide simple <objet>?\n",
    "# Exemple avec %cd\n",
    "%cd?"
   ]
  },
  {
   "cell_type": "code",
   "execution_count": null,
   "metadata": {},
   "outputs": [],
   "source": [
    "# Pour obtenir de l'aide plus détailler avec exemple <objet>??\n",
    "# Exemple avec %cd\n",
    "%cd??"
   ]
  },
  {
   "cell_type": "markdown",
   "metadata": {
    "dicho": {
     "celltype": "normal",
     "readonly": false
    }
   },
   "source": [
    "## Exporter un notebook\n",
    "\n",
    "Lorsque vous avez terminé la rédaction de votre document, vous pouvez le télécharger sur l'ordinateur local dans le format qui vous convient. Choisir pour cela `File/Download as...`\n",
    "\n",
    "Vous pouvez aussi publier votre document dans la partie publique de votre dossier personnel (`~/pub/`). \n",
    "Supposons par exemple qu'il existe un notebook `~/doc/phys/meca/oscillateur.ipynb` dans votre dossier personnel.\n",
    "Ouvrez alors un terminal et exécutez les commandes suivantes :\n",
    "\n",
    "```bash\n",
    "jupyter nbconvert ~/doc/phys/meca/oscillateur\n",
    "cp ~/doc/phys/meca/oscillateur.html ~/pub\n",
    "```\n",
    "\n",
    "La première commande a créé un fichier `oscillateur.html` dans le dossier où se trouve le fichier le notebook.\n",
    "La seconde commande a copié ce fichier HTML dans le dossier `/pub/`.\n",
    "\n",
    "Quiconque peut désormais consulter le document à partir de l'adresse : `https://jhub.lycee-chateaubriand.fr/~psiet-turing/oscillateur.html`. (En supposant que votre compte est `psiet-turing`).\n",
    "\n",
    "**Remarque importante :** Vous êtes responsable de ce que vous publiez sur l'internet.\n",
    "\n",
    "Pour produire un fichier PDF plutôt qu'un fichier HTML vous devez exécuter la commande\n",
    "```bash\n",
    "jupyter nbconvert --to pdf ~/doc/phys/meca/oscillateur\n",
    "```"
   ]
  },
  {
   "cell_type": "code",
   "execution_count": null,
   "metadata": {},
   "outputs": [],
   "source": []
  }
 ],
 "metadata": {
  "kernelspec": {
   "display_name": "Python 3",
   "language": "python",
   "name": "python3"
  },
  "language_info": {
   "codemirror_mode": {
    "name": "ipython",
    "version": 3
   },
   "file_extension": ".py",
   "mimetype": "text/x-python",
   "name": "python",
   "nbconvert_exporter": "python",
   "pygments_lexer": "ipython3",
   "version": "3.7.3"
  }
 },
 "nbformat": 4,
 "nbformat_minor": 1
}
