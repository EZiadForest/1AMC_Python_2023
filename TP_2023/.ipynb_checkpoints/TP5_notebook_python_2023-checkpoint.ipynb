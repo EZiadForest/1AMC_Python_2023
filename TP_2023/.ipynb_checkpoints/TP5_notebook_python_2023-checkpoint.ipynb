{
 "cells": [
  {
   "cell_type": "markdown",
   "metadata": {},
   "source": [
    "![](fig/logoENSI.png)\n",
    " ![](fig/logoPython.png)\n",
    "***\n",
    "# TP5\n",
    "Compte-rendu de \n",
    "\n",
    "# Chaînes de caractères, erreurs, fichiers, dictionnaires\n",
    "***\n",
    "**ENSICAEN  1A MC**  2023\n",
    "\n",
    "## Eric Ziad-Forest\n",
    "***\n",
    "\n",
    "**Auteur :**\n",
    "\n",
    "- Eric Ziad-Forest [ziad@ensicaen.fr]\n",
    "***\n",
    "*Contenu sous licence [CC BY-SA 4.0](https://creativecommons.org/licenses/by-sa/4.0)*"
   ]
  },
  {
   "cell_type": "markdown",
   "metadata": {},
   "source": [
    "### Enseignants des groupes de TD/TP\n",
    "- Groupe 1: Oumaima Assou [oumaima.assou231@ensicaen.fr] Philippe Lefebvre [lefebvre@ensicaen.fr]\n",
    "- Groupe 2: Julien Rabin [julien.rabin@ensicaen.fr]\n",
    "- Groupe 3: Julien Rabin [julien.rabin@ensicaen.fr]\n",
    "- Groupe 4: Eric Ziad-Forest [ziad@ensicaen.fr]\n",
    "\n",
    "***"
   ]
  },
  {
   "cell_type": "markdown",
   "metadata": {},
   "source": [
    "## Objectifs\n",
    "- Gestions des erreurs\n",
    "- Lecture/Ecriture dans des fichiers csv\n",
    "- Lecture/Ecrire et traitement de fichiers\n",
    "\n",
    "***Ce TP se fera peut-être sur 2 séances ...***"
   ]
  },
  {
   "cell_type": "markdown",
   "metadata": {},
   "source": [
    "# Rendu\n",
    "\n",
    "> N'oubliez pas d'inscrire votre nom et prénom  à côté de compte-rendu, juste en dessous de TP5."
   ]
  },
  {
   "cell_type": "markdown",
   "metadata": {},
   "source": [
    "# Rappel de cours"
   ]
  },
  {
   "cell_type": "markdown",
   "metadata": {},
   "source": [
    "Si vous souhaitez \"voir\" votre code \"tourner\" n'oubliez pas d'utiliser le lien suivant...\n",
    "\n",
    "<a href=\"http://pythontutor.com/visualize.html#mode=edit\" target=\"_blank\">Python tutor</a>"
   ]
  },
  {
   "cell_type": "markdown",
   "metadata": {
    "deletable": false,
    "dicho": {
     "celltype": "normal",
     "readonly": false
    }
   },
   "source": [
    "PARTIE I\n",
    "======="
   ]
  },
  {
   "cell_type": "markdown",
   "metadata": {},
   "source": [
    "\n",
    "\n",
    "Lorsqu’un programme Python \"plante\", c’est en général en raison d’une exception non gérée. \n",
    "\n",
    "Ces erreurs affichées par Python se lisent toujours de bas en haut.   \n",
    "**La ligne la plus importante est la dernière** sur laquelle on trouve 2 informations :   \n",
    "— La première, c’est le type d’erreur qui s’est produit. Dans cet exemple, il s’agit d’une `IndexError`.  \n",
    "— La seconde, c’est le message contenu dans cette exception. Au travers de ce message, Python donne des indications sur ce qui a provoqué l’erreur.   \n",
    "\n",
    "Les lignes qui précèdent la dernière sont ce que l’on appelle le `traceback`. C’est ce qui permet de trouver rapidement où s’est produite l’erreur.   \n",
    "\n",
    "Ces lignes vont en général 2 par 2 :   \n",
    "— La première ligne indique, le fichier dans lequel on se trouve, la ligne de ce fichier à laquelle s’est produite l’erreur, et le nom de la fonction que l’on est en train d’exécuter.  \n",
    "— La seconde ligne présente l’instruction qui a fait planter le programme.\n",
    "Les paires de lignes qui précèdent celle-ci sont les appels de fonctions successifs qui ont mené l’interpréteur jusqu’à cette instruction. Cela permet de savoir à peu près où en était votre programme dans son exécution avant qu’il ne plante.\n",
    "\n",
    "Il arrive parfois que l’erreur se trouve avant la ligne indiquée (*par exemple lorsqu’on oublie de fermer une parenthèse*).   \n",
    "Il est possible d’anticiper d’éventuelles erreurs en utilisant la construction `try/except`.\n",
    "\n",
    "Enfin, si votre programme tourne de fac ̧on anormalement longue, cela suggère une boucle infinie. Interrompez l’exécution du programme sur la console en tapant au clavier `Ctrl`+ `c` (`KeyboardInterrupt`) puis identifiez l'erreur.\n"
   ]
  },
  {
   "cell_type": "markdown",
   "metadata": {},
   "source": [
    "## Exercice 1\n",
    "Pour chacun des scripts suivant, trouvez l’erreur et corrigez-la.  \n",
    "Chaque cellule apparaît 2 fois.   \n",
    "*(Afin de garder une trace du type d'erreur)* \n",
    "\n",
    "Corrigez donc la seconde cellule, en oubliant pas d'expliquez ce que vous faites !"
   ]
  },
  {
   "cell_type": "markdown",
   "metadata": {},
   "source": [
    "### Erreur 1"
   ]
  },
  {
   "cell_type": "code",
   "execution_count": 2,
   "metadata": {},
   "outputs": [
    {
     "ename": "IndentationError",
     "evalue": "expected an indented block (<ipython-input-2-1a4dea4d9c0f>, line 3)",
     "output_type": "error",
     "traceback": [
      "\u001b[0;36m  File \u001b[0;32m\"<ipython-input-2-1a4dea4d9c0f>\"\u001b[0;36m, line \u001b[0;32m3\u001b[0m\n\u001b[0;31m    print(\"a est superieur à 0\")\u001b[0m\n\u001b[0m        ^\u001b[0m\n\u001b[0;31mIndentationError\u001b[0m\u001b[0;31m:\u001b[0m expected an indented block\n"
     ]
    }
   ],
   "source": [
    "a=5\n",
    "if a>0:\n",
    "print(\"a est superieur à 0\")"
   ]
  },
  {
   "cell_type": "code",
   "execution_count": 3,
   "metadata": {},
   "outputs": [
    {
     "name": "stdout",
     "output_type": "stream",
     "text": [
      "a est superieur à 0\n"
     ]
    }
   ],
   "source": [
    "# Votre correction\n",
    "a=5\n",
    "if a>0:\n",
    "print(\"a est superieur à 0\")"
   ]
  },
  {
   "cell_type": "markdown",
   "metadata": {},
   "source": [
    "### Erreur 2"
   ]
  },
  {
   "cell_type": "code",
   "execution_count": null,
   "metadata": {},
   "outputs": [],
   "source": [
    "fruits= (\"kiwi\",\"banane\",\"pomme\")\n",
    "fruits[1]=\"poire\"\n",
    "print(fruits)"
   ]
  },
  {
   "cell_type": "code",
   "execution_count": null,
   "metadata": {},
   "outputs": [],
   "source": [
    "# Votre correction\n",
    "fruits= (\"kiwi\",\"banane\",\"pomme\")\n",
    "fruits[1]=\"poire\"\n",
    "print(fruits)"
   ]
  },
  {
   "cell_type": "markdown",
   "metadata": {},
   "source": [
    "### Erreur 3"
   ]
  },
  {
   "cell_type": "code",
   "execution_count": null,
   "metadata": {},
   "outputs": [],
   "source": [
    "def puissance(a,b)\n",
    "    a**b\n",
    "print(puissance(2,2))"
   ]
  },
  {
   "cell_type": "code",
   "execution_count": null,
   "metadata": {},
   "outputs": [],
   "source": [
    "# Votre correction\n",
    "def puissance(a,b)\n",
    "    a**b\n",
    "print(puissance(2,2))"
   ]
  },
  {
   "cell_type": "markdown",
   "metadata": {},
   "source": [
    "### Erreur 4"
   ]
  },
  {
   "cell_type": "code",
   "execution_count": 19,
   "metadata": {},
   "outputs": [
    {
     "name": "stdout",
     "output_type": "stream",
     "text": [
      "comment t’appelles-tu ? Henry Cochet\n"
     ]
    }
   ],
   "source": [
    "nom = input(\"comment t’appelles-tu ? \") # entrez:  Henry Cochet"
   ]
  },
  {
   "cell_type": "code",
   "execution_count": 20,
   "metadata": {},
   "outputs": [
    {
     "data": {
      "text/plain": [
       "'Henry Cochet'"
      ]
     },
     "execution_count": 20,
     "metadata": {},
     "output_type": "execute_result"
    }
   ],
   "source": [
    "nom"
   ]
  },
  {
   "cell_type": "code",
   "execution_count": null,
   "metadata": {},
   "outputs": [],
   "source": [
    "# Votre correction\n",
    "nom = input(\"comment t’appelles-tu ? \")"
   ]
  },
  {
   "cell_type": "markdown",
   "metadata": {},
   "source": [
    "### Erreur 5"
   ]
  },
  {
   "cell_type": "code",
   "execution_count": null,
   "metadata": {},
   "outputs": [],
   "source": [
    "def poids(m):\n",
    "    return m*g\n",
    "print(poids(80))"
   ]
  },
  {
   "cell_type": "code",
   "execution_count": null,
   "metadata": {},
   "outputs": [],
   "source": [
    "# Votre correction\n",
    "def poids(m):\n",
    "    return m*g\n",
    "print(poids(80))"
   ]
  },
  {
   "cell_type": "markdown",
   "metadata": {},
   "source": [
    "### Erreur 6"
   ]
  },
  {
   "cell_type": "code",
   "execution_count": null,
   "metadata": {},
   "outputs": [],
   "source": [
    "def convertionFahrenheitCelsius(f):\n",
    "    return 0.55(f-32)\n",
    "print(convertionFahrenheitCelsius(375))"
   ]
  },
  {
   "cell_type": "code",
   "execution_count": null,
   "metadata": {},
   "outputs": [],
   "source": [
    "# Votre correction\n",
    "def convertionFahrenheitCelsius(f):\n",
    "    return 0.55(f-32)\n",
    "print(convertionFahrenheitCelsius(375))"
   ]
  },
  {
   "cell_type": "markdown",
   "metadata": {},
   "source": [
    "### Erreur 7"
   ]
  },
  {
   "cell_type": "code",
   "execution_count": null,
   "metadata": {},
   "outputs": [],
   "source": [
    "def paireImpaire(n):\n",
    "    if n%2=0:\n",
    "        print(\"{} est paire\".format(n))\n",
    "    else:\n",
    "        print(\"{} est impaire\".format(n))"
   ]
  },
  {
   "cell_type": "code",
   "execution_count": null,
   "metadata": {},
   "outputs": [],
   "source": [
    "# Votre correction\n",
    "def paireImpaire(n):\n",
    "    if n%2=0:\n",
    "        print(\"{} est paire\".format(n))\n",
    "    else:\n",
    "        print(\"{} est impaire\".format(n))"
   ]
  },
  {
   "cell_type": "markdown",
   "metadata": {},
   "source": [
    "### Erreur 8"
   ]
  },
  {
   "cell_type": "code",
   "execution_count": null,
   "metadata": {},
   "outputs": [],
   "source": [
    "def degreeEnRadian(d):\n",
    "    pi=3,14\n",
    "    return pi*d/180\n",
    "print(degreeEnRadian(10))"
   ]
  },
  {
   "cell_type": "code",
   "execution_count": null,
   "metadata": {},
   "outputs": [],
   "source": [
    "# Votre correction\n",
    "def degreeEnRadian(d):\n",
    "    pi=3,14\n",
    "    return pi*d/180\n",
    "print(degreeEnRadian(10))"
   ]
  },
  {
   "cell_type": "markdown",
   "metadata": {},
   "source": [
    "### Erreur 9"
   ]
  },
  {
   "cell_type": "code",
   "execution_count": 17,
   "metadata": {},
   "outputs": [],
   "source": [
    "def nombrePremier(n):\n",
    "    premier=True\n",
    "    for k in range(n):\n",
    "        if n%k==0:\n",
    "            premier=False\n",
    "            print(\"{} non premier car divisible par {}\".format(n,k))\n",
    "    return premier"
   ]
  },
  {
   "cell_type": "code",
   "execution_count": 18,
   "metadata": {},
   "outputs": [
    {
     "ename": "ZeroDivisionError",
     "evalue": "integer division or modulo by zero",
     "output_type": "error",
     "traceback": [
      "\u001b[0;31m---------------------------------------------------------------------------\u001b[0m",
      "\u001b[0;31mZeroDivisionError\u001b[0m                         Traceback (most recent call last)",
      "\u001b[0;32m<ipython-input-18-272c51d61854>\u001b[0m in \u001b[0;36m<module>\u001b[0;34m\u001b[0m\n\u001b[0;32m----> 1\u001b[0;31m \u001b[0mnombrePremier\u001b[0m\u001b[0;34m(\u001b[0m\u001b[0;36m4\u001b[0m\u001b[0;34m)\u001b[0m\u001b[0;34m\u001b[0m\u001b[0;34m\u001b[0m\u001b[0m\n\u001b[0m",
      "\u001b[0;32m<ipython-input-17-7092acd35f7a>\u001b[0m in \u001b[0;36mnombrePremier\u001b[0;34m(n)\u001b[0m\n\u001b[1;32m      2\u001b[0m     \u001b[0mpremier\u001b[0m\u001b[0;34m=\u001b[0m\u001b[0;32mTrue\u001b[0m\u001b[0;34m\u001b[0m\u001b[0;34m\u001b[0m\u001b[0m\n\u001b[1;32m      3\u001b[0m     \u001b[0;32mfor\u001b[0m \u001b[0mk\u001b[0m \u001b[0;32min\u001b[0m \u001b[0mrange\u001b[0m\u001b[0;34m(\u001b[0m\u001b[0mn\u001b[0m\u001b[0;34m)\u001b[0m\u001b[0;34m:\u001b[0m\u001b[0;34m\u001b[0m\u001b[0;34m\u001b[0m\u001b[0m\n\u001b[0;32m----> 4\u001b[0;31m         \u001b[0;32mif\u001b[0m \u001b[0mn\u001b[0m\u001b[0;34m%\u001b[0m\u001b[0mk\u001b[0m\u001b[0;34m==\u001b[0m\u001b[0;36m0\u001b[0m\u001b[0;34m:\u001b[0m\u001b[0;34m\u001b[0m\u001b[0;34m\u001b[0m\u001b[0m\n\u001b[0m\u001b[1;32m      5\u001b[0m             \u001b[0mpremier\u001b[0m\u001b[0;34m=\u001b[0m\u001b[0;32mFalse\u001b[0m\u001b[0;34m\u001b[0m\u001b[0;34m\u001b[0m\u001b[0m\n\u001b[1;32m      6\u001b[0m             \u001b[0mprint\u001b[0m\u001b[0;34m(\u001b[0m\u001b[0;34m\"{} non premier car divisible par {}\"\u001b[0m\u001b[0;34m.\u001b[0m\u001b[0mformat\u001b[0m\u001b[0;34m(\u001b[0m\u001b[0mn\u001b[0m\u001b[0;34m,\u001b[0m\u001b[0mk\u001b[0m\u001b[0;34m)\u001b[0m\u001b[0;34m)\u001b[0m\u001b[0;34m\u001b[0m\u001b[0;34m\u001b[0m\u001b[0m\n",
      "\u001b[0;31mZeroDivisionError\u001b[0m: integer division or modulo by zero"
     ]
    }
   ],
   "source": [
    "nombrePremier(4)"
   ]
  },
  {
   "cell_type": "code",
   "execution_count": null,
   "metadata": {},
   "outputs": [],
   "source": [
    "# Votre correction\n",
    "def nombrePremier(n):\n",
    "    premier=True\n",
    "    for k in range(n):\n",
    "        if n%k==0:\n",
    "            premier=False\n",
    "            print(\"{} non premier car divisible par {}\".format(n,k))\n",
    "    return premier"
   ]
  },
  {
   "cell_type": "markdown",
   "metadata": {},
   "source": [
    "### Erreur 10"
   ]
  },
  {
   "cell_type": "code",
   "execution_count": null,
   "metadata": {},
   "outputs": [],
   "source": [
    "def Ec(m,v):\n",
    "    return 0.5*m*v**2\n",
    "print(Ec(100,10,5))"
   ]
  },
  {
   "cell_type": "code",
   "execution_count": null,
   "metadata": {},
   "outputs": [],
   "source": [
    "# Votre correction\n",
    "def Ec(m,v):\n",
    "    return 0.5*m*v**2\n",
    "print(Ec(100,10,5))"
   ]
  },
  {
   "cell_type": "markdown",
   "metadata": {},
   "source": [
    "### Erreur 11"
   ]
  },
  {
   "cell_type": "code",
   "execution_count": null,
   "metadata": {},
   "outputs": [],
   "source": [
    "def tri(liste):\n",
    "    for k in range(len(liste)):\n",
    "        if liste[k]<liste[k+1]:\n",
    "            liste[k],liste[k+1]=liste[k+1],liste[k]\n",
    "    return liste\n",
    "\n",
    "print(tri([3,8,4,9,2,0,6]))"
   ]
  },
  {
   "cell_type": "markdown",
   "metadata": {},
   "source": [
    ">> Pensez à utiliser le lien suivant si vous ne voyez pas ...\n",
    "<a href=\"http://pythontutor.com/visualize.html#mode=edit\" target=\"_blank\">Python tutor</a>"
   ]
  },
  {
   "cell_type": "code",
   "execution_count": null,
   "metadata": {},
   "outputs": [],
   "source": [
    "# Votre correction\n",
    "def tri(liste):\n",
    "    for k in range(len(liste)):\n",
    "        if liste[k]<liste[k+1]:\n",
    "            liste[k],liste[k+1]=liste[k+1],liste[k]\n",
    "    return liste\n",
    "\n",
    "print(tri([3,8,4,9,2,0,6]))"
   ]
  },
  {
   "cell_type": "markdown",
   "metadata": {},
   "source": [
    "### Erreur 12"
   ]
  },
  {
   "cell_type": "code",
   "execution_count": null,
   "metadata": {},
   "outputs": [],
   "source": [
    "chaine=\"ortohgraphe\"\n",
    "chaine[3]=’h’\n",
    "chaine[4]=’o’\n",
    "print(chaine)"
   ]
  },
  {
   "cell_type": "code",
   "execution_count": null,
   "metadata": {},
   "outputs": [],
   "source": [
    "# Votre correction\n",
    "chaine=\"ortohgraphe\"\n",
    "chaine[3]=’h’\n",
    "chaine[4]=’o’\n",
    "print(chaine)"
   ]
  },
  {
   "cell_type": "markdown",
   "metadata": {},
   "source": [
    "### Erreur 13"
   ]
  },
  {
   "cell_type": "code",
   "execution_count": null,
   "metadata": {},
   "outputs": [],
   "source": [
    "def factorielle(n):\n",
    "    for k in range(n+1):\n",
    "        nombre=nombre*k\n",
    "    return nombre\n",
    "\n",
    "print(factorielle(8))"
   ]
  },
  {
   "cell_type": "code",
   "execution_count": null,
   "metadata": {},
   "outputs": [],
   "source": [
    "# Votre correction\n",
    "def factorielle(n):\n",
    "    for k in range(n+1):\n",
    "        nombre=nombre*k\n",
    "    return nombre\n",
    "\n",
    "print(factorielle(8))"
   ]
  },
  {
   "cell_type": "markdown",
   "metadata": {},
   "source": [
    "### Erreur 14"
   ]
  },
  {
   "cell_type": "code",
   "execution_count": null,
   "metadata": {},
   "outputs": [],
   "source": [
    "def 1suprème(liste): maxi=liste[0]\n",
    "    for j in liste:\n",
    "        if j>maxi:\n",
    "            maxi=j\n",
    "    return maxi\n",
    "\n",
    "print(1suprème([4,9,7,8,4,0,3]))"
   ]
  },
  {
   "cell_type": "code",
   "execution_count": null,
   "metadata": {},
   "outputs": [],
   "source": [
    "# Votre correction\n",
    "def 1suprème(liste): maxi=liste[0]\n",
    "    for j in liste:\n",
    "        if j>maxi:\n",
    "            maxi=j\n",
    "    return maxi\n",
    "\n",
    "print(1suprème([4,9,7,8,4,0,3]))"
   ]
  },
  {
   "cell_type": "markdown",
   "metadata": {},
   "source": [
    "### Erreur 15"
   ]
  },
  {
   "cell_type": "code",
   "execution_count": null,
   "metadata": {},
   "outputs": [],
   "source": [
    "def recherche(nombre_mystere):\n",
    "    booleen=true\n",
    "    while booleen==true:\n",
    "        n=int( input (\" Devinez un entier entre 0 et 10: \"))\n",
    "        if n== nombre_mystere :\n",
    "            print (\" Bravo !\")\n",
    "            booleen=false\n",
    "\n",
    "recherche(7)"
   ]
  },
  {
   "cell_type": "code",
   "execution_count": null,
   "metadata": {},
   "outputs": [],
   "source": [
    "# Votre correction\n",
    "def recherche(nombre_mystere):\n",
    "    booleen=true\n",
    "    while booleen==true:\n",
    "        n=int( input (\" Devinez un entier entre 0 et 10: \"))\n",
    "        if n== nombre_mystere :\n",
    "            print (\" Bravo !\")\n",
    "            booleen=false\n",
    "\n",
    "recherche(7)"
   ]
  },
  {
   "cell_type": "markdown",
   "metadata": {},
   "source": [
    "### Erreur 16"
   ]
  },
  {
   "cell_type": "code",
   "execution_count": 21,
   "metadata": {},
   "outputs": [
    {
     "ename": "SyntaxError",
     "evalue": "invalid syntax (<ipython-input-21-5dab1ae0a997>, line 4)",
     "output_type": "error",
     "traceback": [
      "\u001b[0;36m  File \u001b[0;32m\"<ipython-input-21-5dab1ae0a997>\"\u001b[0;36m, line \u001b[0;32m4\u001b[0m\n\u001b[0;31m    print (\"c’est super!\")\u001b[0m\n\u001b[0m        ^\u001b[0m\n\u001b[0;31mSyntaxError\u001b[0m\u001b[0;31m:\u001b[0m invalid syntax\n"
     ]
    }
   ],
   "source": [
    "def divisible_par(n,p):\n",
    "    if n%p==0:\n",
    "        print(\"{} est divisible par {}\".format(n,p)\n",
    "        print(\"c’est super!\")"
   ]
  },
  {
   "cell_type": "code",
   "execution_count": 22,
   "metadata": {},
   "outputs": [
    {
     "ename": "SyntaxError",
     "evalue": "invalid syntax (<ipython-input-22-a5c631e21c98>, line 5)",
     "output_type": "error",
     "traceback": [
      "\u001b[0;36m  File \u001b[0;32m\"<ipython-input-22-a5c631e21c98>\"\u001b[0;36m, line \u001b[0;32m5\u001b[0m\n\u001b[0;31m    print(\"c’est super!\")\u001b[0m\n\u001b[0m        ^\u001b[0m\n\u001b[0;31mSyntaxError\u001b[0m\u001b[0;31m:\u001b[0m invalid syntax\n"
     ]
    }
   ],
   "source": [
    "# Votre correction\n",
    "def divisible_par(n,p):\n",
    "    if n%p==0:\n",
    "        print(\"{} est divisible par {}\".format(n,p)\n",
    "        print(\"c’est super!\")"
   ]
  },
  {
   "cell_type": "markdown",
   "metadata": {},
   "source": [
    "### Erreur 17"
   ]
  },
  {
   "cell_type": "code",
   "execution_count": null,
   "metadata": {},
   "outputs": [],
   "source": [
    "classe=\"1A_MC\"\n",
    "classe=classe+2"
   ]
  },
  {
   "cell_type": "code",
   "execution_count": null,
   "metadata": {},
   "outputs": [],
   "source": [
    "# Votre correction\n",
    "classe=\"1A_MC\"\n",
    "classe=classe+2"
   ]
  },
  {
   "cell_type": "markdown",
   "metadata": {},
   "source": [
    "### Erreur 18"
   ]
  },
  {
   "cell_type": "code",
   "execution_count": null,
   "metadata": {},
   "outputs": [],
   "source": [
    "import mathematiques\n",
    "print(mathematiques.pow(4,2))"
   ]
  },
  {
   "cell_type": "code",
   "execution_count": null,
   "metadata": {},
   "outputs": [],
   "source": [
    "# Votre correction\n",
    "import mathematiques\n",
    "print(mathematiques.pow(4,2))"
   ]
  },
  {
   "cell_type": "markdown",
   "metadata": {},
   "source": [
    "### Erreur 19"
   ]
  },
  {
   "cell_type": "code",
   "execution_count": null,
   "metadata": {},
   "outputs": [],
   "source": [
    "fichier=open(\"leSavoirUniversel\",\"w\")\n",
    "fichier.write(\"Pour réussir à l'ENSICAEN, il faut simplement travailler!\")\n",
    "print fichier.readline()\n",
    "fichier.close()"
   ]
  },
  {
   "cell_type": "code",
   "execution_count": 28,
   "metadata": {},
   "outputs": [
    {
     "name": "stdout",
     "output_type": "stream",
     "text": [
      "Pour réussir à l'ENSICAEN, il faut simplement travailler!\n"
     ]
    }
   ],
   "source": [
    "# Votre correction\n",
    "fichier=open(\"leSavoirUniversel2\",\"w\")\n",
    "fichier.write(\"Pour réussir à l'ENSICAEN, il faut simplement travailler!\")\n",
    "fichier.close()\n",
    "fichier=open(\"leSavoirUniversel2\",\"r\")\n",
    "print(fichier.readline())\n",
    "fichier.close()"
   ]
  },
  {
   "cell_type": "code",
   "execution_count": 26,
   "metadata": {},
   "outputs": [
    {
     "name": "stdout",
     "output_type": "stream",
     "text": [
      "Pour réussir à l'ENSICAEN, il faut simplement travailler!\n"
     ]
    }
   ],
   "source": [
    "# Votre correction\n",
    "with open(\"leSavoirUniversel\",'w') as fichier:\n",
    "    fichier.write(\"Pour réussir à l'ENSICAEN, il faut simplement travailler!\")\n",
    "fichier.close() \n",
    "with open(\"leSavoirUniversel\",'r') as fichier:\n",
    "    print(fichier.readline())\n",
    "fichier.close() "
   ]
  },
  {
   "cell_type": "markdown",
   "metadata": {},
   "source": [
    "### Résumé des erreurs classiques \n",
    "*Voici une liste non exhaustive des erreurs rencontrées* : \n",
    ">>`ImportError`  \n",
    "Erreur sur le nom du module importé.   \n",
    "`IndentationError`   \n",
    "Problème d’indentation. Mettre des indentations après ” :”.   \n",
    "Ne jamais mélanger des tabulations avec des espaces. Aligner les indentations.   \n",
    "`IndexError`   \n",
    "Erreur dans l’indice d’une liste.   \n",
    "`IOError`   \n",
    "Erreur avec un fichier. Vérifier que le chemin d’accès est correct, que le fichier est fermé après utilisation, que vous avez bien précisé les droits (’r’, ’w’, ’r+’).   \n",
    "`NameError`    \n",
    "Variable ou fonction non définies. Vérifier l’orthographe, l’importation des modules, les guillemets pour une chaîne de caractères.   \n",
    "`SyntaxError`   \n",
    "Problème de syntaxe. Relire très attentivement le code.   \n",
    "`RuntimeError`   \n",
    "Appel trop important d’une fonction récursive.   \n",
    "`TypeError`   \n",
    "Confusion dans le type de la variable, erreur de syntaxe. Vérifier votre syntaxe et vérifier que le type des variables est cohérent avec les fonctions utilisées.   \n",
    "`UnboundLocalError`   \n",
    "Variable locale non définie. Initialiser vos variables locales.   \n",
    "`ValueError`   \n",
    "Problème de type.   \n",
    "`ZeroDivisionError`   \n",
    "Division ou modulo par 0.   \n"
   ]
  },
  {
   "cell_type": "markdown",
   "metadata": {
    "deletable": false,
    "dicho": {
     "celltype": "normal",
     "readonly": false
    }
   },
   "source": [
    "PARTIE II\n",
    "======="
   ]
  },
  {
   "cell_type": "markdown",
   "metadata": {},
   "source": [
    "# Fichiers"
   ]
  },
  {
   "cell_type": "markdown",
   "metadata": {},
   "source": [
    "## Ouverture\n",
    "\n",
    "L'instruction :\n",
    "\n",
    "    f = open('interessant.txt', mode='r')\n",
    "    \n",
    "ouvre le fichier ``interessant.txt`` en mode lecture seule et le renvoie dans l'objet ``f``.\n",
    "\n",
    "On peut spécifier un chemin d'accès complet ou relatif au répertoire courant. Le caractère de séparation pour les répertoires peut être différent en fonction du système d'exploitation ('/' pour unix et '\\' pour windows), voir le module [``os.path``](https://docs.python.org/3/library/os.path.html).\n",
    "\n",
    "### Modes d'ouverture communs\n",
    "\n",
    "- ``'r'`` : lecture seule\n",
    "- ``'w'`` : écriture seule\n",
    "- ``'a'`` : ajout à partir de la fin du fichier\n",
    "\n",
    "**Note :** Avec ``'w'`` et ``'a'``, le fichier est créé s'il n'existe pas.\n",
    "\n",
    "Pour plus d'informations sur les objets fichiers, voir [ici](https://docs.python.org/3/library/stdtypes.html#file-objects), pour la documentation de la fonction ``open()``, voir [là](https://docs.python.org/3/library/functions.html#open).\n",
    "\n",
    "## Fermeture\n",
    "\n",
    "On ferme le fichier ``f`` avec l'instruction :\n",
    "\n",
    "    f.close()"
   ]
  },
  {
   "cell_type": "markdown",
   "metadata": {},
   "source": [
    "## Méthodes de lecture\n",
    "\n",
    "- ``f.read()`` : retourne tout le contenu de ``f`` sous la forme d’une chaîne de caractères."
   ]
  },
  {
   "cell_type": "code",
   "execution_count": null,
   "metadata": {},
   "outputs": [],
   "source": [
    "f = open('fig/interessant.txt', mode='r')\n",
    "texte = f.read()\n",
    "print('\"texte\" est un objet de type', type(texte), 'de longueur', len(texte), 'caractères:')\n",
    "print(texte)\n",
    "print('Contenu en raw string:')\n",
    "print(repr(texte))\n",
    "f.close()"
   ]
  },
  {
   "cell_type": "code",
   "execution_count": null,
   "metadata": {},
   "outputs": [],
   "source": [
    "f = open('fig/interessant.txt', mode='r')\n",
    "texte = f.readlines()\n",
    "print(texte)\n",
    "f.close()"
   ]
  },
  {
   "cell_type": "markdown",
   "metadata": {},
   "source": [
    "- ``f.readlines()`` : retourne toutes les lignes de ``f`` sous la forme d’une liste de chaînes de caractères."
   ]
  },
  {
   "cell_type": "code",
   "execution_count": null,
   "metadata": {},
   "outputs": [],
   "source": [
    "chaine = 'Je sais écrire\\n...\\navec Python !\\n'\n",
    "# mode 'w' : on écrase le contenu du fichier s'il existe\n",
    "# encoding UTF-8: on peut écrire des chaînes avec des caractères non ASCII\n",
    "f = open('fig/pas_mal.txt', mode='w', encoding='utf8')\n",
    "f.write(chaine)\n",
    "f.close()"
   ]
  },
  {
   "cell_type": "code",
   "execution_count": null,
   "metadata": {},
   "outputs": [],
   "source": [
    "!cat 'fig/pas_mal.txt'"
   ]
  },
  {
   "cell_type": "markdown",
   "metadata": {},
   "source": [
    "**Note :** du point de vue du système, rien n'est écrit dans le fichier avant l’appel de ``f.close()``\n",
    "\n",
    "- ``f.writelines(ma_sequence)`` : écrit la séquence ``ma_sequence`` dans ``f`` en mettant bout à bout les éléments"
   ]
  },
  {
   "cell_type": "code",
   "execution_count": null,
   "metadata": {},
   "outputs": [],
   "source": [
    "sequence = ['Je sais ajouter\\n', 'du texte\\n', 'avec Python !\\n']\n",
    "f = open('fig/pas_mal.txt', mode='a')\n",
    "# mode 'a' : on ajoute à la fin du fichier\n",
    "# encoding par défaut: uniquement des caractères ASCII\n",
    "f.writelines(sequence)\n",
    "f.close()"
   ]
  },
  {
   "cell_type": "code",
   "execution_count": null,
   "metadata": {},
   "outputs": [],
   "source": [
    "chaine = '\\nPour ajouter du texte avec des caractères accentués: î ö Ö Ê\\n'\n",
    "f = open('fig/pas_mal.txt', mode='a', encoding='utf8')\n",
    "# mode 'a' : on ajoute à la fin du fichier\n",
    "# encoding UTF-8: on peut écrire des chaînes avec des caractères non ASCII\n",
    "f.write(chaine)\n",
    "f.close()"
   ]
  },
  {
   "cell_type": "markdown",
   "metadata": {},
   "source": [
    "> **Exercice 2 :**\n",
    ">\n",
    "> 1. écrire le contenu de la liste ``mystere`` dans le fichier ``coded.txt`` puis fermer ce dernier\n",
    "> 2. lire le fichier ``coded.txt`` et le stocker dans une chaine ``coded``\n",
    "> 3. Décoder la chaîne ``coded`` avec les instructions suivantes:\n",
    "\n",
    "```\n",
    "import codecs\n",
    "decoded = codecs.decode(coded, encoding='rot13')\n",
    "```\n",
    "> 4. écrire la chaine ``decoded`` dans le fichier ``decoded.txt`` et fermer ce dernier\n",
    "> 5. visualiser le contenu du fichier ``decoded.txt`` dans un éditeur de texte"
   ]
  },
  {
   "cell_type": "code",
   "execution_count": null,
   "metadata": {},
   "outputs": [],
   "source": [
    "mystere = ['Gur Mra bs Clguba, ol Gvz Crgref\\n\\n',\n",
    "           'Ornhgvshy vf orggre guna htyl.\\n',\n",
    "           'Rkcyvpvg vf orggre guna vzcyvpvg.\\n']\n",
    "# Votre code ci-dessous"
   ]
  },
  {
   "cell_type": "markdown",
   "metadata": {},
   "source": [
    "## Lecture/écriture et traitement dans un fichier\n",
    "\n",
    "### Manipulation de texte\n",
    "Apprenez en recopiant, ce que font les commandes suivantes : (pensez à commenter!)"
   ]
  },
  {
   "cell_type": "code",
   "execution_count": null,
   "metadata": {},
   "outputs": [],
   "source": [
    "k=\"animal bijoux coucou\""
   ]
  },
  {
   "cell_type": "code",
   "execution_count": null,
   "metadata": {},
   "outputs": [],
   "source": [
    "h=k.split()\n",
    "h"
   ]
  },
  {
   "cell_type": "code",
   "execution_count": null,
   "metadata": {},
   "outputs": [],
   "source": [
    "for el in range(len(h)):\n",
    "    h[el]=h[el]+''\n",
    "h"
   ]
  },
  {
   "cell_type": "code",
   "execution_count": null,
   "metadata": {},
   "outputs": [],
   "source": [
    "len(h[0])"
   ]
  },
  {
   "cell_type": "code",
   "execution_count": null,
   "metadata": {},
   "outputs": [],
   "source": [
    "s=\"\".join(h)\n",
    "s"
   ]
  },
  {
   "cell_type": "markdown",
   "metadata": {},
   "source": [
    "### fichier fable.txt\n",
    "Nous allons travailler avec le fichier **fable.txt**, qui se trouve dans votre dossier de travail."
   ]
  },
  {
   "cell_type": "markdown",
   "metadata": {},
   "source": [
    "> **Exercice 3**   \n",
    "En utilisant `open` (avec l'option **r** pour read) et `close` expliqués dans l'une des cellules ci-dessus et l'une des méthodes `read()` ou `readlines()` expliqué également, insérer le contenue du fichier **fable.txt** dans une variable **fab**.  \n",
    "*Remarque: on ne tiendra pas compte de la ponctuation dans toutes les questions suivantes  (**sauf pour les plus avancés**)*."
   ]
  },
  {
   "cell_type": "code",
   "execution_count": null,
   "metadata": {
    "dicho": {
     "celltype": "normal",
     "readonly": false
    }
   },
   "outputs": [],
   "source": [
    "# open  close etc ...\n",
    "\n",
    "\n",
    "fab=              # devra contenir les caractères du fichier fable.txt"
   ]
  },
  {
   "cell_type": "markdown",
   "metadata": {},
   "source": [
    "> **Exercice 4**   \n",
    "Vous pouvez désormais répondre aux questions suivantes :\n",
    "1. En utilisant la méthode **count()** du type **str** ,compter le nombre de **a** minuscules.\n",
    "2. Donner le nombre de lettres de ce texte.\n",
    "3. Donner le nombre de mots.\n",
    "4. Ordonnée dans l’ordre lexicographique les mots du texte.\n",
    "5. Quelle critique pouvez-vous faire?\n",
    "6. Que représente le max dans cette liste de mots? (Pourquoi?)"
   ]
  },
  {
   "cell_type": "markdown",
   "metadata": {},
   "source": [
    "### Traitement dans un fichier "
   ]
  },
  {
   "cell_type": "markdown",
   "metadata": {},
   "source": [
    "> **Exercice 5**   \n",
    "1. Que fait cette fonction?"
   ]
  },
  {
   "cell_type": "code",
   "execution_count": null,
   "metadata": {},
   "outputs": [],
   "source": [
    "def statistiques(phrase):\n",
    "    liste_stat = [0 for x in range(26)]\n",
    "    for lettre in phrase:\n",
    "        i = ord(lettre)-97\n",
    "        if 0 <= i < 26:\n",
    "            liste_stat[i] = liste_stat[i] + 1\n",
    "    return(liste_stat)"
   ]
  },
  {
   "cell_type": "markdown",
   "metadata": {},
   "source": [
    ">2. Donner le nombre d’apparitions de chaque lettre minuscule dans cette fable de La Fontaine.\n",
    "3. Après avoir transformé, tout ce texte en lettre capitale (voir les méthodes ou attribut du type **str**), comptez la fréquence de chaque lettre.  \n",
    "*(Attention vous devrez changer la fonction statistique pour qu’elle prenne en compte les lettres majuscules et non les minuscules...)*\n",
    "4. Quel(s) est(sont)  le(s) mot(s) le(s) plus long(s)?\n",
    "5. Modifier dans cette fable tous les a en A (en faite ceux qui se trouvent dans la variable **fab**)."
   ]
  },
  {
   "cell_type": "markdown",
   "metadata": {
    "deletable": false,
    "dicho": {
     "celltype": "normal",
     "readonly": false
    }
   },
   "source": [
    "### Ecriture dans un fichier"
   ]
  },
  {
   "cell_type": "markdown",
   "metadata": {},
   "source": [
    "> **Exercice 6**    \n",
    "Ecrire dans un fichier fable2.txt, le texte de fable.txt mais en majuscule.  \n",
    "Puis d’ajouter le résultat du nombre de lettres de ce nouveau texte à la fin de celui-ci."
   ]
  },
  {
   "cell_type": "markdown",
   "metadata": {},
   "source": [
    "PARTIE III\n",
    "======"
   ]
  },
  {
   "cell_type": "markdown",
   "metadata": {},
   "source": [
    "# Manipulation de données en Python\n",
    "### Lire des données provenant d'un fichier CSV en utilisant le module `csv`"
   ]
  },
  {
   "cell_type": "code",
   "execution_count": 13,
   "metadata": {},
   "outputs": [],
   "source": [
    "import csv"
   ]
  },
  {
   "cell_type": "code",
   "execution_count": null,
   "metadata": {},
   "outputs": [],
   "source": [
    "# Lit les données du fichier Cities.csv dans un type list et imprime toutes les lignes\n",
    "with open('Cities.csv','r') as f: \n",
    "    rows = csv.reader(f)\n",
    "    for r in rows:\n",
    "        print(r)"
   ]
  },
  {
   "cell_type": "code",
   "execution_count": null,
   "metadata": {},
   "outputs": [],
   "source": [
    "# La même chose en utilisant un dictionnaire\n",
    "with open('Cities.csv','r') as f2:\n",
    "    rows = csv.DictReader(f2)\n",
    "    for r in rows:\n",
    "        print(r)"
   ]
  },
  {
   "cell_type": "code",
   "execution_count": null,
   "metadata": {},
   "outputs": [],
   "source": [
    "# Les villes ayant une température < 0\n",
    "with open('Cities.csv','r') as f:\n",
    "    rows = csv.reader(f)\n",
    "    next(rows)\n",
    "    for r in rows:\n",
    "        if float(r[4]) < 0:\n",
    "            print(r[0], r[4])\n",
    "# Que se passe-t-il si l'on n'écrit pas: next(rows)?"
   ]
  },
  {
   "cell_type": "markdown",
   "metadata": {},
   "source": [
    ">> **Exercice 7**\n",
    "En vous inspirant de ce qui précède, écrire un script permettant d'extraire toutes les villes françaises et allemandes de ce fichier *Cities.csv* avec leur température. "
   ]
  },
  {
   "cell_type": "markdown",
   "metadata": {},
   "source": [
    ">> **Exercice 8**  \n",
    "En déduire une fonction prenant en paramètre un fichier et un pays et qui en extrait un dictionnaire donnant pour clés les villes de ce pays et pour valeurs les positions GPS."
   ]
  },
  {
   "cell_type": "markdown",
   "metadata": {},
   "source": [
    ">>**Exercice 9**   \n",
    "En utilisant en plus le fichier *Countries.csv* extraire toutes les villes européennes."
   ]
  },
  {
   "cell_type": "markdown",
   "metadata": {},
   "source": [
    ">> **Exercice 10**  \n",
    "Ecrire dans un fichier *Europ.csv* la liste de toutes les villes européennes (EU) avec leur température."
   ]
  },
  {
   "cell_type": "markdown",
   "metadata": {},
   "source": [
    ">> **Exercice 11**  \n",
    "Etablir la température moyenne de chaque pays.\n",
    "En deduire la température moyenne des pays de l'EU."
   ]
  }
 ],
 "metadata": {
  "dicho": {
   "author": "Denis Pinsard",
   "contact": "(prénom).(nom)@dichotomies.fr",
   "created": "2016-08-29",
   "description": "Les connaissances de base pour créer, modifier et manipuler les Notebooks Jupyter",
   "dockey": "ITV538",
   "license": true,
   "logo": true,
   "readonly": false,
   "subtitle": "",
   "title": "Débuter avec les notebooks",
   "updated": "2016-08-29",
   "uri": "http://dichotomies.fr/2016/informatique/info1/cours/debuter-avec-les-notebooks/"
  },
  "kernelspec": {
   "display_name": "Python 3",
   "language": "python",
   "name": "python3"
  },
  "language_info": {
   "codemirror_mode": {
    "name": "ipython",
    "version": 3
   },
   "file_extension": ".py",
   "mimetype": "text/x-python",
   "name": "python",
   "nbconvert_exporter": "python",
   "pygments_lexer": "ipython3",
   "version": "3.7.3"
  }
 },
 "nbformat": 4,
 "nbformat_minor": 1
}
