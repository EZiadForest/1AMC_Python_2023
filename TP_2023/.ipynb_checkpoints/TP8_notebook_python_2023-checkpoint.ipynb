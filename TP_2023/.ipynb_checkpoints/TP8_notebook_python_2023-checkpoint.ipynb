{
 "cells": [
  {
   "cell_type": "markdown",
   "metadata": {},
   "source": [
    "![](fig/logoENSI.png)\n",
    " ![](fig/logoPython.png)\n",
    "***\n",
    "# TP7\n",
    "Compte-rendu de \n",
    "\n",
    "# Classes - POO\n",
    "***\n",
    "**ENSICAEN  1A MC**  2023\n",
    "\n",
    "## Eric Ziad-Forest\n",
    "***\n",
    "\n",
    "**Auteur :**\n",
    "- Romain Tavenard  \n",
    "*Copyright 2022.*\n",
    "***\n",
    "- Olivier Lecluze\n",
    "- Eric Ziad-Forest [ziad@ensicaen.fr](ziad@ensicaen.fr)  \n",
    "*Contenu sous licence [CC BY-SA 4.0](https://creativecommons.org/licenses/by-sa/4.0)*"
   ]
  },
  {
   "cell_type": "markdown",
   "metadata": {},
   "source": [
    "### Enseignants des groupes de TD/TP\n",
    "- Groupe 1: Oumaima Assou [oumaima.assou231@ensicaen.fr] Philippe Lefebvre [lefebvre@ensicaen.fr]\n",
    "- Groupe 2: Julien Rabin [julien.rabin@ensicaen.fr]\n",
    "- Groupe 3: Julien Rabin [julien.rabin@ensicaen.fr]\n",
    "- Groupe 4: Eric Ziad-Forest [ziad@ensicaen.fr]\n",
    "\n",
    "***"
   ]
  },
  {
   "cell_type": "markdown",
   "metadata": {},
   "source": [
    "## Sommaire\n",
    "- Programmation Orienté Objet (POO)\n",
    "- Classe\n",
    "- Objets\n",
    "- Méthodes\n",
    "- Polymorphisme\n",
    "- Hierarchie\n",
    "- ...\n",
    "\n"
   ]
  },
  {
   "cell_type": "markdown",
   "metadata": {},
   "source": [
    "# Les classes en Python\n",
    "\n",
    "d'après le site [colab.research.google.com](https://colab.research.google.com/github/linogaliana/python-datascientist/blob/master/notebooks/course/getting-started/07_rappels_classes.ipynb?pli=1)"
   ]
  },
  {
   "cell_type": "markdown",
   "metadata": {},
   "source": [
    "# Qu’est-ce que la programmation orientée objet ?\n",
    "\n",
    "Le langage `Python` se base sur des objets et définit pour eux des actions.\n",
    "Selon le type d’objet, les actions seront différentes.\n",
    "On parle à ce propos de **langage orienté objet** ce qui signifie\n",
    "que la syntaxe du langage `Python` permet de définir de manière conceptuelle\n",
    "des objets et appliquer des traitements cohérents avec leur structure interne.\n",
    "\n",
    "Par exemple,\n",
    "pour manipuler des données textuelles ou numériques, on aura\n",
    "besoin d’appliquer des méthodes différentes. Prenons l’exemple\n",
    "de l’opération `+`. Pour des données numériques, il s’agit\n",
    "de l’addition. Pour des données textuelles, l’addition n’a pas de sens\n",
    "mais on peut envisager d’appliquer cette opération pour faire de la\n",
    "concaténation.\n",
    "\n",
    "Chaque type d’objet se verra donc appliquer des actions\n",
    "adaptées. Cela offre une grande flexibilité au langage `Python` car on\n",
    "peut définir une méthode générique (par exemple l’addition) et l’adapter\n",
    "à différents types d’objets.\n",
    "\n",
    "Le fait que `Python` soit un langage orienté objet a une influence sur la\n",
    "syntaxe. On retrouvera régulière la syntaxe `objet.method` qui est au coeur\n",
    "de `Python`. Par exemple `pd.DataFrame.mean` se traduit par\n",
    "appliquer la méthode `mean` a un objet de type `pd.DataFrame`.\n",
    "\n",
    "\n",
    "\n",
    "# La définition d’un objet\n",
    "\n",
    "Pour définir un objet, il faut lui donner des caractéristiques et des actions, ce qu’il est, ce qu’il peut faire.\n",
    "\n",
    "Avec une liste, on peut ajouter des éléments par exemple avec l’action .append(). On peut créer autant d’objets “liste” qu’on le souhaite.\n",
    "\n",
    "**Une classe regroupe des fonctions et des attributs qui définissent un objet.**\n",
    "Un objet est une instance d’une classe, c’est-à-dire un exemplaire issu de la classe. L’objet avec un comportement et un état, tous deux définis par la classe. On peut créer autant d’objets que l’on désire avec une classe donnée.\n",
    "\n",
    "Ici nous allons essayer de créer une classe chat, avec des attributs pour caractériser le chat et des actions, pour voir ce qu’il peut faire avec un objet de la classe chat.\n",
    "\n",
    "# Exemple : la Classe chat()\n",
    "\n",
    "Cette exemple est uniquement à lire et à comprendre, il ne contient en fait qu'un seul exercice\n",
    "\n",
    "## Les attributs de la classe chat\n",
    "Plusieurs constructions de la classe chat qui vont nous permettre de créer des objets (ou l'on dit des intances de chat).\n",
    "\n",
    "### Classe chat version 1 - premiers attributs\n",
    "\n",
    "On veut pouvoir créer un objet chat() qui nous permettra à terme de créer une colonie de chats (on sait\n",
    "jamais ca peut servir …).\n",
    "Pour commencer, on va définir un chat avec des attributs de base : une couleur et un nom."
   ]
  },
  {
   "cell_type": "code",
   "execution_count": 2,
   "metadata": {},
   "outputs": [],
   "source": [
    "class chat: # Définition de notre classe chat\n",
    "    \"\"\"Classe définissant un chat caractérisé par :\n",
    "    - son nom\n",
    "    - sa couleur \"\"\"\n",
    "    \n",
    "    def __init__(self): # Notre méthode constructeur - \n",
    "        # self c'est notre objet qu'on est en train de créer\n",
    "        \"\"\"Pour l'instant, on ne va définir que deux attributs - nom et couleur \"\"\"\n",
    "        self.couleur = \"Noir\"   \n",
    "        self.nom = \"Aucun nom\""
   ]
  },
  {
   "cell_type": "code",
   "execution_count": 3,
   "metadata": {},
   "outputs": [
    {
     "name": "stdout",
     "output_type": "stream",
     "text": [
      "<class '__main__.chat'> Noir , Aucun nom\n"
     ]
    }
   ],
   "source": [
    "mon_chat = chat()\n",
    "\n",
    "print(type(mon_chat), mon_chat.couleur ,\",\", mon_chat.nom) "
   ]
  },
  {
   "cell_type": "markdown",
   "metadata": {},
   "source": [
    "On nous dit bien que Mon chat est défini à partir de la classe chat,\n",
    "c’est ce que nous apprend la fonction type.\n",
    "Pour l’instant il n’a pas de nom\n",
    "\n",
    "### Classe chat version 2 - autres attributs\n",
    "\n",
    "Avec un nom et une couleur, on ne va pas loin. On peut continuer à définir des attributs pour la classe chat\n",
    "de la même façon que précédemment."
   ]
  },
  {
   "cell_type": "code",
   "execution_count": 4,
   "metadata": {},
   "outputs": [],
   "source": [
    "class chat: # Définition de notre classe chat\n",
    "    \"\"\"Classe définissant un chat caractérisé par :\n",
    "    - sa couleur\n",
    "    - son âge\n",
    "    - son caractère\n",
    "    - son poids\n",
    "    - son maitre\n",
    "    - son nom \"\"\"\n",
    "\n",
    "    \n",
    "    def __init__(self): # Notre méthode constructeur - \n",
    "        #self c'est notre objet qu'on est en train de créer\n",
    "        self.couleur = \"Noir\"    \n",
    "        self.age = 10\n",
    "        self.caractere = \"Joueur\"\n",
    "        self.poids = 3\n",
    "        self.maitre = \"Jeanne\"\n",
    "        self.nom = \"Aucun nom\""
   ]
  },
  {
   "cell_type": "code",
   "execution_count": 5,
   "metadata": {},
   "outputs": [
    {
     "name": "stdout",
     "output_type": "stream",
     "text": [
      "Help on class chat in module __main__:\n",
      "\n",
      "class chat(builtins.object)\n",
      " |  Classe définissant un chat caractérisé par :\n",
      " |  - sa couleur\n",
      " |  - son âge\n",
      " |  - son caractère\n",
      " |  - son poids\n",
      " |  - son maitre\n",
      " |  - son nom\n",
      " |  \n",
      " |  Methods defined here:\n",
      " |  \n",
      " |  __init__(self)\n",
      " |      Initialize self.  See help(type(self)) for accurate signature.\n",
      " |  \n",
      " |  ----------------------------------------------------------------------\n",
      " |  Data descriptors defined here:\n",
      " |  \n",
      " |  __dict__\n",
      " |      dictionary for instance variables (if defined)\n",
      " |  \n",
      " |  __weakref__\n",
      " |      list of weak references to the object (if defined)\n",
      "\n"
     ]
    }
   ],
   "source": [
    "help(chat) \n",
    "# si on veut savoir ce que fait la classe \"chat\" on appelle l'aide"
   ]
  },
  {
   "cell_type": "code",
   "execution_count": 6,
   "metadata": {},
   "outputs": [
    {
     "name": "stdout",
     "output_type": "stream",
     "text": [
      "L'âge du chat est 10 ans\n"
     ]
    }
   ],
   "source": [
    "mon_chat = chat()\n",
    "print(\"L'âge du chat est\", mon_chat.age,\"ans\") \n",
    "# on avait défini l'attribut age de la classe chat comme étant égal à 10\n",
    "#, si on demande l'attribut age de mon_chat on obtient 10"
   ]
  },
  {
   "cell_type": "markdown",
   "metadata": {},
   "source": [
    "Par défaut, les attributs de la classe Chat seront toujours les mêmes à chaque création de chat à partir\n",
    "de la classe Chat.\n",
    "\n",
    "Mais une fois qu’une `instance`(*aller chercher sur internet ce que signifie ce mot important en POO*) de classe est créée (*ici mon chat est une instance de classe*) on peut décider\n",
    "de changer la valeur de ses attributs.\n",
    "\n",
    "#### Un nouveau poids"
   ]
  },
  {
   "cell_type": "code",
   "execution_count": 7,
   "metadata": {},
   "outputs": [
    {
     "name": "stdout",
     "output_type": "stream",
     "text": [
      "3\n",
      "3.5\n"
     ]
    }
   ],
   "source": [
    "print(mon_chat.poids)\n",
    "# si on veut changer le poids de mon chat, parce qu'il a un peu grossi après les fêtes\n",
    "mon_chat.poids = 3.5\n",
    "print(mon_chat.poids) # maintenant le poids est 3.5"
   ]
  },
  {
   "cell_type": "markdown",
   "metadata": {},
   "source": [
    "#### Un nouveau nom"
   ]
  },
  {
   "cell_type": "code",
   "execution_count": 8,
   "metadata": {},
   "outputs": [
    {
     "data": {
      "text/plain": [
       "'Martin'"
      ]
     },
     "execution_count": 8,
     "metadata": {},
     "output_type": "execute_result"
    }
   ],
   "source": [
    "# on veut aussi lui donner un nom \n",
    "mon_chat.nom = \"Martin\"\n",
    "mon_chat.nom"
   ]
  },
  {
   "cell_type": "markdown",
   "metadata": {},
   "source": [
    "#### Une autre instance de la classe Chat\n",
    "\n",
    "On peut aussi créer d’autres objets chat à partir de la classe chat :"
   ]
  },
  {
   "cell_type": "code",
   "execution_count": 9,
   "metadata": {},
   "outputs": [
    {
     "name": "stdout",
     "output_type": "stream",
     "text": [
      "Noir\n"
     ]
    }
   ],
   "source": [
    "# on appelle la classe\n",
    "l_autre_chat = chat()\n",
    "# on change les attributs qui nous intéressent\n",
    "l_autre_chat.nom = \"Ginette\"\n",
    "l_autre_chat.maitre = \"Roger\"\n",
    "# les attributs inchangés donnent la même chose \n",
    "# que ceux définis par défaut pour la classe\n",
    "print(l_autre_chat.couleur)"
   ]
  },
  {
   "cell_type": "markdown",
   "metadata": {},
   "source": [
    "#### Exercice\n",
    "Creer un `nouveau_chat` (une nouvelle intance de l'objet `chat`) ayant les caractéristiques suivantes:\n",
    "couleur = \"Roux & blanc\", age = 5, caractere = \"Calin\",poids = 2.5\n",
    "nom = \"Chiffon\""
   ]
  },
  {
   "cell_type": "markdown",
   "metadata": {},
   "source": [
    "## Les méthodes de la classe chat\n",
    "\n",
    "Les attributs sont des variables propres à notre objet, qui servent à le caractériser.\n",
    "\n",
    "Les méthodes sont plutôt des actions, comme nous l’avons vu dans la partie précédente, agissant sur l’objet.\n",
    "\n",
    "Par exemple, la méthode append de la classe list permet d’ajouter un élément dans l’objet list manipulé.\n",
    "\n",
    "### Classe chat version 3 - première méthode\n",
    "\n",
    "On peut définir une première méthode : nourrir"
   ]
  },
  {
   "cell_type": "code",
   "execution_count": 10,
   "metadata": {},
   "outputs": [],
   "source": [
    "class chat: # Définition de notre classe chat\n",
    "    \"\"\"Classe définissant un chat caractérisé par :\n",
    "    - sa couleur\n",
    "    - son âge\n",
    "    - son caractère\n",
    "    - son poids\n",
    "    - son maitre\n",
    "    - son nom \n",
    "    \n",
    "    L'objet chat a une méthode : nourrir \"\"\"\n",
    "\n",
    "    \n",
    "    def __init__(self): # Notre méthode constructeur - \n",
    "        #self c'est notre objet qu'on est en train de créer\n",
    "        self.couleur = \"Noir\"    \n",
    "        self.age = 10\n",
    "        self.caractere = \"Joueur\"\n",
    "        self.poids = 3\n",
    "        self.maitre = \"Jeanne\"\n",
    "        self.nom = \"Aucun nom\"\n",
    "        \n",
    "        \"\"\"Par défaut, notre ventre est vide\"\"\"\n",
    "        self.ventre = \"\"\n",
    "        \n",
    "    def nourrir(self, nourriture):\n",
    "        \"\"\"Méthode permettant de donner à manger au chat.\n",
    "        Si le ventre n'est pas vide, on met une virgule avant de rajouter\n",
    "        la nourriture\"\"\"       \n",
    "        if self.ventre != \"\":\n",
    "            self.ventre += \",\"\n",
    "        self.ventre += nourriture"
   ]
  },
  {
   "cell_type": "code",
   "execution_count": 11,
   "metadata": {},
   "outputs": [
    {
     "data": {
      "text/plain": [
       "''"
      ]
     },
     "execution_count": 11,
     "metadata": {},
     "output_type": "execute_result"
    }
   ],
   "source": [
    "mon_chat = chat()\n",
    "mon_chat.nom = \"Martin\"\n",
    "mon_chat.ventre # On n'a rien donné à Martin, son ventre est vide"
   ]
  },
  {
   "cell_type": "code",
   "execution_count": 12,
   "metadata": {},
   "outputs": [
    {
     "name": "stdout",
     "output_type": "stream",
     "text": [
      "Le contenu du ventre de martin :  Croquettes\n"
     ]
    }
   ],
   "source": [
    "# on appelle la méthode \"nourrir\" de la classe chat, \n",
    "# on lui donne un élément, ici des croquettes\n",
    "mon_chat.nourrir('Croquettes')\n",
    "print(\"Le contenu du ventre de martin : \",mon_chat.ventre)"
   ]
  },
  {
   "cell_type": "code",
   "execution_count": 13,
   "metadata": {},
   "outputs": [
    {
     "name": "stdout",
     "output_type": "stream",
     "text": [
      "Le contenu du ventre de martin :  Croquettes,Saumon\n"
     ]
    }
   ],
   "source": [
    "mon_chat.nourrir('Saumon')\n",
    "print(\"Le contenu du ventre de martin : \",mon_chat.ventre)"
   ]
  },
  {
   "cell_type": "markdown",
   "metadata": {},
   "source": [
    "### Classe chat version 4 - autre méthode\n",
    "\n",
    "Avec un chat, on peut imaginer plein de méthodes. Ici on va définir une action “nourrir” et une autre action\n",
    "“litiere”, qui consiste à vider l’estomac du chat."
   ]
  },
  {
   "cell_type": "code",
   "execution_count": 14,
   "metadata": {},
   "outputs": [],
   "source": [
    "class chat: # Définition de notre classe Personne\n",
    "    \"\"\"Classe définissant un chat caractérisé par :\n",
    "    - sa couleur\n",
    "    - son âge\n",
    "    - son caractère\n",
    "    - son poids\n",
    "    - son maitre\n",
    "    - son nom \n",
    "    \n",
    "    L'objet chat a deux méthodes : nourrir et litiere \"\"\"\n",
    "\n",
    "    \n",
    "    def __init__(self): # Notre méthode constructeur - \n",
    "        #self c'est notre objet qu'on est en train de créer\n",
    "        self.nom = \"\"\n",
    "        self.couleur = \"Roux\"    \n",
    "        self.age = 10\n",
    "        self.caractere = \"Joueur\"\n",
    "        self.poids = 3\n",
    "        self.maitre = \"Jeanne\"\n",
    "        \"\"\"Par défaut, notre ventre est vide\"\"\"\n",
    "        self.ventre = \"\"\n",
    "        \n",
    "    def nourrir(self, nourriture):\n",
    "        \"\"\"Méthode permettant de donner à manger au chat.\n",
    "        Si le ventre n'est pas vide, on met une virgule avant de rajouter\n",
    "        la nourriture\"\"\"       \n",
    "        if self.ventre != \"\":\n",
    "            self.ventre += \",\"\n",
    "        self.ventre += nourriture\n",
    "\n",
    "    def litiere(self) : \n",
    "        \"\"\" Méthode permettant au chat d'aller à sa litière : \n",
    "        en conséquence son ventre est vide \"\"\"       \n",
    "        self.ventre = \"\"\n",
    "        print(self.nom,\"a le ventre vide\")"
   ]
  },
  {
   "cell_type": "code",
   "execution_count": 15,
   "metadata": {},
   "outputs": [
    {
     "name": "stdout",
     "output_type": "stream",
     "text": [
      "Le contenu du ventre de martin croquettes\n",
      "Martin a le ventre vide\n"
     ]
    }
   ],
   "source": [
    "# on définit Martin le chat\n",
    "mon_chat = chat()\n",
    "mon_chat.nom = \"Martin\"\n",
    "# on le nourrit avec des croquettes\n",
    "mon_chat.nourrir('croquettes')\n",
    "print(\"Le contenu du ventre de martin\", mon_chat.ventre)\n",
    "\n",
    "\n",
    "# Il va dans sa litiere\n",
    "mon_chat.litiere()"
   ]
  },
  {
   "cell_type": "code",
   "execution_count": 16,
   "metadata": {},
   "outputs": [
    {
     "name": "stdout",
     "output_type": "stream",
     "text": [
      "Help on method nourrir in module __main__:\n",
      "\n",
      "nourrir(nourriture) method of __main__.chat instance\n",
      "    Méthode permettant de donner à manger au chat.\n",
      "    Si le ventre n'est pas vide, on met une virgule avant de rajouter\n",
      "    la nourriture\n",
      "\n",
      "Help on method litiere in module __main__:\n",
      "\n",
      "litiere() method of __main__.chat instance\n",
      "    Méthode permettant au chat d'aller à sa litière : \n",
      "    en conséquence son ventre est vide\n",
      "\n"
     ]
    }
   ],
   "source": [
    "help(mon_chat.nourrir)\n",
    "help(mon_chat.litiere)"
   ]
  },
  {
   "cell_type": "markdown",
   "metadata": {},
   "source": [
    "### ***facultatif*** Les méthodes spéciales\n",
    "\n",
    "Si on reprend notre classe chat, il y a en réalité des méthodes spéciales que nous n’avons pas définies mais\n",
    "qui sont implicites.\n",
    "\n",
    "Python comprend seul ce que doivent faire ces méthodes. Il a une idée préconcue de ce qu’elles doivent\n",
    "effectuer comme opération. Si vous ne redéfinissez par une méthode spéciale pour qu’elle fasse ce que vous\n",
    "souhaitez, ca peut donner des r\u0013esultats inattendus.\n",
    "\n",
    "Elles servent à plusieurs choses :\n",
    "\n",
    "-   à initialiser l’objet instancié : \\_\\_init\\_\\_\n",
    "-   à modifier son affichage : \\_\\_repr\\_\\_"
   ]
  },
  {
   "cell_type": "raw",
   "metadata": {
    "raw_mimetype": "text/html"
   },
   "source": [
    "<!-- #endregion -->"
   ]
  },
  {
   "cell_type": "code",
   "execution_count": 17,
   "metadata": {},
   "outputs": [
    {
     "name": "stdout",
     "output_type": "stream",
     "text": [
      "Martin\n",
      "Martin\n"
     ]
    }
   ],
   "source": [
    "# pour avoir la valeur de l'attribut \"nom\"\n",
    "\n",
    "print(mon_chat.__getattribute__(\"nom\"))\n",
    "# on aurait aussi pu faire plus simple :\n",
    "print(mon_chat.nom)"
   ]
  },
  {
   "cell_type": "markdown",
   "metadata": {},
   "source": [
    "``` python\n",
    "# si l'attribut n'existe pas : on a une erreur\n",
    "# Python recherche l'attribut et, s'il ne le trouve pas dans l'objet et si une méthode __getattr__ est spécifiée, \n",
    "# il va l'appeler en lui passant en paramètre le nom de l'attribut recherché, sous la forme d'une chaîne de caractères.\n",
    "\n",
    "print(mon_chat.origine)\n",
    "```\n",
    "\n",
    "    ## Error in py_call_impl(callable, dots$args, dots$keywords): AttributeError: 'chat' object has no attribute 'origine'\n",
    "    ## \n",
    "    ## Detailed traceback: \n",
    "    ##   File \"<string>\", line 1, in <module>\n",
    "\n",
    "Mais on peut modifier les méthodes spéciales de notre classe chat pour éviter d’avoir des erreurs d’attributs. On va aussi en profiter pour modifier la représentation de l’instance chat qui pour l’instant donne \\<\\_*main\\_*.chat object at 0x0000000005AB4C50\\>\n",
    "\n",
    "### Classe chat version 5 - méthode spéciale"
   ]
  },
  {
   "cell_type": "code",
   "execution_count": 18,
   "metadata": {},
   "outputs": [],
   "source": [
    "class chat: # Définition de notre classe Personne\n",
    "    \"\"\"Classe définissant un chat caractérisé par :\n",
    "    - sa couleur\n",
    "    - son âge\n",
    "    - son caractère\n",
    "    - son poids\n",
    "    - son maitre\n",
    "    - son nom \n",
    "    \n",
    "    L'objet chat a deux méthodes : nourrir et litiere \"\"\"\n",
    "\n",
    "    \n",
    "    def __init__(self): # Notre méthode constructeur - \n",
    "        #self c'est notre objet qu'on est en train de créer\n",
    "        self.nom = \"\"\n",
    "        self.couleur = \"Roux\"    \n",
    "        self.age = 10\n",
    "        self.caractere = \"Joueur\"\n",
    "        self.poids = 3\n",
    "        self.maitre = \"Jeanne\"\n",
    "        \"\"\"Par défaut, notre ventre est vide\"\"\"\n",
    "        self.ventre = \"\"\n",
    "        \n",
    "    def nourrir(self, nourriture):\n",
    "        \"\"\"Méthode permettant de donner à manger au chat.\n",
    "        Si le ventre n'est pas vide, on met une virgule avant de rajouter\n",
    "        la nourriture\"\"\"       \n",
    "        if self.ventre != \"\":\n",
    "            self.ventre += \",\"\n",
    "        self.ventre += nourriture\n",
    "\n",
    "    def litiere(self) : \n",
    "        \"\"\" Méthode permettant au chat d'aller à sa litière : \n",
    "        en conséquence son ventre est vide \"\"\"       \n",
    "        self.ventre = \"\"\n",
    "        print(self.nom,\"a le ventre vide\")\n",
    "    \n",
    "    def __getattribute__(self, key):\n",
    "            return print(key,\"n'est pas un attribut de la classe chat\")   \n",
    "            \n",
    "    def __repr__(self):\n",
    "            return \"Je suis une instance de la classe chat\""
   ]
  },
  {
   "cell_type": "code",
   "execution_count": 19,
   "metadata": {},
   "outputs": [
    {
     "name": "stdout",
     "output_type": "stream",
     "text": [
      "Martin\n",
      "origine n'est pas un attribut de la classe chat\n",
      "<__main__.chat object at 0x7f9dae81e278>\n",
      "Je suis une instance de la classe chat\n"
     ]
    }
   ],
   "source": [
    "# j'ai gardé l'exemple chat défini selon la classe version 4\n",
    "# Martin, le chat\n",
    "# on a vu précédemment qu'il n'avait pas d'attribut origine\n",
    "# et que cela levait une erreur AttributeError\n",
    "print(mon_chat.nom)\n",
    "\n",
    "\n",
    "# on va définir un nouveau chat avec la version 5\n",
    "# on appelle à nouveau un attribut qui n'existe pas \"origine\"\n",
    "# on a bien le message défini par la méthode spéciale _gettattribute\n",
    "\n",
    "mon_chat_nouvelle_version = chat()\n",
    "mon_chat_nouvelle_version.origine\n",
    "\n",
    "# Maintenant on a aussi une définition de l'objet plus clair\n",
    "print(mon_chat)\n",
    "print(mon_chat_nouvelle_version)"
   ]
  },
  {
   "cell_type": "markdown",
   "metadata": {},
   "source": [
    "------------------------------------------------------------------------\n",
    "\n",
    "### Conclusion sur les classes : ce qu’on retient\n",
    "\n",
    "-   Les méthodes se définissent comme des fonctions, sauf qu’elles se trouvent dans le corps de la classe.\n",
    "\n",
    "-   On définit les attributs d’une instance dans le constructeur de sa classe, en suivant cette syntaxe : self.nom_attribut = valeur.\n",
    "\n",
    "-   *facultatif* : Les méthodes d’instance prennent en premier paramètre “self”, l’instance de l’objet manipulé.\n",
    "\n",
    "-   *facultatif* : On construit une instance de classe en appelant son constructeur, une méthode d’instance appelée **init**."
   ]
  },
  {
   "cell_type": "markdown",
   "metadata": {},
   "source": [
    "***"
   ]
  },
  {
   "cell_type": "markdown",
   "metadata": {},
   "source": [
    "# TP \n",
    "\n",
    "Cette partie TP a pour but de vous familiariser avec la notion de classes, qui permet de créer ses propres objets. \n",
    "\n",
    "Pour aller plus loin dans le cours, vous pouvez vous référer au cours et au lien suivant :\n",
    "\n",
    "- [tutoriel officiel Python](https://docs.python.org/2/tutorial/classes.html#a-first-look-at-classes)\n",
    "\n",
    "<!--\n",
    "Quelques remarques :\n",
    "- une classe doit forcément contenir la fonction `__init__(self, ...)` qui sert à construire l'objet proprement dit avec des arguments donnés (les `...`),er\n",
    "- si on veut afficher cet objet, il faut rajouter la méthode `__str__(self)` qui va renvoyer une chaine de caractères représentant l'objet.\n",
    "-->"
   ]
  },
  {
   "cell_type": "markdown",
   "metadata": {},
   "source": [
    "## Polygones et cercles\n",
    "\n",
    "### Polygones\n",
    "\n",
    "Un polygone peut être représenté par une liste de points dans le plan. Pour cela, on va définir des structures (appellées classes) pour manipuler simplement des polygones. \n",
    "\n",
    "Comprenez bien comment les 2 classes `Point` et `Polygone` sont construites."
   ]
  },
  {
   "cell_type": "code",
   "execution_count": 20,
   "metadata": {},
   "outputs": [],
   "source": [
    "# Compléter au fur et à mesure des questions cette cellule...\n",
    "\n",
    "from math import *\n",
    "\n",
    "class Point():\n",
    "    def __init__(self, abscisse, ordonnee):\n",
    "        self.x, self.y = abscisse, ordonnee\n",
    "    \n",
    "    def __str__(self):\n",
    "        return \"(\" + str(self.x) + \", \" + str(self.y) + \")\"\n",
    "    \n",
    "    def egal_a(self, other):\n",
    "        if self.x == other.x and self.y == other.y:\n",
    "            return True\n",
    "        return False\n",
    "    \n",
    "#Votre code ci-dessous qui complète la classe point\n",
    "    \n",
    "    \n",
    "\n",
    "class Polygone:\n",
    "    \n",
    "    def __init__(self, points):\n",
    "        self.points = points[:]\n",
    "        self.taille = points\n",
    "    \n",
    "    def __str__(self):\n",
    "        s = \"[\"\n",
    "        for i in range(len(self.points)):\n",
    "            if i==len(self.points)-1:\n",
    "                s += str(self.points[i])\n",
    "            else:\n",
    "                s += str(self.points[i])+\", \"\n",
    "        return s +\"]\"\n",
    "    def __len__(self):\n",
    "        return len(self.taille)\n",
    "    \n",
    "    def position_sommet(p):\n",
    "        for i in range(len(self.points)):\n",
    "            if self.points[i].egal_a(p) :\n",
    "                return i\n",
    "        return\n",
    "            \n",
    "    def ajouter(self, pt):\n",
    "        if self.position_sommet(pt)==None:\n",
    "            self.points.append(pt)\n",
    "    \n",
    "    def supprimer(self, pt):\n",
    "        x = self.position_sommet(pt)\n",
    "        if x != None:\n",
    "            self.points.pop(x)\n",
    "            \n",
    "#Votre code ci-dessous qui complète la classe polygone\n",
    "   "
   ]
  },
  {
   "cell_type": "markdown",
   "metadata": {},
   "source": [
    "* Un point est défini par son abscisse `x` et son ordonnée `y`. On veut pouvoir initialiser les coordonnées d'un point, et afficher un point sous forme de chaîne de caractères. Complétez, dans la cellule ci-dessus, l'ébauche de classe `Point`, en y ajoutant une méthode `initialise(self, abscisse,   ordonnee)` ne renvoyant rien, et une méthode `vers_chaine(self)` renvoyant une chaîne de caractères. \n",
    "\n",
    "Exemple d'utilisation :"
   ]
  },
  {
   "cell_type": "code",
   "execution_count": 21,
   "metadata": {},
   "outputs": [
    {
     "name": "stdout",
     "output_type": "stream",
     "text": [
      "(0, 2)\n"
     ]
    }
   ],
   "source": [
    "pt = Point(0,2)\n",
    "print(pt)  # doit afficher (0, 2)\n"
   ]
  },
  {
   "cell_type": "markdown",
   "metadata": {},
   "source": [
    "* À votre avis, à quoi sert le mot-clé `self` ?"
   ]
  },
  {
   "cell_type": "markdown",
   "metadata": {},
   "source": [
    "self désigne l'objet sur lequel la méthode lst est appelée."
   ]
  },
  {
   "cell_type": "markdown",
   "metadata": {},
   "source": [
    "* On veut maintenant regarder si 2 points sont égaux. Pour cela, nous avons ajouter la méthode `egal_a(self, other)` qui renvoie `True` si les 2 points en arguments sont égaux, et `False` sinon.  \n",
    "Par exemple :"
   ]
  },
  {
   "cell_type": "code",
   "execution_count": 22,
   "metadata": {},
   "outputs": [
    {
     "name": "stdout",
     "output_type": "stream",
     "text": [
      "True\n",
      "False\n"
     ]
    }
   ],
   "source": [
    "pt2 = Point(0, 2)\n",
    "print(pt.egal_a(pt2))  # doit afficher True\n",
    "pt2 = Point(0, 1)\n",
    "print(pt.egal_a(pt2))  # doit afficher False"
   ]
  },
  {
   "cell_type": "markdown",
   "metadata": {},
   "source": [
    "* Ajoutez à la classe `Point` une méthode `distance(self, other)` renvoyant la distance entre les deux points. Vous pourrez utiliser la fonction `sqrt` du module `math`."
   ]
  },
  {
   "cell_type": "markdown",
   "metadata": {},
   "source": [
    "* On va maintenant compléter la classe `Polygone` ébauchée ci-dessus. Les objets de type `Polygone` seront caractérisés par une liste d'objets `Point`. Ajoutez dans la définition de la classe `Polygone` la méthode `initialise(self, points)` servant à initialiser la liste des points d'un polygone."
   ]
  },
  {
   "cell_type": "markdown",
   "metadata": {},
   "source": [
    "* Il serait utile de savoir si un `Point` fait partie des sommets d'un `Polygon`. Malheureusement, l’opérateur `in` ne fonctionnera pas directement avec notre type `Point`. Rajoutez ci-dessus une méthode `position_sommet(p)` qui renvoie la position du `Point p` dans la liste de sommets si `p` s’y trouve, et `None` sinon."
   ]
  },
  {
   "cell_type": "markdown",
   "metadata": {},
   "source": [
    "* Ajoutez à la classe `Polygone` les méthodes `ajouter(self, pt)` qui ajoute un `Point` `pt` à la liste de points s’il ne s’y trouve pas encore, et `supprimer(self, pt)` qui le supprime s’il s’y trouve. L’ajout se fait en fin de liste."
   ]
  },
  {
   "cell_type": "markdown",
   "metadata": {},
   "source": [
    "* Ajoutez à la classe `Polygon` la méthode `vers_chaine(self)` pour transformer un polygone en chaîne de caractères, par exemple comme ceci :"
   ]
  },
  {
   "cell_type": "code",
   "execution_count": 23,
   "metadata": {
    "scrolled": false
   },
   "outputs": [
    {
     "name": "stdout",
     "output_type": "stream",
     "text": [
      "[(0, 2), (0, 1), (1, 1)]\n"
     ]
    }
   ],
   "source": [
    "pt3 = Point(1, 1)\n",
    "poly = Polygone([pt, pt2, pt3])\n",
    "print(poly)  # doit afficher [(0, 2), (0, 1), (1, 1)]\n",
    "x = []"
   ]
  },
  {
   "cell_type": "markdown",
   "metadata": {},
   "source": [
    "Une manière plus experte de manipuler des objets que l'on a créés est de définir des méthodes spéciales, qui permettent d'utiliser les opérateurs et fonctions de base de Python sur ces objets. On pourrait par exemple écrire :"
   ]
  },
  {
   "cell_type": "code",
   "execution_count": 25,
   "metadata": {},
   "outputs": [
    {
     "name": "stdout",
     "output_type": "stream",
     "text": [
      "[(0, 0), (0, 1), (0, 2)] 3\n"
     ]
    }
   ],
   "source": [
    "poly = Polygone([Point(0,0), Point(0, 1), Point(0, 2)])\n",
    "print(poly, len(poly))"
   ]
  },
  {
   "cell_type": "code",
   "execution_count": 45,
   "metadata": {},
   "outputs": [
    {
     "ename": "TypeError",
     "evalue": "argument of type 'Polygone' is not iterable",
     "output_type": "error",
     "traceback": [
      "\u001b[0;31m---------------------------------------------------------------------------\u001b[0m",
      "\u001b[0;31mTypeError\u001b[0m                                 Traceback (most recent call last)",
      "\u001b[0;32m<ipython-input-45-62981db8f551>\u001b[0m in \u001b[0;36m<module>\u001b[0;34m\u001b[0m\n\u001b[0;32m----> 1\u001b[0;31m \u001b[0mprint\u001b[0m\u001b[0;34m(\u001b[0m\u001b[0mPoint\u001b[0m\u001b[0;34m(\u001b[0m\u001b[0;36m0\u001b[0m\u001b[0;34m,\u001b[0m \u001b[0;36m1\u001b[0m\u001b[0;34m)\u001b[0m \u001b[0;32min\u001b[0m \u001b[0mpoly\u001b[0m\u001b[0;34m)\u001b[0m\u001b[0;34m\u001b[0m\u001b[0;34m\u001b[0m\u001b[0m\n\u001b[0m\u001b[1;32m      2\u001b[0m \u001b[0;31m# cette instruction produit une erreur... Corriger-là.\u001b[0m\u001b[0;34m\u001b[0m\u001b[0;34m\u001b[0m\u001b[0;34m\u001b[0m\u001b[0m\n",
      "\u001b[0;31mTypeError\u001b[0m: argument of type 'Polygone' is not iterable"
     ]
    }
   ],
   "source": [
    "print(Point(0, 1) in poly) \n",
    "# cette instruction produit une erreur... Corriger-là."
   ]
  },
  {
   "cell_type": "markdown",
   "metadata": {},
   "source": [
    "* Cherchez dans la documentation officielle les méthodes spéciales qu'il est possible de redéfinir pour que ce code fonctionne, et écrivez une nouvelle version de vos classes en conséquence.\n",
    "\n",
    "  **Indication** : cherchez à quoi servent les méthodes `__init__`, `__str__`, `__len__`, etc. C'est détaillé par exemple sur [cette page](https://docs.python.org/3/reference/datamodel.html#special-method-names)."
   ]
  },
  {
   "cell_type": "markdown",
   "metadata": {},
   "source": [
    "### Cercles\n",
    "\n",
    "* Ecrivez une classe `CercleSimple` permettant de représenter un cercle sur base de son centre et de son rayon. N'oubliez pas de rajouter une méthode spéciale pour pouvoir afficher le cercle avec `print`."
   ]
  },
  {
   "cell_type": "code",
   "execution_count": 33,
   "metadata": {},
   "outputs": [],
   "source": [
    "from math import *\n",
    "\n",
    "class CercleSimple(Point):\n",
    "    def __init__(self,Point,rayon):\n",
    "        self.y = Point\n",
    "        self.x=rayon\n",
    "    \n",
    "    def __str__(self):\n",
    "        return #Code à compléter\n",
    "    \n",
    "    #Votre code ci-dessous qui complète la classe CercleSimple"
   ]
  },
  {
   "cell_type": "code",
   "execution_count": 34,
   "metadata": {},
   "outputs": [
    {
     "ename": "TypeError",
     "evalue": "__str__ returned non-string (type NoneType)",
     "output_type": "error",
     "traceback": [
      "\u001b[0;31m---------------------------------------------------------------------------\u001b[0m",
      "\u001b[0;31mTypeError\u001b[0m                                 Traceback (most recent call last)",
      "\u001b[0;32m<ipython-input-34-a6ffa8edd8b7>\u001b[0m in \u001b[0;36m<module>\u001b[0;34m\u001b[0m\n\u001b[1;32m      1\u001b[0m \u001b[0mC\u001b[0m \u001b[0;34m=\u001b[0m \u001b[0mCercleSimple\u001b[0m\u001b[0;34m(\u001b[0m\u001b[0mPoint\u001b[0m\u001b[0;34m(\u001b[0m\u001b[0;36m0\u001b[0m\u001b[0;34m,\u001b[0m\u001b[0;36m1\u001b[0m\u001b[0;34m)\u001b[0m\u001b[0;34m,\u001b[0m \u001b[0;36m2\u001b[0m\u001b[0;34m)\u001b[0m\u001b[0;34m\u001b[0m\u001b[0;34m\u001b[0m\u001b[0m\n\u001b[0;32m----> 2\u001b[0;31m \u001b[0mprint\u001b[0m\u001b[0;34m(\u001b[0m\u001b[0mC\u001b[0m\u001b[0;34m)\u001b[0m  \u001b[0;31m# doit afficher par exemple : \"cercle de centre (0,2) et de rayon 2\"\u001b[0m\u001b[0;34m\u001b[0m\u001b[0;34m\u001b[0m\u001b[0m\n\u001b[0m",
      "\u001b[0;31mTypeError\u001b[0m: __str__ returned non-string (type NoneType)"
     ]
    }
   ],
   "source": [
    "C = CercleSimple(Point(0,1), 2)\n",
    "print(C)  # doit afficher par exemple : \"cercle de centre (0,2) et de rayon 2\""
   ]
  },
  {
   "cell_type": "markdown",
   "metadata": {},
   "source": [
    "* Rajoutez les méthodes `aire(self)` et `perimetre(self)`, qui renverront les valeurs correspondantes (vous pouvez utiliser la constante `pi` du module `math`)."
   ]
  },
  {
   "cell_type": "markdown",
   "metadata": {},
   "source": [
    "## Détection de collisions\n",
    "\n",
    "On va maintenant raisonner en terme de collisions, comme dans un jeu vidéo.  \n",
    "Notre univers sera simplement composé de cercles et de rectangles. "
   ]
  },
  {
   "cell_type": "markdown",
   "metadata": {},
   "source": [
    "### Affichage à l'écran : cercles\n",
    "\n",
    "En guise d'échauffement, affichons à l'écran des cercles. Pour cela, on va utiliser le paquet `matplotlib` qui contient sa propre définition d'un cercle et d'un rectangle. Nous allons \"coller\" par-dessous notre définition précédente.\n",
    "\n",
    "On va ici visualiser des cercles et des rectangles à l'aide de l'outil `matplotlib`. On vous fournit le code ci-dessous, redéfinissant la classe `Cercle`. \n",
    "\n",
    "**Remarque :** Ce code utilise le mécanisme d'héritage. Sa compréhension en détail n'est pas exigible dans ce cours."
   ]
  },
  {
   "cell_type": "markdown",
   "metadata": {},
   "source": [
    "* Avec cette classe `Cercle`, affichez 2 cercles dans le code ci-dessous en plus du cercle bleu :\n",
    "  - un cercle en vert qui n'est pas en collision avec le cercle bleu,\n",
    "  - un cercle en rouge qui est en collision avec le cercle bleu."
   ]
  },
  {
   "cell_type": "code",
   "execution_count": 41,
   "metadata": {},
   "outputs": [
    {
     "data": {
      "image/png": "[encoded data removed]",
      "text/plain": [
       "<Figure size 432x288 with 1 Axes>"
      ]
     },
     "metadata": {
      "needs_background": "light"
     },
     "output_type": "display_data"
    }
   ],
   "source": [
    "import matplotlib.pyplot as plt\n",
    "import matplotlib.patches as patches\n",
    "\n",
    "class Point:\n",
    "    def __init__(self, x, y):\n",
    "        self.x = x\n",
    "        self.y = y\n",
    "\n",
    "class Cercle(patches.Circle):\n",
    "    def __init__(self, centre, rayon, **kwargs):\n",
    "        super().__init__((centre.x, centre.y), rayon, **kwargs)\n",
    "        self.centre = centre\n",
    "        self.rayon = rayon\n",
    "        \n",
    "    def collision(self, autre_cercle):\n",
    "        distance_entre_centres = ((self.centre.x - autre_cercle.centre.x) ** 2 +\n",
    "                                  (self.centre.y - autre_cercle.centre.y) ** 2) ** 0.5\n",
    "        distance_entre_rayons = self.rayon + autre_cercle.rayon\n",
    "        \n",
    "        return distance_entre_centres <= distance_entre_rayons\n",
    "\n",
    "fig = plt.figure()\n",
    "ax = fig.add_subplot(111, aspect='equal')\n",
    "ax.set_xlim([0, 10])\n",
    "ax.set_ylim([0, 10])\n",
    "\n",
    "cercles = [\n",
    "    Cercle(Point(3, 3), 3, color=\"blue\")\n",
    "    # Ajoutez d'autres cercles ici ! penser à la virgule dans la liste ...\n",
    "]\n",
    "\n",
    "for c in cercles:\n",
    "    ax.add_patch(c)\n",
    "\n",
    "plt.show()\n"
   ]
  },
  {
   "cell_type": "markdown",
   "metadata": {},
   "source": [
    "### Collisions entre cercles\n",
    "\n",
    "* Rajoutez dans la classe `Cercle` une fonction qui indique si un cercle est en collision avec un autre (souvenez-vous que vous avez déjà programmé le calcul de la distance entre deux objets `Point` !).\n",
    "\n",
    "  Testez la fonction avec les 3 cercles de la question précédente."
   ]
  },
  {
   "cell_type": "code",
   "execution_count": null,
   "metadata": {},
   "outputs": [],
   "source": [
    "assert(cercles[0].collision(cercles[1])) == False\n",
    "assert(cercles[0].collision(cercles[2]))== True"
   ]
  },
  {
   "cell_type": "markdown",
   "metadata": {},
   "source": [
    "### Affichage : rectangles\n",
    "\n",
    "On va cette fois-ci afficher un rectangle. Un rectangle est défini par un `Point` (sommet haut-gauche), une largeur et une hauteur. \n",
    "\n",
    "On vous fournit le code suivant. Comme précédemment, la compréhension détaillée de la méthode `__init__` n'est pas exigée."
   ]
  },
  {
   "cell_type": "code",
   "execution_count": 42,
   "metadata": {},
   "outputs": [],
   "source": [
    "import matplotlib.patches as patches\n",
    "class Rectangle(patches.Rectangle):\n",
    "    def __init__(self, coin, largeur, hauteur, **kwargs):\n",
    "        patches.Rectangle.__init__(self, (coin.x, coin.y), largeur, hauteur, **kwargs)\n",
    "        self.coin = coin\n",
    "        self.largeur = largeur\n",
    "        self.hauteur = hauteur\n",
    "        \n",
    "    def collision(self, rect):\n",
    "        \"\"\" À compléter plus tard.\"\"\""
   ]
  },
  {
   "cell_type": "markdown",
   "metadata": {},
   "source": [
    "* Comme précédemment, affichez 2 autres rectangles :\n",
    "  - un vert n'étant pas en collision avec le rectangle bleu,\n",
    "  - un rouge en collision avec le rectangle bleu."
   ]
  },
  {
   "cell_type": "code",
   "execution_count": 43,
   "metadata": {},
   "outputs": [
    {
     "data": {
      "image/png": "[encoded data removed]",
      "text/plain": [
       "<Figure size 432x288 with 1 Axes>"
      ]
     },
     "metadata": {
      "needs_background": "light"
     },
     "output_type": "display_data"
    }
   ],
   "source": [
    "fig = plt.figure()\n",
    "\n",
    "ax = fig.add_subplot(111, aspect='equal')\n",
    "ax.set_xlim([0,10])\n",
    "ax.set_ylim([0,10])\n",
    "\n",
    "rects = [\n",
    "    Rectangle(Point(3, 1), 5, 2, color=\"blue\")\n",
    "]\n",
    "\n",
    "for r in rects:\n",
    "    ax.add_patch(r)"
   ]
  },
  {
   "cell_type": "markdown",
   "metadata": {},
   "source": [
    "* Ajoutez une méthode `collision` à la classe `Rectangle` qui renvoie `True` si le rectangle considéré est en collision avec le second `Rectangle`. Cette fois-ci, vous n'avez pas besoin d'utiliser la méthode donnant la distance entre deux objets `Point`."
   ]
  },
  {
   "cell_type": "code",
   "execution_count": null,
   "metadata": {},
   "outputs": [],
   "source": [
    "assert(rects[0].collision(rects[1])) == False\n",
    "assert(rects[0].collision(rects[2]))== True"
   ]
  },
  {
   "cell_type": "markdown",
   "metadata": {},
   "source": [
    "## En guise de conclusion\n",
    "\n",
    "Vous avez vu une première approche pour détecter des collisions : entre 2 cercles, entre 2 rectangles. Cependant, dans la plupart des jeux vidéos, on ne manipule pas des rectangles ou des cercles mais des personnages complexes. \n",
    "\n",
    "À votre avis, comment peut-on réutiliser les résultats du TP pour savoir si un personnage rentre dans un obstacle ?"
   ]
  },
  {
   "cell_type": "code",
   "execution_count": null,
   "metadata": {},
   "outputs": [],
   "source": []
  }
 ],
 "metadata": {
  "kernelspec": {
   "display_name": "Python 3",
   "language": "python",
   "name": "python3"
  },
  "language_info": {
   "codemirror_mode": {
    "name": "ipython",
    "version": 3
   },
   "file_extension": ".py",
   "mimetype": "text/x-python",
   "name": "python",
   "nbconvert_exporter": "python",
   "pygments_lexer": "ipython3",
   "version": "3.7.3"
  }
 },
 "nbformat": 4,
 "nbformat_minor": 1
}
