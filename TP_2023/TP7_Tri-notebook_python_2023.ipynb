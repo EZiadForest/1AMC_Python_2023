{
 "cells": [
  {
   "cell_type": "markdown",
   "metadata": {},
   "source": [
    "![](fig/logoENSI.png)\n",
    " ![](fig/logoPython.png)\n",
    "***\n",
    "# TP7\n",
    "Compte-rendu de \n",
    "\n",
    "# Les tris\n",
    "***\n",
    "**ENSICAEN  1A MC** \n",
    " 2023-2024\n",
    "\n",
    "## Eric Ziad-Forest\n",
    "***\n",
    "\n",
    "**Auteur :**\n",
    "\n",
    "- Eric Ziad-Forest [ziad@ensicaen.fr]\n",
    "- Christine Porquet [chris@ensicaen.fr]\n",
    "***\n",
    "*Contenu sous licence [CC BY-SA 4.0](https://creativecommons.org/licenses/by-sa/4.0)*"
   ]
  },
  {
   "cell_type": "markdown",
   "metadata": {},
   "source": [
    "# Préliminaires"
   ]
  },
  {
   "cell_type": "markdown",
   "metadata": {},
   "source": [
    "L'art de l'algorithmique consiste à trouver les algorithmes les plus performants. En général il s'agit des plus rapides, mais cela peut aussi être les moins gourmands en mémoire ou ceux qui se parallélisent le mieux. On peut aussi se focaliser sur le comportement moyen de l'algorithme ou son comportement dans le pire des cas."
   ]
  },
  {
   "cell_type": "markdown",
   "metadata": {},
   "source": [
    "Nous aurons besoin dans cette première partie d'une fonction donnant des nombres aléatoires c'est la fonction `randrange()` (ou son alias `randint()` ) de la bibliothèque `random`, elle renvoie un nombre entier aléatoire entre 0 et N.\n",
    "        \n",
    "https://docs.python.org/fr/3/library/random.html"
   ]
  },
  {
   "cell_type": "markdown",
   "metadata": {},
   "source": [
    "#### Documentation\n",
    "Plus généralement une documentation Python est accessible à\n",
    "    https://docs.python.org/fr/3/ ,\n",
    "    ou encore le tutoriel à https://docs.python.org/fr/3/tutorial/index.html"
   ]
  },
  {
   "cell_type": "code",
   "execution_count": 110,
   "metadata": {},
   "outputs": [],
   "source": [
    "# importation de bibliothèques\n",
    "import numpy as np\n",
    "# la fonction de tri sort est définie dans la bibliothèque numpy\n",
    "from numpy import sort  "
   ]
  },
  {
   "cell_type": "code",
   "execution_count": 111,
   "metadata": {},
   "outputs": [
    {
     "name": "stdout",
     "output_type": "stream",
     "text": [
      "[3, 3, 4, 7, 5, 2, 0, 5, 2, 0]\n",
      "[0 0 2 2 3 3 4 5 5 7]\n"
     ]
    }
   ],
   "source": [
    "import random as rnd\n",
    "N = 10\n",
    "donnees = [rnd.randrange(N) for i in range(N)] \n",
    "# notez la facon d'utiliser la boucle for dans la liste\n",
    "print(donnees)\n",
    "print(sort(donnees)) # pas besoin de np.sort car: from numpy import sort"
   ]
  },
  {
   "cell_type": "markdown",
   "metadata": {},
   "source": [
    "Notez que le résultat n'est pas une liste mais un tableau de Numpy. Cela est dû au fait que la fonction `sort` utilisée vient de la bibliothèque Numpy."
   ]
  },
  {
   "cell_type": "code",
   "execution_count": 112,
   "metadata": {},
   "outputs": [
    {
     "data": {
      "text/plain": [
       "numpy.ndarray"
      ]
     },
     "execution_count": 112,
     "metadata": {},
     "output_type": "execute_result"
    }
   ],
   "source": [
    "type(sort(donnees))"
   ]
  },
  {
   "cell_type": "markdown",
   "metadata": {},
   "source": [
    "> Comme, nous aurons besoin par la suite de la liste `donnees` avec d'autres valeurs de N,\n",
    "faite en une fonction de N"
   ]
  },
  {
   "cell_type": "code",
   "execution_count": null,
   "metadata": {},
   "outputs": [],
   "source": []
  },
  {
   "cell_type": "markdown",
   "metadata": {},
   "source": [
    "# Les Tris"
   ]
  },
  {
   "cell_type": "markdown",
   "metadata": {},
   "source": [
    "## Tri à bulle"
   ]
  },
  {
   "cell_type": "markdown",
   "metadata": {},
   "source": [
    "Le pseudo-code suivant est repris du livre de: *Knuth*.\n",
    "\n",
    "`tri_bulles(Tableau T)                 \n",
    "   pour i allant de (taille de T)-1 à 1\n",
    "       pour j allant de 0 à i-1      \n",
    "           si T[j+1] < T[j]            \n",
    "               échanger(T[j+1], T[j])     `\n"
   ]
  },
  {
   "cell_type": "markdown",
   "metadata": {},
   "source": [
    "1/  Comment echanger rapidement en `Python` les variables x et y?"
   ]
  },
  {
   "cell_type": "code",
   "execution_count": null,
   "metadata": {},
   "outputs": [],
   "source": []
  },
  {
   "cell_type": "markdown",
   "metadata": {},
   "source": [
    "2/ Implémenter en Python l'algorithme ci-dessus:"
   ]
  },
  {
   "cell_type": "code",
   "execution_count": null,
   "metadata": {},
   "outputs": [],
   "source": []
  },
  {
   "cell_type": "markdown",
   "metadata": {},
   "source": [
    "Une optimisation courante de ce tri consiste à l'interrompre dès qu'un parcours des éléments possiblement encore en désordre (boucle interne) est effectué sans échange. En effet, cela signifie que tout le tableau est trié. Cette optimisation nécessite une variable supplémentaire.\n",
    "\n",
    "`tri_bulles_optim(Tableau T)             \n",
    "    pour i allant de (taille de T)-1 à 1\n",
    "        tableau_trié := vrai            \n",
    "        pour j allant de 0 à i-1      \n",
    "            si T[j+1] < T[j]            \n",
    "                échanger(T[j+1], T[j])  \n",
    "                tableau_trié := faux    \n",
    "        si tableau_trié                 \n",
    "            fin tri_à_bulles_optimisé   `\n",
    "\n",
    "3/ Implémenter en Python, ce nouvel algorithme plus performant:"
   ]
  },
  {
   "cell_type": "code",
   "execution_count": 13,
   "metadata": {},
   "outputs": [],
   "source": [
    "def tri_bulles_optim(T):\n",
    "    n = len(T)\n",
    "    for i in range(n - 1, 0, -1):  # Correction de la boucle externe\n",
    "        tableau_trié = True\n",
    "        for j in range(i):\n",
    "            if T[j + 1] < T[j]:\n",
    "                T[j + 1], T[j] = T[j], T[j + 1]\n",
    "                tableau_trié = False\n",
    "        if tableau_trié:\n",
    "            return T # Fin du tri si le tableau est déjà trié\n",
    "    return T"
   ]
  },
  {
   "cell_type": "markdown",
   "metadata": {},
   "source": [
    "4/ Lancer les 2 algorithmes précédents avec pour tableau T, la liste `donnees`  avec N = 1000"
   ]
  },
  {
   "cell_type": "code",
   "execution_count": 14,
   "metadata": {},
   "outputs": [],
   "source": [
    "T=tri_bulles_optim([1,4,2])"
   ]
  },
  {
   "cell_type": "code",
   "execution_count": 15,
   "metadata": {},
   "outputs": [
    {
     "name": "stdout",
     "output_type": "stream",
     "text": [
      "[1, 2, 4]\n"
     ]
    }
   ],
   "source": [
    "print(T)"
   ]
  },
  {
   "cell_type": "markdown",
   "metadata": {},
   "source": [
    "## Temps d'execution"
   ]
  },
  {
   "cell_type": "code",
   "execution_count": null,
   "metadata": {},
   "outputs": [],
   "source": []
  },
  {
   "cell_type": "markdown",
   "metadata": {},
   "source": [
    "Pour vérifier, la rapidité d'execution, nous allons chronométrer vos programmes avec la fonction `time()` de la bibliothèque `time` de Python.\n",
    "\n",
    "Exemple d'utilisation"
   ]
  },
  {
   "cell_type": "code",
   "execution_count": 1,
   "metadata": {},
   "outputs": [],
   "source": [
    "def f():\n",
    "    res = 0\n",
    "    for i in range(10000):\n",
    "        res += i**3.4"
   ]
  },
  {
   "cell_type": "code",
   "execution_count": 2,
   "metadata": {},
   "outputs": [
    {
     "data": {
      "text/plain": [
       "0.0015549659729003906"
      ]
     },
     "execution_count": 2,
     "metadata": {},
     "output_type": "execute_result"
    }
   ],
   "source": [
    "import time \n",
    "start = time.time()# début du chrono\n",
    "f()\n",
    "end = time.time() # fin du chrono  \n",
    "end - start # temps réaliser"
   ]
  },
  {
   "cell_type": "markdown",
   "metadata": {},
   "source": [
    "Mais il est plus simple et plus précis d'utiliser la commande magique `%timeit` d'iPython :"
   ]
  },
  {
   "cell_type": "code",
   "execution_count": 3,
   "metadata": {},
   "outputs": [
    {
     "name": "stdout",
     "output_type": "stream",
     "text": [
      "1.27 ms ± 15.1 µs per loop (mean ± std. dev. of 7 runs, 1000 loops each)\n"
     ]
    }
   ],
   "source": [
    "%timeit f()# Patience, attendre quelques secondes..."
   ]
  },
  {
   "cell_type": "markdown",
   "metadata": {},
   "source": [
    "Vos remarques:\n",
    "    "
   ]
  },
  {
   "cell_type": "markdown",
   "metadata": {},
   "source": [
    "5/ Comparer la rapidité des 2 tris bulles précédents"
   ]
  },
  {
   "cell_type": "markdown",
   "metadata": {},
   "source": [
    "## Tri rapide (Quicksort)"
   ]
  },
  {
   "cell_type": "markdown",
   "metadata": {},
   "source": [
    "Référence pour la définition: http://fr.wikipedia.org/wiki/Quicksort"
   ]
  },
  {
   "cell_type": "code",
   "execution_count": null,
   "metadata": {},
   "outputs": [],
   "source": [
    "def trirapide(L):\n",
    "    \"\"\"trirapide(L): tri rapide (quicksort) de la liste L\"\"\"\n",
    "    def trirap(L, g, d):\n",
    "        \n",
    "        pivot = L[(g + d) // 2]\n",
    "        i = g\n",
    "        j = d\n",
    "        while True:\n",
    "            while L[i] < pivot:\n",
    "                i += 1\n",
    "            while L[j] > pivot:\n",
    "                j -= 1\n",
    "            if i >= j:\n",
    "                break\n",
    "            L[i], L[j] = L[j], L[i]\n",
    "            i += 1\n",
    "            j -= 1\n",
    "        if g < j:\n",
    "            trirap(L, g, j)\n",
    "        if i < d:\n",
    "            trirap(L, i, d)\n",
    "\n",
    "    g = 0\n",
    "    d = len(L) - 1\n",
    "    trirap(L, g, d)\n",
    "    return L  # Return liste triée\n",
    "\n",
    "# Example usage:\n",
    "unsorted_list = [3, 6, 8, 10, 1, 2, 1]\n",
    "sorted_list = trirapide(unsorted_list)\n",
    "print(\"Sorted List:\", sorted_list)\n"
   ]
  },
  {
   "cell_type": "code",
   "execution_count": 17,
   "metadata": {},
   "outputs": [
    {
     "name": "stdout",
     "output_type": "stream",
     "text": [
      "Sorted List: [1, 1, 2, 3, 6, 8, 10]\n"
     ]
    }
   ],
   "source": [
    "def trirapide(L):\n",
    "    \"\"\"trirapide(L): tri rapide (quicksort) de la liste L\"\"\"\n",
    "    def trirap(L, g, d):\n",
    "        if g < d:\n",
    "            pivot = L[(g + d) // 2]\n",
    "            i, j = g, d\n",
    "            while True:\n",
    "                while L[i] < pivot:\n",
    "                    i += 1\n",
    "                while L[j] > pivot:\n",
    "                    j -= 1\n",
    "                if i >= j:\n",
    "                    break\n",
    "                L[i], L[j] = L[j], L[i]\n",
    "                i += 1\n",
    "                j -= 1\n",
    "            trirap(L, g, j)\n",
    "            trirap(L, j + 1, d)\n",
    "\n",
    "    # Créer une copie de la liste pour ne pas modifier l'originale\n",
    "    copied_list = list(L)\n",
    "    trirap(copied_list, 0, len(copied_list) - 1)\n",
    "    return copied_list  # Retourne une nouvelle liste triée\n",
    "\n",
    "# Example usage:\n",
    "unsorted_list = [3, 6, 8, 10, 1, 2, 1]\n",
    "sorted_list = trirapide(unsorted_list)\n",
    "print(\"Sorted List:\", sorted_list)"
   ]
  },
  {
   "cell_type": "markdown",
   "metadata": {},
   "source": [
    "6/ Expliquer comment fonctionne ce tri."
   ]
  },
  {
   "cell_type": "code",
   "execution_count": null,
   "metadata": {},
   "outputs": [],
   "source": []
  },
  {
   "cell_type": "markdown",
   "metadata": {},
   "source": [
    "7/ Quel est le temps d'execution de ce tri rapide  avec le tableau `donnees` (vu au début de ce TP) et avec toujours N = 1000. "
   ]
  },
  {
   "cell_type": "markdown",
   "metadata": {},
   "source": [
    "8/ Qu'en déduisez-vous?"
   ]
  },
  {
   "cell_type": "markdown",
   "metadata": {},
   "source": [
    "## Comparaison graphique d'algorithme de tri"
   ]
  },
  {
   "cell_type": "markdown",
   "metadata": {},
   "source": [
    "On va chercher à mesurer les performances sur un même jeu de valeurs de ces différents algorithmes.\n",
    "\n",
    "Ecrire un programme qui :\n",
    "    - Initialise trois tableaux identiques de  N valeurs obtenues à l'aide des fonctions de la bibliothèque random;\n",
    "    - Triez chacun des tableaux avec chaque algorithme implémenté ci-dessus ;\n",
    "    - Mesurez le temps d'exécution de chacun de ces algorithmes à l'aide de time(). \n",
    "    - Effectue également ces mesures de durée de calcul pour des tableaux dont les éléments se présentent dans l'ordre exactement inverse à l'ordre voulu.(notion de pire cas)\n",
    "Vous réaliserez les mesures avec N = 10, 100, 1000, 10000, 100000 , (10**6 si vous avez un peu de temps...) \n",
    "\n",
    "A partir des résultats produits vous réalisez des tracés sous forme de graphiques avec l'aide de `mathplotlib`\n",
    "afin d’illustrer les complexités de ces différents algorithmes pour les deux types d’organisation (ordre aléatoire, ordre inverse) des valeurs dans ces tableaux.  \n",
    "\n",
    "Les courbes produites devront être présentes dans le compte-rendu avec les valeurs ayant servies à la réalisation des tracés."
   ]
  },
  {
   "cell_type": "markdown",
   "metadata": {},
   "source": [
    "### Quelques révision sur `matplotlib`"
   ]
  },
  {
   "cell_type": "markdown",
   "metadata": {},
   "source": [
    "Vous pouvezconsulter: https://www.courspython.com/introduction-courbes.html"
   ]
  },
  {
   "cell_type": "code",
   "execution_count": null,
   "metadata": {},
   "outputs": [],
   "source": [
    "# 1ère posibilité\n",
    "# import pylab \n",
    "# La syntaxe « PyLab » est proche de celle du logiciel Matlab"
   ]
  },
  {
   "cell_type": "code",
   "execution_count": 4,
   "metadata": {},
   "outputs": [],
   "source": [
    "# 2d possibilité\n",
    "# Classique avec matplotlib\n",
    "import numpy\n",
    "import matplotlib.pyplot as plt\n",
    "\n",
    "# Décocher le # de ce que vous souhaitez ci-dessous\n",
    "\n",
    "# Pour voir les figures dans le notebook\n",
    "#%matplotlib inline\n",
    "\n",
    "# En revanche, pour voir les graphiques dans une fenêtre externe\n",
    "#%matplotlib notebook"
   ]
  },
  {
   "cell_type": "markdown",
   "metadata": {},
   "source": [
    "### Exemple d'utilisation de `matplotlib`"
   ]
  },
  {
   "cell_type": "code",
   "execution_count": 5,
   "metadata": {},
   "outputs": [],
   "source": [
    "# une fonction quelconque pour illustrer l'utilisation de matplotlib\n",
    "def f2(x,N):\n",
    "    res = 0\n",
    "    for i in range(N):\n",
    "        res += 1/x**2\n",
    "    return res\n",
    "\n",
    "# Valeurs pour les axes des abscisses\n",
    "X=numpy.linspace(2,12,100)\n",
    "X_2=[i for i in range(2,12)]\n",
    "# les images Y et Y_2 par la fonction f2 des valeurs sur les axes des abscisses X et X_2\n",
    "Y=[f2(x,50) for x in X]\n",
    "Y_2=[f2(x,50) for x in X_2]"
   ]
  },
  {
   "cell_type": "code",
   "execution_count": 6,
   "metadata": {},
   "outputs": [
    {
     "data": {
      "text/plain": [
       "(numpy.ndarray, list)"
      ]
     },
     "execution_count": 6,
     "metadata": {},
     "output_type": "execute_result"
    }
   ],
   "source": [
    "type(X),type(Y) #remarquer la différence de type"
   ]
  },
  {
   "cell_type": "code",
   "execution_count": 7,
   "metadata": {},
   "outputs": [
    {
     "data": {
      "image/png": "[encoded data removed]",
      "text/plain": [
       "<Figure size 432x288 with 1 Axes>"
      ]
     },
     "metadata": {
      "needs_background": "light"
     },
     "output_type": "display_data"
    }
   ],
   "source": [
    "# Titre du graphique\n",
    "plt.title('Matplotlib Exemple fonction f2')\n",
    "\n",
    "# pour donner des nom aux axes\n",
    "plt.xlabel('x axe des abscisses', fontsize=12)\n",
    "plt.ylabel('y axe des abscisses', fontsize=12)\n",
    "\n",
    "# limite pour les axes\n",
    "plt.xlim(-5.0, 20.0)\n",
    "plt.ylim(0.0, 15.0)\n",
    "\n",
    "# tracer des 2 courbes avec nom pour la legende\n",
    "plt.plot(X, Y, '-b', label='f2(X)')\n",
    "plt.plot(X_2, Y_2, 'or', label='f2(X_2)')\n",
    "\n",
    "# legende\n",
    "plt.legend(loc='upper left')\n",
    "\n",
    "# Taille du graphique\n",
    "plt.figure(1, figsize=(50,25))\n",
    "\n",
    "# sauvegarde dans votre dossier de travail\n",
    "plt.savefig('Exemple_f2.png', bbox_inches='tight')"
   ]
  },
  {
   "cell_type": "markdown",
   "metadata": {},
   "source": [
    "Pour en savoir plus sur les \"marker\" et les couleurs\n",
    "https://www.courspython.com/introduction-courbes.html#symbole-marker\n",
    "et les couleurs\n",
    "https://www.courspython.com/introduction-courbes.html#couleur\n",
    "\n",
    "Ou enfin voir page 4 de la fiche *memento_python_3* sur moodle"
   ]
  },
  {
   "cell_type": "code",
   "execution_count": 8,
   "metadata": {},
   "outputs": [
    {
     "data": {
      "image/png": "[encoded data removed]",
      "text/plain": [
       "<Figure size 216x144 with 1 Axes>"
      ]
     },
     "metadata": {
      "needs_background": "light"
     },
     "output_type": "display_data"
    }
   ],
   "source": [
    "# Vous pourriez avoir bien besoin des 2 instructions suivantes:\n",
    "# Changement de la taille du graphique\n",
    "plt.figure(1, figsize=(3,2))\n",
    "# Les limites de l'axe des abscices\n",
    "plt.xlim(10.0,10.0**5)\n",
    "# Echelle logarithmique\n",
    "plt.xscale('log')"
   ]
  },
  {
   "cell_type": "markdown",
   "metadata": {},
   "source": [
    "### Votre travail afin de comparer les différents algorithme de tris"
   ]
  },
  {
   "cell_type": "code",
   "execution_count": null,
   "metadata": {},
   "outputs": [],
   "source": []
  },
  {
   "cell_type": "markdown",
   "metadata": {},
   "source": [
    "## Implémentation de quelques autres algorithmes de tris.  "
   ]
  },
  {
   "cell_type": "markdown",
   "metadata": {},
   "source": [
    "### Tri par sélection "
   ]
  },
  {
   "cell_type": "markdown",
   "metadata": {},
   "source": [
    " **Algorithme** \n",
    "``` algo\n",
    "procédure tri_selection(tableau t)\n",
    "      n ← longueur(t) \n",
    "      pour i de 0 à n - 2\n",
    "          min ← i       \n",
    "          pour j de i + 1 à n - 1\n",
    "              si t[j] < t[min], alors min ← j\n",
    "          fin pour\n",
    "          si min ≠ i, alors échanger t[i] et t[min]\n",
    "      fin pour\n",
    "fin procédure\n",
    "```                                     "
   ]
  },
  {
   "cell_type": "markdown",
   "metadata": {},
   "source": [
    "9/ Ecrire une fonction pour cet algorithme de tri"
   ]
  },
  {
   "cell_type": "code",
   "execution_count": null,
   "metadata": {},
   "outputs": [],
   "source": [
    "def tri_selection(t):\n",
    "    n = len(t)\n",
    "    for i in range(n - 1):\n",
    "        min_index = i\n",
    "        for j in range(i + 1, n):\n",
    "            if t[j] < t[min_index]:\n",
    "                min_index = j\n",
    "        if min_index != i:\n",
    "            t[i], t[min_index] = t[min_index], t[i]\n",
    "\n",
    "# Exemple d'utilisation :\n",
    "tableau = [64, 25, 12, 22, 11]\n",
    "tri_selection(tableau)\n",
    "print(\"Tableau trié :\", tableau)\n"
   ]
  },
  {
   "cell_type": "markdown",
   "metadata": {},
   "source": [
    "### Tri par insertion"
   ]
  },
  {
   "cell_type": "markdown",
   "metadata": {},
   "source": [
    "*Ici une autre manière d’écrire un  Algorithme*\n",
    "\n",
    "```\n",
    "procédure tri_insertion(tableau T, entier n)\n",
    "      pour i de 1 à n - 1\n",
    "          \t #mémoriser la valeur de T[i]\n",
    "          x ← T[i]\n",
    "          \t #déplacer d'un cran  vers la droite les éléments de \n",
    "\t\t\t #T[0]..T[i-1] qui sont plus grands que lui en partant de T[i-1]\n",
    "          j ← i\n",
    "          tant que j > 0 et T[j - 1] > x\n",
    "              T[j] ← T[j - 1]\n",
    "              j ← j - 1\n",
    "          fin tant que\n",
    "          \t # mettre la valeur dans le \"trou\" que ça a laissé\n",
    "          T[j] ← x\n",
    "     fin pour\n",
    "  fin procédure\n",
    " ```"
   ]
  },
  {
   "cell_type": "markdown",
   "metadata": {},
   "source": [
    "10/ Ecrire une fonction pour cet algorithme de tri"
   ]
  },
  {
   "cell_type": "code",
   "execution_count": null,
   "metadata": {},
   "outputs": [],
   "source": []
  },
  {
   "cell_type": "markdown",
   "metadata": {},
   "source": [
    "12/ Faire de nouveau une comparaison graphique, avec désormais tous les tris vu ci-dessus.\n",
    "*avec des listes d'entiers de tailles N = 10, 100, 1000, 10000, 100000*"
   ]
  },
  {
   "cell_type": "markdown",
   "metadata": {},
   "source": [
    "\n"
   ]
  }
 ],
 "metadata": {
  "kernelspec": {
   "display_name": "Python 3",
   "language": "python",
   "name": "python3"
  },
  "language_info": {
   "codemirror_mode": {
    "name": "ipython",
    "version": 3
   },
   "file_extension": ".py",
   "mimetype": "text/x-python",
   "name": "python",
   "nbconvert_exporter": "python",
   "pygments_lexer": "ipython3",
   "version": "3.7.3"
  }
 },
 "nbformat": 4,
 "nbformat_minor": 2
}
