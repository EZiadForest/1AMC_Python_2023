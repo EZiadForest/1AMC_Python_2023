{
 "cells": [
  {
   "cell_type": "markdown",
   "metadata": {},
   "source": [
    "![](fig/logoENSI.png)\n",
    " ![](fig/logoPython.png)\n",
    "***\n",
    "# TP5bis\n",
    "Compte-rendu de \n",
    "\n",
    "# Chaînes de caractères, erreurs, fichiers, dictionnaires\n",
    "***\n",
    "**ENSICAEN  1A MC**  2023\n",
    "\n",
    "## Eric Ziad-Forest\n",
    "***\n",
    "\n",
    "**Auteur :**\n",
    "\n",
    "- Eric Ziad-Forest [ziad@ensicaen.fr]\n",
    "***\n",
    "*Contenu sous licence [CC BY-SA 4.0](https://creativecommons.org/licenses/by-sa/4.0)*"
   ]
  },
  {
   "cell_type": "markdown",
   "metadata": {},
   "source": [
    "### Enseignants des groupes de TD/TP\n",
    "- Groupe 1: Oumaima Assou [oumaima.assou231@ensicaen.fr] Philippe Lefebvre [lefebvre@ensicaen.fr]\n",
    "- Groupe 2: Julien Rabin [julien.rabin@ensicaen.fr]\n",
    "- Groupe 3: Julien Rabin [julien.rabin@ensicaen.fr]\n",
    "- Groupe 4: Eric Ziad-Forest [ziad@ensicaen.fr]\n",
    "\n",
    "***"
   ]
  },
  {
   "cell_type": "markdown",
   "metadata": {},
   "source": [
    "## Objectifs\n",
    "- Devenir un datascientiste (Débutant)  \n",
    "***Suite de la partie 3 du TP5 pour les plus avancés uniquement ...***"
   ]
  },
  {
   "cell_type": "markdown",
   "metadata": {},
   "source": [
    "# Python Tutor"
   ]
  },
  {
   "cell_type": "markdown",
   "metadata": {},
   "source": [
    "Si vous souhaitez \"voir\" votre code \"tourner\" n'oubliez pas d'utiliser le lien suivant...\n",
    "\n",
    "<a href=\"http://pythontutor.com/visualize.html#mode=edit\" target=\"_blank\">Python tutor</a>"
   ]
  },
  {
   "cell_type": "markdown",
   "metadata": {
    "deletable": false,
    "dicho": {
     "celltype": "normal",
     "readonly": false
    }
   },
   "source": [
    "PARTIE I\n",
    "======="
   ]
  },
  {
   "cell_type": "markdown",
   "metadata": {},
   "source": []
  },
  {
   "cell_type": "markdown",
   "metadata": {},
   "source": [
    "La formule de la haversine permet de calculer la distance en \"ligne droite\" ([distance orthodromique](https://fr.wikipedia.org/wiki/Orthodromie)) entre deux points sur une sphère à partir de leurs coordonnées de latitude et de longitude. On l'obtient entre autre par la formule mathématique de la [haversine](https://fr.wikipedia.org/wiki/Formule_de_haversine) :\n",
    "\n",
    "Soient ${(lat_1,lon_1)}$ et $(lat_2,lon_2)$ les paires de latitude et longitude des deux points respectivement, exprimées en radians.\n",
    "\n",
    "La formule de la haversine pour calculer la distance **d** entre deux points sur une sphère de rayon **r** est donnée par :\n",
    "\n",
    "$$d=2 r \\times \\arcsin \\left(\\sqrt{\\sin ^2\\left(\\frac{\\text { lat }_2-\\mathrm{lat}_1}{2}\\right)+\\cos \\left(\\mathrm{lat}_1\\right) \\times \\cos \\left(\\mathrm{lat}_2\\right) \\times \\sin ^2\\left(\\frac{\\text { lon }_2-\\text { lon }_1}{2}\\right)}\\right)$$\n",
    "\n",
    "Où :\n",
    "\n",
    "- d est la distance entre les deux points en unités de longueur (kilomètres).\n",
    "- r est le rayon de la sphère (par exemple, le rayon moyen de la Terre, souvent utilisé comme r=6371 kilomètres).\n",
    "- $lat_1$,$lon_1$ sont les coordonnées de latitude et longitude du premier point en radians.\n",
    "- $lat_2$,$lon_2$ sont les coordonnées de latitude et longitude du deuxième point en radians."
   ]
  },
  {
   "cell_type": "markdown",
   "metadata": {},
   "source": [
    "## Exercice 1\n",
    "Donner la fonction `haversine`prenant 2 couples (tuple) de coordonnées (latitude,longitude) et permettant de trouver la distance sur terre séparant ces 2 points."
   ]
  },
  {
   "cell_type": "markdown",
   "metadata": {},
   "source": [
    "## Exercice 2\n",
    "A partir du fichier `etat.csv`, créer un dictionnaire `d_pays_capitale` ayant pour clé le nom du pays (1ère colonne) et comme valeur le nom de sa capitale (dernière colonne)"
   ]
  },
  {
   "cell_type": "markdown",
   "metadata": {},
   "source": [
    "## Exercice 3\n",
    "En utilisant les fichier :  `Cities.csv` utilisé lors du TP5, `pays.csv`(qui permettra une traduction des pays en français des pays du fichier `Cities.csv`) et enfin du dictionnaire `d_pays_capitale` de l'exercice précédent, créer une fonction permettant d'extraire les coordonnées GPS des capitales se trouvant dans le fichier `Cities.csv` et qui permettra de créer un dictionnaire `d_capitale_GPS` où les clés seront les capitales (uniquement issue du fichier `Cities.csv`) et les valeurs les tuples $(lat,lon)$"
   ]
  },
  {
   "cell_type": "markdown",
   "metadata": {},
   "source": [
    "# Problème du voyageur du commerce"
   ]
  },
  {
   "cell_type": "markdown",
   "metadata": {},
   "source": [
    "Le problème du voyageur de commerce (TSP pour Traveling Salesman Problem en anglais) peut être décrit ainsi :\n",
    "\n",
    ">Étant donné un ensemble de villes et les distances entre chaque paire de villes, le but est de trouver le chemin le plus court qui visite chaque ville exactement une fois et revient à la ville de départ."
   ]
  },
  {
   "cell_type": "markdown",
   "metadata": {},
   "source": [
    "## Exercice 4\n",
    "\n",
    "- Expliquer ce que fait le script suivant:"
   ]
  },
  {
   "cell_type": "code",
   "execution_count": null,
   "metadata": {},
   "outputs": [],
   "source": [
    "import itertools  \n",
    "\n",
    "liste = [1, 2, 3]\n",
    "\n",
    "# ???\n",
    "permutations = itertools.permutations(liste)\n",
    "\n",
    "# ???\n",
    "for perm in permutations:\n",
    "    print(perm)"
   ]
  },
  {
   "cell_type": "code",
   "execution_count": null,
   "metadata": {},
   "outputs": [],
   "source": [
    "# Rappel pour avoir de l'aide ...\n",
    "help(itertools.permutations)"
   ]
  },
  {
   "cell_type": "markdown",
   "metadata": {
    "deletable": false,
    "dicho": {
     "celltype": "normal",
     "readonly": false
    }
   },
   "source": [
    "## Exercice 5\n",
    "\n",
    "Ecrire la fonction `voyageurCommerce` d'après l'algorithme ci-dessous\n",
    "\n",
    "```\n",
    "Fonction voyageurCommerce(villes):\n",
    "    cheminOptimal <- null\n",
    "    distanceMinimale <- infini\n",
    "\n",
    "    Pour chaque permutation dans permutations(villes):\n",
    "        distanceParcourue <- 0\n",
    "        Pour i allant de 0 à longueur(villes) - 2:\n",
    "            distanceParcourue <- distanceParcourue + distanceEntre(permutation[i], permutation[i+1])\n",
    "        distanceParcourue <- distanceParcourue + distanceEntre(permutation[dernière_ville], permutation[première_ville])\n",
    "\n",
    "        Si distanceParcourue < distanceMinimale:\n",
    "            distanceMinimale <- distanceParcourue\n",
    "            cheminOptimal <- permutation\n",
    "\n",
    "    Retourner cheminOptimal et distanceMinimale\n",
    "```\n"
   ]
  },
  {
   "cell_type": "markdown",
   "metadata": {
    "deletable": false,
    "dicho": {
     "celltype": "normal",
     "readonly": false
    }
   },
   "source": [
    "## Exercice 6\n",
    "La structure de données `villes` avec leurs coordonnées GPS, dans l'algorithme précédent, sera par exemple un dictionnaire `d_n_capitale_GPS`de $2 < n < 9$ villes aléatoires extrait du dictionnaire `d_capitale_GPS` de l'**Exercice 3**. \n",
    "\n",
    "- Ecrire une fonction qui crée la structure de données villes (`d_n_capitale_GPS`)."
   ]
  },
  {
   "cell_type": "markdown",
   "metadata": {},
   "source": [
    "## Exercice 7\n",
    "Vérifier votre fonction du voyageur de commerce avec:"
   ]
  },
  {
   "cell_type": "code",
   "execution_count": null,
   "metadata": {},
   "outputs": [],
   "source": [
    "# Exemple d'utilisation de l'algorithme du voyageur de commerce avec les villes définies\n",
    "cheminOptimal, distanceMinimale = voyageurCommerce(list(d_n_capitale_GPS.keys()))\n",
    "print(\"Chemin optimal :\", cheminOptimal)\n",
    "print(\"Distance totale :\", distanceMinimale)"
   ]
  }
 ],
 "metadata": {
  "dicho": {
   "author": "Denis Pinsard",
   "contact": "(prénom).(nom)@dichotomies.fr",
   "created": "2016-08-29",
   "description": "Les connaissances de base pour créer, modifier et manipuler les Notebooks Jupyter",
   "dockey": "ITV538",
   "license": true,
   "logo": true,
   "readonly": false,
   "subtitle": "",
   "title": "Débuter avec les notebooks",
   "updated": "2016-08-29",
   "uri": "http://dichotomies.fr/2016/informatique/info1/cours/debuter-avec-les-notebooks/"
  },
  "kernelspec": {
   "display_name": "Python 3",
   "language": "python",
   "name": "python3"
  },
  "language_info": {
   "codemirror_mode": {
    "name": "ipython",
    "version": 3
   },
   "file_extension": ".py",
   "mimetype": "text/x-python",
   "name": "python",
   "nbconvert_exporter": "python",
   "pygments_lexer": "ipython3",
   "version": "3.7.3"
  }
 },
 "nbformat": 4,
 "nbformat_minor": 1
}
