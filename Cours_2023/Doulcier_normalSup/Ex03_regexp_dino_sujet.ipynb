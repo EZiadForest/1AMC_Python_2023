{
 "cells": [
  {
   "cell_type": "markdown",
   "metadata": {},
   "source": [
    "# Exercice: Expressions régulières et Dinosaures"
   ]
  },
  {
   "cell_type": "code",
   "execution_count": 1,
   "metadata": {},
   "outputs": [],
   "source": [
    "list_of_dinosaurs = \"\"\"Velociraptor\n",
    "    Cryolophosaurus\n",
    "    Dilophosaurus\n",
    "    Spinosaurus\n",
    "    Suchomimus\n",
    "    Baryonyx\n",
    "    Irritator\n",
    "    Utahraptor\n",
    "    Sinotyrannus\n",
    "    Chilantaisaurus\n",
    "    Shaochilong\n",
    "    Dilong\n",
    "    Allosaurus\n",
    "    Ceratosaurus\n",
    "    Torvosaurus\n",
    "    Sinraptor\n",
    "    Acrocanthosaurus\n",
    "    Tyrannotitan\n",
    "    Carcharodontosaurus\n",
    "    Mapusaurus\n",
    "    Giganotosaurus\n",
    "    Megaraptor\n",
    "    Skorpiovenator\n",
    "    Neovenator\n",
    "    Afrovenator\n",
    "    Carnotaurus\n",
    "    Abelisaurus\n",
    "    Coelophysis\n",
    "    Megalosaurus\n",
    "    Dromaeosaurus\n",
    "    Achillobator\n",
    "    Eocarcharia\n",
    "    Kryptops\n",
    "    Rugops\n",
    "    Rajasaurus\n",
    "    Spinosaurus\n",
    "    Tyrannosaurus\n",
    "    Tarbosaurus\n",
    "    Daspletosaurus\n",
    "    Gorgosaurus\n",
    "    Albertosaurus\n",
    "    Alioramus\n",
    "    Appalachiosaurus\n",
    "    Zhuchengtyrannus\n",
    "    Dryptosaurus\n",
    "    Alectrosaurus\n",
    "\"\"\""
   ]
  },
  {
   "cell_type": "code",
   "execution_count": 2,
   "metadata": {},
   "outputs": [],
   "source": [
    "import re"
   ]
  },
  {
   "cell_type": "code",
   "execution_count": null,
   "metadata": {},
   "outputs": [],
   "source": [
    "# Écrire une regexp qui trouve tous les raptors"
   ]
  },
  {
   "cell_type": "code",
   "execution_count": null,
   "metadata": {},
   "outputs": [],
   "source": [
    "# Écrire une regexp qui trouve tous les 'saure qui commencent avec un A majuscule"
   ]
  },
  {
   "cell_type": "code",
   "execution_count": null,
   "metadata": {},
   "outputs": [],
   "source": [
    "# Écrire une regexp qui trouve les gros (mega) 'saure et raptors"
   ]
  },
  {
   "cell_type": "code",
   "execution_count": null,
   "metadata": {},
   "outputs": [],
   "source": []
  }
 ],
 "metadata": {
  "celltoolbar": "Tags",
  "kernelspec": {
   "display_name": "Python 3",
   "language": "python",
   "name": "python3"
  },
  "language_info": {
   "codemirror_mode": {
    "name": "ipython",
    "version": 3
   },
   "file_extension": ".py",
   "mimetype": "text/x-python",
   "name": "python",
   "nbconvert_exporter": "python",
   "pygments_lexer": "ipython3",
   "version": "3.5.3"
  },
  "toc": {
   "base_numbering": 1,
   "nav_menu": {},
   "number_sections": true,
   "sideBar": true,
   "skip_h1_title": false,
   "title_cell": "Table of Contents",
   "title_sidebar": "Contents",
   "toc_cell": false,
   "toc_position": {},
   "toc_section_display": true,
   "toc_window_display": false
  }
 },
 "nbformat": 4,
 "nbformat_minor": 2
}
