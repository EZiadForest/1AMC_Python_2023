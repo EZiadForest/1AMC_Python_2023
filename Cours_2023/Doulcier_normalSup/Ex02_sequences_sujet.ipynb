{
 "cells": [
  {
   "cell_type": "markdown",
   "metadata": {
    "slideshow": {
     "slide_type": "slide"
    }
   },
   "source": [
    "# Exercice: Détection des cadres de lecture ouverts\n",
    "\n",
    "Les cadre de lectures ouverts ([Open Reading Frame, ORF](https://en.wikipedia.org/wiki/Open_reading_frame)) sont la partie d'une séquence qui peut être traduite en protéine.  \n",
    "\n",
    "On ignorera les introns. "
   ]
  },
  {
   "cell_type": "code",
   "execution_count": 3,
   "metadata": {
    "slideshow": {
     "slide_type": "subslide"
    }
   },
   "outputs": [],
   "source": [
    "import numpy as np\n",
    "import random"
   ]
  },
  {
   "cell_type": "markdown",
   "metadata": {
    "slideshow": {
     "slide_type": "slide"
    }
   },
   "source": [
    "## Question 1: Écrire une fonction qui construit une séquence d'ADN générée aléatoirement de longueur N \n"
   ]
  },
  {
   "cell_type": "markdown",
   "metadata": {
    "slideshow": {
     "slide_type": "slide"
    }
   },
   "source": [
    "## Question 2: Écrire une fonction qui recherche les codons d'initiation (ATG) dans une séquence "
   ]
  },
  {
   "cell_type": "markdown",
   "metadata": {
    "slideshow": {
     "slide_type": "slide"
    }
   },
   "source": [
    "## Question 3: Écrire une fonction qui recherche le premier codon stop (TAA, TAG, TGA) suivant un codon AUG dans le même cadre de lecture "
   ]
  },
  {
   "cell_type": "markdown",
   "metadata": {
    "slideshow": {
     "slide_type": "slide"
    }
   },
   "source": [
    "## Question 4: Modifier la fonction pour qu'elle retourne la distance entre un codon d'initiation et le premier codon stop suivant dans le même cadre de lecture"
   ]
  },
  {
   "cell_type": "markdown",
   "metadata": {
    "slideshow": {
     "slide_type": "slide"
    }
   },
   "source": [
    "## Question 5: Déterminer quel est le nombre d'ORFs dans une séquence aléatoire d'ADN de longueur N. Pour chacun, calculer sa longueur.\n",
    "\n",
    "#### Quel est le nombre d'ORF attendus dans une séquence aléatoire uniforme ?\n",
    "\n",
    "Si on considère que la séquence est assez longue, on peut approximer le nombre d'ORF par le nombre de codon d'initiation.\n",
    "\n",
    "Il y a $N-2$ codons (chevauchants) dans une séquence de N bases. Si on considère que tous les codons sont équiprobables, la probabilité qu'un codon soit un codon d'initiation est de $\\frac{1}{64}$. Si on considère que tous les codons sont idépendants (ce qui n'est pas vraiment le cas parcequ'ils sont chevauchants), le nombre de codons d'initiation $M$ est binomial $M \\sim Binom(N-2, 1/64)$. \n",
    "\n",
    "En moyenne il y a  $\\mathbb E(M_N) = \\frac{N-2}{64}$ ORF dans une séquence de taille $N$ selon ce modèle. Ce nombre est probablement sur-estimé, car il peut y avoir des codons d'initiation en fin de séquence qui ne forment pas d'ORF et que les codons ne sont pas vraiment indépendants.\n",
    "\n",
    "#### Quelle est la longueur attendue d'un ORF dans une séquence aléatoire uniforme ?\n",
    "\n",
    "Si la séquence est assez longue, l'ORF commence au codon d'initiation et se termine au premier codon stop rencontré. Sa longueur $L$ est donc géométriquement disitribuée, $L \\sim Geom(3/64)$ (plus 1 si on compte le codon d'initiation et plus 2 si on compte aussi le codon stop). En moyenne cela fait $64$ bases.\n",
    "\n",
    "$$\\mathbb P(L=k) = \n",
    "\\underbrace{\\frac{61}{64}^k}_\\text{non stop} \n",
    "\\times\n",
    "\\underbrace{\\frac{3}{64}}_\\text{stop}$$\n",
    "\n",
    "$$\\mathbb E(L) = \\frac{64}{3} \\approx 21 \\text{ codons}$$"
   ]
  },
  {
   "cell_type": "markdown",
   "metadata": {
    "slideshow": {
     "slide_type": "slide"
    }
   },
   "source": [
    "## Question 6: Écrire un programme qui traduit une séquence nucléique en une série de protéines. \n",
    "\n",
    "On ignorera la transcription."
   ]
  },
  {
   "cell_type": "markdown",
   "metadata": {
    "slideshow": {
     "slide_type": "slide"
    }
   },
   "source": [
    "## Question 7: Écrire une fonction pour lire et une pour écrire au format fasta"
   ]
  },
  {
   "cell_type": "markdown",
   "metadata": {},
   "source": [
    "## Question 8 : Exporter les positions d'ORF au format CSV"
   ]
  },
  {
   "cell_type": "code",
   "execution_count": null,
   "metadata": {},
   "outputs": [],
   "source": []
  }
 ],
 "metadata": {
  "celltoolbar": "Tags",
  "kernelspec": {
   "display_name": "Python 3",
   "language": "python",
   "name": "python3"
  },
  "language_info": {
   "codemirror_mode": {
    "name": "ipython",
    "version": 3
   },
   "file_extension": ".py",
   "mimetype": "text/x-python",
   "name": "python",
   "nbconvert_exporter": "python",
   "pygments_lexer": "ipython3",
   "version": "3.5.3"
  },
  "toc": {
   "base_numbering": 1,
   "nav_menu": {},
   "number_sections": true,
   "sideBar": true,
   "skip_h1_title": false,
   "title_cell": "Table of Contents",
   "title_sidebar": "Contents",
   "toc_cell": false,
   "toc_position": {},
   "toc_section_display": true,
   "toc_window_display": false
  }
 },
 "nbformat": 4,
 "nbformat_minor": 2
}
