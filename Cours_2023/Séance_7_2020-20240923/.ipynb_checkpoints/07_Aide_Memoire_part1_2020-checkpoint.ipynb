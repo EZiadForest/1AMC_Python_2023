{
 "cells": [
  {
   "cell_type": "markdown",
   "metadata": {},
   "source": [
    "![](fig/python-logo.png)\n",
    " ![](fig/LogoENSICAEN_rectangle_couleurs.png)\n",
    " ***\n",
    "\n",
    "#  Aide-mémoire des commandes Python\n",
    "# Langage Python\n",
    "***\n",
    "**ENSICAEN  1A MC** \n",
    "vendredi 13 novembre 2020\n",
    "## Eric Ziad-Forest\n",
    "***\n",
    "\n",
    "## Sommaire\n",
    "\n",
    "- Numpy (suite)\n",
    "- Matplotlib\n",
    "- Ipython (magic %)\n",
    "\n",
    "***\n",
    "\n",
    "**Auteur :**\n",
    "- Eric Ziad-Forest ([ziad@ensicaen.fr](mailto: ziad@ensicaen.fr))\n",
    "***\n",
    "*Contenu sous licence [CC BY-SA 4.0](https://creativecommons.org/licenses/by-sa/4.0)*"
   ]
  },
  {
   "cell_type": "markdown",
   "metadata": {},
   "source": [
    "## Commandes d'aide en ligne, d'affichage, d'affectations et de commentaires"
   ]
  },
  {
   "cell_type": "markdown",
   "metadata": {},
   "source": [
    "$\\bullet$ **help(command)** : affiche l'aide en ligne sur le mot-clé *command*\n",
    "\n",
    "$\\bullet$ **print(resultat)** : affiche la valeur de la variable *resultat*\n",
    "\n",
    "$\\bullet$ **a=b** : affecte à la mémoire $a$ la valeur $b$\n",
    "\n",
    "$\\bullet$ **a,b=b,a** : échange les valeurs des mémoires $a$ et $b$\n",
    "\n",
    "$\\bullet$ **\\# commentaire** : place un *commentaire* non compilé par l'interpréteur\n",
    "\n",
    "$\\bullet$ **n=input(chaine)** : affiche la chaîne de caractères *chaine*, puis invite l'utilisateur à rentrer une donnée, laquelle est placée dans la mémoire $n$. Cette donnée est toujours de type *chaîne de caractères* et peut éventuellement être converti dans le bon type pour une exploitation ultérieure"
   ]
  },
  {
   "cell_type": "code",
   "execution_count": 1,
   "metadata": {},
   "outputs": [
    {
     "name": "stdout",
     "output_type": "stream",
     "text": [
      "Help on built-in function print in module builtins:\n",
      "\n",
      "print(...)\n",
      "    print(value, ..., sep=' ', end='\\n', file=sys.stdout, flush=False)\n",
      "    \n",
      "    Prints the values to a stream, or to sys.stdout by default.\n",
      "    Optional keyword arguments:\n",
      "    file:  a file-like object (stream); defaults to the current sys.stdout.\n",
      "    sep:   string inserted between values, default a space.\n",
      "    end:   string appended after the last value, default a newline.\n",
      "    flush: whether to forcibly flush the stream.\n",
      "\n"
     ]
    }
   ],
   "source": [
    "help(print)"
   ]
  },
  {
   "cell_type": "markdown",
   "metadata": {},
   "source": [
    "## Commandes pour les types int, float ou complex"
   ]
  },
  {
   "cell_type": "markdown",
   "metadata": {},
   "source": [
    "$\\bullet$ type **int** et **float** : concerne les objets numériques de type *entier* (relatif), *réel* ou *complexe*\n",
    "\n",
    "$\\bullet$ **int(x)**, **float(x)**, **complex(x)** : convertit l'objet $x$ en entier, en flottant ou en complexe\n",
    "\n",
    "$\\bullet$ **+**, *-*, <b>*</b>,  <b>$\\star\\star$</b> : effectue l'addition, la soustraction, la multiplication, la division\n",
    "\n",
    "$\\bullet$ **a//b**, **a%b** : calcule le quotient et le reste dans la division euclidienne de $a$ par $b$ pour $a$ et $b$ entiers \n",
    "\n",
    "$\\bullet$ **x//1**, **x%1** : calcule la partie entière et la partie décimale du réel $x$\n",
    "\n",
    "$\\bullet$ **a+bj** : effectue le calcul de $a+b~i$, avec $i^2=-1$\n",
    "\n",
    "$\\bullet$ **c.real**, **c.imag**, **abs(c)**, **abs(x)** : calcule la partie réelle, la partie imaginaire et le module du complexe $c$, puis la valeur absolue du réel $x$\n",
    "\n"
   ]
  },
  {
   "cell_type": "code",
   "execution_count": 2,
   "metadata": {},
   "outputs": [
    {
     "name": "stdout",
     "output_type": "stream",
     "text": [
      "6 1\n",
      "5 3\n"
     ]
    }
   ],
   "source": [
    "a,b=1,6\n",
    "\n",
    "c=b\n",
    "b=a\n",
    "a=c \n",
    "## échange de deux variables\n",
    "\n",
    "print(a,b)\n",
    "\n",
    "x,y=3,5\n",
    "x,y=y,x\n",
    "print(x,y)"
   ]
  },
  {
   "cell_type": "code",
   "execution_count": 3,
   "metadata": {},
   "outputs": [
    {
     "name": "stdout",
     "output_type": "stream",
     "text": [
      "6.25\n",
      "(10.5+0.5j)\n",
      "3.0 9.0\n",
      "0.3333333333333333\n",
      "0.0 0.6666666666666665\n"
     ]
    }
   ],
   "source": [
    "x=2.5\n",
    "print(x**2) # affiche le carré\n",
    "\n",
    "c,d=1+1j,2-4j\n",
    "\n",
    "print(c*d+c*x+2)\n",
    "\n",
    "print((c+d).real,(c-2*d).imag) # affichage simultané de deux résultats\n",
    "\n",
    "y=1/3\n",
    "print(y)\n",
    "print(y//1,(2+5*y)%1)"
   ]
  },
  {
   "cell_type": "markdown",
   "metadata": {},
   "source": [
    "## Commandes pour le type bool"
   ]
  },
  {
   "cell_type": "markdown",
   "metadata": {},
   "source": [
    "$\\bullet$ type **bool**, **True**, **False** : concerne les objets booléens n'ayant de que deux valeurs possibles : *True* pour *Vrai* et *False* pour *Faux*\n",
    "\n",
    "$\\bullet$ **a==b**, **a!=b**, **a<=b**, **a>b** : teste si $a=b$, si $a\\neq b$, si $a\\leq b$ et si $a>b$\n",
    "\n",
    "$\\bullet$ **A and B**, **A or B**, **not(A)** : calcule la valeur booléenne des assertions $A\\cap B$, $A\\cup B$ et $\\overline{A}$"
   ]
  },
  {
   "cell_type": "code",
   "execution_count": 4,
   "metadata": {},
   "outputs": [
    {
     "name": "stdout",
     "output_type": "stream",
     "text": [
      "False\n",
      "True\n",
      "False\n",
      "True\n",
      "True\n",
      "False\n"
     ]
    }
   ],
   "source": [
    "A=(1!=1.0)\n",
    "B=(4<7)\n",
    "\n",
    "print(A)\n",
    "print(B)\n",
    "print(A and B)\n",
    "print(A or B)\n",
    "print(not(A))\n",
    "print(not(B))"
   ]
  },
  {
   "cell_type": "markdown",
   "metadata": {},
   "source": [
    "## Commandes pour le type list"
   ]
  },
  {
   "cell_type": "markdown",
   "metadata": {},
   "source": [
    "$\\bullet$ type **list** : concerne les objets *listes* contenant entre crochets n'importe quels objets\n",
    "\n",
    "$\\bullet$ **list(objet)** : convertit *objet* en une liste\n",
    "\n",
    "$\\bullet$ **[a,b,c..,z]** : concerne une liste $[a,b,\\cdots,z]$ dont les occurrences sont les objets $a$, $b$, $\\cdots$, $z$\n",
    "    \n",
    "$\\bullet$ **L+M**, **n*L** : calcule la concaténation des listes $L$ et $M$ et la concaténation de la liste $L$ $n$ fois avec elle-même\n",
    "\n",
    "$\\bullet$ **L.append(x)** : modifie $L$ en ajoutant à droite l'objet $x$\n",
    "\n",
    "$\\bullet$ **L.remove(x)** : enlève de $L$ la première occurrence (la plus à gauche) égale à $x$\n",
    "\n",
    "$\\bullet$ **len(L)** : nombre total d'occurrences (avec redondance) de la liste $L$\n",
    "\n",
    "$\\bullet$ **L[k]** : concerne l'occurrence de la liste $L$ placée en index $k$ ; la première occurrence de $L$ a pour index $[0]$ et la dernière a pour index $[len(L)-1]$ ; les index sont cycliques dans la tranche $[-len(L),\\cdots,len(L)-1]$ \n",
    "\n",
    "$\\bullet$ **L[0]**, **L[-1]** : renvoie au premier élément de $L$ et au dernier élément de $L$\n",
    "\n",
    "$\\bullet$ **L=list(range(n))** : renvoie la liste $[0,1,\\cdots,n-1]$ où $n$ est un entier\n",
    "\n",
    "$\\bullet$ **L=[ ]** : liste vide ; utile pour ensuite la compléter\n",
    "\n",
    "$\\bullet$ **L[a:b]**, **L[a:b:h]** : calcule une tranche de liste : $L[a:b]$ concerne la sous-liste de $L$ d'index compris dans la tranche $\\lbrace a,\\cdots,b-1\\rbrace$ et $L[a:b:h]$ concerne la sous-liste de $L$ d'index compris dans $\\lbrace a+k\\cdot h ~|~ k\\in \\mathbb{N} \\mbox{ et } a+k\\cdot h \\leq b-1\\rbrace$\n",
    "\n",
    "$\\bullet$ **L[1:]**, **L[:-1]** : concerne la sous-liste de $L$ sans le premier terme, puis la sous-liste de $L$ sans le dernier terme\n",
    "\n",
    "$\\bullet$ **L.reverse()** : renverse la liste\n",
    "\n",
    "$\\bullet$ **sum(L)**, **min(L)**, **max(L)** : calcule la somme, le minimum et le maximum des éléments de $L$\n",
    "\n",
    "$\\bullet$ **L.count(x)** : compte le nombre d'occurrences égales à $x$ dans $L$"
   ]
  },
  {
   "cell_type": "code",
   "execution_count": 5,
   "metadata": {},
   "outputs": [
    {
     "name": "stdout",
     "output_type": "stream",
     "text": [
      "[0, 1, 2, 3, 4, 5, 6, 7, 8, 9, 10, 11, 12, 13, 14, 15, 16, 17, 18, 19]\n",
      "190\n",
      "[0, 1, 2, 3, False, 5, 6, 7, 8, 9, 10, 11, 12, 13, 14, 15, 16, 17, 18, 19]\n",
      "[0, 1, 2, 3, False, 5, 6, 7, 8, 9, 10, 11, 12, 13, 14, 15, 16, 17, 18, 19, 0, 1, 2, 3, False, 5, 6, 7, 8, 9, 10, 11, 12, 13, 14, 15, 16, 17, 18, 19]\n",
      "4\n",
      "[2, 1, 2, 1]\n",
      "[3, 2, 'un mot', True, False, 2, 3, 2, 2, 2, 3]\n",
      "N= [3, 2, 'un mot', True, False, 2, 3, 2, 2, 2, 3, 3, 2, 'un mot', True, False, 2, 3, 2, 2, 2, 3, 3, 2, 'un mot', True, False, 2, 3, 2, 2, 2, 3]\n",
      "[3, 2, 'un mot', True, False, 2, 3, 2, 2, 2, 3, 3, 2, 'un mot', True, False, 2, 3, 2, 2, 2, 3, 3, 2, 'un mot', True, False, 2, 3, 2, 2, 2]\n",
      "['un mot', True, False, 2, 3]\n",
      "0\n",
      "15\n"
     ]
    }
   ],
   "source": [
    "L=list(range(20))\n",
    "\n",
    "print(L)\n",
    "\n",
    "print(sum(L))\n",
    "\n",
    "L[4]= 1==2 # modification d'une occurrence\n",
    "\n",
    "print(L)\n",
    "\n",
    "print(2*L)\n",
    "\n",
    "M=[1,2,1,2]\n",
    "print(len(M)) #redondances comptées\n",
    "\n",
    "M.reverse() #reversement de la liste\n",
    "\n",
    "print(M)\n",
    "\n",
    "N=[3,2,\"un mot\",1!=3,3>4,2,3,2,2,2,3]\n",
    "print(N)\n",
    "\n",
    "N=3*N\n",
    "print(\"N=\",N)\n",
    "print(N[:-1]) # liste sans dernier terme\n",
    "\n",
    "print(N[2:7])\n",
    "\n",
    "print(N.count(\"occurrence absente\"))\n",
    "\n",
    "print(N.count(2))"
   ]
  },
  {
   "cell_type": "markdown",
   "metadata": {},
   "source": [
    "$\\bullet$ **L.copy()** : effectue une copie de la liste $L$ ; attention : les listes sont des pointeurs\n",
    "\n",
    "$\\bullet$ **x in L** : teste si $x$ fait partie des occurrences de $L$"
   ]
  },
  {
   "cell_type": "code",
   "execution_count": 6,
   "metadata": {},
   "outputs": [
    {
     "name": "stdout",
     "output_type": "stream",
     "text": [
      "[0, 1, 2, 'un changement', 4, 5, 6]\n",
      "[0, 1, 2, 'un changement', 4, 5, 6]\n",
      "[0, 1, 'un autre changement', 'un changement', 4, 5, 6]\n",
      "[0, 1, 'un autre changement', 'un changement', 4, 5, 6]\n",
      "[0, 1, 2, 'encore un changement', 4, 5, 6]\n",
      "[0, 1, 2, 3, 4, 5, 6]\n",
      "[0, 1, 2, 3, 'un dernier changement', 5, 6]\n",
      "[0, 1, 2, 'encore un changement', 4, 5, 6]\n"
     ]
    }
   ],
   "source": [
    "L=list(range(7))\n",
    "M=L\n",
    "M[3]=\"un changement\"\n",
    "print(M) # normal ! on a modifié M\n",
    "\n",
    "print(L) # on a aussi modifié rétroactivement la liste L !!!\n",
    "\n",
    "L[2]=\"un autre changement\"\n",
    "\n",
    "print(L)\n",
    "\n",
    "print(M) # on a aussi modifié rétroactivement la liste M !!!\n",
    "\n",
    "\n",
    "## autre essai\n",
    "\n",
    "L_bis=list(range(7))\n",
    "M_bis=L_bis.copy()\n",
    "\n",
    "M_bis[3]=\"encore un changement\"\n",
    "\n",
    "print(M_bis)\n",
    "\n",
    "print(L_bis) # pas de modification sur L_bis\n",
    "\n",
    "L_bis[4]=\"un dernier changement\"\n",
    "\n",
    "print(L_bis)\n",
    "\n",
    "print(M_bis) #pas de modification sur M_bis"
   ]
  },
  {
   "cell_type": "markdown",
   "metadata": {},
   "source": [
    "## Commandes pour le type str"
   ]
  },
  {
   "cell_type": "markdown",
   "metadata": {},
   "source": [
    "$\\bullet$ type **str** : concerne les objets de type *string* ou *chaîne de caractères* contenant n'importe quels occurrences\n",
    "\n",
    "$\\bullet$ **str(objet)** : convertit *objet* en une chaaîne de caractères\n",
    "\n",
    "$\\bullet$ **C+D**, <b>n*C</b> : effectue la concaténation de deux chaînes $C$ et $D$ et la concaténation de la chaine $C$, $n$ fois avec elle-même\n",
    "\n",
    "$\\bullet$ **len(C)** : calcule le nombre de symboles dans la chaîne\n",
    "\n",
    "$\\bullet$ **C[k]** : renvoie au $k^{\\grave{e}me}$ symbole de la chaîne $C$ ; tout comme les listes, les index commencent à $0$ pour se terminer à $len(C)-1$ et sont cylciques dans la tranche $[-len(C),len(C)-1]$\n",
    "\n",
    "$\\bullet$ **C>=D** : effectue la comparaison entre deux chaînes pour l'ordre lexicographique\n",
    "\n",
    "$\\bullet$ **\\n** : effectue le retour à la ligne dans une chaîne de caractères\n",
    "\n",
    "$\\bullet$ **chaine.find(sous_chaine)** : cherche si *sous_chaine* figure dans *chaine* en tant que sous-liste ; si tel est le cas, renvoie le plus petit index du symbole de *chaine* à partir duquel on trouve *sous_chaine*; si *sous_chaine* n'est pas présente dans *chaine*, renvoie $-1$\n",
    "\n",
    "$\\bullet$ **separateur.join(C)** : sépare les symboles de $C$ à l'aide de *separateur* qui est une chaîne de caractères\n",
    "\n",
    "$\\bullet$ **C.replace(ancien_symbole,nouveau_symbole)** : remplace dans $C$ *ancien_symbole* par *nouveau_symbole*\n",
    "\n",
    "$\\bullet$ **C.split(coupure)** : renvoie la liste des sous-chaînes de $C$ découpées avec *coupure*"
   ]
  },
  {
   "cell_type": "code",
   "execution_count": 7,
   "metadata": {},
   "outputs": [
    {
     "name": "stdout",
     "output_type": "stream",
     "text": [
      "Le silence est un ami qui ne trahit jamais.  [citation de Confucius]\n",
      "Le/silence/est/un/ami/qui/ne/trahit/jamais.//[citation/de/Confucius]\n",
      "['Le', 'silence', 'est', 'un', 'ami', 'qui', 'ne', 'trahit', 'jamais.', '', '[citation', 'de', 'Confucius]']\n",
      "Le hum... silence hum... est hum... un hum... ami hum... qui hum... ne hum... trahit hum... jamais. hum...  hum... [citation hum... de hum... Confucius]\n",
      "silence est un ami qui ne\n",
      "-1\n",
      "31\n"
     ]
    }
   ],
   "source": [
    "C=\"Le silence est un ami qui ne trahit jamais.  [citation de Confucius]\"\n",
    "\n",
    "print(C)\n",
    "\n",
    "print(C.replace(\" \",\"/\"))\n",
    "\n",
    "D=C.split(\" \")\n",
    "print(D)\n",
    "\n",
    "print(\" hum... \".join(D))\n",
    "\n",
    "print(C[3:28])\n",
    "\n",
    "print(\"ah\".find(C))\n",
    "\n",
    "print(C.find(\"ah\"))"
   ]
  },
  {
   "cell_type": "markdown",
   "metadata": {},
   "source": [
    "## Commandes de contrôle de flux d'information"
   ]
  },
  {
   "cell_type": "markdown",
   "metadata": {},
   "source": [
    "\n",
    "\n",
    "$\\bullet$ syntaxe générale pour un branchement *if* :\n",
    "\n",
    "<style media=\"screen\" type=\"text/css\">\n",
    "    .entete {\n",
    "        color: blue;\n",
    "    }\n",
    "    .nom {\n",
    "        color: red;\n",
    "    }\n",
    "    .comment {\n",
    "        color: green;\n",
    "    }\n",
    "    .resultat{\n",
    "        color: #BF00FF\n",
    "    }\n",
    "    .indt {\n",
    "        padding-left: 1cm;\n",
    "        border-left: dotted 1px black;\n",
    "    }\n",
    "</style>\n",
    "\n",
    "<div class=\"nom\">if condition 1 :</div>\n",
    "<div class=\"indt\"><div class=\"comment\"># début du premier bloc d'instructions dans le branchement if </div>\n",
    "<div class=\"indt\"><div class=\"\">$\\qquad\\vdots$</div></div>\n",
    "<div class=\"comment\"># fin du premier bloc d'instructions dans le branchement if</div></div>\n",
    "\n",
    "<div class=\"nom\">elif condition 2 :</div>\n",
    "<div class=\"indt\"><div class=\"comment\"># début du deuxième bloc d'instructions dans le branchement if </div>\n",
    "<div class=\"indt\"><div class=\"\">$\\qquad\\vdots$</div></div>\n",
    "<div class=\"comment\"># fin du deuxième bloc d'instructions dans le branchement if</div></div>\n",
    "\n",
    "<div class=\"nom\"><div class=\"comment\"> $\\vdots$</div></div>\n",
    "\n",
    "<div class=\"nom\">else :</div>\n",
    "<div class=\"indt\"><div class=\"comment\"># début du dernier bloc d'instructions dans le branchement if </div>\n",
    "<div class=\"indt\"><div class=\"\">$\\qquad\\vdots$</div></div>\n",
    "<div class=\"comment\"># fin du dernier bloc d'instructions dans le branchement if</div></div>\n",
    "\n",
    "\n",
    "<br>\n",
    "<br>  exécute le bloc d'instructions associé à la première condition vraie rencontrée ; si *condition* est une expression non booléenne, le test donne *True* si *condition* est de valeur non nulle et donne *False* si *condition* est de valeur nulle\n",
    " \n",
    "\n",
    "$\\bullet$ **for k in L :**, **for k in range(n):** : réalise une boucle *for* ; lorsque $k$ décrit la liste $L$ ou la liate $[0,\\cdots,n-1]$, le bloc d'instructions suivant est exécuté\n",
    "\n",
    "$\\bullet$ **[x for x in L if condition]**  (procédé de mappage et filtrage, construction d'une liste par compréhension) : renvoie la liste des $x$ décrivant $L$ lorsque la *condition* est vérifiée\n",
    "\n",
    "$\\bullet$ **while condition :** : réalise une boucle *while* : tant que la *condition* est réalisée, le bloc d'instructions est exécuté ; cela nécessite une initialisation préalable de variables puis que le bloc d'instructions modifie des variables dans *condition*, sinon il y a plantage\n",
    "\n",
    "$\\bullet$ **var+=1** ou **var=var+1** : incrémente la valeur *var* d'une unité\n",
    "\n",
    "$\\bullet$ **break** : permet de sortir d'une boucle *for* ou *while* dans un bloc d'instructions"
   ]
  },
  {
   "cell_type": "markdown",
   "metadata": {},
   "source": [
    "## Commandes pour le type function"
   ]
  },
  {
   "cell_type": "markdown",
   "metadata": {},
   "source": [
    "$\\bullet$ syntaxe générale pour une fonction :\n",
    "\n",
    "<style media=\"screen\" type=\"text/css\">\n",
    "    .entete {\n",
    "        color: blue;\n",
    "    }\n",
    "    .nom {\n",
    "        color: red;\n",
    "    }\n",
    "    .comment {\n",
    "        color: green;\n",
    "    }\n",
    "    .resultat{\n",
    "        color: #BF00FF\n",
    "    }\n",
    "    .indt {\n",
    "        padding-left: 1cm;\n",
    "        border-left: dotted 1px black;\n",
    "    }\n",
    "</style>\n",
    "\n",
    "<div class=\"nom\">def nom_De_La_Fonction(variable_Globale$_1$,...,variable_Globale$_N$) :</div>\n",
    "<div class=\"indt\"><div class=\"comment\"># Début du corps de la fonction</div>\n",
    "<div class=\"indt\"><div class=\"\">$\\qquad\\vdots$</div>\n",
    "<div class=\"\">$\\qquad\\vdots$</div></div>\n",
    "<div class=\"comment\"># Fin du corps de la fonction</div>\n",
    "<div class=\"resultat\">return output (valeur retournée par la fonction)</div></div>\n",
    "<div class=\"nom\"># Fin de la fonction</div></div></div>\n",
    "\n",
    "\n",
    "<br>\n",
    "<br> \n",
    "\n",
    "Les arguments positionnels sont obligatoires, alors que les arguments optionnels sont affectés par défaut ; les variables locales intervenant dans le corps de procédure de la fonction ne sont pas reconnues en dehors de celle-ci. Le mot clé **return** retourne la valeur de la fonction envisagée et le calcul prend fin à <u>la première rencontre d'un **return**</u>.\n",
    "\n",
    "\n",
    "$\\bullet$ syntaxe générale pour une procédure :\n",
    "\n",
    "\n",
    "\n",
    "<style media=\"screen\" type=\"text/css\">\n",
    "    .entete {\n",
    "        color: blue;\n",
    "    }\n",
    "    .nom {\n",
    "        color: red;\n",
    "    }\n",
    "    .comment {\n",
    "        color: green;\n",
    "    }\n",
    "    .indt {\n",
    "        padding-left: 1cm;\n",
    "        border-left: dotted 1px black;\n",
    "    }\n",
    "</style>\n",
    "\n",
    "<div class=\"nom\">def nom_De_La_Procedure(variable_Globale$_1$,...,variable_Globale$_N$) :</div>\n",
    "<div class=\"indt\"><div class=\"comment\"># Début du corps de la procédure</div>\n",
    "<div class=\"indt\"><div class=\"\">$\\qquad\\vdots$</div>\n",
    "<div class=\"\">$\\qquad\\vdots$</div></div>\n",
    "<div class=\"comment\"># Fin du corps de la procédure</div></div>\n",
    "<div class=\"nom\"># Fin de la procédure</div></div></div>\n",
    "\n",
    "\n",
    "<br>\n",
    "<br>\n",
    "\n",
    "\n",
    "Les arguments positionnels sont obligatoires, alors que les arguments optionnels sont affectés par défaut ; les variables locales intervenant dans le corps de procédure de la fonction ne sont pas reconnues en dehors de celle-ci\n",
    "\n",
    "\n",
    "$\\bullet$ **Nom_De_Procedure(...)** : exécute la procédure avec des paramètres effectifs; si Nom_De_Procédure était une fonction, le résultat de la foction est calculé mais non affiché\n",
    "\n",
    "$\\bullet$ **Nom_De_Fonction(...)** : calcule la valeur de la fonction Nom_De_Fonction avec les paramètres effectifs ; cette valeur peut servir ultérieurement dans le programme\n",
    "\n",
    "$\\bullet$ **\"\"\"...\"\"\"** : crée un *docstring*, c'est-à-dire un commentaire sur la fonction ou la procédure"
   ]
  },
  {
   "cell_type": "code",
   "execution_count": 8,
   "metadata": {},
   "outputs": [
    {
     "name": "stdout",
     "output_type": "stream",
     "text": [
      "[1, 6.15]\n",
      "[3, 1.5375]\n",
      "[3, 1.5375]\n"
     ]
    }
   ],
   "source": [
    "def Essai1(x) :\n",
    "    k=0\n",
    "    while x/2>=1 :\n",
    "        k+=1\n",
    "        x=x/2 # attention aux variables locales et globales\n",
    "        return [k,x] ### attention à l'indentation du return\n",
    "    \n",
    "def Essai2(x) :\n",
    "    k=0\n",
    "    while x/2>=1 : # x devient une variable locale : à éviter\n",
    "        k+=1\n",
    "        x=x/2 # attention aux variables locales et globales\n",
    "    return [k,x] ### attention à l'indentation du return\n",
    "\n",
    "def Essai3(x) :\n",
    "    k,x_Temp=0,x\n",
    "    while x_Temp/2>=1 :\n",
    "        k+=1\n",
    "        x_Temp=x_Temp/2 # attention aux variables locales et globales\n",
    "    return [k,x_Temp] ### attention à l'indentation du return\n",
    "\n",
    "print(Essai1(12.3)) # mauvaise indentation du return\n",
    "print(Essai2(12.3)) # bonne fonction mais utiliser une variable locale pour différentier de la variable globale x\n",
    "print(Essai3(12.3)) # ok"
   ]
  },
  {
   "cell_type": "markdown",
   "metadata": {},
   "source": [
    "## Exemples de branchements, de boucles ou de fonctions et procédures"
   ]
  },
  {
   "cell_type": "markdown",
   "metadata": {},
   "source": [
    "### Quelques conseils de programmation"
   ]
  },
  {
   "cell_type": "markdown",
   "metadata": {},
   "source": [
    "$\\bullet$ utiliser des noms de mémoire adaptés aux objets manipulés\n",
    "\n",
    "$\\bullet$ dans une procédure ou une fonction, utiliser des variables locales différentes des variables globales placés en paramètres positionnels de la fonction ou la procédure, afin de faciliter la relecture\n",
    "\n",
    "$\\bullet$ dans une fonction, utiliser un seul mot-clé **return** pour facilitér la relecture\n",
    "\n",
    "$\\bullet$ tester chaque fonction ou chaque procédure construite."
   ]
  },
  {
   "cell_type": "markdown",
   "metadata": {},
   "source": [
    "### Calculs sur un minimum dans une liste "
   ]
  },
  {
   "cell_type": "code",
   "execution_count": 9,
   "metadata": {},
   "outputs": [
    {
     "name": "stdout",
     "output_type": "stream",
     "text": [
      "[0, 2, 6]\n",
      "pas de minimum : la liste est vide !!\n"
     ]
    }
   ],
   "source": [
    "def Place_Minimum(L) :\n",
    "    \"\"\" calcule la place des occurrences minimales dans une liste \"\"\"\n",
    "    if L==[] :\n",
    "        return \"pas de minimum : la liste est vide !!\"\n",
    "    else :\n",
    "        var=L[0] #minimum potentiel\n",
    "        Places=[0] #place potentielle du minimum\n",
    "        for k in range(1,len(L)-1) : #on travaille sur les index plutôt que sur les occurrences \n",
    "                                     #et inutile de considérer le premier terme\n",
    "            if L[k]==var : #on a un ex-aequo avec le minimum potentiel\n",
    "                Places.append(k)\n",
    "            if L[k]<var : #minimum potentiel détrôné\n",
    "                var=L[k]\n",
    "                Places=[k]\n",
    "        return Places\n",
    "    \n",
    "## on teste toujours la fonction ou la procédure après construction\n",
    "\n",
    "L_1=[1,2,1,2,3,2,1,2]\n",
    "print(Place_Minimum(L_1))\n",
    "\n",
    "L_2=[]\n",
    "\n",
    "print(Place_Minimum(L_2))"
   ]
  },
  {
   "cell_type": "markdown",
   "metadata": {},
   "source": [
    "### Calculs de cardinalité"
   ]
  },
  {
   "cell_type": "code",
   "execution_count": 10,
   "metadata": {},
   "outputs": [
    {
     "name": "stdout",
     "output_type": "stream",
     "text": [
      "[2, 3, False, 1, 4, 'un mot', [6, 5]]\n"
     ]
    }
   ],
   "source": [
    "def Liste_Sans_Redondance(L) :\n",
    "    \"\"\" calcule la liste issue de L sans redondance \"\"\"\n",
    "    L_Temp=L.copy() #pour éviter les désagréments des pointeurs\n",
    "    L_Remplissage=[]\n",
    "    while L_Temp!=[] :\n",
    "        Terme=L_Temp[0]\n",
    "        if not(Terme in L_Remplissage): \n",
    "            L_Remplissage.append(Terme)\n",
    "        L_Temp.remove(Terme)\n",
    "    return L_Remplissage\n",
    "\n",
    "L_Essai=[2,3,4<2,2,1,2,3,2,4,2,3,\"un mot\",[6,5],3==7,2+1==3.6//3]\n",
    "print(Liste_Sans_Redondance(L_Essai))\n"
   ]
  },
  {
   "cell_type": "code",
   "execution_count": 11,
   "metadata": {},
   "outputs": [
    {
     "name": "stdout",
     "output_type": "stream",
     "text": [
      "[2, 3, False, 1, 4, 'un mot', [6, 5]]\n"
     ]
    }
   ],
   "source": [
    "def Liste_Sans_Redondance_Bis(L) :\n",
    "    \"\"\" autre fonction par calcul par tranche et par compréhension \"\"\"\n",
    "    return [L[k] for k in range(len(L)) if not(L[k] in L[:k])]\n",
    "\n",
    "print(Liste_Sans_Redondance_Bis(L_Essai))"
   ]
  },
  {
   "cell_type": "markdown",
   "metadata": {},
   "source": [
    "### Décomposition en base $2$"
   ]
  },
  {
   "cell_type": "code",
   "execution_count": 12,
   "metadata": {},
   "outputs": [
    {
     "name": "stdout",
     "output_type": "stream",
     "text": [
      "Décomposition en base deux de l'entier  0  :  \n",
      "Décomposition en base deux de l'entier  1  :  1\n",
      "Décomposition en base deux de l'entier  2  :  10\n",
      "Décomposition en base deux de l'entier  3  :  11\n",
      "Décomposition en base deux de l'entier  4  :  100\n",
      "Décomposition en base deux de l'entier  5  :  101\n",
      "Décomposition en base deux de l'entier  6  :  110\n",
      "Décomposition en base deux de l'entier  7  :  111\n",
      "Décomposition en base deux de l'entier  8  :  1000\n",
      "Décomposition en base deux de l'entier  9  :  1001\n",
      "Décomposition en base deux de l'entier  10  :  1010\n",
      "Décomposition en base deux de l'entier  11  :  1011\n",
      "Décomposition en base deux de l'entier  12  :  1100\n",
      "Décomposition en base deux de l'entier  13  :  1101\n",
      "Décomposition en base deux de l'entier  14  :  1110\n",
      "Décomposition en base deux de l'entier  15  :  1111\n",
      "Décomposition en base deux de l'entier  16  :  10000\n",
      "Décomposition en base deux de l'entier  17  :  10001\n",
      "Décomposition en base deux de l'entier  18  :  10010\n",
      "Décomposition en base deux de l'entier  19  :  10011\n"
     ]
    }
   ],
   "source": [
    "def Decomposition_Base_Deux(n) :\n",
    "    \"\"\"renvoie la décomposition en base deux d'un entier n\"\"\"\n",
    "    L=[]\n",
    "    n_Temp=n #n : variable globale, n_Temp : variable locale\n",
    "    while n_Temp!=0 :\n",
    "        if n_Temp%2==0 : # si n_Temp est pair\n",
    "            L=[str(0)]+L #remplissage à gauche d'une chaîne de caractères\n",
    "        else : # si n_Temp est impair\n",
    "            L=[str(1)]+L\n",
    "        n_Temp=n_Temp//2\n",
    "    return \"\".join(L) \n",
    "\n",
    "for k in range(20) :\n",
    "    print(\"Décomposition en base deux de l'entier \",k,\" : \",Decomposition_Base_Deux(k))"
   ]
  },
  {
   "cell_type": "markdown",
   "metadata": {},
   "source": [
    "### Algorithme de Dichotomie"
   ]
  },
  {
   "cell_type": "code",
   "execution_count": 13,
   "metadata": {},
   "outputs": [
    {
     "name": "stdout",
     "output_type": "stream",
     "text": [
      "Une solution à l'équation est dans l'intervalle : [0.7390842437744141,0.7390851974487305].\n",
      "Une solution à l'équation est dans l'intervalle : [1.4142135623114882,1.4142135623842478].\n"
     ]
    }
   ],
   "source": [
    "def Recherche_Par_Dichotomie(F,a,b,erreur) :\n",
    "    \"\"\" calcule une aproximation d'une solution de F(x)=0 entre a et b avec une précision d'erreur\"\"\"\n",
    "    if F(a)*F(b)>0 :\n",
    "        return \"Revoir les bornes de l'intervalle car F est de même signe aux bornes \"\n",
    "    else :\n",
    "        u,v=a,b\n",
    "        while v-u>erreur :\n",
    "            m=(u+v)/2\n",
    "            if F(u)*F(m)<=0 :\n",
    "                v=m\n",
    "            else :\n",
    "                u=m\n",
    "        return \"Une solution à l'équation est dans l'intervalle : [\"+str(u)+\",\"+str(v)+\"].\"\n",
    "\n",
    "from math import * # importe les fonctions mathématiques usuelles\n",
    "\n",
    "def F(x):\n",
    "    return cos(x)-x\n",
    "\n",
    "def G(x) :\n",
    "    return x**2-2\n",
    "\n",
    "print(Recherche_Par_Dichotomie(F,0,1,10**(-6)))\n",
    "\n",
    "print(Recherche_Par_Dichotomie(G,0,10,10**(-10)))\n",
    "        "
   ]
  },
  {
   "cell_type": "markdown",
   "metadata": {},
   "source": [
    "### Factorisation de nombres premiers"
   ]
  },
  {
   "cell_type": "code",
   "execution_count": 14,
   "metadata": {},
   "outputs": [
    {
     "name": "stdout",
     "output_type": "stream",
     "text": [
      "17493 = 3 fois ( 7 puissance 3 ) fois 17\n"
     ]
    }
   ],
   "source": [
    "def Factorisation_Premiers(n) :\n",
    "    \"\"\" calcule la factorisation en facteurs premiers d'un entier n \"\"\"\n",
    "    n_Temp=n # n_Temp : variable locale ; n : variable globale\n",
    "    k,L_Temp=2,[n,\"=\"] # affectation simultanée\n",
    "    while n_Temp !=1 : # tant que n_Temp est différent de 1\n",
    "        puissance=0\n",
    "        while n_Temp%k==0 : # tant que k divise n_Temp\n",
    "            puissance+=1 # incrémentation de puissance d'une unité\n",
    "            n_Temp/=k # division de n_Temp par k\n",
    "        #ici, puissance est la k-valuation dans n_Temp du début de boucle while secondaire\n",
    "        if puissance==1 :\n",
    "            L_Temp.extend([k,\"fois\"]) # inutile d'afficher la puissance 1\n",
    "        elif puissance>1 :\n",
    "            L_Temp.extend([\"(\",k,\"puissance\",puissance,\")\",\"fois\"]) # affichage de la puissance\n",
    "        # si puissance==0, rien ne se passe\n",
    "        k+=1 # incrémentation de k d'une unité\n",
    "    return \" \".join([str(x) for x in L_Temp[:-1]])\n",
    "    # str(x) ! convertion de chaque élément de L_Temp en chaîne de caractères\n",
    "    # L_Temp[:-1] : slicing : on laisse tomber le dernier terme de L_Temp qui est \"fois\"\n",
    "    # \" \".join(...) : on concantène les chaînes de caractères en les séparant par \" \"\n",
    "\n",
    "print(Factorisation_Premiers(17493))\n",
    "           "
   ]
  },
  {
   "cell_type": "markdown",
   "metadata": {},
   "source": [
    "## Commandes liées aux modules random, time et os"
   ]
  },
  {
   "cell_type": "markdown",
   "metadata": {},
   "source": [
    "$\\bullet$ **from random import $\\star$** : importe le module des nombres aléatoires\n",
    "\n",
    "$\\bullet$ **randint(p,q)** : renvoie un entier aléatoire (loi uniforme) entre $p$ et $q$ inclus\n",
    "\n",
    "$\\bullet$ **uniform(a,b)** : renvoie un réel aléatoire (loi uniforme) entre $a$ et $b$\n",
    "\n",
    "$\\bullet$ **binomial(N,p,taille_echantillon)** : renvoie une liste de taille_echantillon valeurs entières selon la loi binômiale ${\\cal B}(N,p)$ ; la loi de Bernoulli s'obtient alors par **binomial(1,p)**\n",
    "\n",
    "$\\bullet$ **geometric(p,taille_echantillon)** : renvoie un entier selon la loi géométrique ${\\cal G}(p)$\n",
    "\n",
    "$\\bullet$ **poisson(lambda,taille_echantillon)** : renvoie un entier selon la loi de Poisson ${\\cal P}(\\lambda)$\n",
    "\n"
   ]
  },
  {
   "cell_type": "code",
   "execution_count": 15,
   "metadata": {},
   "outputs": [
    {
     "name": "stdout",
     "output_type": "stream",
     "text": [
      "[4, 1, 6, 2, 1, 5, 4, 6, 2, 1, 5, 5, 1, 1, 4, 3, 2, 4, 5, 1]\n",
      "[3.002421409665499, 3.373193122707958, 2.7910612549308276, 2.644520490772117, 2.981076867455462, 2.1224182966277745, 2.8176465751846353, 3.863523883222899, 3.278204564812116, 2.759376928451597, 3.265008443545642, 3.9920036381574002, 3.912728576379877, 3.2464950217003627, 3.2155151950804823, 3.8585034617428753, 3.9996018158751787, 3.8180338038862875, 3.246045553801187, 3.897148775455651, 2.819255198698829, 2.1036346838968445, 3.8072341939694536, 3.5288904788088242, 3.855540550186831, 3.2969080003768925, 3.2419610406101182, 3.530327950963473, 3.256401165753939, 2.8011823439419192]\n",
      "[29 43 39 26 40 33 27 39 27 34 29 41 27 31 30 27 34 30 37 42 34 31 40 41 29\n",
      " 35 33 32 30 33 36 36 36 30 44 31 44 31 22 34 50 33 33 24 26 29 29 44 28 40\n",
      " 34 37 29 25 30 36 32 31 28 32 31 32 32 36 32 40 42 25 37 29 34 29 34 37 38\n",
      " 38 38 34 31 39 33 36 37 30 37 32 28 35 27 26 38 27 47 34 30 30 38 34 25 27]\n",
      "[10  8  1  1  7  1]\n",
      "[4 6 1 5 2 2 5 3 5 3 6 3 7 2 3 2 2 2 3 8]\n"
     ]
    }
   ],
   "source": [
    "from pylab import *\n",
    "\n",
    "from random import *\n",
    "\n",
    "print([randint(1,6) for k in range(20)])\n",
    "\n",
    "print([uniform(2,4) for k in range(30)])\n",
    "\n",
    "print(binomial(100,1/3,100))\n",
    "\n",
    "print(geometric(1/4,6))\n",
    "\n",
    "print(poisson(3,20))\n",
    "    "
   ]
  },
  {
   "cell_type": "markdown",
   "metadata": {},
   "source": [
    "$\\bullet$ **import time** : importe le module lié aux horloges\n",
    "\n",
    "$\\bullet$ **time.clock()** : capture le temps affiché par l'horloge ; on peut ainsi calculer des temps d'exécution par différence"
   ]
  },
  {
   "cell_type": "code",
   "execution_count": 16,
   "metadata": {},
   "outputs": [
    {
     "name": "stdout",
     "output_type": "stream",
     "text": [
      "[4.887105421217172e-06, 5.8645265054606075e-06]\n",
      "[3.909684336973732e-06, 4.398394879095454e-06]\n",
      "[4.887105421217175e-06, 5.375815963338897e-06]\n",
      "[1.2217763553042945e-05, 9.77421084243435e-06]\n",
      "[1.2706474095164626e-05, 1.563873734789493e-05]\n",
      "[2.3946816563964128e-05, 3.078876415366826e-05]\n",
      "[4.593879095944142e-05, 7.575013402886621e-05]\n",
      "[8.894531866615249e-05, 0.00015443253131046256]\n",
      "[0.00019010840088534795, 0.000460365330678658]\n",
      "[0.00039438940749222506, 0.0010248260068292415]\n",
      "[0.0008948290026248636, 0.0033134574755852436]\n",
      "[0.0026131352687248227, 0.009847028713210481]\n",
      "[0.00693431388216504, 0.03337648647420268]\n",
      "[0.022393694461101316, 0.12421311493836626]\n",
      "[0.08892919121826254, 0.49822182669249016]\n",
      "[0.3353771208204863, 1.9529489038466896]\n",
      "[1.3004822106919112, 8.261532957905896]\n"
     ]
    }
   ],
   "source": [
    "import time\n",
    "\n",
    "def Comparaison(F,G,n) :\n",
    "    \"\"\" compare les temps d'exécution pour deux fonctions, en faisant varier le paramètre n de complexité \"\"\"\n",
    "    L=[randint(0,10) for k in range(2**n)]\n",
    "    t_0=time.clock()\n",
    "    F(L) # on calcule sans l'affichage : seul le temps d'exécution compte\n",
    "    t_1=time.clock()\n",
    "    G(L)\n",
    "    t_2=time.clock()\n",
    "    return [t_1-t_0,t_2-t_1]\n",
    "\n",
    "for k in range(17) :\n",
    "    print(Comparaison(Liste_Sans_Redondance,Liste_Sans_Redondance_Bis,k))"
   ]
  },
  {
   "cell_type": "markdown",
   "metadata": {},
   "source": [
    "Conclusion : la fonction **Liste_Sans_Redondance** est meilleure alors que le script pour l'autre fonction est plus compact."
   ]
  },
  {
   "cell_type": "markdown",
   "metadata": {},
   "source": [
    "$\\bullet$ import os : importe le module associé à la gestion des fichiers dans l'arborescence de l'ordinateur\n",
    "    \n",
    "$\\bullet$ **os.getcwd()** : renvoie au répertoire courant de travail\n",
    "\n",
    "$\\bullet$ **os.chdir(\"...\")** : modifie le répertoire de travail ; le chemin à partir de la racine vers le répertoire de travail est une chaîne de caractères\n",
    "\n",
    "$\\bullet$ **os.listdir()** : renvoie la liste des fichiers présents dans le répertoire de travail\n",
    "\n",
    "\n",
    "$\\bullet$ **savefig(\"...\")** :  souvegarde une figure dans le répertoire courant"
   ]
  },
  {
   "cell_type": "code",
   "execution_count": 17,
   "metadata": {},
   "outputs": [
    {
     "name": "stdout",
     "output_type": "stream",
     "text": [
      "ancien répertoire ! E:\\Informatique_Python\\pyzo2013b\n",
      "['Algo_De_Gauss_Systemes_Lineaires.ipynb', 'Algo_exos.ipynb', 'debug.log', 'fichier.npy', 'fichier.txt', 'ipython.exe', 'ipython_notebook.exe', 'La_complexite_d_un_algorithme.ipynb', 'Les _tuples_et_dictionnaires.ipynb', 'Les_controles_de_flux_d_informations.ipynb', 'Les_fonctions_et_les_procedures.ipynb', 'Les_listes.ipynb', 'Les_premiers_concepts_de_langage.ipynb', 'Les_premiers_pas_en_python.ipynb', 'Les_representations_des_nombres.ipynb', 'Les_variants_et_invariants.ipynb', 'Le_module_Numpy.ipynb', 'Le_module_Tkinter.ipynb', 'Matplotlib.ipynb', 'MSVCR100.dll', 'NB-fichiers-locaux.ipynb', 'NB-sgbd-sqlite.ipynb', 'Numpy.ipynb', 'python.exe', 'python33.dll', 'pythonw.exe', 'pyzo.exe', 'pyzo_activate.exe', 'pyzo_build.log', 'pyzo_eula.txt', 'Scipy.ipynb', 'tableau.npy', 'tableau.txt', 'TD-fichiers-sgbd.ipynb', 'unins000.dat', 'unins000.exe', 'data', 'DLLs', 'Include', 'Lib', 'programmes', 'Cryptographie.ipynb', 'Traitement_Images.ipynb', 'Le_module_Tkinter_Cours_MP.ipynb', 'Recursivite.ipynb', 'Piles.ipynb', 'Tris.ipynb', 'Les_tris_sur_les_listes.ipynb', 'Somme_Controle.ipynb', 'Reduction_Matrices.ipynb', 'Polynomes.ipynb', 'Calculs_Analyse.ipynb', 'Traces_Fonctions.ipynb', 'Familles_Sommables.ipynb', 'Probabilites.ipynb', 'Surfaces.ipynb', 'Aide_Memoire.ipynb', 'Solutions_Aide_Memoire.ipynb']\n",
      "répertoire actuel : E:\\IPT_MP\\Traitement_Images\n",
      "['aigle.jpg', 'aigle.png', 'eclairs.jpg', 'eclairs.png', 'Einstein.jpeg', 'Einstein.png', 'ours.jpeg', 'ours.png', 'plage.jpg', 'plage.png', 'Terre.jpg', 'terre.png', 'tigres_blancs.jpg', 'tigres_blancs.png', 'Image_Masques_Booleens', 'Image_Mandelbrot', 'Traitement_Images.py', 'visage1.jpeg', 'chutes.jpg', 'chutes.png', 'Images_Aleatoires', 'route66.jpg', 'route66.png', 'visage_ter.jpeg', 'visage_bis.jpeg', 'TD_Reconnaissance_Forme.png', 'visage_bis.png', 'visage_ter.png', 'visage.jpg', 'visage.png', 'visage1.png']\n"
     ]
    }
   ],
   "source": [
    "import os\n",
    "\n",
    "current_dir=os.getcwd()\n",
    "\n",
    "print(\"ancien répertoire !\",current_dir)\n",
    "\n",
    "print(os.listdir())\n",
    "\n",
    "new_dir=\"E:/IPT_MP/Traitement_Images\"\n",
    "\n",
    "os.chdir(new_dir)\n",
    "print(\"répertoire actuel :\",os.getcwd())\n",
    "\n",
    "print(os.listdir())\n",
    "\n",
    "os.chdir(current_dir) #on revient au répertoire initial"
   ]
  },
  {
   "cell_type": "markdown",
   "metadata": {},
   "source": [
    "## Commandes liées aux modules graphiques matplotlib"
   ]
  },
  {
   "cell_type": "markdown",
   "metadata": {},
   "source": [
    "$\\bullet$ **from pylab import $\\star$** : importe le module des outils graphiques\n",
    "\n",
    "$\\bullet$ **figure()** : ouvre une figure dans laquelle on placera des éléments\n",
    "\n",
    "$\\bullet$ **show()** : affiche la figure ouverte\n",
    "\n",
    "$\\bullet$ **linspace(a,b,n)** : renvoie le tableau à une dimension dont les termes extrémaux sont $a$ et $b$, ce tableau comportant $n$ occurrences équiréparties entre les extrémités\n",
    "\n",
    "$\\bullet$ **plot(L_X,L_Y,color=\"...\",marker=\"...\",linestyle=\"...\")** : crée la ligne polygonale reliant les points $[L$\\_$X[k],L$\\_$Y[k]]$ entre eux pour $k$ entre $0$ et $len(L\\_X)$, avec les marqueurs de points *marker* ($marker=\"o\"$ pour des ronds, $marker=\"s\"$ pour des carrés, $marker=\".\"$ pour des points, avec une couleur (\"red\",\"green\", ... ou en code hexadécimal $\"$#$00F4CA\"$, ...) et le style de ligne ($linestyle=\"-\"$ pour un trait continu, $linestyle=\"--\"$ pour des pointillés, ...)\n",
    "\n",
    "$\\bullet$ **grid()** : affiche une grille\n",
    "\n",
    "$\\bullet$ **axis([x_min,x_max,y_min,y_max])** : calibre la fenêtre au rectangle $[x_{min},x_{max}]\\times [y_{min},y_{max}]$"
   ]
  },
  {
   "cell_type": "code",
   "execution_count": 18,
   "metadata": {},
   "outputs": [
    {
     "data": {
      "image/png": "[encoded data removed]"
     },
     "metadata": {},
     "output_type": "display_data"
    }
   ],
   "source": [
    "from pylab import *\n",
    "\n",
    "def F(x) :\n",
    "    return cos(x)-x\n",
    "\n",
    "\n",
    "figure()\n",
    "grid() # affiche une grille\n",
    "L_X=linspace(-1,2)\n",
    "L_Y=[F(x) for x in L_X]\n",
    "plot(L_X,L_Y,color=\"red\",linewidth=2)\n",
    "axis([min(L_X),max(L_X),min(L_Y),max(L_Y)])\n",
    "plot([min(L_X)-1,max(L_X)+1],[0,0],color=\"blue\",linewidth=1)\n",
    "plot([0,0],[min(L_Y)-1,max(L_Y)+1],color=\"blue\",linewidth=1)\n",
    "text(0.2,1,r'courbe $y=\\cos\\quad\\!\\!\\!  x-x$',size=20)\n",
    "show()\n"
   ]
  },
  {
   "cell_type": "code",
   "execution_count": 19,
   "metadata": {},
   "outputs": [
    {
     "data": {
      "image/png": "[encoded data removed]"
     },
     "metadata": {},
     "output_type": "display_data"
    }
   ],
   "source": [
    "from pylab import *\n",
    "\n",
    "def Serie_Cos(n) :\n",
    "    L=[]\n",
    "    S=0\n",
    "    for k in range(1,n+1) :\n",
    "        S+=cos(k)/k\n",
    "        L.append([k,S])\n",
    "    return L\n",
    "\n",
    "def Serie_Sin(n) :\n",
    "    L=[]\n",
    "    S=0\n",
    "    for k in range(1,n+1) :\n",
    "        S+=sin(k)/k\n",
    "        L.append([k,S])\n",
    "    return L\n",
    "\n",
    "\n",
    "def Trace_Sommes_Partielles(n) :\n",
    "    L=Serie_Cos(n)\n",
    "    M=Serie_Sin(n)\n",
    "    figure()\n",
    "    grid()\n",
    "    plot([P[0] for P in L],[P[1] for P in L],color=\"#FF00FF\",marker=\"+\")\n",
    "    plot([P[0] for P in M],[P[1] for P in M],color=\"#2EFE2E\",marker=\"o\")\n",
    "    xlabel('entiers naturels')\n",
    "    ylabel('valeurs des sommes partielles')\n",
    "    legend((r'$\\sum_{k=1}^n \\frac{\\cos k}{k}$', r'$\\sum_{k=1}^n \\frac{\\sin k}{k}$'),\n",
    "           'right', shadow=True)\n",
    "    show()\n",
    "Trace_Sommes_Partielles(30)"
   ]
  },
  {
   "cell_type": "markdown",
   "metadata": {},
   "source": [
    "$\\bullet$ **hist(valeurs,bins)** : trace l'histogramme en effectifs en rangeant les occurrences de *valeurs* dans les tranches de *bins*, où *bins* est une liste numériques trièe par ordre croissant\n",
    "\n",
    "$\\bullet$ **bar**(x,y,*options*...) : crée une barre modélisant un diagramme de bâtons"
   ]
  },
  {
   "cell_type": "code",
   "execution_count": 20,
   "metadata": {},
   "outputs": [
    {
     "data": {
      "image/png": "[encoded data removed]"
     },
     "metadata": {},
     "output_type": "display_data"
    },
    {
     "data": {
      "image/png": "[encoded data removed]"
     },
     "metadata": {},
     "output_type": "display_data"
    }
   ],
   "source": [
    "import numpy \n",
    "from pylab import *\n",
    "from random import *\n",
    "\n",
    "def V_a_r_X() :\n",
    "    \"\"\" modélise la v.a.r. X qui suit la loi binomiale B(30,0.3)\"\"\"\n",
    "    compteur=0\n",
    "    for k in range(30) :\n",
    "        if uniform(0,1)<=0.3 :\n",
    "            compteur+=1\n",
    "    return compteur\n",
    "\n",
    "\n",
    "def Echantillon(Nbre_Essais) :\n",
    "    return [V_a_r_X() for omega in range(Nbre_Essais)]\n",
    "    \n",
    "def Trace_Histogramme(Liste_Resultats) :\n",
    "    \"\"\" trace l'histogramme des X(omega) pour Nbre_Essais expériences \"\"\"     \n",
    "    figure()\n",
    "    global Nbre_Essais \n",
    "    a,b=min(Liste_Resultats),max(Liste_Resultats)\n",
    "    bins = [k-1/2 for k in range(a,b+2)] # calibrage des barres d'histogramme\n",
    "    hist(Liste_Resultats, bins,normed=0,histtype='bar',color=\"#2EFE2E\",align='mid')\n",
    "    show()\n",
    "\n",
    " \n",
    "def Diagramme_Batons(Liste_Resultats) :\n",
    "    \"\"\" trace le diagramme - bâtons sur un échantillon de Nbre_Essais valeurs de la var X \"\"\"\n",
    "    global Nbre_Essais\n",
    "    figure()\n",
    "    \n",
    "    Esperance=mean(Liste_Resultats) # calcul de la moyenne \n",
    "    a,b=min(Liste_Resultats),max(Liste_Resultats)\n",
    "    for k in range(Nbre_Essais) :\n",
    "        bar(k,Liste_Resultats[k],width=0.9,color=\"#F7BE81\")\n",
    "    plot([0,Nbre_Essais],[Esperance,Esperance],color=\"red\",ls=\"-\")\n",
    "    show()\n",
    "    \n",
    "\n",
    "Nbre_Essais=100\n",
    "\n",
    "Liste_Resultats=Echantillon(Nbre_Essais)\n",
    "\n",
    "Trace_Histogramme(Liste_Resultats)\n",
    "Diagramme_Batons(Liste_Resultats)    "
   ]
  },
  {
   "cell_type": "markdown",
   "metadata": {},
   "source": [
    "On peut utiliser davantage les fonctions déjà implémentéess dans le module **random**, pour obtenir les distributions sous histogramme des lois usuelles :"
   ]
  },
  {
   "cell_type": "code",
   "execution_count": 21,
   "metadata": {},
   "outputs": [],
   "source": [
    "def Trace_Histogramme(X,taille_echantillon) :\n",
    "    \"\"\" trace la distribution de la var X avec taille_echantillon valeurs \"\"\"\n",
    "    Liste_Resultats=[X() for k in range(taille_echantillon)]\n",
    "    \n",
    "    figure()\n",
    "    a,b=min(Liste_Resultats),max(Liste_Resultats)\n",
    "    bins = [k-1/2 for k in range(a,b+2)] # calibrage des barres d'histogramme\n",
    "    hist(Liste_Resultats, bins,normed=0,histtype='bar',align='mid')\n",
    "    \n",
    "    show()\n",
    "    "
   ]
  },
  {
   "cell_type": "markdown",
   "metadata": {},
   "source": [
    "#### Distribution de la loi de Bernoulli"
   ]
  },
  {
   "cell_type": "code",
   "execution_count": 22,
   "metadata": {},
   "outputs": [
    {
     "data": {
      "image/png": "[encoded data removed]"
     },
     "metadata": {},
     "output_type": "display_data"
    }
   ],
   "source": [
    "def X() :\n",
    "    \"\"\" modélise la loi B(1/3) \"\"\"\n",
    "    return binomial(1,1/3)\n",
    "\n",
    "Trace_Histogramme(X,1000)"
   ]
  },
  {
   "cell_type": "markdown",
   "metadata": {},
   "source": [
    "#### Distribution de la loi binômiale"
   ]
  },
  {
   "cell_type": "code",
   "execution_count": 23,
   "metadata": {},
   "outputs": [
    {
     "data": {
      "image/png": "[encoded data removed]"
     },
     "metadata": {},
     "output_type": "display_data"
    }
   ],
   "source": [
    "def X() :\n",
    "    \"\"\" modélise la loi B(30,0.2) \"\"\"\n",
    "    return binomial(30,0.2)\n",
    "\n",
    "Trace_Histogramme(X,1000)"
   ]
  },
  {
   "cell_type": "markdown",
   "metadata": {},
   "source": [
    "#### Distribution de la loi de Poisson"
   ]
  },
  {
   "cell_type": "code",
   "execution_count": 24,
   "metadata": {},
   "outputs": [
    {
     "data": {
      "image/png": "[encoded data removed]"
     },
     "metadata": {},
     "output_type": "display_data"
    }
   ],
   "source": [
    "def X() :\n",
    "    \"\"\" modélise la loi P(10) \"\"\"\n",
    "    return poisson(10)\n",
    "\n",
    "Trace_Histogramme(X,1000)"
   ]
  },
  {
   "cell_type": "markdown",
   "metadata": {},
   "source": [
    "#### Distribution de la loi géométrique"
   ]
  },
  {
   "cell_type": "code",
   "execution_count": 25,
   "metadata": {},
   "outputs": [
    {
     "data": {
      "image/png": "[encoded data removed]"
     },
     "metadata": {},
     "output_type": "display_data"
    }
   ],
   "source": [
    "def X() :\n",
    "    \"\"\" modélise la loi P(10) \"\"\"\n",
    "    return geometric(0.25)\n",
    "\n",
    "Trace_Histogramme(X,1000)"
   ]
  },
  {
   "cell_type": "markdown",
   "metadata": {},
   "source": [
    "## Commandes pour les résolutions numériques"
   ]
  },
  {
   "cell_type": "markdown",
   "metadata": {},
   "source": [
    "$\\bullet$ **scipy.integrate  import $\\star$** : importe le module des résolutions d'équations différentielles et d'intégrales"
   ]
  },
  {
   "cell_type": "code",
   "execution_count": 26,
   "metadata": {},
   "outputs": [
    {
     "name": "stdout",
     "output_type": "stream",
     "text": [
      "(0.13826371266754167, 1.4160537202568807e-12)\n"
     ]
    }
   ],
   "source": [
    "from scipy.integrate  import *\n",
    "\n",
    "def F(x) :\n",
    "    return exp(-x**2)*cos(x**2+4*sin(x))\n",
    "\n",
    "I=quad(F,-1,1.5)\n",
    "\n",
    "print(I)"
   ]
  },
  {
   "cell_type": "code",
   "execution_count": 27,
   "metadata": {},
   "outputs": [
    {
     "data": {
      "image/png": "[encoded data removed]"
     },
     "metadata": {},
     "output_type": "display_data"
    }
   ],
   "source": [
    "figure()\n",
    "grid()\n",
    "L_X=linspace(-2,2,500)\n",
    "L_Y=[F(x) for x in L_X]\n",
    "\n",
    "L_X_Int=[x for x in L_X if (-1<= x and x <= 1.5)]\n",
    "L_X_Plus=[x for x in L_X_Int  if F(x)>0]\n",
    "L_Y_Plus=[F(x) for x in L_X_Int if F(x)>0]\n",
    "L_X_Moins=[x for x in L_X_Int  if F(x)<=0]\n",
    "L_Y_Moins=[F(x) for x in L_X_Int if F(x)<0]\n",
    "                \n",
    "fill_between(L_X_Plus,[0 for x in L_X_Plus],L_Y_Plus,facecolor=\"#58FAF4\")\n",
    "fill_between(L_X_Moins,[0 for x in L_X_Moins],L_Y_Moins,facecolor=\"orange\")\n",
    "text(-1.5,1.2,\"$\\int_{-1}^{1.5} \\exp(-x^2)\\cos(x^2+4\\sin x)\\quad\\!\\!\\! dx\\simeq$\"+str(round(I[0],4)),size=15)\n",
    "plot([-2,2],[0,0],color=\"blue\",linewidth=0.5)\n",
    "plot(L_X,L_Y,color=\"red\")\n",
    "axis([-2,2,-1,2])\n",
    "show()"
   ]
  },
  {
   "cell_type": "markdown",
   "metadata": {},
   "source": [
    "$\\bullet$ **sol=odeint(rhs,condition_Initiale,t)** : met en mémoire *sol* la résolution de l'équation différentielle $X'=rhs(X,t)$, où $X$ est un vecteur, *condition_initiale* est $X(t_0)$, et *t* est de format *linspace*($t_0,\n",
    "t_1,N$) ; on peut résoudre les équations différentielles lorsque $t_1$ est strictement inférieur à $t_0$ : on décrit la solution selon les $t$ décroissant"
   ]
  },
  {
   "cell_type": "markdown",
   "metadata": {},
   "source": [
    "Voici un script pour résoudre sur $[a,b]$ les équations différentielles du type $y'=f(t,y)$"
   ]
  },
  {
   "cell_type": "code",
   "execution_count": 28,
   "metadata": {},
   "outputs": [
    {
     "data": {
      "image/png": "[encoded data removed]"
     },
     "metadata": {},
     "output_type": "display_data"
    }
   ],
   "source": [
    "\n",
    "def Fonction_F(t,y) :\n",
    "    return exp(-0.2*y+t)-12*cos(y)\n",
    "\n",
    "def rhs(y,t) :\n",
    "    return Fonction_F(t,y)\n",
    "    \n",
    "def Resolution_ED1(rhs,condition_Initiale,a,b) :\n",
    "    \n",
    "    figure()\n",
    "    title(\"Résolution du problème de Cauchy\")\n",
    "    grid()\n",
    "    if condition_Initiale[0]<b :\n",
    "        t_1=linspace(condition_Initiale[0],b,500)\n",
    "        sol_1=odeint(rhs,condition_Initiale[1],t_1)\n",
    "        plot(t_1,sol_1[:,0],color=\"red\")\n",
    "    if condition_Initiale[0]>a :\n",
    "        t_2=linspace(condition_Initiale[0],a,500)\n",
    "        sol_2=odeint(rhs,condition_Initiale[1],t_2)\n",
    "        plot(t_2,sol_2[:,0],color=\"red\")\n",
    "    plot(condition_Initiale[0],condition_Initiale[1],marker=\"o\",color=\"blue\")\n",
    "    show()\n",
    "\n",
    "Resolution_ED1(rhs,(-1,0),-3,5)   "
   ]
  },
  {
   "cell_type": "markdown",
   "metadata": {},
   "source": [
    "Voici un script résolvant les équations différentielles d'ordre deux du type $y''=f(t,y,y')$, de condition initiale $(y(t_0),y'(t_0))=(y_0,y_1)$, sur l'intervalle $[a,b]$"
   ]
  },
  {
   "cell_type": "code",
   "execution_count": 29,
   "metadata": {},
   "outputs": [
    {
     "data": {
      "image/png": "[encoded data removed]"
     },
     "metadata": {},
     "output_type": "display_data"
    },
    {
     "data": {
      "image/png": "[encoded data removed]"
     },
     "metadata": {},
     "output_type": "display_data"
    }
   ],
   "source": [
    "\n",
    "def Fonction_G(t,y,z) : \n",
    "    \"\"\" z correspond à y' \"\"\"\n",
    "    return -2*y+10-0.5*z\n",
    "\n",
    "def rhs2(y,t) : \n",
    "    \"\"\"y correspond à (y,y') \"\"\"\n",
    "    return  (y[1],Fonction_G(t,y[0],y[1]))\n",
    "    \n",
    "\n",
    "\n",
    "def Resolution_ED2(rhs2,condition_Initiale,a,b) :\n",
    "    \n",
    "    \n",
    "    \n",
    "    \n",
    "    figure()\n",
    "    title(\"Résolution du problème de Cauchy d'ordre deux\")\n",
    "    grid()\n",
    "    if condition_Initiale[0]<b :\n",
    "        t_1=linspace(condition_Initiale[0],b,500)\n",
    "        sol_1=odeint(rhs2,condition_Initiale[1],t_1)\n",
    "        plot(t_1,sol_1[:,0],color=\"red\")\n",
    "    if condition_Initiale[0]>a :\n",
    "        t_2=linspace(condition_Initiale[0],a,500)\n",
    "        sol_2=odeint(rhs2,condition_Initiale[1],t_2)\n",
    "        plot(t_2,sol_2[:,0],color=\"red\")\n",
    "    plot(condition_Initiale[0],condition_Initiale[1][0],marker=\"o\",color=\"blue\")\n",
    "    \n",
    "    figure()\n",
    "    title(\"Portrait de phase\")\n",
    "    grid()\n",
    "    if condition_Initiale[0]<b :\n",
    "        plot(sol_1[:,0],sol_1[:,1],color=\"red\")\n",
    "    if condition_Initiale[0]>a :\n",
    "        plot(sol_2[:,0],sol_2[:,1],color=\"red\")\n",
    "    plot(condition_Initiale[1][0],condition_Initiale[1][1],marker=\"o\",color=\"blue\")\n",
    "    \n",
    "    show()\n",
    "    \n",
    "Resolution_ED2(rhs2,(0,(1,2)),-2,20)"
   ]
  },
  {
   "cell_type": "markdown",
   "metadata": {},
   "source": [
    "### Comparaison des algorithmes de dichotomie et de Newton"
   ]
  },
  {
   "cell_type": "code",
   "execution_count": 30,
   "metadata": {},
   "outputs": [
    {
     "name": "stdout",
     "output_type": "stream",
     "text": [
      "Newton : [0.44285440100241641, 4]\n",
      "Dichotomie : [0.44284820556640625, 0.4428558349609375, 17]\n"
     ]
    },
    {
     "data": {
      "image/png": "[encoded data removed]"
     },
     "metadata": {},
     "output_type": "display_data"
    },
    {
     "data": {
      "image/png": "[encoded data removed]"
     },
     "metadata": {},
     "output_type": "display_data"
    }
   ],
   "source": [
    "\n",
    "def Fonction_F(x) :\n",
    "    return x+exp(x)-2\n",
    "def Fonction_DF(x) :\n",
    "    return 1+exp(x)\n",
    "\n",
    "def Newton(point_init,precision) :\n",
    "    \"\"\" modélise la méthode de Newton à partir de point_init \"\"\"\n",
    "    x=point_init\n",
    "    compteur=0\n",
    "    while abs(Fonction_F(x))>precision :\n",
    "        x=x-Fonction_F(x)/Fonction_DF(x)\n",
    "        compteur+=1\n",
    "    return [x,compteur]\n",
    "\n",
    "print(\"Newton :\",Newton(0,1e-10))\n",
    "\n",
    "\n",
    "def Dichotomie(precision) :\n",
    "    u,v=0,1\n",
    "    compteur=0\n",
    "    while v-u>precision :\n",
    "        compteur+=1\n",
    "        milieu=(u+v)/2\n",
    "        if Fonction_F(milieu)<0 :\n",
    "            u=milieu\n",
    "        else :\n",
    "            v=milieu\n",
    "    return [u,v,compteur]\n",
    "\n",
    "print(\"Dichotomie :\",Dichotomie(1e-5))\n",
    "\n",
    "figure()\n",
    "grid()\n",
    "L_X=linspace(-1,2,1000)\n",
    "L_Y=[Fonction_F(x) for x in L_X]\n",
    "plot(L_X,L_Y,color=\"red\",linewidth=2)\n",
    "plot([-1,2],[0,0],color=\"blue\")\n",
    "plot([0,0],[-4,8],color=\"blue\")\n",
    "show()\n",
    "\n",
    "def Traces_Performances(n) :\n",
    "    figure()\n",
    "    LX=list(range(0,n+1))\n",
    "    LY_Newton=[Newton(0,1/(10**k))[1] for k in LX]\n",
    "    LY_Dichotomie=[Dichotomie(1/(10**k))[2] for k in LX]\n",
    "    plot(LX,LY_Newton,color=\"red\")\n",
    "    plot(LX,LY_Dichotomie,color=\"blue\")\n",
    "    legend(('Newton', 'Dichotomie'),\n",
    "           'upper center', shadow=True)\n",
    "    xlabel('précision croissante')\n",
    "    ylabel(\"nombre d'itérations\")\n",
    "    show()\n",
    "    \n",
    "Traces_Performances(10)"
   ]
  },
  {
   "cell_type": "markdown",
   "metadata": {},
   "source": [
    "## Commandes liées au module numpy"
   ]
  },
  {
   "cell_type": "markdown",
   "metadata": {},
   "source": [
    "$\\bullet$ **linspace(a,b,N)** : crée un tableau uni-dimensionnel d'extrémités $a$ et $b$, avec $N$ occurrences\n",
    "   \n",
    "$\\bullet$ **zeros((p,q))**, **ones((p,q))** : crée un tableau de taille $p\\times q$ rempli de $0$ ou de $1$\n",
    "\n",
    "$\\bullet$ **A+B** : effectue l'addition des deux tableaux de même taille\n",
    "\n",
    "$\\bullet$ $\\lambda$ ***A** : multiplie chaque coefficient de $A$ par $\\lambda$\n",
    "\n",
    "$\\bullet$ **A.transpose()** : calcule la transposée $A^T$\n",
    "\n",
    "$\\bullet$ **dot(A,B)** : calcule le produit matriciel $A\\times B$, lorsque cela est possible\n",
    "\n",
    "$\\bullet$ **inv(A)** : calcule $A^{-1}$\n",
    "\n",
    "$\\bullet$ **det(A)** : calcule $\\det(A)$ \n",
    "\n",
    "$\\bullet$ **identity((p))** : crée la matrice $I_p$\n",
    "\n",
    "$\\bullet$ **diag**([$a_1,\\cdots,a_n$],$k=k_0$) : créé la matrice où la diagonale descendante à partir de $k_0$ rangs de la diagonale principale vaut $a_0,\\cdots,a_n$ ; lorsque $k>0$, on est au-dessus de la diagonale\n",
    "\n",
    "$\\bullet$ **A=array**($[[a_{1,1},\\cdots,a_{1,q}],\\cdots,[a_{p,1},\\cdots,a_{p,q}]]$) : crée la matrice $A\\in {\\cal M}_{p,q}(\\mathbb{K})$\n",
    "\n",
    "$\\bullet$ **A[i,j]**, **A[:,j]**, **A[i,:]** : renvoie au coefficient $A_{i,j}$, à la $j^{\\grave{e}me}$ colonne ou à la $i^{\\grave{e}me}$ ligne de $A$\n",
    "\n",
    "$\\bullet$ **A.shape**, **A.reshape(n,m)** : renvoie la taille de $A$, reformate la matrice $A$ en le format $n\\times m$, à condition que la matrice $A$ comporte $n\\cdot m$ coefficients"
   ]
  },
  {
   "cell_type": "code",
   "execution_count": 31,
   "metadata": {},
   "outputs": [
    {
     "name": "stdout",
     "output_type": "stream",
     "text": [
      " matrice A : [[  0.   1.   4.   9.]\n",
      " [  3.   4.   7.  12.]\n",
      " [  6.   7.  10.  15.]\n",
      " [  9.  10.  13.  18.]]\n",
      "Déterminant : 0.0\n",
      "[[  1.   1.   4.   9.]\n",
      " [  3.   5.   7.  12.]\n",
      " [  6.   7.  11.  15.]\n",
      " [  9.  10.  13.  19.]]\n",
      "-147.0\n",
      "Matrice inverse de B : [[  2.65306122e-01  -6.05442177e-01  -2.17687075e-01   4.28571429e-01]\n",
      " [ -4.28571429e-01   6.19047619e-01  -2.38095238e-01  -1.33226763e-16]\n",
      " [ -1.22448980e-01  -1.56462585e-01   7.41496599e-01  -4.28571429e-01]\n",
      " [  1.83673469e-01   6.80272109e-02  -2.78911565e-01   1.42857143e-01]]\n",
      "Matrice B puissance0 : \n",
      "[[ 1.  0.  0.  0.]\n",
      " [ 0.  1.  0.  0.]\n",
      " [ 0.  0.  1.  0.]\n",
      " [ 0.  0.  0.  1.]]\n",
      "Matrice B puissance1 : \n",
      "[[  1.   1.   4.   9.]\n",
      " [  3.   5.   7.  12.]\n",
      " [  6.   7.  11.  15.]\n",
      " [  9.  10.  13.  19.]]\n",
      "Matrice B puissance2 : \n",
      "[[ 109.  124.  172.  252.]\n",
      " [ 168.  197.  280.  420.]\n",
      " [ 228.  268.  389.  588.]\n",
      " [ 288.  340.  496.  757.]]\n",
      "Matrice B puissance3 : \n",
      "[[  3781.   4453.   6472.   9837.]\n",
      " [  6219.   7313.  10591.  16056.]\n",
      " [  8658.  10171.  14711.  22275.]\n",
      " [ 11097.  13030.  18829.  28495.]]\n",
      "Matrice B puissance4 : \n",
      "[[  144505.   169720.   245368.   371448.]\n",
      " [  236208.   277481.   401296.   607656.]\n",
      " [  327912.   385240.   557225.   843864.]\n",
      " [  419616.   493000.   713152.  1080073.]]\n",
      "Matrice B puissance5 : \n",
      "[[  5468905.   6425161.   9293932.  14075217.]\n",
      " [  8945331.  10509245.  15200983.  23020548.]\n",
      " [ 12421758.  14593327.  21108035.  31965879.]\n",
      " [ 15898185.  18677410.  27015085.  40911211.]]\n",
      "[[  1.   1.   4.   9.   3.   5.   7.  12.]\n",
      " [  6.   7.  11.  15.   9.  10.  13.  19.]]\n",
      "[[  3.   3.  12.  27.   9.  15.  21.  36.]\n",
      " [ 18.  21.  33.  45.  27.  30.  39.  57.]]\n"
     ]
    }
   ],
   "source": [
    "import numpy\n",
    "\n",
    "A=zeros((4,4))\n",
    "for k in range(4) :\n",
    "    A[:,k]=k**2\n",
    "\n",
    "for j in range(4) :\n",
    "    A[j,:]+=3*j\n",
    "\n",
    "print(\" matrice A :\",A)\n",
    "\n",
    "print(\"Déterminant :\",det(A)) # matrice A non inversible ...\n",
    "\n",
    "B=identity((4))+A\n",
    "\n",
    "print(B)\n",
    "\n",
    "print(det(B)) # matrice B inversible\n",
    "\n",
    "C=inv(B)\n",
    "\n",
    "print(\"Matrice inverse de B :\",C)\n",
    "\n",
    "def Puissance(M,n) :\n",
    "    p=M.shape[0]\n",
    "    if n==0 :\n",
    "        return identity((p))\n",
    "    else :\n",
    "        return dot(M,Puissance(M,n-1))\n",
    "\n",
    "for k in range(6) :\n",
    "    print(\"Matrice B puissance\"+str(k)+\" : \")\n",
    "    print(Puissance(B,k))\n",
    "    \n",
    "\n",
    "D=B.reshape(2,8)\n",
    "print(D)\n",
    "print(3*D)\n"
   ]
  },
  {
   "cell_type": "markdown",
   "metadata": {},
   "source": [
    "$\\bullet$ **from skimage import io** : importe la fonction *io* du moduel *skipage* pour représenter en image (bitmap) les matrices de $0$ et $1$\n",
    "\n",
    "$\\bullet$ **io.imshow(A)** : représente en bitmap la matrice $A$"
   ]
  },
  {
   "cell_type": "code",
   "execution_count": 32,
   "metadata": {},
   "outputs": [
    {
     "name": "stdout",
     "output_type": "stream",
     "text": [
      "[[ 0.  0.  0.  0.  0.  0.  0.]\n",
      " [ 0.  0.  0.  0.  0.  0.  0.]\n",
      " [ 0.  0.  0.  0.  0.  0.  0.]\n",
      " [ 0.  0.  0.  0.  0.  0.  0.]\n",
      " [ 0.  0.  0.  0.  0.  0.  0.]\n",
      " [ 0.  0.  0.  0.  0.  0.  0.]\n",
      " [ 0.  0.  0.  0.  0.  0.  0.]\n",
      " [ 0.  0.  0.  0.  0.  0.  0.]]\n",
      "[[ 0.  1.  1.  0.  0.  0.  0.]\n",
      " [ 0.  0.  1.  0.  0.  0.  0.]\n",
      " [ 0.  0.  1.  1.  0.  0.  0.]\n",
      " [ 0.  0.  1.  0.  1.  0.  0.]\n",
      " [ 0.  0.  1.  0.  0.  1.  0.]\n",
      " [ 0.  0.  1.  0.  0.  0.  0.]\n",
      " [ 0.  0.  1.  0.  0.  0.  0.]\n",
      " [ 0.  0.  1.  0.  0.  0.  0.]]\n"
     ]
    },
    {
     "data": {
      "image/png": "[encoded data removed]"
     },
     "metadata": {},
     "output_type": "display_data"
    },
    {
     "data": {
      "image/png": "[encoded data removed]"
     },
     "metadata": {},
     "output_type": "display_data"
    },
    {
     "data": {
      "image/png": "[encoded data removed]"
     },
     "metadata": {},
     "output_type": "display_data"
    }
   ],
   "source": [
    "from pylab import *\n",
    "import numpy\n",
    "\n",
    "from skimage import io\n",
    "\n",
    "M=zeros((8,7))\n",
    "\n",
    "print(M)\n",
    "\n",
    "M[:,2]=1\n",
    "for k in range(5) :\n",
    "    M[k,k+1]=1\n",
    "\n",
    "print(M)\n",
    "\n",
    "figure()\n",
    "io.imshow(M,interpolation=\"nearest\")\n",
    "axis('off')\n",
    "title(\"Matrice M\")\n",
    "show()\n",
    "\n",
    "\n",
    "\n",
    "def Test(i,j) :\n",
    "    t=(i-150)/20\n",
    "    u=cos((j-150)/20)\n",
    "    A=(t- 4*u)//2==1 \n",
    "    B=(5*t+4*u)//3==2\n",
    "    return (A or B) and (not(A and B))\n",
    "N=zeros((300,300))\n",
    "\n",
    "for i in range(N.shape[0]) :\n",
    "    for j in range(N.shape[1]) :\n",
    "        if Test(i,j) :\n",
    "            N[i,j]=1\n",
    "figure()\n",
    "io.imshow(N,interpolation=\"nearest\")\n",
    "axis('off')\n",
    "title(\"Matrice N\")\n",
    "show()\n",
    "\n",
    "P=zeros((400,600))\n",
    "\n",
    "def G(i,j) :\n",
    "    return i**2-j**2+i*j*sin(4*i/P.shape[0]+3*j/P.shape[1])\n",
    "\n",
    "for i in range(P.shape[0]) :\n",
    "    for j in range(P.shape[1]) :\n",
    "        P[i,j]=G(i,j)\n",
    "\n",
    "figure()\n",
    "imshow(P)\n",
    "colorbar()\n",
    "title(\"Matrice P colorisée\")\n",
    "show()\n",
    "        "
   ]
  }
 ],
 "metadata": {
  "kernelspec": {
   "display_name": "Python 3",
   "language": "python",
   "name": "python3"
  },
  "language_info": {
   "codemirror_mode": {
    "name": "ipython",
    "version": 3
   },
   "file_extension": ".py",
   "mimetype": "text/x-python",
   "name": "python",
   "nbconvert_exporter": "python",
   "pygments_lexer": "ipython3",
   "version": "3.7.3"
  }
 },
 "nbformat": 4,
 "nbformat_minor": 1
}
