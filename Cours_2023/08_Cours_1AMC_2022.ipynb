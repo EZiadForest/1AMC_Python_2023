{
 "cells": [
  {
   "cell_type": "markdown",
   "metadata": {
    "slideshow": {
     "slide_type": "slide"
    }
   },
   "source": [
    "\n",
    "![](fig/logoENSI.png)\n",
    "![](fig/logoPython.png)\n",
    "\n",
    "\n",
    "# Introduction à la Programmation \n",
    "# Langage Python (cours 8)\n",
    "***\n",
    "**ENSICAEN  1A MC** \n",
    "Novembre 2022\n",
    "## Eric Ziad-Forest\n",
    "***\n",
    "\n",
    "## Sommaire\n",
    "- Programmation Orienté Objet (POO)\n",
    "- Classe\n",
    "- Objets\n",
    "- Méthodes\n",
    "- Polymorphisme\n",
    "- Hierarchie\n",
    "- ...\n",
    "\n",
    "\n",
    "***\n",
    "\n",
    "**Auteurs :**\n",
    "\n",
    "- [Romain Tavenard](mailto:romain.tavenard@univ-rennes2.fr ) \n",
    "- Eric Ziad-Forest ([ziad@ensicaen.fr](mailto: ziad@ensicaen.fr))\n",
    "\n",
    "*Contenu sous licence [CC BY-SA 4.0](https://creativecommons.org/licenses/by-sa/4.0)*"
   ]
  },
  {
   "cell_type": "markdown",
   "metadata": {},
   "source": [
    "# La Programmation Orientée Objet\n",
    "\n",
    "Dans ce chapitre, nous allons parler de programmation orientée objet.\n",
    "Pour cela, nous allons tout d'abord donner une description de ce qu'est un objet et revenir sur des objets que vous avez déjà manipulé en Python.\n",
    "Nous verrons ensuite comment définir vos propres objets et les utiliser.\n",
    "\n",
    "## Les objets du quotidien\n",
    "\n",
    "En Python, toutes les variables que vous manipulez sont en fait des objets.\n",
    "Dans la suite de ce chapitre, nous allons prendre l'exemple d'un type que vous utilisez souvent, le type _chaîne de caractères_ (`str`).\n",
    "En termes de vocabulaire, on dit que `\"abc\"` est un **objet** de la **classe** `str`.\n",
    "\n",
    "Nous avons vu dans le chapitre dédié que l'on disposait, pour les chaînes de caractères, de fonctions permettant des manipulations élémentaires, comme par exemple passer la chaîne de caractères en minuscule :"
   ]
  },
  {
   "cell_type": "code",
   "execution_count": 1,
   "metadata": {},
   "outputs": [
    {
     "name": "stdout",
     "output_type": "stream",
     "text": [
      "ABCDEF\n"
     ]
    }
   ],
   "source": [
    "s = \"abcDEf\"\n",
    "print(s.upper())"
   ]
  },
  {
   "cell_type": "code",
   "execution_count": 12,
   "metadata": {},
   "outputs": [
    {
     "name": "stdout",
     "output_type": "stream",
     "text": [
      "['__add__', '__class__', '__contains__', '__delattr__', '__dir__', '__doc__', '__eq__', '__format__', '__ge__', '__getattribute__', '__getitem__', '__getnewargs__', '__gt__', '__hash__', '__init__', '__init_subclass__', '__iter__', '__le__', '__len__', '__lt__', '__mod__', '__mul__', '__ne__', '__new__', '__reduce__', '__reduce_ex__', '__repr__', '__rmod__', '__rmul__', '__setattr__', '__sizeof__', '__str__', '__subclasshook__', 'capitalize', 'casefold', 'center', 'count', 'encode', 'endswith', 'expandtabs', 'find', 'format', 'format_map', 'index', 'isalnum', 'isalpha', 'isascii', 'isdecimal', 'isdigit', 'isidentifier', 'islower', 'isnumeric', 'isprintable', 'isspace', 'istitle', 'isupper', 'join', 'ljust', 'lower', 'lstrip', 'maketrans', 'partition', 'replace', 'rfind', 'rindex', 'rjust', 'rpartition', 'rsplit', 'rstrip', 'split', 'splitlines', 'startswith', 'strip', 'swapcase', 'title', 'translate', 'upper', 'zfill']\n"
     ]
    }
   ],
   "source": [
    "print(dir(str))"
   ]
  },
  {
   "cell_type": "markdown",
   "metadata": {},
   "source": [
    "Vous vous êtes peut-être déjà habitué à cette syntaxe, pourtant il s'agit bien d'une syntaxe spécifique aux objets.\n",
    "En fait, ici, vous demandez d'appeler la **méthode** `upper()` de l'objet `s`.\n",
    "Une méthode est une fonction rattachée à un objet.\n",
    "\n",
    "En plus des méthodes, les objets peuvent avoir des **attributs**, qui les décrivent.\n",
    "Jetons un oeil à un type un peu particulier, le type _nombre complexe_ :"
   ]
  },
  {
   "cell_type": "code",
   "execution_count": 2,
   "metadata": {},
   "outputs": [],
   "source": [
    "nombre_complexe = 10 + 5j"
   ]
  },
  {
   "cell_type": "markdown",
   "metadata": {},
   "source": [
    "Notez qu'ici `j` permet d'identifier la partie imaginaire.\n",
    "Les objets de ce type ont, en Python, un attribut qui stocke leur partie entière et un autre pour leur partie imaginaire :"
   ]
  },
  {
   "cell_type": "code",
   "execution_count": 3,
   "metadata": {},
   "outputs": [
    {
     "name": "stdout",
     "output_type": "stream",
     "text": [
      "10.0\n",
      "5.0\n"
     ]
    }
   ],
   "source": [
    "print(nombre_complexe.real)\n",
    "print(nombre_complexe.imag)"
   ]
  },
  {
   "cell_type": "markdown",
   "metadata": {},
   "source": [
    "On dit que `real` et `imag` sont des **attributs** (on parle aussi de propriétés) de l'objet nombre complexe.\n",
    "\n",
    "En résumé, nos objets ont des méthodes (qui sont des fonctions) et des attributs, et pour y accéder, on utilise la notation `objet.methode()` ou `objet.attribut`.\n",
    "Il est à noter qu'une méthode peut avoir des arguments, comme toute fonction, comme dans l'exemple suivant :"
   ]
  },
  {
   "cell_type": "code",
   "execution_count": 4,
   "metadata": {},
   "outputs": [
    {
     "name": "stdout",
     "output_type": "stream",
     "text": [
      "1\n"
     ]
    }
   ],
   "source": [
    "print(s.find(\"b\"))"
   ]
  },
  {
   "cell_type": "markdown",
   "metadata": {},
   "source": [
    "## Définir vos propres objets\n",
    "\n",
    "La librairie Python standard propose déjà un nombre important de classes (c'est-à-dire de types) pré-définies.\n",
    "Pour définir une nouvelle classe, on utilise la syntaxe suivante :"
   ]
  },
  {
   "cell_type": "code",
   "execution_count": 5,
   "metadata": {},
   "outputs": [],
   "source": [
    "class Voiture:\n",
    "    def __init__(self):\n",
    "        self.couleur = \"rouge\"\n",
    "        self.nombre_roues = 4\n",
    "    \n",
    "    def repeindre(self, nouvelle_couleur):\n",
    "        self.couleur = nouvelle_couleur"
   ]
  },
  {
   "cell_type": "markdown",
   "metadata": {},
   "source": [
    "On a défini ici une nouvelle classe : la classe `Voiture`.\n",
    "Les objets de cette classe ont deux attribut : `couleur` et `nombre_roues` et une méthode `repeindre(nouvelle_couleur)`.\n",
    "\n",
    "Voyons comment créer un nouvel objet de cette classe :"
   ]
  },
  {
   "cell_type": "code",
   "execution_count": 6,
   "metadata": {},
   "outputs": [],
   "source": [
    "ma_twingo = Voiture()"
   ]
  },
  {
   "cell_type": "markdown",
   "metadata": {},
   "source": [
    "Lors de la définition d'un nouvel objet, la méthode `__init__()` est appelée pour \"construire\" ce nouvel objet, et lui attribuer les bonnes propriétés.\n",
    "On peut accéder à la couleur de `ma_twingo` pour s'en convaincre :"
   ]
  },
  {
   "cell_type": "code",
   "execution_count": 7,
   "metadata": {},
   "outputs": [
    {
     "name": "stdout",
     "output_type": "stream",
     "text": [
      "rouge\n"
     ]
    }
   ],
   "source": [
    "print(ma_twingo.couleur)"
   ]
  },
  {
   "cell_type": "markdown",
   "metadata": {},
   "source": [
    "De même, on peut utiliser ses méthodes :"
   ]
  },
  {
   "cell_type": "code",
   "execution_count": 8,
   "metadata": {},
   "outputs": [
    {
     "name": "stdout",
     "output_type": "stream",
     "text": [
      "rose\n"
     ]
    }
   ],
   "source": [
    "ma_twingo.repeindre(\"rose\")\n",
    "print(ma_twingo.couleur)"
   ]
  },
  {
   "cell_type": "markdown",
   "metadata": {},
   "source": [
    "````{admonition} Le mot-clé self\n",
    ":class: warning\n",
    "\n",
    "Dans tous les cas que vous rencontrerez dans ce cours, le premier argument d'une méthode sera `self`.\n",
    "Cet argument dénote l'objet sur lequel on est en train de travailler.\n",
    "Ainsi, lorsqu'on écrit :\n",
    "\n",
    "```python\n",
    "    def repeindre(self, nouvelle_couleur):\n",
    "        self.couleur = nouvelle_couleur\n",
    "```\n",
    "\n",
    "le sens de ce code est le suivant : \n",
    "\n",
    "* on définit une méthode `repeindre` qui aura **un seul** argument (il ne faut pas compter `self` qui est un argument spécial)\n",
    "* lorsque l'on appelle cette méthode avec une syntaxe du type `ma_twingo.repeindre(\"rose\")`, cette méthode a pour effet de modifier la valeur de l'attribut `couleur` de l'objet `ma_twingo` (celui sur lequel la méthode est appelée)\n",
    "````\n",
    "\n",
    "### La notion d'héritage\n",
    "\n",
    "Dès lors que l'on va introduire plusieurs nouvelles classes dans nos programmes, il arrivera que nos classes partagent un certain nombre d'attributs, voire de méthodes.\n",
    "Si l'on reprend l'exemple de notre classe `Voiture` et que l'on imagine qu'il doive exister une classe `Velo`, il peut s'avérer pertinent de définir une classe **mère**, nommée `Vehicule`, comme suit :"
   ]
  },
  {
   "cell_type": "code",
   "execution_count": 9,
   "metadata": {},
   "outputs": [],
   "source": [
    "class Vehicule:\n",
    "    def __init__(self):\n",
    "        self.couleur = \"rouge\"\n",
    "\n",
    "    def repeindre(self, nouvelle_couleur):\n",
    "        self.couleur = nouvelle_couleur\n",
    "\n",
    "\n",
    "class Voiture(Vehicule):\n",
    "    def __init__(self):\n",
    "        super().__init__()\n",
    "        self.nombre_roues = 4\n",
    "\n",
    "\n",
    "class Velo(Vehicule):\n",
    "    def __init__(self):\n",
    "        super().__init__()\n",
    "        self.nombre_roues = 2\n",
    "    \n",
    "    def repeindre(self, nouvelle_couleur):\n",
    "        print(\"Quelle joie de repeindre mon vélo !\")\n",
    "        self.couleur = nouvelle_couleur"
   ]
  },
  {
   "cell_type": "markdown",
   "metadata": {},
   "source": [
    "Dans le code ci-dessous, on décide que lors de la construction d'un nouveau véhicule, sa couleur sera `\"rouge\"` et on disposera d'une méthode pour le repeindre.\n",
    "On fait aussi le choix de dire que les classes `Voiture` et `Velo` **héritent** de la classe `Vehicule` (on le spécifie en écrivant `class Voiture(Vehicule)`).\n",
    "En héritant de cette classe, elles récupèrent tout ce qui existait pour cette classe (la couleur par défaut et la méthode pour repeindre).\n",
    "Chacune des classes définit en outre un attribut `nombre_roues`.\n",
    "\n",
    "Pour créer un nouvel objet `Voiture` ou `Velo`, on peut alors faire :"
   ]
  },
  {
   "cell_type": "code",
   "execution_count": 10,
   "metadata": {},
   "outputs": [
    {
     "name": "stdout",
     "output_type": "stream",
     "text": [
      "rouge 4\n",
      "rouge 2\n"
     ]
    }
   ],
   "source": [
    "ma_twingo = Voiture()\n",
    "mon_vtt = Velo()\n",
    "\n",
    "print(ma_twingo.couleur, ma_twingo.nombre_roues)\n",
    "print(mon_vtt.couleur, mon_vtt.nombre_roues)"
   ]
  },
  {
   "cell_type": "markdown",
   "metadata": {},
   "source": [
    "De plus, même si on ne le voit pas directement dans le code, grâce à l'héritage, la méthode `repeindre` existe pour les objets de ces classes :"
   ]
  },
  {
   "cell_type": "code",
   "execution_count": 11,
   "metadata": {},
   "outputs": [
    {
     "name": "stdout",
     "output_type": "stream",
     "text": [
      "bleu\n"
     ]
    }
   ],
   "source": [
    "ma_twingo.repeindre(\"bleu\")\n",
    "print(ma_twingo.couleur)"
   ]
  },
  {
   "cell_type": "markdown",
   "metadata": {},
   "source": [
    "Regardons de plus près ce qui se passe lorsqu'on crée un nouvel objet `Velo`.\n",
    "\n",
    "```python\n",
    "class Velo(Vehicule):\n",
    "    def __init__(self):\n",
    "        super().__init__()\n",
    "        self.nombre_roues = 2\n",
    "```\n",
    "\n",
    "Lors de la création d'un nouvel objet, comme pour n'importe quelle classe, la méthode `__init__` est appelée.\n",
    "À l'intérieur de cette méthode, deux choses sont faites :\n",
    "\n",
    "1. `super().__init__()` signifie que l'on appelle le constructeur de la classe mère, soit `Vehicule` : cela permet de définir un attribut `couleur` dont la valeur sera `\"rouge\"`\n",
    "2. `self.nombre_roues = 2` permet de définir un nouvel attribut `nombre_roues` dont la valeur est fixée à 2\n",
    "\n",
    "De plus, vous remarquez que la classe `Velo` redéfinit la méthode `repeindre`.\n",
    "On dit que la classe `Velo` **surcharge** la méthode `repeindre`.\n",
    "\n",
    "Dans ce cas, au lieu de réutiliser la méthode `repeindre` de `Vehicule`, si l'on appelle la méthode `repeindre` pour un objet de la classe `Velo`, c'est cette nouvelle version qui sera utilisée :"
   ]
  },
  {
   "cell_type": "code",
   "execution_count": 12,
   "metadata": {},
   "outputs": [
    {
     "name": "stdout",
     "output_type": "stream",
     "text": [
      "Quelle joie de repeindre mon vélo !\n"
     ]
    }
   ],
   "source": [
    "mon_vtt.repeindre(\"bleu\")"
   ]
  },
  {
   "cell_type": "code",
   "execution_count": 13,
   "metadata": {},
   "outputs": [
    {
     "name": "stdout",
     "output_type": "stream",
     "text": [
      "bleu\n"
     ]
    }
   ],
   "source": [
    "print(mon_vtt.couleur)"
   ]
  },
  {
   "cell_type": "markdown",
   "metadata": {},
   "source": [
    "### Les méthodes spéciales\n",
    "\n",
    "Il existe des opérations \"spéciales\" que l'on peut vouloir effectuer sur des objets.\n",
    "On peut par exemple vouloir les afficher via `print()`, ou les sommer.\n",
    "Pour cela, on fait appel à des **méthodes spéciales**.\n",
    "\n",
    "Prenons un nouvel exemple : supposons que l'on veuille créer une classe pour stocker des vecteurs du plan (des paires de flottants, autrement dit).\n",
    "Une première définition pour la classe `Vecteur` correspondante pourrait être la suivante :"
   ]
  },
  {
   "cell_type": "code",
   "execution_count": 14,
   "metadata": {},
   "outputs": [],
   "source": [
    "class Vecteur:\n",
    "    def __init__(self, x, y):\n",
    "        self.x = x\n",
    "        self.y = y"
   ]
  },
  {
   "cell_type": "markdown",
   "metadata": {},
   "source": [
    "En d'autres termes, on définit un nouveau vecteur en spécifiant ses coordonnées dans le plan, ce qui donne :"
   ]
  },
  {
   "cell_type": "code",
   "execution_count": 15,
   "metadata": {},
   "outputs": [
    {
     "name": "stdout",
     "output_type": "stream",
     "text": [
      "<__main__.Vecteur object at 0x7f1d48694b90>\n"
     ]
    }
   ],
   "source": [
    "v0 = Vecteur(1.5, -1.)\n",
    "print(v0)"
   ]
  },
  {
   "cell_type": "markdown",
   "metadata": {},
   "source": [
    "Ici, on a bien défini notre nouveau vecteur, mais par contre l'affichage laisse à désirer (en tout cas, il ne nous permet pas de savoir ce que contient notre vecteur).\n",
    "On va donc ajouter une nouvelle méthode dont le nom nous est imposé : la méthode `__repr__()` qui permet de définir la **représentation** sous forme de chaîne de caractères d'un objet :"
   ]
  },
  {
   "cell_type": "code",
   "execution_count": 16,
   "metadata": {},
   "outputs": [
    {
     "name": "stdout",
     "output_type": "stream",
     "text": [
      "Vecteur(1.5, -1.0)\n"
     ]
    }
   ],
   "source": [
    "class Vecteur:\n",
    "    def __init__(self, x, y):\n",
    "        self.x = x\n",
    "        self.y = y\n",
    "\n",
    "    def __repr__(self):\n",
    "        return f\"Vecteur({self.x}, {self.y})\"\n",
    "\n",
    "\n",
    "v0 = Vecteur(1.5, -1.)\n",
    "print(v0)"
   ]
  },
  {
   "cell_type": "markdown",
   "metadata": {},
   "source": [
    "On voit bien ici que, même si on n'appelle pas explicitement la méthode `__repr__`, elle est appelée dès lors que l'on doit obtenir une représentation d'un objet sous la forme d'une chaîne de caractères.\n",
    "\n",
    "De la même façon, on peut vouloir définir le résultat de l'opération `v0 + v1` où `v0` et `v1` sont des vecteurs.\n",
    "On devra pour cela définir une méthode `__add__` :"
   ]
  },
  {
   "cell_type": "code",
   "execution_count": 9,
   "metadata": {},
   "outputs": [
    {
     "name": "stdout",
     "output_type": "stream",
     "text": [
      "Vecteur(2.5, -1.0)\n"
     ]
    }
   ],
   "source": [
    "class Vecteur:\n",
    "    def __init__(self, x, y):\n",
    "        self.x = x\n",
    "        self.y = y\n",
    "\n",
    "    def __repr__(self):\n",
    "        return f\"Vecteur({self.x}, {self.y})\"\n",
    "    \n",
    "    def __add__(self, autre_vecteur):\n",
    "        nouveau_vecteur = Vecteur(x=self.x + autre_vecteur.x,\n",
    "                                  y=self.y + autre_vecteur.y)\n",
    "        return nouveau_vecteur\n",
    "\n",
    "\n",
    "v0 = Vecteur(1.5, -1.)\n",
    "v1 = Vecteur(1., 0.)\n",
    "v_somme = v0 + v1\n",
    "print(v_somme)"
   ]
  },
  {
   "cell_type": "markdown",
   "metadata": {},
   "source": [
    "Ici, lorsque l'on écrit `v0 + v1`, tout se passe comme si cette expression était remplacée par `v0.__add__(v1)`.\n",
    "\n",
    "De nombreuses méthodes spéciales peuvent ainsi être définies :\n",
    "\n",
    "Méthode spéciale | Opérateur\n",
    "---|---\n",
    "`__add__(self, o)` | `+`\n",
    "`__sub__(self, o)` | `-`\n",
    "`__mul__(self, o)` | `*`\n",
    "`__truediv__(self, o)` | `/`\n",
    "`__pow__(self, o)` | `**`"
   ]
  },
  {
   "cell_type": "code",
   "execution_count": 11,
   "metadata": {},
   "outputs": [
    {
     "name": "stdout",
     "output_type": "stream",
     "text": [
      "['__add__', '__class__', '__delattr__', '__dict__', '__dir__', '__doc__', '__eq__', '__format__', '__ge__', '__getattribute__', '__gt__', '__hash__', '__init__', '__init_subclass__', '__le__', '__lt__', '__module__', '__ne__', '__new__', '__reduce__', '__reduce_ex__', '__repr__', '__setattr__', '__sizeof__', '__str__', '__subclasshook__', '__weakref__']\n"
     ]
    }
   ],
   "source": [
    "print(dir(Vecteur))"
   ]
  },
  {
   "cell_type": "markdown",
   "metadata": {},
   "source": [
    "# Une autre approche de la POO\n",
    "\n",
    "d'après le site [colab.research.google.com](https://colab.research.google.com/github/linogaliana/python-datascientist/blob/master/notebooks/course/getting-started/07_rappels_classes.ipynb?pli=1)"
   ]
  },
  {
   "cell_type": "markdown",
   "metadata": {},
   "source": [
    "# Qu’est-ce que la programmation orientée objet ?\n",
    "\n",
    "Le langage `Python` se base sur des objets et définit pour eux des actions.\n",
    "Selon le type d’objet, les actions seront différentes.\n",
    "On parle à ce propos de **langage orienté objet** ce qui signifie\n",
    "que la syntaxe du langage `Python` permet de définir de manière conceptuelle\n",
    "des objets et appliquer des traitements cohérents avec leur structure interne.\n",
    "\n",
    "Par exemple,\n",
    "pour manipuler des données textuelles ou numériques, on aura\n",
    "besoin d’appliquer des méthodes différentes. Prenons l’exemple\n",
    "de l’opération `+`. Pour des données numériques, il s’agit\n",
    "de l’addition. Pour des données textuelles, l’addition n’a pas de sens\n",
    "mais on peut envisager d’appliquer cette opération pour faire de la\n",
    "concaténation.\n",
    "\n",
    "Chaque type d’objet se verra donc appliquer des actions\n",
    "adaptées. Cela offre une grande flexibilité au langage `Python` car on\n",
    "peut définir une méthode générique (par exemple l’addition) et l’adapter\n",
    "à différents types d’objets.\n",
    "\n",
    "Le fait que `Python` soit un langage orienté objet a une influence sur la\n",
    "syntaxe. On retrouvera régulière la syntaxe `objet.method` qui est au coeur\n",
    "de `Python`. Par exemple `pd.DataFrame.mean` se traduit par\n",
    "appliquer la méthode `mean` a un objet de type `pd.DataFrame`.\n",
    "\n",
    "\n",
    "\n",
    "# La définition d’un objet\n",
    "\n",
    "Pour définir un objet, il faut lui donner des caractéristiques et des actions, ce qu’il est, ce qu’il peut faire.\n",
    "\n",
    "Avec une liste, on peut ajouter des éléments par exemple avec l’action .append(). On peut créer autant d’objets “liste” qu’on le souhaite.\n",
    "\n",
    "**Une classe regroupe des fonctions et des attributs qui définissent un objet.**\n",
    "Un objet est une instance d’une classe, c’est-à-dire un exemplaire issu de la classe. L’objet avec un comportement et un état, tous deux définis par la classe. On peut créer autant d’objets que l’on désire avec une classe donnée.\n",
    "\n",
    "Ici nous allons essayer de créer une classe chat, avec des attributs pour caractériser le chat et des actions, pour voir ce qu’il peut faire avec un objet de la classe chat.\n",
    "\n",
    "# Exemple : la Classe chat()\n",
    "\n",
    "## Les attributs de la classe chat\n",
    "\n",
    "### Classe chat version 1 - premiers attributs\n",
    "\n",
    "On veut pouvoir créer un objet chat() qui nous permettra à terme de créer une colonie de chats (on sait\n",
    "jamais ca peut servir …).\n",
    "Pour commencer, on va définir un chat avec des attributs de base : une couleur et un nom."
   ]
  },
  {
   "cell_type": "code",
   "execution_count": 2,
   "metadata": {},
   "outputs": [],
   "source": [
    "class chat: # Définition de notre classe chat\n",
    "    \"\"\"Classe définissant un chat caractérisé par :\n",
    "    - son nom\n",
    "    - sa couleur \"\"\"\n",
    "    \n",
    "    def __init__(self): # Notre méthode constructeur - \n",
    "        # self c'est notre objet qu'on est en train de créer\n",
    "        \"\"\"Pour l'instant, on ne va définir que deux attributs - nom et couleur \"\"\"\n",
    "        self.couleur = \"Noir\"   \n",
    "        self.nom = \"Aucun nom\""
   ]
  },
  {
   "cell_type": "code",
   "execution_count": 3,
   "metadata": {},
   "outputs": [
    {
     "name": "stdout",
     "output_type": "stream",
     "text": [
      "<class '__main__.chat'> Noir , Aucun nom"
     ]
    }
   ],
   "source": [
    "mon_chat = chat()\n",
    "\n",
    "print(type(mon_chat), mon_chat.couleur ,\",\", mon_chat.nom) "
   ]
  },
  {
   "cell_type": "markdown",
   "metadata": {},
   "source": [
    "On nous dit bien que Mon chat est défini à partir de la classe chat,\n",
    "c’est ce que nous apprend la fonction type.\n",
    "Pour l’instant il n’a pas de nom\n",
    "\n",
    "### Classe chat version 2 - autres attributs\n",
    "\n",
    "Avec un nom et une couleur, on ne va pas loin. On peut continuer à définir des attributs pour la classe chat\n",
    "de la même façon que précédemment."
   ]
  },
  {
   "cell_type": "code",
   "execution_count": 4,
   "metadata": {},
   "outputs": [],
   "source": [
    "class chat: # Définition de notre classe chat\n",
    "    \"\"\"Classe définissant un chat caractérisé par :\n",
    "    - sa couleur\n",
    "    - son âge\n",
    "    - son caractère\n",
    "    - son poids\n",
    "    - son maitre\n",
    "    - son nom \"\"\"\n",
    "\n",
    "    \n",
    "    def __init__(self): # Notre méthode constructeur - \n",
    "        #self c'est notre objet qu'on est en train de créer\n",
    "        self.couleur = \"Noir\"    \n",
    "        self.age = 10\n",
    "        self.caractere = \"Joueur\"\n",
    "        self.poids = 3\n",
    "        self.maitre = \"Jeanne\"\n",
    "        self.nom = \"Aucun nom\""
   ]
  },
  {
   "cell_type": "code",
   "execution_count": 5,
   "metadata": {},
   "outputs": [
    {
     "name": "stdout",
     "output_type": "stream",
     "text": [
      "Help on class chat in module __main__:\n",
      "\n",
      "class chat(builtins.object)\n",
      " |  Classe définissant un chat caractérisé par :\n",
      " |  - sa couleur\n",
      " |  - son âge\n",
      " |  - son caractère\n",
      " |  - son poids\n",
      " |  - son maitre\n",
      " |  - son nom\n",
      " |  \n",
      " |  Methods defined here:\n",
      " |  \n",
      " |  __init__(self)\n",
      " |      Initialize self.  See help(type(self)) for accurate signature.\n",
      " |  \n",
      " |  ----------------------------------------------------------------------\n",
      " |  Data descriptors defined here:\n",
      " |  \n",
      " |  __dict__\n",
      " |      dictionary for instance variables (if defined)\n",
      " |  \n",
      " |  __weakref__\n",
      " |      list of weak references to the object (if defined)\n"
     ]
    }
   ],
   "source": [
    "help(chat) \n",
    "# si on veut savoir ce que fait la classe \"chat\" on appelle l'aide"
   ]
  },
  {
   "cell_type": "code",
   "execution_count": 6,
   "metadata": {},
   "outputs": [
    {
     "name": "stdout",
     "output_type": "stream",
     "text": [
      "L'âge du chat est 10 ans"
     ]
    }
   ],
   "source": [
    "mon_chat = chat()\n",
    "print(\"L'âge du chat est\", mon_chat.age,\"ans\") \n",
    "# on avait défini l'attribut age de la classe chat comme étant égal à 10\n",
    "#, si on demande l'attribut age de notre Martin on obtient 10"
   ]
  },
  {
   "cell_type": "markdown",
   "metadata": {},
   "source": [
    "Par défaut, les attributs de la classe Chat seront toujours les mêmes à chaque création de chat à partir\n",
    "de la classe Chat.\n",
    "\n",
    "Mais une fois qu’une instance de classe est créée (ici mon chat est une instance de classe) on peut décider\n",
    "de changer la valeur de ses attributs.\n",
    "\n",
    "#### Un nouveau poids"
   ]
  },
  {
   "cell_type": "code",
   "execution_count": 7,
   "metadata": {},
   "outputs": [
    {
     "name": "stdout",
     "output_type": "stream",
     "text": [
      "3\n",
      "3.5"
     ]
    }
   ],
   "source": [
    "print(mon_chat.poids)\n",
    "# si on veut changer le poids de mon chat, parce qu'il a un peu grossi après les fêtes\n",
    "mon_chat.poids = 3.5\n",
    "print(mon_chat.poids) # maintenant le poids est 3.5"
   ]
  },
  {
   "cell_type": "markdown",
   "metadata": {},
   "source": [
    "#### Un nouveau nom"
   ]
  },
  {
   "cell_type": "code",
   "execution_count": 8,
   "metadata": {},
   "outputs": [
    {
     "data": {
      "text/plain": [
       "'Martin'"
      ]
     },
     "metadata": {},
     "output_type": "display_data"
    }
   ],
   "source": [
    "# on veut aussi lui donner un nom \n",
    "mon_chat.nom = \"Martin\"\n",
    "mon_chat.nom"
   ]
  },
  {
   "cell_type": "markdown",
   "metadata": {},
   "source": [
    "#### Une autre instance de la classe Chat\n",
    "\n",
    "On peut aussi créer d’autres objets chat à partir de la classe chat :"
   ]
  },
  {
   "cell_type": "code",
   "execution_count": 9,
   "metadata": {},
   "outputs": [
    {
     "name": "stdout",
     "output_type": "stream",
     "text": [
      "Noir"
     ]
    }
   ],
   "source": [
    "# on appelle la classe\n",
    "l_autre_chat = chat()\n",
    "# on change les attributs qui nous intéressent\n",
    "l_autre_chat.nom = \"Ginette\"\n",
    "l_autre_chat.maitre = \"Roger\"\n",
    "# les attributs inchangés donnent la même chose \n",
    "# que ceux définis par défaut pour la classe\n",
    "print(l_autre_chat.couleur)"
   ]
  },
  {
   "cell_type": "markdown",
   "metadata": {},
   "source": [
    "## Les méthodes de la classe chat\n",
    "\n",
    "Les attributs sont des variables propres à notre objet, qui servent à le caractériser.\n",
    "\n",
    "Les méthodes sont plutôt des actions, comme nous l’avons vu dans la partie précédente, agissant sur l’objet.\n",
    "\n",
    "Par exemple, la méthode append de la classe list permet d’ajouter un élément dans l’objet list manipulé.\n",
    "\n",
    "### Classe chat version 3 - première méthode\n",
    "\n",
    "On peut définir une première méthode : nourrir"
   ]
  },
  {
   "cell_type": "code",
   "execution_count": 10,
   "metadata": {},
   "outputs": [],
   "source": [
    "class chat: # Définition de notre classe chat\n",
    "    \"\"\"Classe définissant un chat caractérisé par :\n",
    "    - sa couleur\n",
    "    - son âge\n",
    "    - son caractère\n",
    "    - son poids\n",
    "    - son maitre\n",
    "    - son nom \n",
    "    \n",
    "    L'objet chat a une méthode : nourrir \"\"\"\n",
    "\n",
    "    \n",
    "    def __init__(self): # Notre méthode constructeur - \n",
    "        #self c'est notre objet qu'on est en train de créer\n",
    "        self.couleur = \"Noir\"    \n",
    "        self.age = 10\n",
    "        self.caractere = \"Joueur\"\n",
    "        self.poids = 3\n",
    "        self.maitre = \"Jeanne\"\n",
    "        self.nom = \"Aucun nom\"\n",
    "        \n",
    "        \"\"\"Par défaut, notre ventre est vide\"\"\"\n",
    "        self.ventre = \"\"\n",
    "        \n",
    "    def nourrir(self, nourriture):\n",
    "        \"\"\"Méthode permettant de donner à manger au chat.\n",
    "        Si le ventre n'est pas vide, on met une virgule avant de rajouter\n",
    "        la nourriture\"\"\"       \n",
    "        if self.ventre != \"\":\n",
    "            self.ventre += \",\"\n",
    "        self.ventre += nourriture"
   ]
  },
  {
   "cell_type": "code",
   "execution_count": 11,
   "metadata": {},
   "outputs": [
    {
     "data": {
      "text/plain": [
       "''"
      ]
     },
     "metadata": {},
     "output_type": "display_data"
    }
   ],
   "source": [
    "mon_chat = chat()\n",
    "mon_chat.nom = \"Martin\"\n",
    "mon_chat.ventre # On n'a rien donné à Martin, son ventre est vide"
   ]
  },
  {
   "cell_type": "code",
   "execution_count": 12,
   "metadata": {},
   "outputs": [
    {
     "name": "stdout",
     "output_type": "stream",
     "text": [
      "Le contenu du ventre de martin :  Croquettes"
     ]
    }
   ],
   "source": [
    "# on appelle la méthode \"nourrir\" de la classe chat, \n",
    "# on lui donne un élément, ici des croquettes\n",
    "mon_chat.nourrir('Croquettes')\n",
    "print(\"Le contenu du ventre de martin : \",mon_chat.ventre)"
   ]
  },
  {
   "cell_type": "code",
   "execution_count": 13,
   "metadata": {},
   "outputs": [
    {
     "name": "stdout",
     "output_type": "stream",
     "text": [
      "Le contenu du ventre de martin :  Croquettes,Saumon"
     ]
    }
   ],
   "source": [
    "mon_chat.nourrir('Saumon')\n",
    "print(\"Le contenu du ventre de martin : \",mon_chat.ventre)"
   ]
  },
  {
   "cell_type": "markdown",
   "metadata": {},
   "source": [
    "### Classe chat version 4 - autre méthode\n",
    "\n",
    "Avec un chat, on peut imaginer plein de méthodes. Ici on va définir une action “nourrir” et une autre action\n",
    "“litiere”, qui consiste à vider l’estomac du chat."
   ]
  },
  {
   "cell_type": "code",
   "execution_count": 14,
   "metadata": {},
   "outputs": [],
   "source": [
    "class chat: # Définition de notre classe Personne\n",
    "    \"\"\"Classe définissant un chat caractérisé par :\n",
    "    - sa couleur\n",
    "    - son âge\n",
    "    - son caractère\n",
    "    - son poids\n",
    "    - son maitre\n",
    "    - son nom \n",
    "    \n",
    "    L'objet chat a deux méthodes : nourrir et litiere \"\"\"\n",
    "\n",
    "    \n",
    "    def __init__(self): # Notre méthode constructeur - \n",
    "        #self c'est notre objet qu'on est en train de créer\n",
    "        self.nom = \"\"\n",
    "        self.couleur = \"Roux\"    \n",
    "        self.age = 10\n",
    "        self.caractere = \"Joueur\"\n",
    "        self.poids = 3\n",
    "        self.maitre = \"Jeanne\"\n",
    "        \"\"\"Par défaut, notre ventre est vide\"\"\"\n",
    "        self.ventre = \"\"\n",
    "        \n",
    "    def nourrir(self, nourriture):\n",
    "        \"\"\"Méthode permettant de donner à manger au chat.\n",
    "        Si le ventre n'est pas vide, on met une virgule avant de rajouter\n",
    "        la nourriture\"\"\"       \n",
    "        if self.ventre != \"\":\n",
    "            self.ventre += \",\"\n",
    "        self.ventre += nourriture\n",
    "\n",
    "    def litiere(self) : \n",
    "        \"\"\" Méthode permettant au chat d'aller à sa litière : \n",
    "        en conséquence son ventre est vide \"\"\"       \n",
    "        self.ventre = \"\"\n",
    "        print(self.nom,\"a le ventre vide\")"
   ]
  },
  {
   "cell_type": "code",
   "execution_count": 15,
   "metadata": {},
   "outputs": [
    {
     "name": "stdout",
     "output_type": "stream",
     "text": [
      "Le contenu du ventre de martin croquettes\n",
      "Martin a le ventre vide"
     ]
    }
   ],
   "source": [
    "# on définit Martin le chat\n",
    "mon_chat = chat()\n",
    "mon_chat.nom = \"Martin\"\n",
    "# on le nourrit avec des croquettes\n",
    "mon_chat.nourrir('croquettes')\n",
    "print(\"Le contenu du ventre de martin\", mon_chat.ventre)\n",
    "\n",
    "\n",
    "# Il va dans sa litiere\n",
    "mon_chat.litiere()"
   ]
  },
  {
   "cell_type": "code",
   "execution_count": 16,
   "metadata": {},
   "outputs": [
    {
     "name": "stdout",
     "output_type": "stream",
     "text": [
      "Help on method nourrir in module __main__:\n",
      "\n",
      "nourrir(nourriture) method of __main__.chat instance\n",
      "    Méthode permettant de donner à manger au chat.\n",
      "    Si le ventre n'est pas vide, on met une virgule avant de rajouter\n",
      "    la nourriture\n",
      "\n",
      "Help on method litiere in module __main__:\n",
      "\n",
      "litiere() method of __main__.chat instance\n",
      "    Méthode permettant au chat d'aller à sa litière : \n",
      "    en conséquence son ventre est vide\n"
     ]
    }
   ],
   "source": [
    "help(mon_chat.nourrir)\n",
    "help(mon_chat.litiere)"
   ]
  },
  {
   "cell_type": "markdown",
   "metadata": {},
   "source": [
    "### ***facultatif*** Les méthodes spéciales\n",
    "\n",
    "Si on reprend notre classe chat, il y a en réalité des méthodes spéciales que nous n’avons pas définies mais\n",
    "qui sont implicites.\n",
    "\n",
    "Python comprend seul ce que doivent faire ces méthodes. Il a une idée préconcue de ce qu’elles doivent\n",
    "effectuer comme opération. Si vous ne redéfinissez par une méthode spéciale pour qu’elle fasse ce que vous\n",
    "souhaitez, ca peut donner des r\u0013esultats inattendus.\n",
    "\n",
    "Elles servent à plusieurs choses :\n",
    "\n",
    "-   à initialiser l’objet instancié : \\_\\_init\\_\\_\n",
    "-   à modifier son affichage : \\_\\_repr\\_\\_"
   ]
  },
  {
   "cell_type": "raw",
   "metadata": {
    "raw_mimetype": "text/html"
   },
   "source": [
    "<!-- #endregion -->"
   ]
  },
  {
   "cell_type": "code",
   "execution_count": 17,
   "metadata": {},
   "outputs": [
    {
     "name": "stdout",
     "output_type": "stream",
     "text": [
      "Martin\n",
      "Martin"
     ]
    }
   ],
   "source": [
    "# pour avoir la valeur de l'attribut \"nom\"\n",
    "\n",
    "print(mon_chat.__getattribute__(\"nom\"))\n",
    "# on aurait aussi pu faire plus simple :\n",
    "print(mon_chat.nom)"
   ]
  },
  {
   "cell_type": "markdown",
   "metadata": {},
   "source": [
    "``` python\n",
    "# si l'attribut n'existe pas : on a une erreur\n",
    "# Python recherche l'attribut et, s'il ne le trouve pas dans l'objet et si une méthode __getattr__ est spécifiée, \n",
    "# il va l'appeler en lui passant en paramètre le nom de l'attribut recherché, sous la forme d'une chaîne de caractères.\n",
    "\n",
    "print(mon_chat.origine)\n",
    "```\n",
    "\n",
    "    ## Error in py_call_impl(callable, dots$args, dots$keywords): AttributeError: 'chat' object has no attribute 'origine'\n",
    "    ## \n",
    "    ## Detailed traceback: \n",
    "    ##   File \"<string>\", line 1, in <module>\n",
    "\n",
    "Mais on peut modifier les méthodes spéciales de notre classe chat pour éviter d’avoir des erreurs d’attributs. On va aussi en profiter pour modifier la représentation de l’instance chat qui pour l’instant donne \\<\\_*main\\_*.chat object at 0x0000000005AB4C50\\>\n",
    "\n",
    "### Classe chat version 5 - méthode spéciale"
   ]
  },
  {
   "cell_type": "code",
   "execution_count": 18,
   "metadata": {},
   "outputs": [],
   "source": [
    "class chat: # Définition de notre classe Personne\n",
    "    \"\"\"Classe définissant un chat caractérisé par :\n",
    "    - sa couleur\n",
    "    - son âge\n",
    "    - son caractère\n",
    "    - son poids\n",
    "    - son maitre\n",
    "    - son nom \n",
    "    \n",
    "    L'objet chat a deux méthodes : nourrir et litiere \"\"\"\n",
    "\n",
    "    \n",
    "    def __init__(self): # Notre méthode constructeur - \n",
    "        #self c'est notre objet qu'on est en train de créer\n",
    "        self.nom = \"\"\n",
    "        self.couleur = \"Roux\"    \n",
    "        self.age = 10\n",
    "        self.caractere = \"Joueur\"\n",
    "        self.poids = 3\n",
    "        self.maitre = \"Jeanne\"\n",
    "        \"\"\"Par défaut, notre ventre est vide\"\"\"\n",
    "        self.ventre = \"\"\n",
    "        \n",
    "    def nourrir(self, nourriture):\n",
    "        \"\"\"Méthode permettant de donner à manger au chat.\n",
    "        Si le ventre n'est pas vide, on met une virgule avant de rajouter\n",
    "        la nourriture\"\"\"       \n",
    "        if self.ventre != \"\":\n",
    "            self.ventre += \",\"\n",
    "        self.ventre += nourriture\n",
    "\n",
    "    def litiere(self) : \n",
    "        \"\"\" Méthode permettant au chat d'aller à sa litière : \n",
    "        en conséquence son ventre est vide \"\"\"       \n",
    "        self.ventre = \"\"\n",
    "        print(self.nom,\"a le ventre vide\")\n",
    "    \n",
    "    def __getattribute__(self, key):\n",
    "            return print(key,\"n'est pas un attribut de la classe chat\")   \n",
    "            \n",
    "    def __repr__(self):\n",
    "            return \"Je suis une instance de la classe chat\""
   ]
  },
  {
   "cell_type": "code",
   "execution_count": 19,
   "metadata": {},
   "outputs": [
    {
     "name": "stdout",
     "output_type": "stream",
     "text": [
      "Martin\n",
      "origine n'est pas un attribut de la classe chat\n",
      "<__main__.chat object at 0x7f2f50492580>\n",
      "Je suis une instance de la classe chat"
     ]
    }
   ],
   "source": [
    "# j'ai gardé l'exemple chat défini selon la classe version 4\n",
    "# Martin, le chat\n",
    "# on a vu précédemment qu'il n'avait pas d'attribut origine\n",
    "# et que cela levait une erreur AttributeError\n",
    "print(mon_chat.nom)\n",
    "\n",
    "\n",
    "# on va définir un nouveau chat avec la version 5\n",
    "# on appelle à nouveau un attribut qui n'existe pas \"origine\"\n",
    "# on a bien le message défini par la méthode spéciale _gettattribute\n",
    "\n",
    "mon_chat_nouvelle_version = chat()\n",
    "mon_chat_nouvelle_version.origine\n",
    "\n",
    "# Maintenant on a aussi une définition de l'objet plus clair\n",
    "print(mon_chat)\n",
    "print(mon_chat_nouvelle_version)"
   ]
  },
  {
   "cell_type": "markdown",
   "metadata": {},
   "source": [
    "### Pour poursuivre avec un fichier en code .py\n",
    "\n",
    "Analyser le code ci-dessous afin d'avoir compris le notion de programmation objet."
   ]
  },
  {
   "cell_type": "code",
   "execution_count": 3,
   "metadata": {},
   "outputs": [
    {
     "name": "stdout",
     "output_type": "stream",
     "text": [
      "=====================Une tragédie en trois actes======================\n",
      "--------------------Acte I: la vache prend 10 kg.---------------------\n",
      "Animal vivant, 510 kg\n",
      "----------------------Acte II: Dumbo l'éléphant-----------------------\n",
      "Dumbo, un animal gentil bien vivant, 1000 kg\n",
      "-----------------------Acte III: le féroce lion-----------------------\n",
      "Animal féroce bien vivant, 200 kg\n",
      "-------------Scène tragique: le lion dévore l'éléphant...-------------\n",
      "Pauvre Dumbo meurt, paix à son âme...\n",
      "Dumbo, un animal gentil mais mort, 980 kg\n",
      "Animal féroce bien vivant, 220 kg\n"
     ]
    }
   ],
   "source": [
    "# Pour lancer un fichier .py utiliser run\n",
    "run animal.py"
   ]
  },
  {
   "cell_type": "markdown",
   "metadata": {},
   "source": [
    "### Dont voici le code source"
   ]
  },
  {
   "cell_type": "code",
   "execution_count": 7,
   "metadata": {},
   "outputs": [
    {
     "name": "stdout",
     "output_type": "stream",
     "text": [
      "=====================Une tragédie en trois actes======================\n",
      "--------------------Acte I: la vache prend 10 kg.---------------------\n",
      "Animal vivant, 510 kg\n",
      "----------------------Acte II: Dumbo l'éléphant-----------------------\n",
      "Dumbo, un animal gentil bien vivant, 1000 kg\n",
      "-----------------------Acte III: le féroce lion-----------------------\n",
      "Animal féroce bien vivant, 200 kg\n",
      "-------------Scène tragique: le lion dévore l'éléphant...-------------\n",
      "Pauvre Dumbo meurt, paix à son âme...\n",
      "Dumbo, un animal gentil mais mort, 980 kg\n",
      "Animal féroce bien vivant, 220 kg\n"
     ]
    }
   ],
   "source": [
    "#!/usr/bin/env python3\n",
    "# coding: utf-8\n",
    "\n",
    "\"\"\"\n",
    "Exemple (tragique) de Programmation Orientée Objet.\n",
    "\"\"\"\n",
    "\n",
    "\n",
    "# Définition d'une classe ==============================\n",
    "\n",
    "class Animal:\n",
    "    \"\"\"\n",
    "    Un animal, défini par sa masse.\n",
    "    \"\"\"\n",
    "\n",
    "    def __init__(self, masse):\n",
    "        \"\"\"\n",
    "        Initialisation d'un Animal, a priori vivant.\n",
    "\n",
    "        :param float masse: masse en kg (> 0)\n",
    "        :raise ValueError: masse non réelle ou négative\n",
    "        \"\"\"\n",
    "\n",
    "        self.estVivant = True\n",
    "\n",
    "        self.masse = float(masse)\n",
    "        if self.masse < 0:\n",
    "            raise ValueError(\"La masse ne peut pas être négative.\")\n",
    "\n",
    "\n",
    "    def __str__(self):\n",
    "        \"\"\"\n",
    "        Surcharge de la fonction `str()`.\n",
    "\n",
    "        L'affichage *informel* de l'objet dans l'interpréteur, p.ex. `print(a)`\n",
    "        sera résolu comme `a.__str__()`\n",
    "\n",
    "        :return: une chaîne de caractères\n",
    "        \"\"\"\n",
    "\n",
    "        return f\"Animal {'vivant' if self.estVivant else 'mort'}, \" \\\n",
    "            f\"{self.masse:.0f} kg\"\n",
    "\n",
    "\n",
    "    def meurt(self):\n",
    "        \"\"\"\n",
    "        L'animal meurt.\n",
    "        \"\"\"\n",
    "\n",
    "        self.estVivant = False\n",
    "\n",
    "\n",
    "    def grossit(self, masse):\n",
    "        \"\"\"\n",
    "        L'animal grossit (ou maigrit) d'une certaine masse (valeur algébrique).\n",
    "\n",
    "        :param float masse: prise (>0) ou perte (<0) de masse.\n",
    "        :raise ValueError: masse non réelle.\n",
    "        \"\"\"\n",
    "\n",
    "        self.masse += float(masse)\n",
    "\n",
    "\n",
    "# Définition d'une classe héritée ==============================\n",
    "\n",
    "class AnimalFeroce(Animal):\n",
    "    \"\"\"\n",
    "    Un animal féroce est un animal qui peut dévorer d'autres animaux.\n",
    "\n",
    "    La classe-fille hérite des attributs et méthodes de la\n",
    "    classe-mère, mais peut les surcharger (i.e. en changer la\n",
    "    définition), ou en ajouter de nouveaux:\n",
    "\n",
    "    - la méthode `AnimalFeroce.__init__()` dérive directement de\n",
    "      `Animal.__init__()` (même méthode d'initialisation);\n",
    "    - `AnimalFeroce.__str__()` surcharge `Animal.__str__()`;\n",
    "    - `AnimalFeroce.devorer()` est une nouvelle méthode propre à\n",
    "      `AnimalFeroce`.\n",
    "    \"\"\"\n",
    "\n",
    "    def __str__(self):\n",
    "        \"\"\"\n",
    "        Surcharge de la fonction `str()`.\n",
    "        \"\"\"\n",
    "\n",
    "        return \"Animal féroce \" \\\n",
    "            f\"{'bien vivant' if self.estVivant else 'mais mort'}, \" \\\n",
    "            f\"{self.masse:.0f} kg\"\n",
    "\n",
    "    def devore(self, other):\n",
    "        \"\"\"\n",
    "        L'animal (self) devore un autre animal (other).\n",
    "\n",
    "        * Si other est également un animal féroce, il faut que self soit plus\n",
    "          gros que other pour le dévorer. Sinon, other se défend et self meurt.\n",
    "        * Si self dévore other, other meurt, self grossit de la masse de other\n",
    "          (jusqu'à 10% de sa propre masse) et other maigrit d'autant.\n",
    "\n",
    "        :param Animal other: animal à dévorer\n",
    "        :return: prise de masse (0 si self meurt)\n",
    "        \"\"\"\n",
    "\n",
    "        if isinstance(other, AnimalFeroce) and (other.masse > self.masse):\n",
    "            # Pas de chance...\n",
    "            self.meurt()\n",
    "            prise = 0.\n",
    "        else:\n",
    "            other.meurt()             # Other meurt\n",
    "            prise = min(other.masse, self.masse * 0.1)\n",
    "            self.grossit(prise)       # Self grossit\n",
    "            other.grossit(-prise)     # Other maigrit\n",
    "\n",
    "        return prise\n",
    "\n",
    "\n",
    "# Définition d'une autre classe héritée ==============================\n",
    "\n",
    "class AnimalGentil(Animal):\n",
    "    \"\"\"\n",
    "    Un animal gentil est un animal avec un petit nom.\n",
    "\n",
    "    La classe-fille hérite des attributs et méthodes de la\n",
    "    classe-mère, mais peut les surcharger (i.e. en changer la\n",
    "    définition), ou en ajouter de nouveaux:\n",
    "\n",
    "    - la méthode `AnimalGentil.__init__()` surcharge l'initialisation originale\n",
    "      `Animal.__init__()`;\n",
    "    - `AnimalGentil.__str__()` surcharge `Animal.__str__()`;\n",
    "    \"\"\"\n",
    "\n",
    "    def __init__(self, masse, nom='Youki'):\n",
    "        \"\"\"\n",
    "        Initialisation d'un animal gentil, avec son masse et son nom.\n",
    "        \"\"\"\n",
    "\n",
    "        # Initialisation de la classe parente (nécessaire pour assurer\n",
    "        # l'héritage)\n",
    "        Animal.__init__(self, masse)\n",
    "\n",
    "        # Attributs propres à la classe AnimalGentil\n",
    "        self.nom = nom\n",
    "\n",
    "    def __str__(self):\n",
    "        \"\"\"\n",
    "        Surcharge de la fonction `str()`.\n",
    "        \"\"\"\n",
    "\n",
    "        return f\"{self.nom}, un animal gentil \" \\\n",
    "            f\"{'bien vivant' if self.estVivant else 'mais mort'}, \" \\\n",
    "            f\"{self.masse:.0f} kg\"\n",
    "\n",
    "    def meurt(self):\n",
    "        \"\"\"\n",
    "        L'animal gentil meurt, avec un éloge funéraire.\n",
    "        \"\"\"\n",
    "\n",
    "        Animal.meurt(self)\n",
    "        print(f\"Pauvre {self.nom} meurt, paix à son âme...\")\n",
    "\n",
    "\n",
    "if __name__ == '__main__':\n",
    "\n",
    "    # Exemple d'utilisation des classes définies ci-dessus\n",
    "\n",
    "    print(\"Une tragédie en trois actes\".center(70, '='))\n",
    "\n",
    "    print(\"Acte I: la vache prend 10 kg.\".center(70, '-'))\n",
    "    vache = Animal(500.)        # Instantiation d'un animal de 500 kg\n",
    "    vache.grossit(10)           # La vache grossit de 10 kg\n",
    "    print(vache)\n",
    "\n",
    "    print(\"Acte II: Dumbo l'éléphant\".center(70, '-'))\n",
    "    elephant = AnimalGentil(1000., \"Dumbo\")  # Instantiation d'un animal gentil\n",
    "    print(elephant)\n",
    "    \n",
    "    print(\"Acte III: le féroce lion\".center(70, '-'))\n",
    "    lion = AnimalFeroce(200)    # Instantiation d'un animal féroce\n",
    "    print(lion)\n",
    "\n",
    "    print(\"Scène tragique: le lion dévore l'éléphant...\".center(70, '-'))\n",
    "    lion.devore(elephant)       # Le lion dévore l'éléphant\n",
    "\n",
    "    print(elephant)\n",
    "    print(lion)"
   ]
  },
  {
   "cell_type": "code",
   "execution_count": 6,
   "metadata": {},
   "outputs": [
    {
     "name": "stdout",
     "output_type": "stream",
     "text": [
      "#!/usr/bin/env python3\r\n",
      "# coding: utf-8\r\n",
      "\r\n",
      "\"\"\"\r\n",
      "Exemple (tragique) de Programmation Orientée Objet.\r\n",
      "\"\"\"\r\n",
      "\r\n",
      "\r\n",
      "# Définition d'une classe ==============================\r\n",
      "\r\n",
      "class Animal:\r\n",
      "    \"\"\"\r\n",
      "    Un animal, défini par sa masse.\r\n",
      "    \"\"\"\r\n",
      "\r\n",
      "    def __init__(self, masse):\r\n",
      "        \"\"\"\r\n",
      "        Initialisation d'un Animal, a priori vivant.\r\n",
      "\r\n",
      "        :param float masse: masse en kg (> 0)\r\n",
      "        :raise ValueError: masse non réelle ou négative\r\n",
      "        \"\"\"\r\n",
      "\r\n",
      "        self.estVivant = True\r\n",
      "\r\n",
      "        self.masse = float(masse)\r\n",
      "        if self.masse < 0:\r\n",
      "            raise ValueError(\"La masse ne peut pas être négative.\")\r\n",
      "\r\n",
      "\r\n",
      "    def __str__(self):\r\n",
      "        \"\"\"\r\n",
      "        Surcharge de la fonction `str()`.\r\n",
      "\r\n",
      "        L'affichage *informel* de l'objet dans l'interpréteur, p.ex. `print(a)`\r\n",
      "        sera résolu comme `a.__str__()`\r\n",
      "\r\n",
      "        :return: une chaîne de caractères\r\n",
      "        \"\"\"\r\n",
      "\r\n",
      "        return f\"Animal {'vivant' if self.estVivant else 'mort'}, \" \\\r\n",
      "            f\"{self.masse:.0f} kg\"\r\n",
      "\r\n",
      "\r\n",
      "    def meurt(self):\r\n",
      "        \"\"\"\r\n",
      "        L'animal meurt.\r\n",
      "        \"\"\"\r\n",
      "\r\n",
      "        self.estVivant = False\r\n",
      "\r\n",
      "\r\n",
      "    def grossit(self, masse):\r\n",
      "        \"\"\"\r\n",
      "        L'animal grossit (ou maigrit) d'une certaine masse (valeur algébrique).\r\n",
      "\r\n",
      "        :param float masse: prise (>0) ou perte (<0) de masse.\r\n",
      "        :raise ValueError: masse non réelle.\r\n",
      "        \"\"\"\r\n",
      "\r\n",
      "        self.masse += float(masse)\r\n",
      "\r\n",
      "\r\n",
      "# Définition d'une classe héritée ==============================\r\n",
      "\r\n",
      "class AnimalFeroce(Animal):\r\n",
      "    \"\"\"\r\n",
      "    Un animal féroce est un animal qui peut dévorer d'autres animaux.\r\n",
      "\r\n",
      "    La classe-fille hérite des attributs et méthodes de la\r\n",
      "    classe-mère, mais peut les surcharger (i.e. en changer la\r\n",
      "    définition), ou en ajouter de nouveaux:\r\n",
      "\r\n",
      "    - la méthode `AnimalFeroce.__init__()` dérive directement de\r\n",
      "      `Animal.__init__()` (même méthode d'initialisation);\r\n",
      "    - `AnimalFeroce.__str__()` surcharge `Animal.__str__()`;\r\n",
      "    - `AnimalFeroce.devorer()` est une nouvelle méthode propre à\r\n",
      "      `AnimalFeroce`.\r\n",
      "    \"\"\"\r\n",
      "\r\n",
      "    def __str__(self):\r\n",
      "        \"\"\"\r\n",
      "        Surcharge de la fonction `str()`.\r\n",
      "        \"\"\"\r\n",
      "\r\n",
      "        return \"Animal féroce \" \\\r\n",
      "            f\"{'bien vivant' if self.estVivant else 'mais mort'}, \" \\\r\n",
      "            f\"{self.masse:.0f} kg\"\r\n",
      "\r\n",
      "    def devore(self, other):\r\n",
      "        \"\"\"\r\n",
      "        L'animal (self) devore un autre animal (other).\r\n",
      "\r\n",
      "        * Si other est également un animal féroce, il faut que self soit plus\r\n",
      "          gros que other pour le dévorer. Sinon, other se défend et self meurt.\r\n",
      "        * Si self dévore other, other meurt, self grossit de la masse de other\r\n",
      "          (jusqu'à 10% de sa propre masse) et other maigrit d'autant.\r\n",
      "\r\n",
      "        :param Animal other: animal à dévorer\r\n",
      "        :return: prise de masse (0 si self meurt)\r\n",
      "        \"\"\"\r\n",
      "\r\n",
      "        if isinstance(other, AnimalFeroce) and (other.masse > self.masse):\r\n",
      "            # Pas de chance...\r\n",
      "            self.meurt()\r\n",
      "            prise = 0.\r\n",
      "        else:\r\n",
      "            other.meurt()             # Other meurt\r\n",
      "            prise = min(other.masse, self.masse * 0.1)\r\n",
      "            self.grossit(prise)       # Self grossit\r\n",
      "            other.grossit(-prise)     # Other maigrit\r\n",
      "\r\n",
      "        return prise\r\n",
      "\r\n",
      "\r\n",
      "# Définition d'une autre classe héritée ==============================\r\n",
      "\r\n",
      "class AnimalGentil(Animal):\r\n",
      "    \"\"\"\r\n",
      "    Un animal gentil est un animal avec un petit nom.\r\n",
      "\r\n",
      "    La classe-fille hérite des attributs et méthodes de la\r\n",
      "    classe-mère, mais peut les surcharger (i.e. en changer la\r\n",
      "    définition), ou en ajouter de nouveaux:\r\n",
      "\r\n",
      "    - la méthode `AnimalGentil.__init__()` surcharge l'initialisation originale\r\n",
      "      `Animal.__init__()`;\r\n",
      "    - `AnimalGentil.__str__()` surcharge `Animal.__str__()`;\r\n",
      "    \"\"\"\r\n",
      "\r\n",
      "    def __init__(self, masse, nom='Youki'):\r\n",
      "        \"\"\"\r\n",
      "        Initialisation d'un animal gentil, avec son masse et son nom.\r\n",
      "        \"\"\"\r\n",
      "\r\n",
      "        # Initialisation de la classe parente (nécessaire pour assurer\r\n",
      "        # l'héritage)\r\n",
      "        Animal.__init__(self, masse)\r\n",
      "\r\n",
      "        # Attributs propres à la classe AnimalGentil\r\n",
      "        self.nom = nom\r\n",
      "\r\n",
      "    def __str__(self):\r\n",
      "        \"\"\"\r\n",
      "        Surcharge de la fonction `str()`.\r\n",
      "        \"\"\"\r\n",
      "\r\n",
      "        return f\"{self.nom}, un animal gentil \" \\\r\n",
      "            f\"{'bien vivant' if self.estVivant else 'mais mort'}, \" \\\r\n",
      "            f\"{self.masse:.0f} kg\"\r\n",
      "\r\n",
      "    def meurt(self):\r\n",
      "        \"\"\"\r\n",
      "        L'animal gentil meurt, avec un éloge funéraire.\r\n",
      "        \"\"\"\r\n",
      "\r\n",
      "        Animal.meurt(self)\r\n",
      "        print(f\"Pauvre {self.nom} meurt, paix à son âme...\")\r\n",
      "\r\n",
      "\r\n",
      "if __name__ == '__main__':\r\n",
      "\r\n",
      "    # Exemple d'utilisation des classes définies ci-dessus\r\n",
      "\r\n",
      "    print(\"Une tragédie en trois actes\".center(70, '='))\r\n",
      "\r\n",
      "    print(\"Acte I: la vache prend 10 kg.\".center(70, '-'))\r\n",
      "    vache = Animal(500.)        # Instantiation d'un animal de 500 kg\r\n",
      "    vache.grossit(10)           # La vache grossit de 10 kg\r\n",
      "    print(vache)\r\n",
      "\r\n",
      "    print(\"Acte II: Dumbo l'éléphant\".center(70, '-'))\r\n",
      "    elephant = AnimalGentil(1000., \"Dumbo\")  # Instantiation d'un animal gentil\r\n",
      "    print(elephant)\r\n",
      "\r\n",
      "    print(\"Acte III: le féroce lion\".center(70, '-'))\r\n",
      "    lion = AnimalFeroce(200)    # Instantiation d'un animal féroce\r\n",
      "    print(lion)\r\n",
      "\r\n",
      "    print(\"Scène tragique: le lion dévore l'éléphant...\".center(70, '-'))\r\n",
      "    lion.devore(elephant)       # Le lion dévore l'éléphant\r\n",
      "\r\n",
      "    print(elephant)\r\n",
      "    print(lion)\r\n"
     ]
    }
   ],
   "source": [
    "cat animal.py"
   ]
  },
  {
   "cell_type": "markdown",
   "metadata": {},
   "source": [
    "------------------------------------------------------------------------\n",
    "\n",
    "### Conclusion sur les classes : ce qu’on retient\n",
    "\n",
    "-   Les méthodes se définissent comme des fonctions, sauf qu’elles se trouvent dans le corps de la classe.\n",
    "\n",
    "-   On définit les attributs d’une instance dans le constructeur de sa classe, en suivant cette syntaxe : self.nom_attribut = valeur.\n",
    "\n",
    "-   *facultatif* : Les méthodes d’instance prennent en premier paramètre “self”, l’instance de l’objet manipulé.\n",
    "\n",
    "-   *facultatif* : On construit une instance de classe en appelant son constructeur, une méthode d’instance appelée **init**."
   ]
  },
  {
   "cell_type": "markdown",
   "metadata": {},
   "source": [
    "https://python.sdv.univ-paris-diderot.fr/19_avoir_la_classe_avec_les_objets/\n",
    "\n",
    "http://www.xavierdupre.fr/app/teachpyx/helpsphinx/c_classes/classes.html#presentation-des-classes-methodes-et-attributs\n",
    "\n",
    "https://docs.python.org/fr/3.7/tutorial/classes.html\n",
    "\n",
    "\n",
    "## Des cours complets\n",
    "\n",
    "### La référence\n",
    "\n",
    "https://docs.python.org/fr/3.7/tutorial/index.html\n",
    "\n",
    "### Autres\n",
    "    \n",
    "https://python.sdv.univ-paris-diderot.fr/00_avant_propos/\n",
    "\n",
    "https://rtavenar.github.io/poly_python/content/intro.html\n",
    "\n",
    "http://www.normalesup.org/~doulcier/teaching/python/\n",
    "\n",
    "http://www.xavierdupre.fr/app/teachpyx/helpsphinx/introduction.html\n",
    "\n"
   ]
  },
  {
   "cell_type": "code",
   "execution_count": null,
   "metadata": {},
   "outputs": [],
   "source": []
  }
 ],
 "metadata": {
  "kernelspec": {
   "display_name": "Python 3",
   "language": "python",
   "name": "python3"
  },
  "language_info": {
   "codemirror_mode": {
    "name": "ipython",
    "version": 3
   },
   "file_extension": ".py",
   "mimetype": "text/x-python",
   "name": "python",
   "nbconvert_exporter": "python",
   "pygments_lexer": "ipython3",
   "version": "3.7.3"
  }
 },
 "nbformat": 4,
 "nbformat_minor": 1
}
