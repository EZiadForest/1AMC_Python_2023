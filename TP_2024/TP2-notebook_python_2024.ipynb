{
 "cells": [
  {
   "cell_type": "markdown",
   "metadata": {},
   "source": [
    "![](fig/logoENSI.png)\n",
    " ![](fig/logoPython.png)\n",
    "***"
   ]
  },
  {
   "cell_type": "markdown",
   "metadata": {},
   "source": [
    "# TP2  \n",
    "## Compte-rendu de *votre nom & votre groupe*"
   ]
  },
  {
   "cell_type": "markdown",
   "metadata": {},
   "source": [
    "# Notebook, Markdown  et IPython \n",
    "***"
   ]
  },
  {
   "cell_type": "markdown",
   "metadata": {},
   "source": [
    "**ENSICAEN  1A MC** \n",
    " 2023\n",
    "\n",
    "## Eric Ziad-Forest\n",
    "***"
   ]
  },
  {
   "cell_type": "raw",
   "metadata": {},
   "source": []
  },
  {
   "cell_type": "markdown",
   "metadata": {},
   "source": [
    "### Enseignants des groupes de TD/TP\n",
    "- Groupe 1: Eric Ziad-Forest [ziad@ensicaen.fr]\n",
    "- Groupe 2: Oumaima Assou [oumaima.assou231@ensicaen.fr] \n",
    "- Groupe 3: Julien Rabin [julien.rabin@ensicaen.fr]\n",
    "- Groupe 4: Eric Ziad-Forest [ziad@ensicaen.fr] \n",
    "\n",
    "***"
   ]
  },
  {
   "cell_type": "markdown",
   "metadata": {},
   "source": [
    "**Auteurs :**\n",
    "- JeremyLaforet ((mailto: jeremy.laforet@utc.fr)\n",
    "- Eric Ziad-Forest (mailto: ziad@ensicaen.fr))\n",
    "***\n",
    "*Contenu sous licence [CC BY-SA 4.0](https://creativecommons.org/licenses/by-sa/4.0)*"
   ]
  },
  {
   "cell_type": "markdown",
   "metadata": {},
   "source": [
    "# Objectif\n",
    "- Pratique du notebook de *Jupyter* ainsi que des rudiments de *IPython*\n",
    "- Rudiments également de *Markdown*\n",
    "- Utilisation de *IPython*\n",
    "- Révision des commandes Shell (TP1)\n",
    "- Savoir utiliser les principales méthodes et primitives sur les listes"
   ]
  },
  {
   "cell_type": "markdown",
   "metadata": {},
   "source": [
    "# Avant de commencer\n",
    "\n",
    "Ouvrez un terminal afin de créer un dossier `TP2` (ou `2_TP`) (commande linux `mkdir`) dans votre espace de travail Initiation Python vu lors du TP1.\n",
    "Puis aller sur Moodle https://foad.ensicaen.fr/ et dans InitProgMC cliquer pour télécharger le dossier TP2. \n",
    "\n",
    "Aller dans le dossier `Téléchargement` sur votre espace de travail `~/` et cliquer sur le fichier .zip et enfin faite une extraction dans TP2, (si besoin placer tous les fichiers dans le dossier TP2...)\n",
    "\n",
    "> Rappel TP1\n",
    "> Pour dézipper un fichier .zip dans le terminal Linux, vous pouvez utiliser la commande unzip. Voici les étapes à suivre :\n",
    "    - Ouvrez le terminal.\n",
    "    - Naviguez jusqu'au répertoire contenant le fichier .zip. Vous pouvez utiliser la commande `cd` pour changer de répertoire. Par exemple :\n",
    "```shell\n",
    "cd /chemin/vers/le/repertoire\n",
    "```\n",
    "> Utilisez la commande unzip pour dézipper le fichier. Par exemple, si votre fichier s'appelle archive.zip, vous pouvez utiliser la commande suivante :\n",
    "```shell\n",
    "unzip archive.zip\n",
    "```\n",
    "> Si vous souhaitez dézipper le fichier dans un répertoire spécifique, vous pouvez utiliser l'option -d suivie du chemin du répertoire de destination. Par exemple :\n",
    "```shell\n",
    "unzip archive.zip -d /chemin/vers/le/repertoire/de/destination\n",
    "```\n",
    "> Pour afficher la liste des fichiers contenus dans le fichier .zip sans les extraire, vous pouvez utiliser l'option -l :\n",
    "```shell\n",
    "unzip -l archive.zip\n",
    "```\n",
    "Placez-vous alors dans votre dossier de travail du TP2 à l'aide du terminal ( commande `cd`).\n",
    "\n",
    "Puis toujours dans le terminal, lancer la commande :\n",
    "\n",
    "```shell\n",
    " jupyter notebook\n",
    "```\n",
    "\n",
    "Choisissez  TP2_notebook_python_2024.ipynb\n",
    "\n",
    "Vous voilà près pour la suite"
   ]
  },
  {
   "cell_type": "markdown",
   "metadata": {},
   "source": [
    "# Rendu\n",
    "\n",
    ">**Vous allez au cours de ce TP, compléter ce document qui servira de compte-rendu en fin de séance et sera déposé sur la plateforme Moodle.**  \n",
    "N'oubliez pas d'inscrire votre nom et prénom  à côté de compte-rendu, juste en dessous de TP2."
   ]
  },
  {
   "cell_type": "markdown",
   "metadata": {},
   "source": [
    "\n",
    "# Introduction\n",
    "\n",
    "Les 4 premières parties sont essentiellement à lire pour comprendre et apprendre les différents outils utiles pour élaborer vos comptes rendus. C'est assez long, mais sans grande difficulté.  \n",
    "\n",
    "`Jupyter` est une application Web qui regroupe intimement deux fonctionnalités très différentes :\n",
    "\n",
    "* Un outil qui permet de créer des documents multimédia intégrant du texte, des formules mathématiques, des graphiques, des images, voire des animations et des vidéos.\n",
    "* Une interface qui permet d'exécuter du code informatique. Pour cela `Jupyter` s'appuie sur des programmes indépendants capable d'interpréter le langage dans lequel est écrit ce code.   \n",
    "Dans la terminologie de `Jupyter` ces interpréteurs sont appelés des *noyaux* (*kernel* en anglais). \n",
    "\n",
    "Les documents `Jupyter` sont appelés `notebook`.  \n",
    "Un fichier `notebook IPython` est reconnaissable par son extension `.ipynb`.\n",
    "\n",
    "Le document que vous lisez actuellement est un `notebook`, vous pouvez bien évidemment vous en inspirer.\n",
    "\n",
    "Enfin n'oubliez pas d'évaluer toute les cellules `Entrée[ ]` (ou `In[ ]`en anglais) durant votre lecture."
   ]
  },
  {
   "cell_type": "markdown",
   "metadata": {},
   "source": [
    "PARTIE I\n",
    "========"
   ]
  },
  {
   "cell_type": "markdown",
   "metadata": {
    "dicho": {
     "celltype": "normal",
     "readonly": false
    }
   },
   "source": [
    "# Manipulation du Notebook de *Jupyter*\n",
    "\n",
    "*À l'usage, il se révèle plus efficace d'utiliser les **raccourcis clavier** que de naviguer dans les menus avec la souris.  \n",
    "Prenez-en l'habitude.*\n",
    "\n",
    ">Dans un premier temps cliquez dans le menu sur l'onglet `Aide` puis `Visite de l'interface utilisateur` (en anglais `Help`puis `User Interface Tour`)\n",
    "\n",
    "## Cellules\n",
    "\n",
    "Le notebook est constitué d'une succession de cellules.  \n",
    "Les cellules peuvent être dans 2 modes\n",
    "- ***mode commande*** \n",
    "- ***mode édition***   \n",
    "\n",
    "Un liseré de couleur repère la cellule actuellement sélectionnée.  \n",
    "Le liseré est:\n",
    "- **bleu** si la cellule est en mode commande  \n",
    "- **bleu avec encadré de la cellule** si elle est en mode édition.\n",
    "  (c'est-à-dire que vous pouvez écrire dedans ou modifier ce qui s'y trouve)\n"
   ]
  },
  {
   "cell_type": "markdown",
   "metadata": {
    "dicho": {
     "celltype": "normal",
     "readonly": false
    }
   },
   "source": [
    "## Le mode édition\n",
    "\n",
    "Pour entrer dans le ***mode édition*** de la cellule sélectionnée, il suffit de presser la touche **`Entrer`** ou de cliquer à l'intérieur de la cellule.\n",
    "Quand une cellule est en édition vous pouvez saisir du texte comme dans un éditeur classique. \n",
    "\n",
    "Lorsque le curseur est en début de ligne ou lorsque vous avez sélectionné du texte, l'appui sur la touche **`Tab`** (respectivement **`Shift+Tab`**) indente (respectivement désindente) les lignes correspondantes.\n",
    "\n",
    "Voici d'autres raccourcis clavier :"
   ]
  },
  {
   "cell_type": "markdown",
   "metadata": {
    "dicho": {
     "celltype": "normal",
     "readonly": false
    }
   },
   "source": [
    "* **`Ctrl + A` :** Sélectionne tout le texte de la cellule.\n",
    "\n",
    "* **`Ctrl + Z` :** Annule les dernières saisies de texte.\n",
    "---\n",
    "* **`Ctrl + Entrer` :** Exécute la cellule.\n",
    "\n",
    "* **`Maj + Entrer` :** Exécute la cellule et sélectionne la cellule suivante. (L'appui répété de cette touche permet ainsi d'exécuter pas à pas toutes les cellules du notebook).\n",
    "\n",
    "* **`Alt + Entrer` :** Exécute la cellule et insère une nouvelle cellule juste en dessous.\n",
    "---\n",
    "* **`ESC` :** Passe dans le ***mode commande***."
   ]
  },
  {
   "cell_type": "markdown",
   "metadata": {
    "dicho": {
     "celltype": "normal",
     "readonly": false
    }
   },
   "source": [
    "## Le mode commande\n",
    "\n",
    "Quand vous êtes dans le **mode commande** (ligne bleu vertical à gauche de la cellule), vous pouvez ajouter ou supprimer des cellules mais vous ne pouvez pas saisir de texte dans une cellule.\n",
    "Notez bien que dans ce mode, certaines touches du clavier sont associées à des actions sur le notebook. Tenter de saisir du texte dans ce mode peut donc produire des effets inattendus.\n",
    "\n",
    "Voici les raccourcis principaux disponibles en mode commande :\n",
    "\n",
    "* **`A`** et **`B`** : Insèrent une nouvelle cellule, respectivement au-dessus ou au-dessous de la cellule sélectionnée. (`A` pour `Above` et `B ` pour `Below`\n",
    "\n",
    "* **`M`** : Transforme la cellule en une cellule de type `Markdown` (Cf. ci-dessous).\n",
    "\n",
    "* **`Y`** : Transforme la cellule en une cellule de type `Code`.\n",
    "\n",
    "* **`C`** et **`V`** : Copie et colle des cellules.\n",
    "\n",
    "* **`DD`** : Supprime la cellule sélectionnée.\n",
    "\n",
    "* **`Z`** : Annule la dernière suppression de cellule.\n",
    "\n",
    "* **`II`** : Interrompt l'exécution du code.\n",
    "\n",
    "* **`00`** : Redémarre l'interpréteur. Il se retrouve alors dans son état initial."
   ]
  },
  {
   "cell_type": "markdown",
   "metadata": {
    "dicho": {
     "celltype": "normal",
     "readonly": false
    }
   },
   "source": [
    ">**Remarque**.  \n",
    "Et pour avoir à chaque instant tous ces raccourcis, aller dans le menu `Aide` (`Help`) et identifier le raccourci clavier.  \n",
    " **`Taper ici le raccourci clavier `** : Affiche la liste de tous les raccourcis clavier."
   ]
  },
  {
   "cell_type": "markdown",
   "metadata": {},
   "source": [
    "On peut utiliser aussi la barre de menu!\n",
    "\n",
    "Par exemple pour diviser la cellule à partir du curseur\n",
    "(en anglais) Edit - Split - Cell (traduisez pour les menus en français)\n",
    "\n",
    "Chercher pour fusionner des cellules...  (en anglais merge)\n",
    "\n",
    ">**Exercice** 1  \n",
    "1. Diviser la cellule en 3 cellules distinctes : Cellule 1, Cellule 2 et Cellule 3\n",
    "2. Fusionner les 3 cellules\n",
    "3. Supprimer les 2 cellules suivantes"
   ]
  },
  {
   "cell_type": "markdown",
   "metadata": {},
   "source": [
    ">Réponse à la question 1 sur la cellule ci-desous"
   ]
  },
  {
   "cell_type": "code",
   "execution_count": null,
   "metadata": {},
   "outputs": [],
   "source": [
    "Cellule 1\n",
    "\n",
    "Cellule 2\n",
    "\n",
    "Cellule 3"
   ]
  },
  {
   "cell_type": "markdown",
   "metadata": {},
   "source": [
    ">Réponse à la question 2 sur les cellules ci-desous"
   ]
  },
  {
   "cell_type": "code",
   "execution_count": null,
   "metadata": {},
   "outputs": [],
   "source": [
    "Cellule 1"
   ]
  },
  {
   "cell_type": "code",
   "execution_count": null,
   "metadata": {},
   "outputs": [],
   "source": [
    "Cellule 2"
   ]
  },
  {
   "cell_type": "code",
   "execution_count": null,
   "metadata": {},
   "outputs": [],
   "source": [
    "Cellule 3"
   ]
  },
  {
   "cell_type": "markdown",
   "metadata": {},
   "source": [
    ">Réponse à la question 3 sur la cellule ci-desous"
   ]
  },
  {
   "cell_type": "code",
   "execution_count": null,
   "metadata": {},
   "outputs": [],
   "source": [
    "# cette cellule est à effacer !"
   ]
  },
  {
   "cell_type": "markdown",
   "metadata": {},
   "source": [
    "# "
   ]
  },
  {
   "cell_type": "markdown",
   "metadata": {},
   "source": [
    "PARTIE II\n",
    "========"
   ]
  },
  {
   "cell_type": "markdown",
   "metadata": {
    "dicho": {
     "celltype": "normal",
     "readonly": false
    }
   },
   "source": [
    "# Le langage *Markdown*\n",
    "\n",
    "L'appui sur les touches  `esc` et ensuite  `M` transforme la cellule sélectionnée en type `Markdown`.\n",
    "Vous pouvez alors rédiger du texte enrichi (titres, sous-titres, gras, italique, alinéas, tableaux, liens hypertextes, etc). Le texte de la cellule doit être rédigé en langage *Markdown* qui est un *langage de balisage léger*.  \n",
    "La *syntaxe markdown* est facile à apprendre.  \n",
    "Le plus simple est d'ailleurs de regarder des exemples de documents tels que celui que vous lisez actuellement.  \n",
    "  \n",
    "Il est également possible d'insérer des morceaux de texte en langage $\\LaTeX$ pour composer des expressions mathématiques.\n",
    "$$g(x) = f\\left(8 \\int_{-\\infty}^{+\\infty} (x-1)\\left[\\frac x{h^2+1}\\right] dh \\right) $$\n",
    "  \n",
    "Pour en savoir plus : https://fr.wikipedia.org/wiki/Aide:Formules_TeX. \n",
    "Editeur d'équation $\\LaTeX$ : https://mathurl.com/\n",
    "\n",
    "\n",
    "***Cliquer 2 fois dans cette cellule pour voir l'editeur `Markdown`.***"
   ]
  },
  {
   "cell_type": "markdown",
   "metadata": {},
   "source": [
    "Pour apprendre `Markdown` : https://commonmark.org/help/ (dans menu `Aide` markdown)"
   ]
  },
  {
   "cell_type": "markdown",
   "metadata": {},
   "source": [
    "## Édition et exécution d'une cellule de code\n",
    "\n",
    "Un notebook jupyter consiste en **cellules** individuelles pouvant contenir du **code** Python, du **texte** (avec formatage Markdown, HTML et LaTeX) ou des **graphiques**. Commençons par les cellules de type Code.\n",
    "\n",
    ">**Exercice** 2   \n",
    "Placez le curseur dans la cellule ci-dessous suivante puis `Entrer` *Enter* (Retour Chariot).   \n",
    "Que se passe-t-il ? "
   ]
  },
  {
   "cell_type": "code",
   "execution_count": null,
   "metadata": {},
   "outputs": [],
   "source": [
    "print(2020+1)"
   ]
  },
  {
   "cell_type": "markdown",
   "metadata": {},
   "source": [
    ">Rien d'autre que l'insertion d'un saut de ligne...   \n",
    "C'est normal, car dans une cellule de type `Code` (c'est-à-dire préfixée par **Entrée[ ]:**) on est par défaut en mode **édition de code** Python !\n",
    "\n",
    "\n",
    "Pour **exécuter le code** `Python` d'une cellule, il faut en effet frapper les touches `Maj + Entrer` (`Shift + Enter` en anglais) (ou encore utiliser la souris ;-( et cliquer sur le bouton <button class='fa fa-step-forward icon-step-forward'></button> `Exécuter`, ou encore utiliser le menu `Cellule>Exécuter les cellules...`).  \n",
    "Essayez !"
   ]
  },
  {
   "cell_type": "code",
   "execution_count": null,
   "metadata": {},
   "outputs": [],
   "source": [
    "1j*(1+1j)"
   ]
  },
  {
   "cell_type": "markdown",
   "metadata": {},
   "source": [
    "# Tout ce que l'on peut insérer dans un *notebook*"
   ]
  },
  {
   "cell_type": "markdown",
   "metadata": {},
   "source": [
    "## Graphiques dans un notebook\n",
    "\n",
    "Si vous exécutez la **fonction magique** `%pylab inline` (nous verrons prochainement les **fonctions magiques** de `IPython`) , les packages **Numpy** et **Matplotlib** sont importés directement et il sera possible de dessiner des graphiques de façon `inline` (c'est-à-dire intégrés directement au notebook)."
   ]
  },
  {
   "cell_type": "code",
   "execution_count": 13,
   "metadata": {},
   "outputs": [
    {
     "name": "stdout",
     "output_type": "stream",
     "text": [
      "%pylab is deprecated, use %matplotlib inline and import the required libraries.\n",
      "Populating the interactive namespace from numpy and matplotlib\n"
     ]
    },
    {
     "data": {
      "text/plain": [
       "Text(0.5, 1.0, 'Graphique sin(x)')"
      ]
     },
     "execution_count": 13,
     "metadata": {},
     "output_type": "execute_result"
    },
    {
     "data": {
      "image/png": "[encoded data removed]",
      "text/plain": [
       "<Figure size 640x480 with 1 Axes>"
      ]
     },
     "metadata": {},
     "output_type": "display_data"
    }
   ],
   "source": [
    "%pylab inline\n",
    "\n",
    "#L'exemple de code suivant sera alors exécutable._\n",
    "\n",
    "#Fait appel à numpy (linspace et pi)\n",
    "x = linspace(0, 3*pi, 500)\n",
    "\n",
    "#Fait appel à matplotlib (plot et title)\n",
    "plot(x, sin(x))\n",
    "title('Graphique sin(x)')\n"
   ]
  },
  {
   "cell_type": "markdown",
   "metadata": {},
   "source": [
    "## Documents Multimedia dans un notebook\n",
    "\n",
    "**Evaluer toutes les entrées suivantes!**\n",
    "\n",
    "### Intégrer une image :"
   ]
  },
  {
   "cell_type": "code",
   "execution_count": 23,
   "metadata": {},
   "outputs": [
    {
     "data": {
      "image/png": "[encoded data removed]",
      "text/plain": [
       "<IPython.core.display.Image object>"
      ]
     },
     "execution_count": 23,
     "metadata": {
      "image/png": {
       "height": 400,
       "width": 200
      }
     },
     "output_type": "execute_result"
    }
   ],
   "source": [
    "from IPython.display import Image\n",
    "Image(\"https://www.python.org/static/img/python-logo@2x.png\",width=200, height=400)"
   ]
  },
  {
   "cell_type": "markdown",
   "metadata": {},
   "source": [
    "Ou simplement en lien `Markdown` : \n",
    "```python\n",
    "![Logo de jupyter](https://jupyter.org/assets/main-logo.svg) \n",
    "```"
   ]
  },
  {
   "cell_type": "markdown",
   "metadata": {},
   "source": [
    "![Logo de jupyter](https://www.python.org/static/img/python-logo@2x.png) "
   ]
  },
  {
   "cell_type": "markdown",
   "metadata": {},
   "source": [
    "### Intégrer une vidéo youtube :"
   ]
  },
  {
   "cell_type": "code",
   "execution_count": 28,
   "metadata": {},
   "outputs": [
    {
     "data": {
      "image/jpeg": "[encoded data removed]",
      "text/html": [
       "\n",
       "        <iframe\n",
       "            width=\"400\"\n",
       "            height=\"300\"\n",
       "            src=\"https://www.youtube.com/embed/qxMcGDnT8uc\"\n",
       "            frameborder=\"0\"\n",
       "            allowfullscreen\n",
       "            \n",
       "        ></iframe>\n",
       "        "
      ],
      "text/plain": [
       "<IPython.lib.display.YouTubeVideo at 0x12708f3b0>"
      ]
     },
     "execution_count": 28,
     "metadata": {},
     "output_type": "execute_result"
    }
   ],
   "source": [
    "from IPython.display import YouTubeVideo\n",
    "YouTubeVideo('qxMcGDnT8uc') # qxM...8uc est le code youtube dans l'url "
   ]
  },
  {
   "cell_type": "markdown",
   "metadata": {},
   "source": [
    "### Intégrer un fichier pdf :"
   ]
  },
  {
   "cell_type": "code",
   "execution_count": 30,
   "metadata": {},
   "outputs": [
    {
     "data": {
      "text/html": [
       "\n",
       "        <iframe\n",
       "            width=\"900\"\n",
       "            height=\"700\"\n",
       "            src=\"https://phychim.ac-versailles.fr/IMG/pdf/tuto_python_matplotlib.pdf\"\n",
       "            frameborder=\"0\"\n",
       "            allowfullscreen\n",
       "            \n",
       "        ></iframe>\n",
       "        "
      ],
      "text/plain": [
       "<IPython.lib.display.IFrame at 0x12708fa70>"
      ]
     },
     "execution_count": 30,
     "metadata": {},
     "output_type": "execute_result"
    }
   ],
   "source": [
    "from IPython.display import IFrame\n",
    "IFrame(\"https://phychim.ac-versailles.fr/IMG/pdf/tuto_python_matplotlib.pdf\", width=900, height=700)"
   ]
  },
  {
   "cell_type": "markdown",
   "metadata": {},
   "source": [
    "### Intégrer une page web :"
   ]
  },
  {
   "cell_type": "code",
   "execution_count": 32,
   "metadata": {},
   "outputs": [
    {
     "data": {
      "text/html": [
       "<IFrame src=\"https://fr.wikipedia.org/wiki/Jupyter\" width=700 height=350>"
      ],
      "text/plain": [
       "<IPython.core.display.HTML object>"
      ]
     },
     "execution_count": 32,
     "metadata": {},
     "output_type": "execute_result"
    }
   ],
   "source": [
    "from IPython.display import HTML\n",
    "HTML('<IFrame src=\"https://fr.wikipedia.org/wiki/Jupyter\" width=700 height=350>')"
   ]
  },
  {
   "cell_type": "markdown",
   "metadata": {},
   "source": [
    "## Sauvegarder   un notebook\n",
    "Lorsque vous avez terminé de travailler dans un notebook, **n'oubliez pas de le sauvegarder** avec le bouton <button class='fa fa-save icon-save btn  btn-xs btn-default'></button> (ou le menu `Fichier>Créer une nouvelle sauvegarde`). Sachez que *Jupyter* effectue par défaut des sauvegardes à intervalle régulier, et que `Fichier>Restaurer la sauvegarde` permet de revenir à un état enregistré.   \n",
    "De plus vous pouvez, exporter votre travail dans toutes sortes de formats  (HTML, PDF, python, LaTeX ...)"
   ]
  },
  {
   "cell_type": "markdown",
   "metadata": {},
   "source": [
    "## Imprimer\n",
    "Si vous désirez imprimer un notebook, n'utilisez pas la commande d'impression de votre navigateur web depuis la fenêtre de notebook, le résultat sera très mauvais.   \n",
    "La bonne méthode consiste à faire au préalable depuis le menu Fichier>Imprimer l'aperçu. \n",
    "Mais il est peut-être préférable de télécharger une version numérique du notebook sur l'ordinateur local dans le format qui vous convient comme le HTML pour obtenir une page web statique avec le menu File>Download as..."
   ]
  },
  {
   "cell_type": "markdown",
   "metadata": {},
   "source": [
    "## Bloqué?\n",
    "Si jupyter Notebook semble bloqué, c'est surement qu'il tourne indéfiniment en raison par exemple d'une boucle mal contrôlée (consommant 100% de CPU d'1 core de votre machine).   \n",
    "Vous devriez voir le message `Kernel busy` au haut de l'écran.   \n",
    "Pour l'interrompre, cliquez sur ii ou le bouton (ou menu Noyau>Interrompre).  \n",
    "Si ça ne fonctionne vraiment pas, il faudra se résoudre à tuer le serveur web avec `Ctrl + C`"
   ]
  },
  {
   "cell_type": "markdown",
   "metadata": {},
   "source": [
    "# Des questions\n",
    "Si vous ne trouvez pas les réponses à un problème posé chercher-la sur Le site.  *(c'est une référence dans le monde informatique...)*\n",
    "\n",
    "https://stackoverflow.com/questions/tagged/jupyter-notebook"
   ]
  },
  {
   "cell_type": "markdown",
   "metadata": {},
   "source": [
    "PARTIE III\n",
    "========"
   ]
  },
  {
   "cell_type": "markdown",
   "metadata": {
    "dicho": {
     "celltype": "normal",
     "readonly": false
    }
   },
   "source": [
    "# Programme IPython"
   ]
  },
  {
   "cell_type": "markdown",
   "metadata": {},
   "source": [
    "## L'aide en ligne IPython\n",
    "\n",
    "Lorsque vous sélectionnez *Python 3* comme *kernel*, le programme lancé par *Jupyter* n'est pas directement l'interpréteur *Python* mais le programme *IPython*.\n",
    "\n",
    "Le texte soumis par l'utilisateur est d'abord analysé par *IPython* qui utilise l'interpréteur *Python* chaque fois qu'il est nécessaire d'évaluer du code *Python*.   \n",
    ">**Attention** Ce principe permet d'ajouter des fonctionnalités très pratiques, mais qui ne font pas partie du langage *Python*.\n",
    "\n",
    "*IPython* offre par ce biais plusieurs mécanismes d'assistance dont il faut user sans modération.\n",
    "\n",
    "### L'auto-complétion\n",
    "\n",
    "Lorsque vous commencez à saisir un nom connu de l'interpréteur, l'appui sur la touche **`Tab`** complète le nom automatiquement (Comme sous `Linux`. Si plusieurs noms sont possibles un menu contextuel vous propose de choisir. Ceci économise de la frappe tout en évitant les erreurs d'orthographe dans les noms des variables."
   ]
  },
  {
   "cell_type": "markdown",
   "metadata": {},
   "source": [
    "### La documentation d'un objet\n",
    "\n",
    "Pour lire la documentation en ligne concernant un objet *python* (module, fonction, classe, etc), il suffit d'ajouter un **`?`** juste après le nom et d'appuyer sur la touche **`Entrer`**. Un *pager* s'ouvre alors avec la dite documentation. En doublant le **`?`** le *pager* donne une documentation plus complète si disponible."
   ]
  },
  {
   "cell_type": "code",
   "execution_count": 35,
   "metadata": {},
   "outputs": [
    {
     "data": {
      "text/plain": [
       "\u001b[0;31mInit signature:\u001b[0m \u001b[0mcomplex\u001b[0m\u001b[0;34m(\u001b[0m\u001b[0mreal\u001b[0m\u001b[0;34m=\u001b[0m\u001b[0;36m0\u001b[0m\u001b[0;34m,\u001b[0m \u001b[0mimag\u001b[0m\u001b[0;34m=\u001b[0m\u001b[0;36m0\u001b[0m\u001b[0;34m)\u001b[0m\u001b[0;34m\u001b[0m\u001b[0;34m\u001b[0m\u001b[0m\n",
       "\u001b[0;31mDocstring:\u001b[0m     \n",
       "Create a complex number from a real part and an optional imaginary part.\n",
       "\n",
       "This is equivalent to (real + imag*1j) where imag defaults to 0.\n",
       "\u001b[0;31mType:\u001b[0m           type\n",
       "\u001b[0;31mSubclasses:\u001b[0m     complex128"
      ]
     },
     "metadata": {},
     "output_type": "display_data"
    }
   ],
   "source": [
    "# Exemple (Un commentaire commence par `#`)\n",
    "complex?"
   ]
  },
  {
   "cell_type": "markdown",
   "metadata": {},
   "source": [
    "Un autre moyen est d'utiliser `help()`"
   ]
  },
  {
   "cell_type": "code",
   "execution_count": 37,
   "metadata": {},
   "outputs": [
    {
     "name": "stdout",
     "output_type": "stream",
     "text": [
      "Help on class complex in module builtins:\n",
      "\n",
      "class complex(object)\n",
      " |  complex(real=0, imag=0)\n",
      " |\n",
      " |  Create a complex number from a real part and an optional imaginary part.\n",
      " |\n",
      " |  This is equivalent to (real + imag*1j) where imag defaults to 0.\n",
      " |\n",
      " |  Methods defined here:\n",
      " |\n",
      " |  __abs__(self, /)\n",
      " |      abs(self)\n",
      " |\n",
      " |  __add__(self, value, /)\n",
      " |      Return self+value.\n",
      " |\n",
      " |  __bool__(self, /)\n",
      " |      True if self else False\n",
      " |\n",
      " |  __complex__(self, /)\n",
      " |      Convert this value to exact type complex.\n",
      " |\n",
      " |  __eq__(self, value, /)\n",
      " |      Return self==value.\n",
      " |\n",
      " |  __format__(self, format_spec, /)\n",
      " |      Convert to a string according to format_spec.\n",
      " |\n",
      " |  __ge__(self, value, /)\n",
      " |      Return self>=value.\n",
      " |\n",
      " |  __getattribute__(self, name, /)\n",
      " |      Return getattr(self, name).\n",
      " |\n",
      " |  __getnewargs__(self, /)\n",
      " |\n",
      " |  __gt__(self, value, /)\n",
      " |      Return self>value.\n",
      " |\n",
      " |  __hash__(self, /)\n",
      " |      Return hash(self).\n",
      " |\n",
      " |  __le__(self, value, /)\n",
      " |      Return self<=value.\n",
      " |\n",
      " |  __lt__(self, value, /)\n",
      " |      Return self<value.\n",
      " |\n",
      " |  __mul__(self, value, /)\n",
      " |      Return self*value.\n",
      " |\n",
      " |  __ne__(self, value, /)\n",
      " |      Return self!=value.\n",
      " |\n",
      " |  __neg__(self, /)\n",
      " |      -self\n",
      " |\n",
      " |  __pos__(self, /)\n",
      " |      +self\n",
      " |\n",
      " |  __pow__(self, value, mod=None, /)\n",
      " |      Return pow(self, value, mod).\n",
      " |\n",
      " |  __radd__(self, value, /)\n",
      " |      Return value+self.\n",
      " |\n",
      " |  __repr__(self, /)\n",
      " |      Return repr(self).\n",
      " |\n",
      " |  __rmul__(self, value, /)\n",
      " |      Return value*self.\n",
      " |\n",
      " |  __rpow__(self, value, mod=None, /)\n",
      " |      Return pow(value, self, mod).\n",
      " |\n",
      " |  __rsub__(self, value, /)\n",
      " |      Return value-self.\n",
      " |\n",
      " |  __rtruediv__(self, value, /)\n",
      " |      Return value/self.\n",
      " |\n",
      " |  __sub__(self, value, /)\n",
      " |      Return self-value.\n",
      " |\n",
      " |  __truediv__(self, value, /)\n",
      " |      Return self/value.\n",
      " |\n",
      " |  conjugate(self, /)\n",
      " |      Return the complex conjugate of its argument. (3-4j).conjugate() == 3+4j.\n",
      " |\n",
      " |  ----------------------------------------------------------------------\n",
      " |  Static methods defined here:\n",
      " |\n",
      " |  __new__(*args, **kwargs) from builtins.type\n",
      " |      Create and return a new object.  See help(type) for accurate signature.\n",
      " |\n",
      " |  ----------------------------------------------------------------------\n",
      " |  Data descriptors defined here:\n",
      " |\n",
      " |  imag\n",
      " |      the imaginary part of a complex number\n",
      " |\n",
      " |  real\n",
      " |      the real part of a complex number\n",
      "\n"
     ]
    }
   ],
   "source": [
    "help(complex)"
   ]
  },
  {
   "cell_type": "markdown",
   "metadata": {
    "dicho": {
     "celltype": "normal",
     "readonly": false
    }
   },
   "source": [
    "## L'état de l'interpréteur\n",
    "\n",
    "Lorsqu'on ouvre un `terminal`, un programme interpréteur de commandes système est lancé et attend les commandes pour les exécuter.  \n",
    "De la même façon, en arrière-plan d'un `notebook`, un interpréteur de code a été lancé et attend lui aussi qu'on lui donne du code. Dans le coin supérieur droit vous pouvez voir qu'il s'agit ici de l'interpréteur *Python 3*. "
   ]
  },
  {
   "cell_type": "markdown",
   "metadata": {
    "dicho": {
     "celltype": "normal",
     "readonly": false
    }
   },
   "source": [
    "## Cellules codes\n",
    "Un notebook est constitué de cellules successives.  \n",
    "Les cellules pour écrire du code sont repérables par le prompt `Entrée[ ]:`.  \n",
    "Essayons :"
   ]
  },
  {
   "cell_type": "code",
   "execution_count": null,
   "metadata": {
    "dicho": {
     "celltype": "normal",
     "readonly": false
    }
   },
   "outputs": [],
   "source": [
    "2 / 3"
   ]
  },
  {
   "cell_type": "markdown",
   "metadata": {
    "dicho": {
     "celltype": "normal",
     "readonly": false
    }
   },
   "source": [
    " Le texte `2 / 3` a été transmis à l'interpréteur *Python 3*. Il s'agit d'une expression *Python 3* valide.   \n",
    "L'interpréteur a donc pu l'évaluer. \n",
    "La valeur de l'expression (dont le type est ici un nombre flottant) est alors récupérée et représentée sous la forme du texte affiché à droite du prompt de sortie `Out[ ]`\n",
    "\n",
    "N'oubliez pas que vous êtes dans un notebook. Vous pouvez donc modifier l'expression ci-dessus et la ré-exécuter en appuyant sur `Maj-Entrer` (`Ctrl-Entrer`, `Alt-Entrer`).  Faites-le ! \n",
    "Le numéro entre crochet est un compteur. Il est incrémenté à chaque sollicitation de l'interpréteur."
   ]
  },
  {
   "cell_type": "code",
   "execution_count": null,
   "metadata": {
    "dicho": {
     "celltype": "normal",
     "readonly": false
    }
   },
   "outputs": [],
   "source": [
    "hauteur = 2 + 2"
   ]
  },
  {
   "cell_type": "markdown",
   "metadata": {
    "dicho": {
     "celltype": "normal",
     "readonly": false
    }
   },
   "source": [
    "L'exécution de l'instruction ci-dessus n'a produit aucun résultat en sortie. Cette instruction a cependant eu un effet. Elle a modifié l'état de l'interpréteur. En interne, l'interpréteur a associé la valeur de l'expression `2 + 2` (i.e. le type entier 4) au nom *hauteur*.\n",
    "\n",
    "On peut alors exécuter :"
   ]
  },
  {
   "cell_type": "code",
   "execution_count": null,
   "metadata": {
    "dicho": {
     "celltype": "normal",
     "readonly": false
    }
   },
   "outputs": [],
   "source": [
    "5 * hauteur"
   ]
  },
  {
   "cell_type": "code",
   "execution_count": null,
   "metadata": {},
   "outputs": [],
   "source": [
    "print()"
   ]
  },
  {
   "cell_type": "code",
   "execution_count": null,
   "metadata": {},
   "outputs": [],
   "source": [
    "print(7 * hauteur)"
   ]
  },
  {
   "cell_type": "markdown",
   "metadata": {},
   "source": [
    "> **Remarque**  \n",
    "Dans les 2 dernières instructions la 1ère donne une *sortie* `Out[]`, tandis que la 2d imprime le *résultat* (il n'y a pas de *sortie* pour cette instruction)"
   ]
  },
  {
   "cell_type": "markdown",
   "metadata": {
    "dicho": {
     "celltype": "normal",
     "readonly": false
    }
   },
   "source": [
    "L'état de l'interpréteur est constitué de toutes les associations valeurs/noms qu'il mémorise en interne.  \n",
    "Les séquences de code qui contiennent des affectations (opérateur `=`) modifient l'état de l'interpréteur.\n",
    "Un même code peut produire des effets différents selon l'état dans lequel se trouve l'interpréteur.\n",
    "\n",
    "Observez les deux cellules de code ci-dessous. Selon que l'on exécute d'abord la premiere cellule ou d'abord la seconde cellule, l'état de l'interpréteur ne sera pas le même à l'issue.\n",
    "Ce n'est pas la même chose d'ajouter 1 à un nombre puis de doubler le résultat ou bien de doubler un nombre et d'ajouter le 1 ensuite.  \n",
    "Exemple:"
   ]
  },
  {
   "cell_type": "code",
   "execution_count": null,
   "metadata": {
    "dicho": {
     "celltype": "normal",
     "readonly": false
    }
   },
   "outputs": [],
   "source": [
    "hauteur = 2 + 2"
   ]
  },
  {
   "cell_type": "code",
   "execution_count": null,
   "metadata": {
    "dicho": {
     "celltype": "normal",
     "readonly": false
    }
   },
   "outputs": [],
   "source": [
    "hauteur = hauteur + 1\n",
    "hauteur = 2 * hauteur\n",
    "print(hauteur)"
   ]
  },
  {
   "cell_type": "code",
   "execution_count": null,
   "metadata": {
    "dicho": {
     "celltype": "normal",
     "readonly": false
    }
   },
   "outputs": [],
   "source": [
    "hauteur = 2 + 2"
   ]
  },
  {
   "cell_type": "code",
   "execution_count": null,
   "metadata": {
    "dicho": {
     "celltype": "normal",
     "readonly": false
    }
   },
   "outputs": [],
   "source": [
    "hauteur = 2 * hauteur\n",
    "hauteur = hauteur + 1\n",
    "print(hauteur)"
   ]
  },
  {
   "cell_type": "markdown",
   "metadata": {
    "dicho": {
     "celltype": "normal",
     "readonly": false
    }
   },
   "source": [
    "Lorsque vous ouvrez un `notebook`, vous le visualisez tel qu'il a été sauvegardé. Vous voyez en particulier les résultats des séquences de code qui ont été exécutées. Cependant, à l'ouverture du `notebook`, un nouvel interpréteur tout neuf est lancé.\n",
    "Vous devez donc exécuter à nouveau les cellules. Mais dans quel ordre ?\n",
    "La réponse naturelle est : *dans l'ordre où apparaissent les cellules*.\n",
    "Mais cela suppose que la personne qui a réalisé le `notebook` a fait correctement les choses. "
   ]
  },
  {
   "cell_type": "markdown",
   "metadata": {
    "dicho": {
     "celltype": "normal",
     "readonly": false
    }
   },
   "source": [
    "### Les exceptions\n",
    "\n",
    "Dans certaines situations, l'interpréteur peut s'interrompre en *levant une exception*. Les exceptions n'ont rien d'exceptionnelles.   \n",
    "On en rencontre souvent, en particulier lorsque l'on commet des erreurs de programmation. "
   ]
  },
  {
   "cell_type": "code",
   "execution_count": 39,
   "metadata": {
    "dicho": {
     "celltype": "normal",
     "readonly": false
    }
   },
   "outputs": [
    {
     "ename": "IndexError",
     "evalue": "list index out of range",
     "output_type": "error",
     "traceback": [
      "\u001b[0;31m---------------------------------------------------------------------------\u001b[0m",
      "\u001b[0;31mIndexError\u001b[0m                                Traceback (most recent call last)",
      "Cell \u001b[0;32mIn[39], line 2\u001b[0m\n\u001b[1;32m      1\u001b[0m T \u001b[38;5;241m=\u001b[39m [\u001b[38;5;241m18\u001b[39m, \u001b[38;5;241m5\u001b[39m, \u001b[38;5;241m3\u001b[39m]\n\u001b[0;32m----> 2\u001b[0m T[\u001b[38;5;241m3\u001b[39m]\n",
      "\u001b[0;31mIndexError\u001b[0m: list index out of range"
     ]
    }
   ],
   "source": [
    "T = [18, 5, 3]\n",
    "T[3]"
   ]
  },
  {
   "cell_type": "markdown",
   "metadata": {
    "dicho": {
     "celltype": "normal",
     "readonly": false
    }
   },
   "source": [
    "Pour comprendre ce qui a produit l'exception il faut :\n",
    "* identifier le nom de l'exception, ici `IndexError`,\n",
    "* lire le message associé, ici '`list index of range`',\n",
    "* identifier l'instruction qui l'a provoqué, ici l'évaluation de `T[3]` à la ligne 2.\n",
    "\n",
    "Il se peut aussi que le code que l'on exécute ne se termine pas :"
   ]
  },
  {
   "cell_type": "markdown",
   "metadata": {
    "dicho": {
     "celltype": "normal",
     "readonly": false
    }
   },
   "source": [
    "```python\n",
    "k = 1\n",
    "while k > 0:\n",
    "    k = k + 1\n",
    "    \n",
    "---------------------------------------------------------------------------\n",
    "KeyboardInterrupt                         Traceback (most recent call last)\n",
    "<ipython-input-6-a60500a6252c> in <module>\n",
    "      1 k = 1\n",
    "----> 2 while k > 0:\n",
    "      3     k = k + 1\n",
    "\n",
    "KeyboardInterrupt: \n",
    "```"
   ]
  },
  {
   "cell_type": "markdown",
   "metadata": {
    "dicho": {
     "celltype": "normal",
     "readonly": false
    }
   },
   "source": [
    "Lorqu'une cellule de code s'exécute le prompt comporte une étoile\n",
    "`Entrée[ *]`.  \n",
    "**Pour interrompre l'interpréteur**, il suffit d'appuyer deux fois sur la touche `I` (i) (voir `Mode Commande` ci-dessus).\n",
    "Si cela s'avère nécessaire, il est également possible de redémarrer l'interpréteur. Pour cela il faut appuyer deux fois sur la touche `0`.\n",
    "L'interpréteur se retrouve alors dans son état initial."
   ]
  },
  {
   "cell_type": "markdown",
   "metadata": {},
   "source": [
    ">**Exercice** 3    \n",
    "Lancer les instructions *Python* dans la cellule ci-dessous et intérrompez l'évaluation comme expliqué ci-dessus."
   ]
  },
  {
   "cell_type": "code",
   "execution_count": null,
   "metadata": {},
   "outputs": [],
   "source": [
    "k = 1\n",
    "while k > 0:\n",
    "    k = k + 1"
   ]
  },
  {
   "cell_type": "markdown",
   "metadata": {},
   "source": [
    "> Pourquoi, selon vous cela n'a pas fonctionné ?  \n",
    "Ajouter un commentaire dans une cellule en dessous*"
   ]
  },
  {
   "cell_type": "markdown",
   "metadata": {
    "dicho": {
     "celltype": "normal",
     "readonly": false
    }
   },
   "source": [
    "### L'entrée et la sortie standard\n",
    "\n",
    "Les programmes, quels qu'ils soient, lisent des données en provenance de sources variées (fichiers, réseaux, ports usb, etc). Ils envoient eux-mêmes des données vers diverses destinations. Dans tous les cas, cela se traduit par la lecture ou l'écriture de flux d'octets.\n",
    "\n",
    "Tout programme peut lire un flux d'octets particulier que l'on appelle l'*entrée standard*. Lorsqu'il s'agit d'un programme lancé par un utilisateur, l'entrée standard est généralement le flux d'octets généré par le clavier.\n",
    "Tout programme peut aussi écrire sur un flux particulier que l'on appelle la *sortie standard*.\n",
    "\n",
    "Dans un programme *Python* la fonction `print` permet d'écrire sur la sortie standard."
   ]
  },
  {
   "cell_type": "code",
   "execution_count": null,
   "metadata": {
    "dicho": {
     "celltype": "normal",
     "readonly": false
    }
   },
   "outputs": [],
   "source": [
    "# 1er boucle for\n",
    "print(\"Accueil s'écrit :\")\n",
    "for x in \"accueil\":\n",
    "    print(x)"
   ]
  },
  {
   "cell_type": "markdown",
   "metadata": {
    "dicho": {
     "celltype": "normal",
     "readonly": false
    }
   },
   "source": [
    ">**Remarquez** de nouveau que l'exécution du code ci-dessus n'a retourné aucune valeur (il a juste imprimé à l'écran le résultat).\n",
    "Il n'y a pas de prompt `Out[ ]`.\n",
    "Remarquez aussi que chaque fonction `print` a également envoyé un caractère *saut de ligne* sur la sortie standard."
   ]
  },
  {
   "cell_type": "markdown",
   "metadata": {
    "dicho": {
     "celltype": "normal",
     "readonly": false
    }
   },
   "source": [
    "Dans un programme *Python* la lecture de l'entrée standard se fait au moyen la fonction `input` :"
   ]
  },
  {
   "cell_type": "code",
   "execution_count": null,
   "metadata": {
    "dicho": {
     "celltype": "normal",
     "readonly": false
    }
   },
   "outputs": [],
   "source": [
    "texte = input(\"Veuillez entrer un texte : \")\n",
    "texte.upper() # méthode upper vu en cours"
   ]
  },
  {
   "cell_type": "markdown",
   "metadata": {
    "dicho": {
     "celltype": "normal",
     "readonly": false
    }
   },
   "source": [
    "L'interpréteur a écrit le texte *Veuillez entrer un texte : * sur la sortie standard. Les caractères générés par l'utilisateur sur l'entrée standard ont également été réémis en écho sur la sortie standard.\n",
    "\n",
    "L'expression `texte.upper()` a été évaluée et sa valeur retournée comme résultat pour  `Out[ ]`. \n",
    "\n",
    "*De façon générale, si la dernière ligne d'une séquence de code est une expression non affectée à une variable, alors la valeur de cette expression est retournée comme résultat pour `Out[ ]`*."
   ]
  },
  {
   "cell_type": "markdown",
   "metadata": {},
   "source": [
    "PARTIE IV\n",
    "========"
   ]
  },
  {
   "cell_type": "markdown",
   "metadata": {
    "dicho": {
     "celltype": "normal",
     "readonly": false
    }
   },
   "source": [
    "# Les commandes systèmes via IPython\n",
    "\n",
    "**Révision du TP1 mais au lieu du `terminal` utilisons `IPython`.** \n",
    "\n",
    "---\n",
    "Lorsque le texte de la cellule débute par un **`!`** alors `IPython` en déduit que le reste du texte n'est pas du code *python* mais une commande système qui doit être exécutée par le *Shell*.  \n",
    "Autrement dit `IPython` peut se substituer au `terminal`."
   ]
  },
  {
   "cell_type": "markdown",
   "metadata": {},
   "source": [
    "Vous allez taper les commandes `linux` vous permettant de créer dans votre espace de travail le sous-dossier `/CommandeLinux` , comme dans le TP1 (avec les mêmes commandes!). Mais cette fois-ci, ce n’est pas dans le `terminal`, mais uniquement dans `IPython notebook`. \n",
    "\n",
    ">**Attention : Après chaque instruction de code ecrit en Python, vous devrez taper `Maj`+`Entrée` pour évaluer votre code.**\n",
    "\n",
    "Pour les commandes `shell`, si cela ne fonctionnait pas (directement), précédez alors votre commande de la touche (point d’exclamation) :` ! `"
   ]
  },
  {
   "cell_type": "code",
   "execution_count": null,
   "metadata": {},
   "outputs": [],
   "source": [
    "# essayez pwd par exemple\n"
   ]
  },
  {
   "cell_type": "markdown",
   "metadata": {},
   "source": [
    "Vous allez constater que les commandes du `shell` fonctionnent parfaitement dans cet environnement `ipython`.  \n",
    "Ainsi avec les commandes : `pwd`, `ls`, `cd` , `mkdir`... , déplacez-vous dans le répertoire de travail créé lors du TP1, puis une fois dans celui-ci, créez un sous-dossier du TP2 `d_essai`."
   ]
  },
  {
   "cell_type": "code",
   "execution_count": 50,
   "metadata": {},
   "outputs": [
    {
     "ename": "NameError",
     "evalue": "name 'pwd' is not defined",
     "output_type": "error",
     "traceback": [
      "\u001b[0;31m---------------------------------------------------------------------------\u001b[0m",
      "\u001b[0;31mNameError\u001b[0m                                 Traceback (most recent call last)",
      "Cell \u001b[0;32mIn[50], line 2\u001b[0m\n\u001b[1;32m      1\u001b[0m \u001b[38;5;66;03m# path working directory (corriger l'instruction pour quelle fonctionne ...)\u001b[39;00m\n\u001b[0;32m----> 2\u001b[0m pwd\n",
      "\u001b[0;31mNameError\u001b[0m: name 'pwd' is not defined"
     ]
    }
   ],
   "source": [
    "# path working directory (corriger l'instruction pour quelle fonctionne ...)\n",
    "pwd"
   ]
  },
  {
   "cell_type": "code",
   "execution_count": 52,
   "metadata": {
    "dicho": {
     "celltype": "normal",
     "readonly": false
    }
   },
   "outputs": [
    {
     "name": "stdout",
     "output_type": "stream",
     "text": [
      "total 6288\n",
      "-rw-r--r--@  1 ezf  staff     7130 13 nov  2019 Cities.csv\n",
      "-rw-r--r--@  1 ezf  staff      979 13 nov  2019 Countries.csv\n",
      "-rw-r--r--   1 ezf  staff    43722 27 sep 15:07 TP1-Linux-Python-24.ipynb\n",
      "-rw-r--r--@  1 ezf  staff  2680901 27 sep 15:22 TP1-Linux-Python-24.pdf\n",
      "-rw-r--r--@  1 ezf  staff    51933 15 oct  2023 TP2-notebook_python_2023.ipynb\n",
      "-rw-r--r--@  1 ezf  staff   155490  4 oct 09:27 TP2-notebook_python_2024.ipynb\n",
      "-rw-r--r--   1 ezf  staff    68973 18 oct  2023 TP3_notebook_python_2023.ipynb\n",
      "-rw-r--r--@  1 ezf  staff    13550  5 nov  2023 TP4_notebook_python_2023.ipynb\n",
      "-rw-r--r--   1 ezf  staff    36967 12 nov  2023 TP5_notebook_python_2023.ipynb\n",
      "-rw-r--r--   1 ezf  staff     8973 19 nov  2023 TP5bis_notebook_python_2023.ipynb\n",
      "-rw-rw-r--@  1 ezf  staff    40818 11 déc  2023 TP7_Tri-notebook_python_2023.ipynb\n",
      "-rw-r--r--   1 ezf  staff    54927 10 déc  2023 TP8_notebook_python_2023.ipynb\n",
      "-rw-r--r--@  1 ezf  staff    12038 19 nov  2023 etats.csv\n",
      "-rw-r--r--   1 ezf  staff     1708  7 nov  2019 fable.txt\n",
      "drwxr-xr-x   7 ezf  staff      224 12 nov  2023 \u001b[34mfig\u001b[m\u001b[m\n",
      "drwxr-xr-x  11 ezf  staff      352  6 oct  2019 \u001b[34mimages\u001b[m\u001b[m\n",
      "-rw-r--r--@  1 ezf  staff    12302 19 nov  2023 pays.csv\n"
     ]
    }
   ],
   "source": [
    "# Liste le contenu du dossier courant\n",
    "!ls -l"
   ]
  },
  {
   "cell_type": "markdown",
   "metadata": {},
   "source": [
    "> **Attention**\n",
    "> - cd : Ne fonctionne pas directement dans un Jupyter Notebook.\n",
    "> -  !cd : Exécute la commande cd dans le shell, mais ne change pas le répertoire de travail du notebook.\n",
    ">  -  %cd : Change le répertoire de travail du notebook lui-même.  \n",
    "Pour changer le répertoire de travail dans un Jupyter Notebook, il est recommandé d'utiliser la commande magique %cd."
   ]
  },
  {
   "cell_type": "code",
   "execution_count": null,
   "metadata": {},
   "outputs": [],
   "source": [
    "# Entrainez-vous dans les cellules suivantes"
   ]
  },
  {
   "cell_type": "code",
   "execution_count": null,
   "metadata": {},
   "outputs": [],
   "source": []
  },
  {
   "cell_type": "markdown",
   "metadata": {},
   "source": [
    "A vous de continuer.   \n",
    "Pour insérer une cellule de code en dessous taper `Esc`+`B` **B**elow) (au dessus `Esc`+`A` **A**bove) \n",
    "\n",
    "Placer vous dans votre dossier de travail TP2 et exercez-vous avec les commandes suivantes :"
   ]
  },
  {
   "cell_type": "code",
   "execution_count": null,
   "metadata": {},
   "outputs": [],
   "source": [
    "mkdir essai "
   ]
  },
  {
   "cell_type": "code",
   "execution_count": null,
   "metadata": {},
   "outputs": [],
   "source": [
    "%mkdir essai2\n",
    "!ls"
   ]
  },
  {
   "cell_type": "code",
   "execution_count": null,
   "metadata": {},
   "outputs": [],
   "source": [
    "!rmdir essai2/\n",
    "!ls"
   ]
  },
  {
   "cell_type": "markdown",
   "metadata": {},
   "source": [
    "**Attention** si vous répétez 2 fois l'instruction précédente cela entrainera une errreur puisqu'alors le fichier après la 1ère fois sera effacer donc n'existera plus !!!"
   ]
  },
  {
   "cell_type": "markdown",
   "metadata": {},
   "source": [
    "**L'instruction `range`**"
   ]
  },
  {
   "cell_type": "code",
   "execution_count": null,
   "metadata": {},
   "outputs": [],
   "source": [
    "list(range(3,8)) # range(a,b) donne la suite des entiers de a à b-1 "
   ]
  },
  {
   "cell_type": "code",
   "execution_count": null,
   "metadata": {},
   "outputs": [],
   "source": [
    "#équivalent à:\n",
    "l=[] # déclaration et initialisation d'une liste à liste vide\n",
    "i=3 # déclaration et initialisation d'un entier à 3\n",
    "while (i<8):\n",
    "    l.append(i) # méthode ajout d'un élément à une liste\n",
    "    i=i+1 # ou i+=1\n",
    "l"
   ]
  },
  {
   "cell_type": "code",
   "execution_count": null,
   "metadata": {},
   "outputs": [],
   "source": [
    "for i in range(10): # ici suite de 10 entiers de 0 à 9\n",
    "    !mkdir 'essai'$i # ici $i est la variable i pour le shell"
   ]
  },
  {
   "cell_type": "code",
   "execution_count": null,
   "metadata": {},
   "outputs": [],
   "source": [
    "ls"
   ]
  },
  {
   "cell_type": "markdown",
   "metadata": {},
   "source": [
    "> **Exercice** 4  \n",
    "1. Effacer les dossiers impairs. *(dans **range(a,b,c)** que signifie le c?)*\n",
    "2. Créer les dossiers suivants :  \n",
    "essai0/ essai00/ essai01/ essai02/ essai1/ essai10/ essai11/ essai12/ essai2/ essai20/ essai21/   \n",
    "à la racine de TP2/ .\n",
    "3. Effacer tous ces dossiers.\n",
    "4. (Pour les plus avancés)  \n",
    "Comment ferriez-vous pour inclure les dossiers essaiV0/ essaiV1/ essaiV2/ dans le dossier essaiV/ pour V variant de 0 à 4?"
   ]
  },
  {
   "cell_type": "code",
   "execution_count": null,
   "metadata": {},
   "outputs": [],
   "source": [
    "for i in range(10):\n",
    "    !rmdir 'essai'$i  # Attention cette instruction\n",
    "                      # lancée 2 fois crée une erreur."
   ]
  },
  {
   "cell_type": "code",
   "execution_count": null,
   "metadata": {},
   "outputs": [],
   "source": [
    "ls"
   ]
  },
  {
   "cell_type": "markdown",
   "metadata": {
    "dicho": {
     "celltype": "normal",
     "readonly": false
    }
   },
   "source": [
    "##### Pour les plus avancés\n",
    "Importer dans un premier temps le fichier `arithmetique.py` dans votre dossier `TP2`.  \n",
    "Par exemple, la commande dans la cellule ci-dessous exécutée dans un terminal permet de visualiser les premiers octets du fichier \n",
    "`arithmetique.py`.\n",
    "\n",
    "```bash\n",
    "xxd arithmetique.py | head\n",
    "```\n",
    "Le programme `xxd` affiche les octets sur la sortie standard.\n",
    "Mais ici le flux de sortie (xxd arithmetique.py) est redirigé (dû au pipe  ` | ` vu à la fin du TP1) vers l'entrée du programme `head`. Celui-ci envoie sur la sortie standard uniquement les 10 premières lignes du texte qu'il lit en entrée.\n",
    "\n",
    "Pour exécuter cette commande système depuis le `notebook`, il suffit de placer un point d'exclamation au tout début :"
   ]
  },
  {
   "cell_type": "code",
   "execution_count": 57,
   "metadata": {
    "dicho": {
     "celltype": "normal",
     "readonly": false
    }
   },
   "outputs": [
    {
     "name": "stdout",
     "output_type": "stream",
     "text": [
      "00000000: 2222 2220 4d6f 6475 6c65 2064 6520 666f  \"\"\" Module de fo\n",
      "00000010: 6e63 7469 6f6e 7320 6172 6974 686d c3a9  nctions arithm..\n",
      "00000020: 7469 7175 6573 0a22 2222 0a0a 6465 6620  tiques.\"\"\"..def \n",
      "00000030: 6575 636c 6964 6528 612c 2062 293a 0a20  euclide(a, b):. \n",
      "00000040: 2020 2022 2222 2041 6c67 6f72 6974 686d     \"\"\" Algorithm\n",
      "00000050: 6520 6427 4575 636c 6964 6520 c3a9 7465  e d'Euclide ..te\n",
      "00000060: 6e64 750a 2020 2020 2020 2020 5265 746f  ndu.        Reto\n",
      "00000070: 7572 6e65 206c 6520 7067 6364 2064 6520  urne le pgcd de \n",
      "00000080: 6061 6020 6574 2060 6260 2c20 6169 6e73  `a` et `b`, ains\n",
      "00000090: 6920 7175 6520 6c65 7320 636f 6566 6669  i que les coeffi\n"
     ]
    }
   ],
   "source": [
    "!xxd arithmetique.py | head # remarquez bien le point d'exclamation."
   ]
  },
  {
   "cell_type": "markdown",
   "metadata": {
    "dicho": {
     "celltype": "normal",
     "readonly": false
    }
   },
   "source": [
    "Voici d'autres exemples :"
   ]
  },
  {
   "cell_type": "code",
   "execution_count": 69,
   "metadata": {
    "dicho": {
     "celltype": "normal",
     "readonly": false
    }
   },
   "outputs": [
    {
     "name": "stdout",
     "output_type": "stream",
     "text": [
      "\"\"\" Module de fonctions arithmétiques\n",
      "\"\"\"\n",
      "\n",
      "def euclide(a, b):\n",
      "    \"\"\" Algorithme d'Euclide étendu\n",
      "        Retourne le pgcd de `a` et `b`, ainsi que les coefficients de\n",
      "        Bézout `u` et ` v` tels que au + bv = pgcd(a, b).\n",
      "    \"\"\"\n",
      "    r0, u0, v0, r1, u1, v1 = a, 1, 0, b, 0, 1\n",
      "    while r1 != 0:\n",
      "        q = r0 // r1\n",
      "        r0, u0, v0, r1, u1, v1 = (\n",
      "        r1, u1, v1, r0 - q * r1, u0 - q * u1, v0 - q * v1)\n",
      "    return r0, u0, v0"
     ]
    }
   ],
   "source": [
    "# Envoie le texte du fichier sur la sortie standard\n",
    "!cat arithmetique.py"
   ]
  },
  {
   "cell_type": "code",
   "execution_count": null,
   "metadata": {
    "dicho": {
     "celltype": "normal",
     "readonly": false
    }
   },
   "outputs": [],
   "source": [
    "# Affiche les 8 premières lignes du fichier\n",
    "!head -n8 arithmetique.py"
   ]
  },
  {
   "cell_type": "code",
   "execution_count": null,
   "metadata": {
    "dicho": {
     "celltype": "normal",
     "readonly": false
    }
   },
   "outputs": [],
   "source": [
    "# Copie les 8 premières lignes du fichier arithmetique.py \n",
    "# dans le fichier arithmetique2.py qui est crée...\n",
    "!head -n8 arithmetique.py > arithmetique2.py"
   ]
  },
  {
   "cell_type": "code",
   "execution_count": 65,
   "metadata": {},
   "outputs": [],
   "source": [
    "# essayez ls !ls %ls   conclusion"
   ]
  },
  {
   "cell_type": "code",
   "execution_count": null,
   "metadata": {
    "dicho": {
     "celltype": "normal",
     "readonly": false
    }
   },
   "outputs": [],
   "source": [
    "!cat arithmetique2.py"
   ]
  },
  {
   "cell_type": "markdown",
   "metadata": {},
   "source": [
    "Pour exécuter un programme exemple.py dans une cellule de votre `Jupyter Notebook` de plusieurs façons :\n",
    "```python\n",
    "# Utiliser %run\n",
    "%run example.py\n",
    "\n",
    "# Utiliser !python\n",
    "!python example.py\n",
    "\n",
    "# Utiliser exec\n",
    "with open('example.py', 'r') as file:\n",
    "    code = file.read()\n",
    "exec(code)\n",
    "```\n",
    "> - %run nom_du_fichier.py : Utilise la commande magique `%run` pour exécuter le fichier.\n",
    "> - !python nom_du_fichier.py : Utilise la commande shell `!python` pour exécuter le fichier.\n",
    "> - exec(code) : Lit le contenu du fichier et l'exécute en utilisant `exec`.\n",
    "> - import nom_du_fichier : Importe le fichier comme un module et exécute ses fonctions.\n"
   ]
  },
  {
   "cell_type": "markdown",
   "metadata": {},
   "source": [
    "**Essayez ces différentes possibilités ...**"
   ]
  },
  {
   "cell_type": "code",
   "execution_count": null,
   "metadata": {},
   "outputs": [],
   "source": []
  },
  {
   "cell_type": "markdown",
   "metadata": {},
   "source": [
    "PARTIE IV\n",
    "========"
   ]
  },
  {
   "cell_type": "markdown",
   "metadata": {},
   "source": [
    "# Input, print"
   ]
  },
  {
   "cell_type": "markdown",
   "metadata": {
    "deletable": false,
    "dicho": {
     "celltype": "normal",
     "readonly": false
    }
   },
   "source": [
    "> **Exercice** 5  \n",
    "1. Ecrire vos premières instructions avec `input()` et `print()`:\n",
    "   -  l'une avec la commande *input(\"Quel est votre prénom ? \")* que vous placerez dans une variable **a**\n",
    "   -  l'autre qui  renverra à l'écran en utilisant `print`:  \"Bonjour\" et la variable **a**  \n",
    "par exemple  si **a**=\"Eric\" le résultat devrait être : \n",
    "```python\n",
    "\"Bonjour Eric\"\n",
    "```\n",
    "   -  Afficher alors les deux phrases suivantes: \n",
    "      - ```python\n",
    "   \"Je viens de dire Bonjour\"\n",
    "   ```\n",
    "      - ```python\n",
    "   \"Bonjour, je fais des choses étranges aujourd'hui.\" \n",
    "   ```\n",
    "   cette fois-ci en plaçant \"Bonjour\" dans une variable **b**\n",
    "2. Comment faire dans la première phrase pour enlever la lettre majuscule.\n"
   ]
  },
  {
   "cell_type": "markdown",
   "metadata": {},
   "source": [
    "# Opérations et méthodes sur les listes \n",
    "\n",
    "## Quelques méthodes sur les listes :\n",
    "\n",
    "\n",
    "```python\n",
    "L.count(x)    #compte le nombre d’éléments égaux à x dans L\n",
    "L.reverse()   #inverse les éléments de la liste\n",
    "s.join (L)    #joint les éléments de L séparées par la chaine s\n",
    "L.append(x)   #ajoute x à la liste L\n",
    "L.sort()      #trie la liste L\n",
    "```\n",
    "Voir d’autres encore : extend, insert, remove, pop... "
   ]
  },
  {
   "cell_type": "markdown",
   "metadata": {},
   "source": [
    "> **Remarque**.  \n",
    "Pour obtenir celle-ci dans `IPython`, une fois une liste entrée et suivie d’un point utiliser la touche `Tab` de complétion automatique. Vous verrez alors toutes les possibilités de fonctions et de méthodes disponibles avec les listes.  \n",
    "Vous pouvez aussi utiliser l’instruction:\n",
    "```python \n",
    "print(dir(list))\n",
    "``` \n",
    "comme vu en cours.  \n",
    "Et avoir des renseignements sur leur utilisation en tapant:\n",
    "```python\n",
    "help(list)\n",
    "```"
   ]
  },
  {
   "cell_type": "code",
   "execution_count": 67,
   "metadata": {},
   "outputs": [],
   "source": [
    "# essayez les 2 instructions précédentes"
   ]
  },
  {
   "cell_type": "markdown",
   "metadata": {},
   "source": [
    "## Les primitives\n",
    "**Il existe aussi des primitives (fonctions) telles que**: `len` ,`min`, `max`, `del` \n",
    "\n",
    "Exemple :\n",
    "```python\n",
    "len(L)        # donne la taille (le nombre d’éléments dans L).\n",
    "del(L[i:j])   #supprime les éléments de i à j exclus.\n",
    "```"
   ]
  },
  {
   "cell_type": "markdown",
   "metadata": {},
   "source": [
    "Je vous propose 3 enchainements d’instructions pour mieux appréhender ce que l’on peut faire avec les listes.   \n",
    "Evaluez les et commentez-les. "
   ]
  },
  {
   "cell_type": "code",
   "execution_count": null,
   "metadata": {},
   "outputs": [],
   "source": [
    "#Liste de caractères\n",
    "id = ['Elève', 'prof', 'MM314']\n",
    "'prof' in id"
   ]
  },
  {
   "cell_type": "code",
   "execution_count": null,
   "metadata": {},
   "outputs": [],
   "source": [
    "len(id)"
   ]
  },
  {
   "cell_type": "code",
   "execution_count": null,
   "metadata": {},
   "outputs": [],
   "source": [
    "min(id)"
   ]
  },
  {
   "cell_type": "code",
   "execution_count": null,
   "metadata": {},
   "outputs": [],
   "source": [
    "max(id)"
   ]
  },
  {
   "cell_type": "code",
   "execution_count": null,
   "metadata": {},
   "outputs": [],
   "source": [
    "#Liste d’entiers\n",
    "nums = [5, 102, 13, 2, 99, 154, 7]"
   ]
  },
  {
   "cell_type": "code",
   "execution_count": null,
   "metadata": {},
   "outputs": [],
   "source": [
    "min(nums)"
   ]
  },
  {
   "cell_type": "code",
   "execution_count": null,
   "metadata": {},
   "outputs": [],
   "source": [
    "max(nums)"
   ]
  },
  {
   "cell_type": "code",
   "execution_count": null,
   "metadata": {},
   "outputs": [],
   "source": [
    "sorted(nums)"
   ]
  },
  {
   "cell_type": "code",
   "execution_count": null,
   "metadata": {},
   "outputs": [],
   "source": [
    "nums"
   ]
  },
  {
   "cell_type": "code",
   "execution_count": null,
   "metadata": {},
   "outputs": [],
   "source": [
    "nums.sort()"
   ]
  },
  {
   "cell_type": "code",
   "execution_count": null,
   "metadata": {},
   "outputs": [],
   "source": [
    "nums"
   ]
  },
  {
   "cell_type": "markdown",
   "metadata": {},
   "source": [
    "> Quelle différence faites-vous entre **sorted(nums)** et **nums.sort()**?"
   ]
  },
  {
   "cell_type": "code",
   "execution_count": null,
   "metadata": {},
   "outputs": [],
   "source": [
    "#Une liste peut contenir une liste\n",
    "mylist = ['a', 'b', ['c', 'd', 'e']]"
   ]
  },
  {
   "cell_type": "code",
   "execution_count": null,
   "metadata": {},
   "outputs": [],
   "source": [
    "len(mylist)"
   ]
  },
  {
   "cell_type": "code",
   "execution_count": null,
   "metadata": {},
   "outputs": [],
   "source": [
    "mylist[1]"
   ]
  },
  {
   "cell_type": "code",
   "execution_count": null,
   "metadata": {},
   "outputs": [],
   "source": [
    "len(mylist[1])"
   ]
  },
  {
   "cell_type": "code",
   "execution_count": null,
   "metadata": {},
   "outputs": [],
   "source": [
    "mylist[2]"
   ]
  },
  {
   "cell_type": "code",
   "execution_count": null,
   "metadata": {},
   "outputs": [],
   "source": [
    "len(mylist[2])"
   ]
  },
  {
   "cell_type": "markdown",
   "metadata": {},
   "source": [
    "> **Attention**  \n",
    "Les seuls guillemets simples acceptés par python sont : `' '`\n",
    "mais les guillemets en virgule, accents graves ou aigüs (seul) ne fonctionnne pas..."
   ]
  },
  {
   "cell_type": "code",
   "execution_count": null,
   "metadata": {},
   "outputs": [],
   "source": [
    "a='bonjour'\n",
    "a"
   ]
  },
  {
   "cell_type": "code",
   "execution_count": null,
   "metadata": {},
   "outputs": [],
   "source": [
    "b=`bonjour`\n",
    "b"
   ]
  },
  {
   "cell_type": "markdown",
   "metadata": {},
   "source": [
    "> **Exercice** 6    \n",
    "Ci-dessous, la séquence d’instructions suivantes :\n",
    "```python\n",
    "x = [1,2,3] \n",
    "y=x\n",
    "print(y)\n",
    "y[1] = \"hello\" \n",
    "print(y)\n",
    "print(x)\n",
    "```\n",
    "1. Qu’obtient-on pour les listes **x** et **y**?\n",
    "2. Cela vous semble-t-il cohérent?\n",
    "3. Corrigez donc la séquence précédente pour que le changement d’un élément de la liste **y** ne change pas la liste **x**.  \n",
    "*indice : penser à faire une copie de liste*."
   ]
  },
  {
   "cell_type": "markdown",
   "metadata": {},
   "source": [
    "> **Exercice** 7   \n",
    "1. Définir la liste: \n",
    "```python\n",
    "liste=[17,38,10,83,25,72]\n",
    "```\n",
    "2. Triez et affichez cette liste.\n",
    "3. Ajoutez l’élément 12 à la liste et affichez la liste.\n",
    "4. Renversez et affichez la liste.\n",
    "5. Affichez l’indice de l’élément 17.\n",
    "6. Enlevez l’élément 38 et affichez la liste.\n",
    "7. Affichez la sous-liste du 2 au 5ème éléments (inclus).   *Attention les listes commencent à 0!*\n",
    "8. Affichez la sous-liste du début au 2ème élément (inclus).\n",
    "9. Affichez le dernier élément en utilisant un indiçage négatif.\n",
    "10. Nombre d’éléments de la liste en utilisant une primitive du langage.\n",
    "11. Quels sont le plus grand et le plus petit nombre de la liste?\n",
    "12. Copier liste dans liste2. Remplacer le 2ème élément par 0 dans liste. Y a-t-il eu des changements dans liste2? \n",
    "Comment remédier au problème ?"
   ]
  },
  {
   "cell_type": "code",
   "execution_count": null,
   "metadata": {},
   "outputs": [],
   "source": []
  },
  {
   "cell_type": "markdown",
   "metadata": {},
   "source": [
    ">**Attention** : Bien remarquer que certaines méthodes de listes ne retournent rien (mais transforment néanmoins la liste originale, vérifiez-le)."
   ]
  },
  {
   "cell_type": "markdown",
   "metadata": {},
   "source": [
    ">**Exercice**  8 print,list,for    \n",
    "Soit la liste des prénoms suivants :\n",
    "```python\n",
    "['Jean−Michel', 'Marc', 'Vanessa','Mounir' ,'Maximilien', 'Alexandre−Benoit', 'Louise', 'Amarilla'] \n",
    "```\n",
    "Ecrivez une instruction qui affiche chacun de ces noms avec le nombre de caractères correspondant."
   ]
  },
  {
   "cell_type": "code",
   "execution_count": null,
   "metadata": {},
   "outputs": [],
   "source": []
  },
  {
   "cell_type": "markdown",
   "metadata": {},
   "source": [
    "### Pour les plus avancés\n",
    "> **Exercice** 9  Calcul de PGCD  \n",
    "Soit la séquence d’instructions suivantes :\n",
    "```python\n",
    "A=[246,124]\n",
    "A.sort()\n",
    "A= [A[1]%A[0], A[0]]\n",
    "```\n",
    "1. Que donne A?\n",
    "2. En utilisant la question précédente et en appliquant l’algorithme d’Euclide, trouvez le PGCD de 21608 et 51319.\n",
    "3. Créer une fonction qui calcul le pgcd de 2 nombres entrés en paramètre.\n",
    "4. Une fonction qui calcule les coefficients de Bezout.( voir https://fr.wikipedia.org/wiki/Algorithme_d%27Euclide_%C3%A9tendu )\n"
   ]
  },
  {
   "cell_type": "code",
   "execution_count": null,
   "metadata": {},
   "outputs": [],
   "source": []
  }
 ],
 "metadata": {
  "dicho": {
   "author": "Denis Pinsard",
   "contact": "(prénom).(nom)@dichotomies.fr",
   "created": "2016-08-29",
   "description": "Les connaissances de base pour créer, modifier et manipuler les Notebooks Jupyter",
   "dockey": "ITV538",
   "license": true,
   "logo": true,
   "readonly": false,
   "subtitle": "",
   "title": "Débuter avec les notebooks",
   "updated": "2016-08-29",
   "uri": "http://dichotomies.fr/2016/informatique/info1/cours/debuter-avec-les-notebooks/"
  },
  "kernelspec": {
   "display_name": "Python 3 (ipykernel)",
   "language": "python",
   "name": "python3"
  },
  "language_info": {
   "codemirror_mode": {
    "name": "ipython",
    "version": 3
   },
   "file_extension": ".py",
   "mimetype": "text/x-python",
   "name": "python",
   "nbconvert_exporter": "python",
   "pygments_lexer": "ipython3",
   "version": "3.12.2"
  }
 },
 "nbformat": 4,
 "nbformat_minor": 4
}
